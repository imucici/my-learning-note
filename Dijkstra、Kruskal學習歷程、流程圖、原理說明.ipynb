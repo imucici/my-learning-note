{
 "cells": [
  {
   "cell_type": "markdown",
   "metadata": {},
   "source": [
    "參考資料:\n",
    "    \n",
    "1. https://www.youtube.com/watch?v=pVfj6mxhdMw&t=\n",
    "2. https://ithelp.ithome.com.tw/articles/10209593\n",
    "3. https://www.youtube.com/watch?v=9wV1VxlfBlI\n",
    "4. https://wiki.mbalib.com/zh-tw/Dijkstra%E7%AE%97%E6%B3%95\n",
    "5. https://codertw.com/%E7%A8%8B%E5%BC%8F%E8%AA%9E%E8%A8%80/434938/\n",
    "6. https://www.youtube.com/watch?v=HtxN3v321HU\n",
    "7. https://www.youtube.com/watch?v=wuU4DDEUu1w\n",
    "8. https://www.youtube.com/watch?v=71UQH7Pr9kU\n",
    "9. https://blog.csdn.net/luomingjun12315/article/details/47700237\n",
    "10. https://www.youtube.com/watch?v=-E42M_yDWzI"
   ]
  },
  {
   "cell_type": "markdown",
   "metadata": {},
   "source": [
    "原理說明:\n",
    "\n",
    "Dijkstra演算法，又稱最短路徑演算法，是用來計算某一個節點到其他所有節點的最短路徑。\n",
    "\n",
    "核心思想:以起始點為中心向外走訪(廣度優先搜尋的概念)，直到所有節點都被拜訪過為止。\n",
    "\n",
    "\n",
    "Dijkstra演算法步驟:\n",
    "\n",
    "首先任選某個節點當作出發點，接著從與其相鄰且尚未走訪過的節點當中，\n",
    "\n",
    "選出一個與出發點距離最短的節點，把它新增至路徑中(更新最短路徑表)，再接著由此新加入的節點\n",
    "\n",
    "向外擴展，找尋與其相鄰且尚未走訪過的節點，且距離出發點路徑最短，重複步驟更新最短路徑表，\n",
    "\n",
    "直到所有的節點都被加入到路徑中。\n",
    "\n",
    "\n",
    "Dijkstra演算法架構描述:\n",
    "\n",
    "首先創一個空間用來記錄每個節點到與其相鄰的節點間的距離(透過程式碼中的helper函式做處理)\n",
    "\n",
    "接著初始化一個array用來記錄已走訪過的節點(程式碼:path)、dict(程式碼:shortest)用來紀錄\n",
    "\n",
    "起始點到當前節點的最短路徑長、dict(程式碼:previous)用來記錄當前節點的前一個節點、[[]]\n",
    "\n",
    "(程式碼:pq)用來找出最短路徑的vertex。從起始點開始向外擴展，尋找與其相鄰且未拜訪過的節點\n",
    "\n",
    "中，距離起始點距離最短的節點，再更新最短路徑表(shortest、previous)--> 此為程式碼中第二個\n",
    "\n",
    "for迴圈中第一個for迴圈的部分，並且append到pq中，再透過pq找出最短路徑的vertex--> 此為程式\n",
    "\n",
    "碼中最後一個迴圈的部分。\n",
    "\n",
    "-----------------------------------------------------------------------------------\n",
    "\n",
    "Kruskal演算法，又稱最小生成樹演算法，是用來是一種用來尋找最小生成樹的演算法。\n",
    "\n",
    "什麼是最小生成樹? \n",
    "\n",
    "1. 是一顆樹 --> 無迴路、邊數為點數-1。\n",
    "\n",
    "2. 是生成樹 --> 包含全部頂點、(頂點數-1)條邊都在圖裡。\n",
    "                 \n",
    "3. 邊的權重和最小。\n",
    "\n",
    "\n",
    "Kruskal演算法步驟:\n",
    "\n",
    "首先將每條邊的權重由小到大排序，每次都先挑選權重最小的那個邊，但要確保挑選到的那個邊如果\n",
    "\n",
    "加入最小生成樹中時，不會形成loop(若會形成loop則捨棄那條邊)，重複上述挑選步驟，直到最小生\n",
    "\n",
    "成樹中，有V-1條邊。\n",
    "\n",
    "Kruskal演算法架構描述:\n",
    "\n",
    "首先將每條邊的權重由小到大排序(程式碼:arr = sorted(list(zip(self.wet,self.edge))))\n",
    "\n",
    "-->如此一來，每次就取arr[0]來處理。\n",
    "\n",
    "另外為了要判斷是否會形成loop，因此要創一個空間紀錄每條邊的root(程式碼:self.root = {})\n",
    "\n",
    "主程式分為5大情況:\n",
    "\n",
    "1. 兩個input的root皆為空，統一指定成大的那個的root\n",
    "\n",
    "2. 小的那個root為空，且大的那個的root存在，把小的那個root指定成大的input的root\n",
    "\n",
    "3. 大的那個root為空，且小的那個的root存在，把大的那個root指定成小的input的root\n",
    "\n",
    "4. root皆存在且不相等，把所有root=小的那個改成大的root(先處理非小的那個以外的)\n",
    "\n",
    "5. root皆存在且相等(會產生loop)，不加入，進行recursive"
   ]
  },
  {
   "cell_type": "markdown",
   "metadata": {},
   "source": [
    "流程圖"
   ]
  },
  {
   "cell_type": "code",
   "execution_count": 18,
   "metadata": {},
   "outputs": [
    {
     "data": {
      "text/html": [
       "<img src=\"https://github.com/imucici/my-learning-note/blob/master/%E5%9C%96%E7%89%87/%E6%9C%80%E7%9F%AD%E8%B7%AF%E5%BE%91.jpg?raw=true\" width=\"1000\" height=\"1000\"/>"
      ],
      "text/plain": [
       "<IPython.core.display.Image object>"
      ]
     },
     "execution_count": 18,
     "metadata": {},
     "output_type": "execute_result"
    }
   ],
   "source": [
    "from IPython.display import Image\n",
    "from IPython.core.display import HTML\n",
    "Image(url= \"https://github.com/imucici/my-learning-note/blob/master/%E5%9C%96%E7%89%87/%E6%9C%80%E7%9F%AD%E8%B7%AF%E5%BE%91.jpg?raw=true\" ,width = 1000,height = 1000)"
   ]
  },
  {
   "cell_type": "code",
   "execution_count": 2,
   "metadata": {},
   "outputs": [
    {
     "data": {
      "text/html": [
       "<img src=\"https://github.com/imucici/my-learning-note/blob/master/%E5%9C%96%E7%89%87/MST.jpg?raw=true\" width=\"1000\" height=\"1000\"/>"
      ],
      "text/plain": [
       "<IPython.core.display.Image object>"
      ]
     },
     "execution_count": 2,
     "metadata": {},
     "output_type": "execute_result"
    }
   ],
   "source": [
    "from IPython.display import Image\n",
    "from IPython.core.display import HTML\n",
    "Image(url= \"https://github.com/imucici/my-learning-note/blob/master/%E5%9C%96%E7%89%87/MST.jpg?raw=true\" ,width = 1000,height = 1000)"
   ]
  },
  {
   "cell_type": "markdown",
   "metadata": {},
   "source": [
    "12/22先來研究程式碼範例是啥意思\n",
    "\n",
    "self.graph_matrix這行感覺像上次寫hash table時，初始化self.data = [None] * capacity 一樣\n",
    "\n",
    "--> 目的就是為了創造出相應的空間來讓我們存放計算後的結果"
   ]
  },
  {
   "cell_type": "code",
   "execution_count": 28,
   "metadata": {},
   "outputs": [],
   "source": [
    "from collections import defaultdict \n",
    "\n",
    "class Graph(): \n",
    "\n",
    "    def __init__(self, vertices): \n",
    "        self.V = vertices \n",
    "        self.graph = [] \n",
    "        self.graph_matrix = [[0 for column in range(vertices)]  \n",
    "                    for row in range(vertices)] \n",
    "    def printt(self):\n",
    "        print(self.V)\n",
    "        print(self.graph)\n",
    "        print(self.graph_matrix)"
   ]
  },
  {
   "cell_type": "code",
   "execution_count": 29,
   "metadata": {},
   "outputs": [
    {
     "name": "stdout",
     "output_type": "stream",
     "text": [
      "6\n",
      "[]\n",
      "[[0, 0, 0, 0, 0, 0], [0, 0, 0, 0, 0, 0], [0, 0, 0, 0, 0, 0], [0, 0, 0, 0, 0, 0], [0, 0, 0, 0, 0, 0], [0, 0, 0, 0, 0, 0]]\n"
     ]
    }
   ],
   "source": [
    "Graph(6).printt()"
   ]
  },
  {
   "cell_type": "code",
   "execution_count": 40,
   "metadata": {},
   "outputs": [],
   "source": [
    "from collections import defaultdict \n",
    "import numpy as np\n",
    "\n",
    "class Graph(): \n",
    "\n",
    "    def __init__(self, vertices): \n",
    "        self.V = vertices \n",
    "        self.graph = [] \n",
    "        self.graph_matrix = [[0 for column in range(vertices)]  \n",
    "                    for row in range(vertices)] \n",
    "    def printt(self):\n",
    "        print(self.V)\n",
    "        print(self.graph)\n",
    "        d = np.matrix(self.graph_matrix)\n",
    "        print(d)"
   ]
  },
  {
   "cell_type": "code",
   "execution_count": 41,
   "metadata": {},
   "outputs": [
    {
     "name": "stdout",
     "output_type": "stream",
     "text": [
      "9\n",
      "[]\n",
      "[[0 0 0 0 0 0 0 0 0]\n",
      " [0 0 0 0 0 0 0 0 0]\n",
      " [0 0 0 0 0 0 0 0 0]\n",
      " [0 0 0 0 0 0 0 0 0]\n",
      " [0 0 0 0 0 0 0 0 0]\n",
      " [0 0 0 0 0 0 0 0 0]\n",
      " [0 0 0 0 0 0 0 0 0]\n",
      " [0 0 0 0 0 0 0 0 0]\n",
      " [0 0 0 0 0 0 0 0 0]]\n"
     ]
    }
   ],
   "source": [
    "Graph(9).printt()"
   ]
  },
  {
   "cell_type": "code",
   "execution_count": 55,
   "metadata": {},
   "outputs": [],
   "source": [
    "from collections import defaultdict \n",
    "import numpy as np\n",
    "\n",
    "class Graph(): \n",
    "\n",
    "    def __init__(self, vertices): \n",
    "        self.V = vertices \n",
    "        self.graph = [] \n",
    "        self.graph_matrix = [[0 for column in range(vertices)]  \n",
    "                    for row in range(vertices)] \n",
    "    def printt(self):\n",
    "        print(self.V)\n",
    "        print(self.graph)\n",
    "        d = np.matrix(self.graph_matrix)\n",
    "        print(d)\n",
    "    \n",
    "    def addEdge(self,u,v,w): \n",
    "        \"\"\"\n",
    "        :type u,v,w: int\n",
    "        :rtype: None\n",
    "        \"\"\"\n",
    "    def Dijkstra(self, s): #最短路徑\n",
    "        for i in range(self.V):\n",
    "            for j in range(self.V):\n",
    "                self.graph_matrix[0][j] = self.graph[s][j]\n",
    "        print(np.matrix(self.graph_matrix))\n",
    "        \n",
    "    def Kruskal(self):\n",
    "        \"\"\"\n",
    "        :rtype: dict\n",
    "        \"\"\""
   ]
  },
  {
   "cell_type": "code",
   "execution_count": 56,
   "metadata": {},
   "outputs": [],
   "source": [
    "g = Graph(9)\n",
    "g.graph = [[0,4,0,0,0,0,0,8,0],\n",
    "           [4,0,8,0,0,0,0,11,0],\n",
    "           [0,8,0,7,0,4,0,0,2],\n",
    "           [0,0,7,0,9,14,0,0,0],\n",
    "           [0,0,0,9,0,10,0,0,0],\n",
    "           [0,0,4,14,10,0,2,0,0],\n",
    "           [0,0,0,0,0,2,0,1,6],\n",
    "           [8,11,0,0,0,0,1,0,7],\n",
    "           [0,0,2,0,0,0,6,7,0]]"
   ]
  },
  {
   "cell_type": "markdown",
   "metadata": {},
   "source": [
    "先print出來看看結果是不是跟我想要的一樣"
   ]
  },
  {
   "cell_type": "code",
   "execution_count": 60,
   "metadata": {},
   "outputs": [
    {
     "name": "stdout",
     "output_type": "stream",
     "text": [
      "[[0 0 0 0 0 2 0 1 6]\n",
      " [0 0 0 0 0 0 0 0 0]\n",
      " [0 0 0 0 0 0 0 0 0]\n",
      " [0 0 0 0 0 0 0 0 0]\n",
      " [0 0 0 0 0 0 0 0 0]\n",
      " [0 0 0 0 0 0 0 0 0]\n",
      " [0 0 0 0 0 0 0 0 0]\n",
      " [0 0 0 0 0 0 0 0 0]\n",
      " [0 0 0 0 0 0 0 0 0]]\n"
     ]
    }
   ],
   "source": [
    "g.Dijkstra(6)"
   ]
  },
  {
   "cell_type": "code",
   "execution_count": 7,
   "metadata": {},
   "outputs": [],
   "source": [
    "from collections import defaultdict \n",
    "import numpy as np\n",
    "\n",
    "class Graph(): \n",
    "\n",
    "    def __init__(self, vertices): \n",
    "        self.V = vertices \n",
    "        self.graph = [] \n",
    "        self.graph_matrix = [[0 for column in range(vertices)]  \n",
    "                    for row in range(vertices)] \n",
    "    def printt(self):\n",
    "        print(self.V)\n",
    "        print(self.graph)\n",
    "        d = np.matrix(self.graph_matrix)\n",
    "        print(d)\n",
    "    \n",
    "    def addEdge(self,u,v,w): \n",
    "        \"\"\"\n",
    "        :type u,v,w: int\n",
    "        :rtype: None\n",
    "        \"\"\"\n",
    "    def Dijkstra(self, s): #最短路徑\n",
    "        \n",
    "        for i in range(self.V):\n",
    "            min_index = self.find_min_index(self.graph_matrix[i],[])\n",
    "            print(min_index)\n",
    "            \n",
    "            for j in range(self.V):\n",
    "                self.graph_matrix[0][j] = self.graph[s][j]\n",
    "        print(np.matrix(self.graph_matrix))\n",
    "        \n",
    "        \n",
    "        \n",
    "    def find_min_index(self,a,Min):\n",
    "        Min.append(a[0])\n",
    "        for i in range(1,len(a)):\n",
    "            if a[i] != 0 and a[i] < Min[0]:\n",
    "                Min[0] = a[i]\n",
    "        return i"
   ]
  },
  {
   "cell_type": "code",
   "execution_count": 5,
   "metadata": {},
   "outputs": [],
   "source": [
    "g = Graph(9)\n",
    "g.graph = [[0,4,0,0,0,0,0,8,0],\n",
    "           [4,0,8,0,0,0,0,11,0],\n",
    "           [0,8,0,7,0,4,0,0,2],\n",
    "           [0,0,7,0,9,14,0,0,0],\n",
    "           [0,0,0,9,0,10,0,0,0],\n",
    "           [0,0,4,14,10,0,2,0,0],\n",
    "           [0,0,0,0,0,2,0,1,6],\n",
    "           [8,11,0,0,0,0,1,0,7],\n",
    "           [0,0,2,0,0,0,6,7,0]]"
   ]
  },
  {
   "cell_type": "code",
   "execution_count": 9,
   "metadata": {},
   "outputs": [],
   "source": [
    "from collections import defaultdict \n",
    "\n",
    "\n",
    "class Graph(): \n",
    "\n",
    "    def __init__(self, vertices): \n",
    "        self.V = vertices \n",
    "        self.graph = [] \n",
    "        self.graph_matrix = [[0 for column in range(vertices)]  \n",
    "                    for row in range(vertices)] \n",
    "    \n",
    "    def addEdge(self,u,v,w): \n",
    "        \"\"\"\n",
    "        :type u,v,w: int\n",
    "        :rtype: None\n",
    "        \"\"\"\n",
    "    def Dijkstra(self, s): #最短路徑\n",
    "        lst2 = self.helper()\n",
    "        pq , path = [] , [s]\n",
    "        shortest , previous = {} , {}\n",
    "        for i in range(self.V):\n",
    "            shortest[i] , previous[i] = None , None\n",
    "        shortest[s] , previous[s] = 0 , None\n",
    "        \n",
    "        for k in range(self.V-1):\n",
    "            a = lst2[path[-1]]\n",
    "            for i in range(len(a)): #處理 shortest pervious (pq尚未按照路徑長排序)\n",
    "                vertex = a[i][0]\n",
    "                if vertex not in path:\n",
    "                    total = a[i][-1] + shortest[path[-1]]\n",
    "                    pq.append([vertex,total])\n",
    "                    if shortest[vertex] == None:\n",
    "                        shortest[vertex] = total\n",
    "                        previous[vertex] = path[-1]\n",
    "                    else:\n",
    "                        if total < shortest[vertex]:\n",
    "                            shortest[vertex] = total\n",
    "                            previous[vertex] = path[-1]\n",
    "            \n",
    "            \n",
    "            temp = None\n",
    "            for j in range(len(pq)): #對pq排序\n",
    "                if pq[j][0] not in path:\n",
    "                    if temp == None:\n",
    "                        temp = pq[j]\n",
    "                    else:\n",
    "                        if pq[j][-1] < temp[-1]:\n",
    "                            temp = pq[j]\n",
    "\n",
    "            path.append(temp[0])\n",
    "            pq.remove(temp)\n",
    "#             print(\"k=\",k)\n",
    "#             print(\"temp=\",temp)\n",
    "#             print(\"pq=\",pq)\n",
    "#             print(\"path=\",path)\n",
    "        print(\"shortest=\",shortest)\n",
    "        print(\"previous=\",previous)\n",
    "#             print()\n",
    "        \n",
    "        return shortest\n",
    "    \n",
    "    def helper(self): #每個點到與他相鄰的點的路徑長\n",
    "        lst1 = []\n",
    "        lst2 = [None]*self.V\n",
    "        for i in range(self.V):\n",
    "            for j in range(len(self.graph[i])):\n",
    "                if self.graph[i][j] != 0 :\n",
    "                    lst1.append([j,self.graph[i][j]])\n",
    "            lst2[i] = lst1\n",
    "            lst1 = []\n",
    "        return lst2"
   ]
  },
  {
   "cell_type": "code",
   "execution_count": 13,
   "metadata": {},
   "outputs": [
    {
     "name": "stdout",
     "output_type": "stream",
     "text": [
      "shortest= {0: 14, 1: 10, 2: 2, 3: 9, 4: 16, 5: 6, 6: 6, 7: 7, 8: 0}\n",
      "previous= {0: 1, 1: 2, 2: 8, 3: 2, 4: 5, 5: 2, 6: 8, 7: 8, 8: None}\n"
     ]
    },
    {
     "data": {
      "text/plain": [
       "{0: 14, 1: 10, 2: 2, 3: 9, 4: 16, 5: 6, 6: 6, 7: 7, 8: 0}"
      ]
     },
     "execution_count": 13,
     "metadata": {},
     "output_type": "execute_result"
    }
   ],
   "source": [
    "g = Graph(9)\n",
    "g.graph = [[0,4,0,0,0,0,0,8,0],\n",
    "           [4,0,8,0,0,0,0,11,0],\n",
    "           [0,8,0,7,0,4,0,0,2],\n",
    "           [0,0,7,0,9,14,0,0,0],\n",
    "           [0,0,0,9,0,10,0,0,0],\n",
    "           [0,0,4,14,10,0,2,0,0],\n",
    "           [0,0,0,0,0,2,0,1,6],\n",
    "           [8,11,0,0,0,0,1,0,7],\n",
    "           [0,0,2,0,0,0,6,7,0]]\n",
    "g.Dijkstra(8)"
   ]
  },
  {
   "cell_type": "code",
   "execution_count": 25,
   "metadata": {},
   "outputs": [],
   "source": [
    "from collections import defaultdict \n",
    "\n",
    "class Graph(): \n",
    "\n",
    "    def __init__(self, vertices): \n",
    "        self.V = vertices \n",
    "        self.graph = [] \n",
    "        self.graph_matrix = [[0 for column in range(vertices)]  \n",
    "                    for row in range(vertices)] \n",
    "\n",
    "    def Dijkstra(self, s): #最短路徑\n",
    "        lst2 = self.helper()\n",
    "        \n",
    "        path,pq = [s],[] # path用來記錄已走訪過的節點 ; pq用來找出最短路徑的vertex\n",
    "        shortest , previous = {} , {}\n",
    "        for i in range(self.V):\n",
    "            shortest[i] , previous[i] = None , None\n",
    "        shortest[s],previous[s] = 0 , None\n",
    "        \n",
    "        for i in range(self.V-1):\n",
    "            a = lst2[path[-1]]\n",
    "            for j in range(len(a)):\n",
    "                vertex = a[j][0]\n",
    "                if vertex not in path:\n",
    "                    total = a[j][-1]+shortest[path[-1]]\n",
    "                    if shortest[vertex] == None:\n",
    "                        shortest[vertex] = total\n",
    "                        previous[vertex] = path[-1]\n",
    "                        pq.append([vertex,total])\n",
    "                    else:\n",
    "                        if total < shortest[vertex]:\n",
    "#                             print(\"修改前，0到\",vertex,\"的最短距離是\",shortest[vertex])\n",
    "                            shortest[vertex] = total\n",
    "#                             print(\"修改後，0到\",vertex,\"的最短距離是\",shortest[vertex])\n",
    "                            previous[vertex] = path[-1]\n",
    "                            pq.append([vertex,total])\n",
    "            \n",
    "            temp = 1\n",
    "            for k in range(len(pq)): #從pq中找出最短路徑的vertex\n",
    "                if pq[k][0] not in path:\n",
    "                    if temp == 1:\n",
    "                        temp = pq[k]   \n",
    "                    else:\n",
    "                        if temp[-1] > pq[k][-1]:\n",
    "                            temp = pq[k]\n",
    "            \n",
    "            path.append(temp[0])\n",
    "            pq.remove(temp)\n",
    "#             print(\"path=\",path)\n",
    "#             print(\"shortest=\",shortest)\n",
    "#             print(\"previous=\",previous)\n",
    "#             print()\n",
    "\n",
    "        final = {}\n",
    "        for i in range(self.V):\n",
    "            final[str(i)] = shortest[i]\n",
    "\n",
    "        return final\n",
    "    \n",
    "    def helper(self): #每個點到與他相鄰的點的路徑長\n",
    "        lst1 = []\n",
    "        lst2 = [None]*self.V\n",
    "        for i in range(self.V):\n",
    "            for j in range(len(self.graph[i])):\n",
    "                if self.graph[i][j] != 0:\n",
    "                    lst1.append([j,self.graph[i][j]])\n",
    "            lst2[i] = lst1\n",
    "            lst1 = []\n",
    "        return lst2"
   ]
  },
  {
   "cell_type": "code",
   "execution_count": 26,
   "metadata": {},
   "outputs": [
    {
     "data": {
      "text/plain": [
       "{'0': 14, '1': 10, '2': 2, '3': 9, '4': 16, '5': 6, '6': 6, '7': 7, '8': 0}"
      ]
     },
     "execution_count": 26,
     "metadata": {},
     "output_type": "execute_result"
    }
   ],
   "source": [
    "g = Graph(9)\n",
    "g.graph = [[0,4,0,0,0,0,0,8,0],\n",
    "           [4,0,8,0,0,0,0,11,0],\n",
    "           [0,8,0,7,0,4,0,0,2],\n",
    "           [0,0,7,0,9,14,0,0,0],\n",
    "           [0,0,0,9,0,10,0,0,0],\n",
    "           [0,0,4,14,10,0,2,0,0],\n",
    "           [0,0,0,0,0,2,0,1,6],\n",
    "           [8,11,0,0,0,0,1,0,7],\n",
    "           [0,0,2,0,0,0,6,7,0]]\n",
    "g.Dijkstra(8)"
   ]
  },
  {
   "cell_type": "markdown",
   "metadata": {},
   "source": [
    "最短路徑應該是正確了，接著寫Kruskal~"
   ]
  },
  {
   "cell_type": "code",
   "execution_count": 8,
   "metadata": {},
   "outputs": [],
   "source": [
    "from collections import defaultdict \n",
    "\n",
    "class Graph(): \n",
    "\n",
    "    def __init__(self, vertices): \n",
    "        self.V = vertices \n",
    "        self.graph = [] \n",
    "        self.graph_matrix = [[0 for column in range(vertices)]  \n",
    "                    for row in range(vertices)] \n",
    "        self.edge = []\n",
    "        self.wet = []\n",
    "        \n",
    "    def addEdge(self,u,v,w): \n",
    "        self.edge.append([u,v])\n",
    "        self.wet.append(w)\n",
    "        \n",
    "    def Kruskal(self):\n",
    "        v , final , n = set() , {} ,0\n",
    "        \n",
    "        arr = sorted(list(zip(self.wet,self.edge))) #權重由小到大排\n",
    "        print(arr)\n",
    "        while n < len(arr):\n",
    "            n+=1\n",
    "            if len(v) == 0: \n",
    "                v.add(arr[0][1][0])\n",
    "                v.add(arr[0][1][1])\n",
    "                final[str(arr[0][1][0])+\"-\"+str(arr[0][1][1])] = arr[0][0]\n",
    "                arr.pop(0)\n",
    "\n",
    "            else:\n",
    "                while len(arr) != 0 and arr[0][1][0] in v and arr[0][1][1] in v :\n",
    "                    arr.pop(0)\n",
    "                if len(arr) != 0 :\n",
    "                    v.add(arr[0][1][0])\n",
    "                    v.add(arr[0][1][1])\n",
    "                    final[str(arr[0][1][0])+\"-\"+str(arr[0][1][1])] = arr[0][0]\n",
    "        return final\n",
    "            "
   ]
  },
  {
   "cell_type": "code",
   "execution_count": 9,
   "metadata": {},
   "outputs": [
    {
     "name": "stdout",
     "output_type": "stream",
     "text": [
      "[(1, [7, 6]), (2, [2, 8]), (2, [6, 5]), (4, [0, 1]), (4, [2, 5]), (6, [8, 6]), (7, [2, 3]), (7, [7, 8]), (8, [0, 7]), (8, [1, 2]), (9, [4, 3]), (10, [5, 4]), (11, [1, 7]), (14, [3, 5])]\n"
     ]
    },
    {
     "data": {
      "text/plain": [
       "{'7-6': 1, '2-8': 2, '6-5': 2, '0-1': 4, '2-3': 7, '4-3': 9}"
      ]
     },
     "execution_count": 9,
     "metadata": {},
     "output_type": "execute_result"
    }
   ],
   "source": [
    "g = Graph(9)\n",
    "g.addEdge(0,1,4)\n",
    "g.addEdge(0,7,8)\n",
    "g.addEdge(1,7,11)\n",
    "g.addEdge(1,2,8)\n",
    "g.addEdge(7,8,7)\n",
    "g.addEdge(7,6,1)\n",
    "g.addEdge(2,8,2)\n",
    "g.addEdge(8,6,6)\n",
    "g.addEdge(2,3,7)\n",
    "g.addEdge(2,5,4)\n",
    "g.addEdge(6,5,2)\n",
    "g.addEdge(3,5,14)\n",
    "g.addEdge(4,3,9)\n",
    "g.addEdge(5,4,10)\n",
    "g.Kruskal()"
   ]
  },
  {
   "cell_type": "markdown",
   "metadata": {},
   "source": [
    "尬的 以為4個點的正確就是寫完了= _ = 測個9個點的就錯了 @@\n",
    "\n",
    "原來不能只判斷節點是否已存在於已遍歷過的array中，這樣整個遍歷完可能會發生點無法連起來的狀況...."
   ]
  },
  {
   "cell_type": "markdown",
   "metadata": {},
   "source": [
    "思考一陣子後，想到當初老師上課在教的時候，判斷新加入的邊是否會形成loop時，是透過每次紀錄edge的相對應root(或稱parent)，因此決定從這個方向接下去寫，紀錄root並隨相對應的狀況更新root"
   ]
  },
  {
   "cell_type": "code",
   "execution_count": 7,
   "metadata": {},
   "outputs": [],
   "source": [
    "from collections import defaultdict \n",
    "\n",
    "class Graph(): \n",
    "\n",
    "    def __init__(self, vertices): \n",
    "        self.V = vertices \n",
    "        self.graph = [] \n",
    "        self.graph_matrix = [[0 for column in range(vertices)]  \n",
    "                    for row in range(vertices)] \n",
    "        self.edge = []\n",
    "        self.wet = []\n",
    "        self.root = {}\n",
    "        self.final = {}\n",
    "        self.n = 0\n",
    "        \n",
    "    def addEdge(self,u,v,w): \n",
    "        self.edge.append([u,v])\n",
    "        self.wet.append(w)\n",
    "        \n",
    "    def Kruskal(self):\n",
    "        arr = sorted(list(zip(self.wet,self.edge))) #權重由小到大排\n",
    "        \n",
    "        print(arr)\n",
    "        \n",
    "        for i in range(self.V):\n",
    "            self.root[i] = None\n",
    "            \n",
    "        \n",
    "        while self.n < self.V -1:\n",
    "            self.helper(arr)\n",
    "        \n",
    "        return self.final\n",
    "            \n",
    "    def helper(self,arr):\n",
    "        \n",
    "        a = arr[0]\n",
    "        \n",
    "        s , b = min(a[1][0],a[1][1]) , max(a[1][0],a[1][1])\n",
    "        \n",
    "        det = True\n",
    "        \n",
    "        if self.root[s] == None and self.root[b] == None:\n",
    "            self.root[s],self.root[b] = b,b\n",
    "            self.n+=1\n",
    "            \n",
    "        elif self.root[s] == None and self.root[b] != None: \n",
    "            self.root[s] = self.root[b]\n",
    "            self.n+=1\n",
    "            \n",
    "        elif self.root[b] == None and self.root[s] != None: \n",
    "            self.root[b] = self.root[s]\n",
    "            self.n+=1\n",
    "            \n",
    "        elif self.root[s] != None and self.root[b] != None and self.root[s] != self.root[b]:\n",
    "            for j in self.root:\n",
    "                if self.root[j] == self.root[s]:\n",
    "                    self.root[s] = self.root[b]\n",
    "            self.n+=1\n",
    "            \n",
    "        elif self.root[s] != None and self.root[b] != None and self.root[s] == self.root[b]:\n",
    "            det = False\n",
    "            if self.root[s] == self.root[b]:\n",
    "                arr.pop(0)\n",
    "                self.helper(arr)\n",
    "                \n",
    "        if det == True:\n",
    "            self.final[str(a[1][0])+\"-\"+str(a[1][1])] = a[0]\n",
    "            arr.pop(0)\n",
    "        "
   ]
  },
  {
   "cell_type": "markdown",
   "metadata": {},
   "source": [
    "有了大方向後，程式碼寫起來就順手許多，丟個測值看看答案對不對"
   ]
  },
  {
   "cell_type": "code",
   "execution_count": 9,
   "metadata": {},
   "outputs": [
    {
     "name": "stdout",
     "output_type": "stream",
     "text": [
      "[(1, [7, 6]), (2, [2, 8]), (2, [6, 5]), (4, [0, 1]), (4, [2, 5]), (6, [8, 6]), (7, [2, 3]), (7, [7, 8]), (8, [0, 7]), (8, [1, 2]), (9, [4, 3]), (10, [5, 4]), (11, [1, 7]), (14, [3, 5])]\n"
     ]
    },
    {
     "data": {
      "text/plain": [
       "{'7-6': 1,\n",
       " '2-8': 2,\n",
       " '6-5': 2,\n",
       " '0-1': 4,\n",
       " '2-5': 4,\n",
       " '8-6': 6,\n",
       " '2-3': 7,\n",
       " '7-8': 7}"
      ]
     },
     "execution_count": 9,
     "metadata": {},
     "output_type": "execute_result"
    }
   ],
   "source": [
    "g = Graph(9)\n",
    "g.addEdge(0,1,4)\n",
    "g.addEdge(0,7,8)\n",
    "g.addEdge(1,7,11)\n",
    "g.addEdge(1,2,8)\n",
    "g.addEdge(7,8,7)\n",
    "g.addEdge(7,6,1)\n",
    "g.addEdge(2,8,2)\n",
    "g.addEdge(8,6,6)\n",
    "g.addEdge(2,3,7)\n",
    "g.addEdge(2,5,4)\n",
    "g.addEdge(6,5,2)\n",
    "g.addEdge(3,5,14)\n",
    "g.addEdge(4,3,9)\n",
    "g.addEdge(5,4,10)\n",
    "g.Kruskal()"
   ]
  },
  {
   "cell_type": "markdown",
   "metadata": {},
   "source": [
    "尬的，形成loop，照著程式碼的邏輯跑一次，發現原來錯誤是出在第四個條件式裡面， 當遇到root皆存在且不相等，原本的想法是把所有root=小的那個改成大的root，但是當小的那個input的root在最初就被改掉後(也就是說基準點被換掉)這樣就會造成一些edge的root無法隨之更改，因此就會出錯。"
   ]
  },
  {
   "cell_type": "code",
   "execution_count": 1,
   "metadata": {},
   "outputs": [],
   "source": [
    "from collections import defaultdict \n",
    "\n",
    "class Graph(): \n",
    "\n",
    "    def __init__(self, vertices): \n",
    "        self.V = vertices \n",
    "        self.graph = [] \n",
    "        self.graph_matrix = [[0 for column in range(vertices)]  \n",
    "                    for row in range(vertices)] \n",
    "        self.edge = []\n",
    "        self.wet = []\n",
    "        self.root = {} #紀錄每條邊的root\n",
    "        self.final = {} #最後要return的\n",
    "        self.n = 0 #等到執行 self.V-1次即停止\n",
    "        \n",
    "    def addEdge(self,u,v,w): \n",
    "        self.edge.append([u,v])\n",
    "        self.wet.append(w)\n",
    "        \n",
    "    def Kruskal(self):\n",
    "        arr = sorted(list(zip(self.wet,self.edge))) #權重由小到大排\n",
    "        \n",
    "        print(arr)\n",
    "        \n",
    "        for i in range(self.V):\n",
    "            self.root[i] = None\n",
    "            \n",
    "        \n",
    "        while self.n < self.V -1:\n",
    "            self.helper(arr)\n",
    "        \n",
    "        return self.final\n",
    "            \n",
    "    def helper(self,arr):\n",
    "        \n",
    "        a = arr[0]\n",
    "        \n",
    "        s , b = min(a[1][0],a[1][1]) , max(a[1][0],a[1][1])\n",
    "        \n",
    "        det = True\n",
    "        \n",
    "        # 兩個input的root皆為空，統一指定成大的那個的root\n",
    "        if self.root[s] == None and self.root[b] == None:\n",
    "            self.root[s],self.root[b] = b,b\n",
    "            print(\"兩者皆空\",self.root)\n",
    "            self.n+=1\n",
    "        \n",
    "        # 小的那個root為空，且大的那個的root存在，把小的那個root指定成大的input的root\n",
    "        elif self.root[s] == None and self.root[b] != None: \n",
    "            self.root[s] = self.root[b]\n",
    "            print(\"小的root為空，大的root存在\",self.root)\n",
    "            self.n+=1\n",
    "        \n",
    "        # 大的那個root為空，且小的那個的root存在，把大的那個root指定成小的input的root\n",
    "        elif self.root[b] == None and self.root[s] != None: \n",
    "            self.root[b] = self.root[s]\n",
    "            print(\"大的root為空，小的root存在\",self.root)\n",
    "            self.n+=1\n",
    "            \n",
    "        # root皆存在且不相等，把所有root=小的那個改成大的root\n",
    "        # (先處理非小的那個以外的，等出了迴圈再處理小的那個)\n",
    "        elif self.root[s] != None and self.root[b] != None and self.root[s] != self.root[b]:\n",
    "            for j in range(len(self.root)):\n",
    "                if j != s and self.root[j] == self.root[s]:\n",
    "                    self.root[j] = self.root[b]\n",
    "            self.root[s] = self.root[b]\n",
    "            print(\"皆存在且不相等\",self.root)\n",
    "            self.n+=1\n",
    "            \n",
    "        # root皆存在且相等(會產生loop)，不加入(把那情況刪除)，進行recursive    \n",
    "        elif self.root[s] != None and self.root[b] != None and self.root[s] == self.root[b]:\n",
    "            det = False\n",
    "            arr.pop(0)\n",
    "            self.helper(arr)\n",
    "                \n",
    "        if det == True:\n",
    "            self.final[str(a[1][0])+\"-\"+str(a[1][1])] = a[0]\n",
    "            arr.pop(0)"
   ]
  },
  {
   "cell_type": "code",
   "execution_count": 3,
   "metadata": {},
   "outputs": [
    {
     "name": "stdout",
     "output_type": "stream",
     "text": [
      "[(1, [7, 6]), (2, [2, 8]), (2, [6, 5]), (4, [0, 1]), (4, [2, 5]), (6, [8, 6]), (7, [2, 3]), (7, [7, 8]), (8, [0, 7]), (8, [1, 2]), (9, [4, 3]), (10, [5, 4]), (11, [1, 7]), (14, [3, 5])]\n",
      "兩者皆空 {0: None, 1: None, 2: None, 3: None, 4: None, 5: None, 6: 7, 7: 7, 8: None}\n",
      "兩者皆空 {0: None, 1: None, 2: 8, 3: None, 4: None, 5: None, 6: 7, 7: 7, 8: 8}\n",
      "小的root為空，大的root存在 {0: None, 1: None, 2: 8, 3: None, 4: None, 5: 7, 6: 7, 7: 7, 8: 8}\n",
      "兩者皆空 {0: 1, 1: 1, 2: 8, 3: None, 4: None, 5: 7, 6: 7, 7: 7, 8: 8}\n",
      "皆存在且不相等 {0: 1, 1: 1, 2: 7, 3: None, 4: None, 5: 7, 6: 7, 7: 7, 8: 7}\n",
      "大的root為空，小的root存在 {0: 1, 1: 1, 2: 7, 3: 7, 4: None, 5: 7, 6: 7, 7: 7, 8: 7}\n",
      "皆存在且不相等 {0: 7, 1: 7, 2: 7, 3: 7, 4: None, 5: 7, 6: 7, 7: 7, 8: 7}\n",
      "大的root為空，小的root存在 {0: 7, 1: 7, 2: 7, 3: 7, 4: 7, 5: 7, 6: 7, 7: 7, 8: 7}\n"
     ]
    },
    {
     "data": {
      "text/plain": [
       "{'7-6': 1,\n",
       " '2-8': 2,\n",
       " '6-5': 2,\n",
       " '0-1': 4,\n",
       " '2-5': 4,\n",
       " '2-3': 7,\n",
       " '0-7': 8,\n",
       " '4-3': 9}"
      ]
     },
     "execution_count": 3,
     "metadata": {},
     "output_type": "execute_result"
    }
   ],
   "source": [
    "g = Graph(9)\n",
    "g.addEdge(0,1,4)\n",
    "g.addEdge(0,7,8)\n",
    "g.addEdge(1,7,11)\n",
    "g.addEdge(1,2,8)\n",
    "g.addEdge(7,8,7)\n",
    "g.addEdge(7,6,1)\n",
    "g.addEdge(2,8,2)\n",
    "g.addEdge(8,6,6)\n",
    "g.addEdge(2,3,7)\n",
    "g.addEdge(2,5,4)\n",
    "g.addEdge(6,5,2)\n",
    "g.addEdge(3,5,14)\n",
    "g.addEdge(4,3,9)\n",
    "g.addEdge(5,4,10)\n",
    "g.Kruskal()"
   ]
  },
  {
   "cell_type": "code",
   "execution_count": 5,
   "metadata": {},
   "outputs": [
    {
     "name": "stdout",
     "output_type": "stream",
     "text": [
      "[(2, [3, 5]), (3, [1, 2]), (5, [0, 2]), (6, [0, 1]), (7, [2, 3]), (9, [3, 4]), (10, [2, 5]), (11, [0, 3]), (16, [0, 4])]\n",
      "兩者皆空 {0: None, 1: None, 2: None, 3: 5, 4: None, 5: 5}\n",
      "兩者皆空 {0: None, 1: 2, 2: 2, 3: 5, 4: None, 5: 5}\n",
      "小的root為空，大的root存在 {0: 2, 1: 2, 2: 2, 3: 5, 4: None, 5: 5}\n",
      "皆存在且不相等 {0: 5, 1: 5, 2: 5, 3: 5, 4: None, 5: 5}\n",
      "大的root為空，小的root存在 {0: 5, 1: 5, 2: 5, 3: 5, 4: 5, 5: 5}\n"
     ]
    },
    {
     "data": {
      "text/plain": [
       "{'3-5': 2, '1-2': 3, '0-2': 5, '2-3': 7, '3-4': 9}"
      ]
     },
     "execution_count": 5,
     "metadata": {},
     "output_type": "execute_result"
    }
   ],
   "source": [
    "g = Graph(6)\n",
    "g.addEdge(0,1,6)\n",
    "g.addEdge(0,2,5)\n",
    "g.addEdge(1,2,3)\n",
    "g.addEdge(0,3,11)\n",
    "g.addEdge(2,3,7)\n",
    "g.addEdge(0,4,16)\n",
    "g.addEdge(3,4,9)\n",
    "g.addEdge(3,5,2)\n",
    "g.addEdge(2,5,10)\n",
    "g.Kruskal()"
   ]
  },
  {
   "cell_type": "code",
   "execution_count": 6,
   "metadata": {},
   "outputs": [
    {
     "name": "stdout",
     "output_type": "stream",
     "text": [
      "[(12, [2, 3]), (14, [0, 2]), (18, [4, 6]), (19, [1, 2]), (20, [1, 5]), (26, [4, 5]), (28, [5, 6]), (30, [0, 1]), (32, [3, 4])]\n",
      "兩者皆空 {0: None, 1: None, 2: 3, 3: 3, 4: None, 5: None, 6: None}\n",
      "小的root為空，大的root存在 {0: 3, 1: None, 2: 3, 3: 3, 4: None, 5: None, 6: None}\n",
      "兩者皆空 {0: 3, 1: None, 2: 3, 3: 3, 4: 6, 5: None, 6: 6}\n",
      "小的root為空，大的root存在 {0: 3, 1: 3, 2: 3, 3: 3, 4: 6, 5: None, 6: 6}\n",
      "大的root為空，小的root存在 {0: 3, 1: 3, 2: 3, 3: 3, 4: 6, 5: 3, 6: 6}\n",
      "皆存在且不相等 {0: 3, 1: 3, 2: 3, 3: 3, 4: 3, 5: 3, 6: 3}\n"
     ]
    },
    {
     "data": {
      "text/plain": [
       "{'2-3': 12, '0-2': 14, '4-6': 18, '1-2': 19, '1-5': 20, '4-5': 26}"
      ]
     },
     "execution_count": 6,
     "metadata": {},
     "output_type": "execute_result"
    }
   ],
   "source": [
    "g = Graph(7)\n",
    "g.addEdge(0,1,30)\n",
    "g.addEdge(0,2,14)\n",
    "g.addEdge(1,2,19)\n",
    "g.addEdge(2,3,12)\n",
    "g.addEdge(1,5,20)\n",
    "g.addEdge(3,4,32)\n",
    "g.addEdge(4,5,26)\n",
    "g.addEdge(4,6,18)\n",
    "g.addEdge(5,6,28)\n",
    "g.Kruskal()"
   ]
  },
  {
   "cell_type": "markdown",
   "metadata": {},
   "source": [
    "大功告成!最後整統一下程式碼~"
   ]
  },
  {
   "cell_type": "code",
   "execution_count": 1,
   "metadata": {},
   "outputs": [],
   "source": [
    "from collections import defaultdict \n",
    "\n",
    "class Graph(): \n",
    "\n",
    "    def __init__(self, vertices): \n",
    "        self.V = vertices \n",
    "        self.graph = [] \n",
    "        self.graph_matrix = [[0 for column in range(vertices)]  \n",
    "                    for row in range(vertices)] \n",
    "        self.edge = []\n",
    "        self.wet = []\n",
    "        self.root = {} #紀錄每條邊的root\n",
    "        self.final = {} #最後要return的\n",
    "        self.n = 0 #等到執行 self.V-1次即停止\n",
    "        \n",
    "    def addEdge(self,u,v,w): \n",
    "        self.edge.append([u,v])\n",
    "        self.wet.append(w)\n",
    "\n",
    "    def Dijkstra(self, s): #最短路徑\n",
    "        lst2 = self.helper_d()\n",
    "        \n",
    "        path,pq = [s],[] # path用來記錄已走訪過的節點 ; pq用來找出最短路徑的vertex\n",
    "        shortest , previous = {} , {}\n",
    "        for i in range(self.V):\n",
    "            shortest[i] , previous[i] = None , None\n",
    "        shortest[s],previous[s] = 0 , None\n",
    "        \n",
    "        for i in range(self.V-1):\n",
    "            a = lst2[path[-1]]\n",
    "            for j in range(len(a)):\n",
    "                vertex = a[j][0]\n",
    "                if vertex not in path:\n",
    "                    total = a[j][-1]+shortest[path[-1]]\n",
    "                    if shortest[vertex] == None:\n",
    "                        shortest[vertex] = total\n",
    "                        previous[vertex] = path[-1]\n",
    "                        pq.append([vertex,total])\n",
    "                    else:\n",
    "                        if total < shortest[vertex]:\n",
    "                            shortest[vertex] = total\n",
    "                            previous[vertex] = path[-1]\n",
    "                            pq.append([vertex,total])\n",
    "            \n",
    "            temp = 1\n",
    "            for k in range(len(pq)): #從pq中找出最短路徑的vertex\n",
    "                if pq[k][0] not in path:\n",
    "                    if temp == 1:\n",
    "                        temp = pq[k]   \n",
    "                    else:\n",
    "                        if temp[-1] > pq[k][-1]:\n",
    "                            temp = pq[k]\n",
    "            \n",
    "            path.append(temp[0])\n",
    "            pq.remove(temp)\n",
    "\n",
    "        final = {}\n",
    "        for i in range(self.V):\n",
    "            final[str(i)] = shortest[i]\n",
    "\n",
    "        return final\n",
    "    \n",
    "    def helper_d(self): #每個點到與他相鄰的點的路徑長\n",
    "        lst1 = []\n",
    "        lst2 = [None]*self.V\n",
    "        for i in range(self.V):\n",
    "            for j in range(len(self.graph[i])):\n",
    "                if self.graph[i][j] != 0:\n",
    "                    lst1.append([j,self.graph[i][j]])\n",
    "            lst2[i] = lst1\n",
    "            lst1 = []\n",
    "        return lst2\n",
    "    \n",
    "    \n",
    "    \n",
    "    def Kruskal(self):\n",
    "        arr = sorted(list(zip(self.wet,self.edge))) #權重由小到大排\n",
    "        \n",
    "        for i in range(self.V):\n",
    "            self.root[i] = None\n",
    "            \n",
    "        \n",
    "        while self.n < self.V -1:\n",
    "            self.helper(arr)\n",
    "        \n",
    "        return self.final\n",
    "            \n",
    "    def helper(self,arr):\n",
    "        \n",
    "        a = arr[0]\n",
    "        \n",
    "        s , b = min(a[1][0],a[1][1]) , max(a[1][0],a[1][1])\n",
    "        \n",
    "        det = True\n",
    "        \n",
    "        # 兩個input的root皆為空，統一指定成大的那個的root\n",
    "        if self.root[s] == None and self.root[b] == None:\n",
    "            self.root[s],self.root[b] = b,b\n",
    "            self.n+=1\n",
    "        \n",
    "        # 小的那個root為空，且大的那個的root存在，把小的那個root指定成大的input的root\n",
    "        elif self.root[s] == None and self.root[b] != None: \n",
    "            self.root[s] = self.root[b]\n",
    "            self.n+=1\n",
    "        \n",
    "        # 大的那個root為空，且小的那個的root存在，把大的那個root指定成小的input的root\n",
    "        elif self.root[b] == None and self.root[s] != None: \n",
    "            self.root[b] = self.root[s]\n",
    "            self.n+=1\n",
    "            \n",
    "        # root皆存在且不相等，把所有root=小的那個改成大的root\n",
    "        # (先處理非小的那個以外的，等出了迴圈再處理小的那個)\n",
    "        elif self.root[s] != None and self.root[b] != None and self.root[s] != self.root[b]:\n",
    "            for j in range(len(self.root)):\n",
    "                if j != s and self.root[j] == self.root[s]:\n",
    "                    self.root[j] = self.root[b]\n",
    "            self.root[s] = self.root[b]\n",
    "            self.n+=1\n",
    "            \n",
    "        # root皆存在且相等(會產生loop)，不加入(把那情況刪除)，進行recursive    \n",
    "        elif self.root[s] != None and self.root[b] != None and self.root[s] == self.root[b]:\n",
    "            det = False\n",
    "            arr.pop(0)\n",
    "            self.helper(arr)\n",
    "                \n",
    "        if det == True:\n",
    "            self.final[str(a[1][0])+\"-\"+str(a[1][1])] = a[0]\n",
    "            arr.pop(0)\n",
    "            \n",
    "            \n",
    "# 參考資料:\n",
    "# 1. https://www.youtube.com/watch?v=9wV1VxlfBlI\n",
    "# 2. https://wiki.mbalib.com/zh-tw/Dijkstra%E7%AE%97%E6%B3%95\n",
    "# 3. https://codertw.com/%E7%A8%8B%E5%BC%8F%E8%AA%9E%E8%A8%80/434938/\n",
    "# 4. https://www.youtube.com/watch?v=wuU4DDEUu1w\n",
    "# 5. https://www.youtube.com/watch?v=71UQH7Pr9kU"
   ]
  },
  {
   "cell_type": "code",
   "execution_count": 2,
   "metadata": {},
   "outputs": [
    {
     "data": {
      "text/plain": [
       "{'2-3': 12, '0-2': 14, '4-6': 18, '1-2': 19, '1-5': 20, '4-5': 26}"
      ]
     },
     "execution_count": 2,
     "metadata": {},
     "output_type": "execute_result"
    }
   ],
   "source": [
    "g = Graph(7)\n",
    "g.addEdge(0,1,30)\n",
    "g.addEdge(0,2,14)\n",
    "g.addEdge(1,2,19)\n",
    "g.addEdge(2,3,12)\n",
    "g.addEdge(1,5,20)\n",
    "g.addEdge(3,4,32)\n",
    "g.addEdge(4,5,26)\n",
    "g.addEdge(4,6,18)\n",
    "g.addEdge(5,6,28)\n",
    "g.Kruskal()"
   ]
  },
  {
   "cell_type": "code",
   "execution_count": 3,
   "metadata": {},
   "outputs": [],
   "source": [
    "a = Graph(9)\n",
    "a.graph =  [[0,4,0,0,0,0,0,8,0],\n",
    "            [4,0,8,0,0,0,0,11,0],\n",
    "            [0,8,0,7,0,4,0,0,2],\n",
    "            [0,0,7,0,9,14,0,0,0],\n",
    "            [0,0,0,9,0,10,0,0,0],\n",
    "            [0,0,4,14,10,0,2,0,0],\n",
    "            [0,0,0,0,0,2,0,1,6],\n",
    "            [8,11,0,0,0,0,1,0,7],\n",
    "            [0,0,2,0,0,0,6,7,0]]"
   ]
  },
  {
   "cell_type": "code",
   "execution_count": 4,
   "metadata": {},
   "outputs": [
    {
     "data": {
      "text/plain": [
       "{'0': 0, '1': 4, '2': 12, '3': 19, '4': 21, '5': 11, '6': 9, '7': 8, '8': 14}"
      ]
     },
     "execution_count": 4,
     "metadata": {},
     "output_type": "execute_result"
    }
   ],
   "source": [
    "a.Dijkstra(0)"
   ]
  },
  {
   "cell_type": "code",
   "execution_count": null,
   "metadata": {},
   "outputs": [],
   "source": []
  }
 ],
 "metadata": {
  "kernelspec": {
   "display_name": "Python 3",
   "language": "python",
   "name": "python3"
  },
  "language_info": {
   "codemirror_mode": {
    "name": "ipython",
    "version": 3
   },
   "file_extension": ".py",
   "mimetype": "text/x-python",
   "name": "python",
   "nbconvert_exporter": "python",
   "pygments_lexer": "ipython3",
   "version": "3.7.4"
  }
 },
 "nbformat": 4,
 "nbformat_minor": 2
}
