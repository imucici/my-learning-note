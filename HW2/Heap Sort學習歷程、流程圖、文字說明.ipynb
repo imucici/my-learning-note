{
 "cells": [
  {
   "cell_type": "markdown",
   "metadata": {},
   "source": [
    "參考網站:\n",
    "\n",
    "1. https://blog.csdn.net/weixin_37621790/article/details/86695537\n",
    "2. https://github.com/pecu/DSA/blob/master/06_HeapSort/heapSort.py\n",
    "\n",
    "一開始花了3天弄清楚heapsort概念，對heapsort的流程了解如下:\n",
    "\n",
    "heapsort有分幾個區塊來執行排序:\n",
    "\n",
    ">maxeapify : 功能是用來維持父節點大於兩個小孩\n",
    "\n",
    ">Buildmaxheap (需要使用到maxheapify來建立最大堆)\n",
    "\n",
    ">siftdown (第一輪Buildmaxheap後，交換root和最後一個節點，也須使用到heapify)\n",
    "\n",
    ">heapsort "
   ]
  },
  {
   "cell_type": "markdown",
   "metadata": {},
   "source": [
    "弄清楚概念後先畫出流程圖，當能夠自己畫出流程圖時，才有機會弄懂甚至是自己寫出程式碼"
   ]
  },
  {
   "cell_type": "code",
   "execution_count": 1,
   "metadata": {},
   "outputs": [
    {
     "data": {
      "text/html": [
       "<img src=\"https://github.com/imucici/my-learning-note/blob/master/%E5%9C%96%E7%89%87/Heap%20Sort_%E6%B5%81%E7%A8%8B%E5%9C%96.png?raw=true\" width=\"1000\" height=\"1000\"/>"
      ],
      "text/plain": [
       "<IPython.core.display.Image object>"
      ]
     },
     "execution_count": 1,
     "metadata": {},
     "output_type": "execute_result"
    }
   ],
   "source": [
    "from IPython.display import Image\n",
    "from IPython.core.display import HTML\n",
    "Image(url= \"https://github.com/imucici/my-learning-note/blob/master/%E5%9C%96%E7%89%87/Heap%20Sort_%E6%B5%81%E7%A8%8B%E5%9C%96.png?raw=true\" ,width = 1000,height = 1000)"
   ]
  },
  {
   "cell_type": "markdown",
   "metadata": {},
   "source": [
    "再來參考上面的那個網站及老師的程式碼\n",
    "\n",
    "過了1天後首先嘗試綜合兩版程式碼，看看自己是否大概了解程式碼的運行，並試著做一些修正(因為是第一次還很不熟悉，因此相似度非常高):\n",
    "\n",
    ">**[待解決問題]我在研究\"針對非葉節點討論時為什麼是由下往上檢查\"這部分的程式碼有很大的疑惑，為什麼不是由上往下操作"
   ]
  },
  {
   "cell_type": "code",
   "execution_count": 2,
   "metadata": {},
   "outputs": [],
   "source": [
    "## maxheapify是參考老師提供的程式碼\n",
    "\n",
    "def maxheapify(arr,n,i):\n",
    "    l = 2*i+1 #訂出左邊的小孩\n",
    "    r = 2*i+2 #訂出右邊的小孩\n",
    "    largest = i #初始化\n",
    "    \n",
    "    #前2個if的式子目的是為了找出subtree中最大的節點，並叫他largest\n",
    "    \n",
    "    if l < n and arr[i]<arr[l]:\n",
    "        largest = l\n",
    "    if r < n and arr[largest]<arr[r]:\n",
    "        largest = r\n",
    "    #當largest、i不在同一個位子，就代表root不是最大的，因此將largest的\"值\"和root的\"值\"交換\n",
    "    if largest != i:\n",
    "        arr[largest],arr[i] = arr[i],arr[largest]\n",
    "        maxheapify(arr,n,largest) #透過largest繼續往下遍歷，找找是否有不符合最大堆規則的值\n",
    "    \n",
    "## heapsort 是參考網上的邏輯\n",
    "\n",
    "def HeapSort(arr):\n",
    "    n = len(arr)\n",
    "    \n",
    "    for i in reversed(range(n//2)):#因為葉節點不會違反最大堆，因此只考慮非葉節點\n",
    "        maxheapify(arr,n-1,i)\n",
    "        \n",
    "###這部分自己研究了3天還是一直弄不明白，因此帶著概念和同學一起討論有沒有更好理解的寫法\n",
    "###......待續......\n",
    "\n",
    "    while n>1:\n",
    "        arr[n-1],arr[0] = arr[0],arr[n-1] #將root和最後一個節點互換\n",
    "        n -= 1 \n",
    "        hmaxeapify(arr,n-1,0)  "
   ]
  },
  {
   "cell_type": "markdown",
   "metadata": {},
   "source": [
    "10/28，和陳昱昇一起重新釐清程式碼流程及大方向，下面youtube的影片連結是我跟他的腦力激盪紀錄\n",
    "\n",
    "1.第一部分的影片是從頭照著程式碼去演示如何heapsort\n",
    ">https://www.youtube.com/watch?v=1lYpWZQ68LU&feature=youtu.be\n",
    "\n",
    ">https://www.youtube.com/watch?v=9V9b0tymQp8&feature=youtu.be\n",
    "\n",
    ">https://www.youtube.com/watch?v=5SYHPoRlQXQ&feature=youtu.be\n",
    "\n",
    "2.第二部是在起初參考網站時就有疑問的點(剛剛上面提到的待解決問題):為什麼在建最大堆時，只能從下而上，因此我們實際嘗試如果由上而下能否成功。\n",
    ">實際操作後發現真的只能由下往上，我的猜測是因為由上往下，root會先定位，你很難確保下面是否會出現更大的節點，當出現時也不可能再有機會修改到root，因此這部分的疑惑經過實際演示已解決!\n",
    ">>https://www.youtube.com/watch?v=RBacYN7kX1g&feature=youtu.be\n",
    "\n",
    ">>https://www.youtube.com/watch?v=9PTVGVC1_a0&feature=youtu.be\n",
    "\n",
    "3.另一部是不看程式碼，試著用程式碼的邏輯畫出流程圖，確保自己真的理解。\n",
    ">https://www.youtube.com/watch?v=Jp0bRDUnKtE&feature=youtu.be\n",
    "\n",
    ">https://www.youtube.com/watch?v=mgOjQeUyAHE&feature=youtu.be"
   ]
  },
  {
   "cell_type": "markdown",
   "metadata": {},
   "source": [
    "重新釐清觀念\n",
    "\n",
    ">maxheapify是讓每個subtree的父節點大於兩個小孩\n",
    "\n",
    ">buildmaxheap需要\"從下往上\"做heapify\n",
    "\n",
    ">siftdown是當最大堆建立完成後，要進行的下一個步驟，此時也是將最大的那個值放入指定位置\n",
    "\n",
    "過了4小時試著自己寫一次，確保自己真的能完全不看別人的code寫出來:"
   ]
  },
  {
   "cell_type": "code",
   "execution_count": 3,
   "metadata": {},
   "outputs": [],
   "source": [
    "def maxheapify(arr,n,i):\n",
    "    l = 2*i+1\n",
    "    r = 2*i+2\n",
    "    largest = i\n",
    "    if l < n and arr[largest]<arr[l]:\n",
    "        largest = l\n",
    "    if r < n and arr[largest]<arr[r]:\n",
    "        largest = r\n",
    "    if largest != i:\n",
    "        arr[largest],arr[i] = arr[i],arr[largest]\n",
    "        maxheapify(arr,n,largest)\n",
    "    return arr\n",
    "    \n",
    "def heapsort (arr,n,i):\n",
    "    n = len(arr)\n",
    "    #建最大堆\n",
    "    for i in reversed(range(0,n//2-1)): #針對非葉節點，由下往上遍歷\n",
    "        maxheapify(arr,n,i)#當需要siftdown時n才要變短\n",
    "    #siftdown\n",
    "    for j in reversed(range(1,n)):#假設長度為10，就是需要從index=9~index=1依序做siftdown\n",
    "        arr[0],arr[j] = arr[j],arr[0]\n",
    "        maxheapify(arr,n-1,0)"
   ]
  },
  {
   "cell_type": "code",
   "execution_count": 4,
   "metadata": {},
   "outputs": [
    {
     "ename": "TypeError",
     "evalue": "heapsort() missing 2 required positional arguments: 'n' and 'i'",
     "output_type": "error",
     "traceback": [
      "\u001b[1;31m---------------------------------------------------------------------------\u001b[0m",
      "\u001b[1;31mTypeError\u001b[0m                                 Traceback (most recent call last)",
      "\u001b[1;32m<ipython-input-4-8b735c82d2ea>\u001b[0m in \u001b[0;36m<module>\u001b[1;34m\u001b[0m\n\u001b[0;32m      1\u001b[0m \u001b[0marr\u001b[0m \u001b[1;33m=\u001b[0m \u001b[1;33m[\u001b[0m\u001b[1;36m3\u001b[0m\u001b[1;33m,\u001b[0m\u001b[1;36m1\u001b[0m\u001b[1;33m,\u001b[0m\u001b[1;36m2\u001b[0m\u001b[1;33m,\u001b[0m\u001b[1;36m5\u001b[0m\u001b[1;33m,\u001b[0m\u001b[1;36m8\u001b[0m\u001b[1;33m,\u001b[0m\u001b[1;36m11\u001b[0m\u001b[1;33m,\u001b[0m\u001b[1;36m0\u001b[0m\u001b[1;33m,\u001b[0m\u001b[1;36m9\u001b[0m\u001b[1;33m,\u001b[0m\u001b[1;36m7\u001b[0m\u001b[1;33m,\u001b[0m\u001b[1;36m99\u001b[0m\u001b[1;33m]\u001b[0m\u001b[1;33m\u001b[0m\u001b[1;33m\u001b[0m\u001b[0m\n\u001b[1;32m----> 2\u001b[1;33m \u001b[0mheapsort\u001b[0m\u001b[1;33m(\u001b[0m\u001b[0marr\u001b[0m\u001b[1;33m)\u001b[0m\u001b[1;33m\u001b[0m\u001b[1;33m\u001b[0m\u001b[0m\n\u001b[0m",
      "\u001b[1;31mTypeError\u001b[0m: heapsort() missing 2 required positional arguments: 'n' and 'i'"
     ]
    }
   ],
   "source": [
    "arr = [3,1,2,5,8,11,0,9,7,99]\n",
    "heapsort(arr)"
   ]
  },
  {
   "cell_type": "markdown",
   "metadata": {},
   "source": [
    "看來不是看過別人的程式碼就能一次成功>< 開始debug...\n",
    "\n",
    "heapsort是一開始當你丟一組測值進去，想要得出排序過後的結果所使用的函式，因此當下並不會需要告訴他arr的長度及index。\n",
    "\n",
    "所以我再次把程式碼修正。"
   ]
  },
  {
   "cell_type": "code",
   "execution_count": 5,
   "metadata": {},
   "outputs": [],
   "source": [
    "def maxheapify(arr,n,i):\n",
    "    l = 2*i+1\n",
    "    r = 2*i+2\n",
    "    largest = i\n",
    "    if l < n and arr[largest]<arr[l]:\n",
    "        largest = l\n",
    "    if r < n and arr[largest]<arr[r]:\n",
    "        largest = r\n",
    "    if largest != i:\n",
    "        arr[largest],arr[i] = arr[i],arr[largest]\n",
    "        maxheapify(arr,n,largest)\n",
    "    \n",
    "    \n",
    "def heapsort (arr):\n",
    "    n = len(arr)\n",
    "    #建最大堆\n",
    "    for i in reversed(range(0,n//2-1)): #針對非葉節點，由下往上遍歷\n",
    "        maxheapify(arr,n,i)#當需要siftdown時n才要變短\n",
    "    #siftdown\n",
    "    for j in reversed(range(1,n)): #假設長度為10，就是需要從index=9~index=1依序做siftdown\n",
    "        arr[0],arr[j] = arr[j],arr[0]\n",
    "        maxheapify(arr,n-1,0)\n",
    "    return arr"
   ]
  },
  {
   "cell_type": "code",
   "execution_count": 6,
   "metadata": {},
   "outputs": [
    {
     "data": {
      "text/plain": [
       "[99, 9, 8, 5, 1, 7, 3, 0, 2, 11]"
      ]
     },
     "execution_count": 6,
     "metadata": {},
     "output_type": "execute_result"
    }
   ],
   "source": [
    "arr = [3,1,2,5,8,11,0,9,7,99]\n",
    "heapsort(arr)"
   ]
  },
  {
   "cell_type": "markdown",
   "metadata": {},
   "source": [
    "發現答案錯，開始檢查我認為可能錯的地方，第一步先檢查是否reversed正確，因此我print出index檢查"
   ]
  },
  {
   "cell_type": "code",
   "execution_count": 7,
   "metadata": {},
   "outputs": [],
   "source": [
    "def heapify(arr,n,i):\n",
    "    l = 2*i+1\n",
    "    r = 2*i+2\n",
    "    largest = i\n",
    "    if l < n and arr[largest]<arr[l]:\n",
    "        largest = l\n",
    "    if r < n and arr[largest]<arr[r]:\n",
    "        largest = r\n",
    "    if largest != i:\n",
    "        arr[largest],arr[i] = arr[i],arr[largest]\n",
    "        maxheapify(arr,n,largest)\n",
    "    \n",
    "    \n",
    "def heapsort (arr):\n",
    "    n = len(arr)\n",
    "    #建最大堆\n",
    "    for i in reversed(range(0,n//2-1)): #針對非葉節點，由下往上遍歷\n",
    "        print(i) #debug用\n",
    "        maxheapify(arr,n,i)#當需要siftdown時n才要變短\n",
    "    #siftdown\n",
    "    for j in reversed(range(1,n)): #假設長度為10，就是需要從index=9~index=1依序做siftdown\n",
    "        print(\"。\",j) #debug用\n",
    "        arr[0],arr[j] = arr[j],arr[0]\n",
    "        maxheapify(arr,n-1,0)\n",
    "    return arr"
   ]
  },
  {
   "cell_type": "code",
   "execution_count": 8,
   "metadata": {},
   "outputs": [
    {
     "name": "stdout",
     "output_type": "stream",
     "text": [
      "3\n",
      "2\n",
      "1\n",
      "0\n",
      "。 9\n",
      "。 8\n",
      "。 7\n",
      "。 6\n",
      "。 5\n",
      "。 4\n",
      "。 3\n",
      "。 2\n",
      "。 1\n"
     ]
    },
    {
     "data": {
      "text/plain": [
       "[99, 9, 8, 5, 1, 7, 3, 0, 2, 11]"
      ]
     },
     "execution_count": 8,
     "metadata": {},
     "output_type": "execute_result"
    }
   ],
   "source": [
    "arr = [3,1,2,5,8,11,0,9,7,99]\n",
    "heapsort(arr)"
   ]
  },
  {
   "cell_type": "markdown",
   "metadata": {},
   "source": [
    "在建最大堆時，預想遍歷所有非葉節點，當我測值長度=10時，非葉節點所在位子應該要是10//2-1>>0、1、2、3、4，但我print出來的i卻只有到3，思考過後才想通，range含頭不含尾，反轉後就相當於原先結尾處就被多扣1，因此應該不能減1\n",
    "\n",
    "修改後再測試一次"
   ]
  },
  {
   "cell_type": "code",
   "execution_count": 9,
   "metadata": {},
   "outputs": [],
   "source": [
    "def maxheapify(arr,n,i):\n",
    "    l = 2*i+1\n",
    "    r = 2*i+2\n",
    "    largest = i\n",
    "    if l < n and arr[largest]<arr[l]:\n",
    "        largest = l\n",
    "    if r < n and arr[largest]<arr[r]:\n",
    "        largest = r\n",
    "    if largest != i:\n",
    "        arr[largest],arr[i] = arr[i],arr[largest]\n",
    "        maxheapify(arr,n,largest)\n",
    "    \n",
    "    \n",
    "def heapsort (arr):\n",
    "    n = len(arr)\n",
    "    #建最大堆\n",
    "    for i in reversed(range(0,n//2)): #針對非葉節點，由下往上遍歷\n",
    "        print(i) #debug用\n",
    "        maxheapify(arr,n,i)#當需要siftdown時n才要變短\n",
    "    #siftdown\n",
    "    for j in reversed(range(1,n)): #假設長度為10，就是需要從index=9~index=1依序做siftdown\n",
    "        print(\"。\",j) #debug用\n",
    "        arr[0],arr[j] = arr[j],arr[0]\n",
    "        maxheapify(arr,n-1,0)\n",
    "    return arr"
   ]
  },
  {
   "cell_type": "code",
   "execution_count": 10,
   "metadata": {},
   "outputs": [
    {
     "name": "stdout",
     "output_type": "stream",
     "text": [
      "4\n",
      "3\n",
      "2\n",
      "1\n",
      "0\n",
      "。 9\n",
      "。 8\n",
      "。 7\n",
      "。 6\n",
      "。 5\n",
      "。 4\n",
      "。 3\n",
      "。 2\n",
      "。 1\n"
     ]
    },
    {
     "data": {
      "text/plain": [
       "[11, 9, 8, 5, -5, 7, 2, 0, 1, 99]"
      ]
     },
     "execution_count": 10,
     "metadata": {},
     "output_type": "execute_result"
    }
   ],
   "source": [
    "arr = [-5,1,2,5,8,11,0,9,7,99]\n",
    "heapsort(arr)"
   ]
  },
  {
   "cell_type": "markdown",
   "metadata": {},
   "source": [
    "好奇怪..再繼續測試再哪出錯\n",
    "\n",
    "先測試建完最大堆的結果是否正確"
   ]
  },
  {
   "cell_type": "code",
   "execution_count": 11,
   "metadata": {},
   "outputs": [],
   "source": [
    "def maxheapify(arr,n,i):\n",
    "    l = 2*i+1\n",
    "    r = 2*i+2\n",
    "    largest = i\n",
    "    if l < n and arr[largest]<arr[l]:\n",
    "        largest = l\n",
    "    if r < n and arr[largest]<arr[r]:\n",
    "        largest = r\n",
    "    if largest != i:\n",
    "        arr[largest],arr[i] = arr[i],arr[largest]\n",
    "        maxheapify(arr,n,largest)\n",
    "    \n",
    "    \n",
    "def heapsort (arr):\n",
    "    n = len(arr)\n",
    "    #建最大堆\n",
    "    for i in reversed(range(0,n//2)): #針對非葉節點，由下往上遍歷\n",
    "        print(i) #debug用\n",
    "        maxheapify(arr,n,i)#當需要siftdown時n才要變短\n",
    "        #siftdown\n",
    "#     for j in reversed(range(1,n)): #假設長度為10，就是需要從index=9~index=1依序做siftdown\n",
    "#         print(\"。\",j) #debug用\n",
    "#         arr[0],arr[j] = arr[j],arr[0]\n",
    "#         maxheapify(arr,n-1,0)\n",
    "    return arr"
   ]
  },
  {
   "cell_type": "code",
   "execution_count": 12,
   "metadata": {},
   "outputs": [
    {
     "name": "stdout",
     "output_type": "stream",
     "text": [
      "4\n",
      "3\n",
      "2\n",
      "1\n",
      "0\n"
     ]
    },
    {
     "data": {
      "text/plain": [
       "[99, 9, 11, 7, 8, 2, 0, 5, -5, 1]"
      ]
     },
     "execution_count": 12,
     "metadata": {},
     "output_type": "execute_result"
    }
   ],
   "source": [
    "arr = [-5,1,2,5,8,11,0,9,7,99]\n",
    "heapsort(arr)"
   ]
  },
  {
   "cell_type": "markdown",
   "metadata": {},
   "source": [
    "到目前為止是最大堆沒錯，所以應該是在\"siftdown\"出錯\n",
    "\n",
    "\n",
    "將每一個步驟都列出來，方便自己理解程式如何一步一步運行，就能發現錯在哪裡。\n",
    "\n",
    ">一開始在maxheapify(arr,n-1,0)會寫n-1的想法是希望它每一輪長度都能一直減1，但是我這樣寫只會在第一次時長度減1，如果要每次都能自動減1，就要用\"index\"，也就是j來進行(因為j會從n~1遍歷)"
   ]
  },
  {
   "cell_type": "code",
   "execution_count": 13,
   "metadata": {},
   "outputs": [
    {
     "data": {
      "text/html": [
       "<img src=\"https://github.com/imucici/my-learning-note/blob/master/%E5%9C%96%E7%89%87/siftdown_error.jpg?raw=true\" width=\"1000\" height=\"1000\"/>"
      ],
      "text/plain": [
       "<IPython.core.display.Image object>"
      ]
     },
     "execution_count": 13,
     "metadata": {},
     "output_type": "execute_result"
    }
   ],
   "source": [
    "Image(url= \"https://github.com/imucici/my-learning-note/blob/master/%E5%9C%96%E7%89%87/siftdown_error.jpg?raw=true\" ,width = 1000,height = 1000)"
   ]
  },
  {
   "cell_type": "code",
   "execution_count": 14,
   "metadata": {},
   "outputs": [],
   "source": [
    "def maxheapify(arr,n,i):\n",
    "    l = 2*i+1\n",
    "    r = 2*i+2\n",
    "    largest = i\n",
    "    if l < n and arr[largest]<arr[l]:\n",
    "        largest = l\n",
    "    if r < n and arr[largest]<arr[r]:\n",
    "        largest = r\n",
    "    if largest != i:\n",
    "        arr[largest],arr[i] = arr[i],arr[largest]\n",
    "        maxheapify(arr,n,largest)\n",
    "    \n",
    "def heapsort (arr):\n",
    "    n = len(arr)\n",
    "    #建最大堆\n",
    "    for i in reversed(range(0,n//2)): #針對非葉節點，由下往上遍歷\n",
    "        \n",
    "        maxheapify(arr,n,i)#當需要siftdown時n才要變短\n",
    "    #siftdown\n",
    "    for j in reversed(range(1,n)): #假設長度為10，就是需要從index=9~index=1依序做siftdown\n",
    "        \n",
    "        arr[0],arr[j] = arr[j],arr[0]\n",
    "        maxheapify(arr,j,0)\n",
    "    return arr"
   ]
  },
  {
   "cell_type": "code",
   "execution_count": 15,
   "metadata": {},
   "outputs": [
    {
     "data": {
      "text/plain": [
       "[-5, 0, 1, 2, 5, 7, 8, 9, 11, 99]"
      ]
     },
     "execution_count": 15,
     "metadata": {},
     "output_type": "execute_result"
    }
   ],
   "source": [
    "arr = [-5,1,2,5,8,11,0,9,7,99]\n",
    "heapsort(arr)"
   ]
  },
  {
   "cell_type": "markdown",
   "metadata": {},
   "source": [
    "確定邏輯沒問題後，試著用自己的方式改寫(第一版)\n",
    "\n",
    "我的思路:\n",
    ">想要建最大堆會需要用到maxheapify()這工具，而第一輪建最大堆完成之後，需要再用siftdown將root和最後一個節點互換，來將最大的那個數定位。\n",
    "\n",
    "由於文字太難表達，因此附上各函式之間的關係圖來呈現"
   ]
  },
  {
   "cell_type": "code",
   "execution_count": 16,
   "metadata": {},
   "outputs": [
    {
     "data": {
      "text/html": [
       "<img src=\"https://github.com/imucici/my-learning-note/blob/master/%E5%9C%96%E7%89%87/Heapsort%E9%97%9C%E4%BF%82%E5%9C%96(1).jpg?raw=true\" width=\"1000\" height=\"1000\"/>"
      ],
      "text/plain": [
       "<IPython.core.display.Image object>"
      ]
     },
     "execution_count": 16,
     "metadata": {},
     "output_type": "execute_result"
    }
   ],
   "source": [
    "Image(url= \"https://github.com/imucici/my-learning-note/blob/master/%E5%9C%96%E7%89%87/Heapsort%E9%97%9C%E4%BF%82%E5%9C%96(1).jpg?raw=true\" ,width = 1000,height = 1000)"
   ]
  },
  {
   "cell_type": "code",
   "execution_count": 17,
   "metadata": {},
   "outputs": [],
   "source": [
    "#(\"數字\")代表關係圖上面的第幾個步驟\n",
    "\n",
    "class Solution(object):\n",
    "    def heap_sort(self,nums):\n",
    "        siftdown = siftdown(nums) #(1) / siftdown是(8)回傳回來的結果\n",
    "        return siftdown\n",
    "        \n",
    "    def siftdown(nums):\n",
    "        maxheap = buildmaxheap(nums) #(2) /maxheap是(5)回傳回來的結果\n",
    "        n = len(maxheap)\n",
    "        for j in reversed(range(1,n)):\n",
    "            nums[0],nums[j] = nums[j],nums[0]\n",
    "            maxheapify(maxheap,j,0) #(6)\n",
    "        return nums #(7)\n",
    "    \n",
    "    def buildmaxheap(nums):\n",
    "        n = len(nums)\n",
    "        for i in reversed(range(0,n//2)):\n",
    "            maxheapify(nums,n,i) #(3)\n",
    "        return nums #(4)\n",
    "   \n",
    "    def maxheapify(nums,n,i):\n",
    "        l = 2*i+1\n",
    "        r = 2*i+2\n",
    "        largest = i\n",
    "        if l<n and nums[largest]<nums[l]:\n",
    "            largest = l\n",
    "        if r<n and nums[largest]<nums[r]:\n",
    "            largest = r\n",
    "        if largest != i:\n",
    "            nums[largest],nums[i] = nums[i],nums[largest]\n",
    "            maxheapify(nums,n,largest)"
   ]
  },
  {
   "cell_type": "code",
   "execution_count": 18,
   "metadata": {},
   "outputs": [
    {
     "ename": "UnboundLocalError",
     "evalue": "local variable 'siftdown' referenced before assignment",
     "output_type": "error",
     "traceback": [
      "\u001b[1;31m---------------------------------------------------------------------------\u001b[0m",
      "\u001b[1;31mUnboundLocalError\u001b[0m                         Traceback (most recent call last)",
      "\u001b[1;32m<ipython-input-18-05116aa4edc0>\u001b[0m in \u001b[0;36m<module>\u001b[1;34m\u001b[0m\n\u001b[0;32m      1\u001b[0m \u001b[0mnums\u001b[0m \u001b[1;33m=\u001b[0m \u001b[1;33m[\u001b[0m\u001b[1;36m9\u001b[0m\u001b[1;33m,\u001b[0m\u001b[1;36m1\u001b[0m\u001b[1;33m,\u001b[0m\u001b[1;36m4\u001b[0m\u001b[1;33m,\u001b[0m\u001b[1;36m8\u001b[0m\u001b[1;33m,\u001b[0m\u001b[1;36m6\u001b[0m\u001b[1;33m,\u001b[0m\u001b[1;36m3\u001b[0m\u001b[1;33m,\u001b[0m\u001b[1;36m8\u001b[0m\u001b[1;33m,\u001b[0m\u001b[1;33m-\u001b[0m\u001b[1;36m1\u001b[0m\u001b[1;33m,\u001b[0m\u001b[1;36m0\u001b[0m\u001b[1;33m]\u001b[0m\u001b[1;33m\u001b[0m\u001b[1;33m\u001b[0m\u001b[0m\n\u001b[1;32m----> 2\u001b[1;33m \u001b[0mSolution\u001b[0m\u001b[1;33m(\u001b[0m\u001b[1;33m)\u001b[0m\u001b[1;33m.\u001b[0m\u001b[0mheap_sort\u001b[0m\u001b[1;33m(\u001b[0m\u001b[0mnums\u001b[0m\u001b[1;33m)\u001b[0m\u001b[1;33m\u001b[0m\u001b[1;33m\u001b[0m\u001b[0m\n\u001b[0m",
      "\u001b[1;32m<ipython-input-17-3698deb46fc5>\u001b[0m in \u001b[0;36mheap_sort\u001b[1;34m(self, nums)\u001b[0m\n\u001b[0;32m      3\u001b[0m \u001b[1;32mclass\u001b[0m \u001b[0mSolution\u001b[0m\u001b[1;33m(\u001b[0m\u001b[0mobject\u001b[0m\u001b[1;33m)\u001b[0m\u001b[1;33m:\u001b[0m\u001b[1;33m\u001b[0m\u001b[1;33m\u001b[0m\u001b[0m\n\u001b[0;32m      4\u001b[0m     \u001b[1;32mdef\u001b[0m \u001b[0mheap_sort\u001b[0m\u001b[1;33m(\u001b[0m\u001b[0mself\u001b[0m\u001b[1;33m,\u001b[0m\u001b[0mnums\u001b[0m\u001b[1;33m)\u001b[0m\u001b[1;33m:\u001b[0m\u001b[1;33m\u001b[0m\u001b[1;33m\u001b[0m\u001b[0m\n\u001b[1;32m----> 5\u001b[1;33m         \u001b[0msiftdown\u001b[0m \u001b[1;33m=\u001b[0m \u001b[0msiftdown\u001b[0m\u001b[1;33m(\u001b[0m\u001b[0mnums\u001b[0m\u001b[1;33m)\u001b[0m \u001b[1;31m#(1) / siftdown是(8)回傳回來的結果\u001b[0m\u001b[1;33m\u001b[0m\u001b[1;33m\u001b[0m\u001b[0m\n\u001b[0m\u001b[0;32m      6\u001b[0m         \u001b[1;32mreturn\u001b[0m \u001b[0msiftdown\u001b[0m\u001b[1;33m\u001b[0m\u001b[1;33m\u001b[0m\u001b[0m\n\u001b[0;32m      7\u001b[0m \u001b[1;33m\u001b[0m\u001b[0m\n",
      "\u001b[1;31mUnboundLocalError\u001b[0m: local variable 'siftdown' referenced before assignment"
     ]
    }
   ],
   "source": [
    "nums = [9,1,4,8,6,3,8,-1,0]\n",
    "Solution().heap_sort(nums)"
   ]
  },
  {
   "cell_type": "markdown",
   "metadata": {},
   "source": [
    "錯誤訊息的意思是它找不到siftdown\n",
    "\n",
    "\n",
    ">上網複習了class的基本用法\n",
    "https://medium.com/@weilihmen/%E9%97%9C%E6%96%BCpython%E7%9A%84%E9%A1%9E%E5%88%A5-class-%E5%9F%BA%E6%9C%AC%E7%AF%87-5468812c58f2\n",
    "\n",
    "\n",
    "要調用class底下的函式，不能直接呼叫那個函式，而是要呼叫它的\"絕對路徑\"，也就是連同class一併呼叫\n",
    "\n",
    "另外當初在寫linked list時，也有碰到當需要用到某個屬性時，也需要先定義它，以後才可以調用，因此要加上self.nums = nums，告訴程式有一個屬性叫做nums"
   ]
  },
  {
   "cell_type": "code",
   "execution_count": 19,
   "metadata": {},
   "outputs": [],
   "source": [
    "class Solution(object):\n",
    "    def heap_sort(self,nums):\n",
    "        self.nums = nums\n",
    "        a = Solution().siftdown(nums) #(1)\n",
    "        return a\n",
    "        \n",
    "    def siftdown(self,nums):\n",
    "        maxheap = Solution().buildmaxheap(nums) #(2)\n",
    "        n = len(maxheap)\n",
    "        for j in reversed(range(1,n)):\n",
    "            nums[0],nums[j] = nums[j],nums[0]\n",
    "            Solution().maxheapify(maxheap,j,0) #(5)\n",
    "        return nums #(7)\n",
    "    \n",
    "    def buildmaxheap(self,nums):\n",
    "        n = len(nums)\n",
    "        for i in reversed(range(0,n//2)):\n",
    "            Solution().maxheapify(nums,n,i) #(3)\n",
    "        return nums #(4)\n",
    "   \n",
    "    def maxheapify(self,nums,n,i):\n",
    "        l = 2*i+1\n",
    "        r = 2*i+2\n",
    "        largest = i\n",
    "        if l<n and nums[largest]<nums[l]:\n",
    "            largest = l\n",
    "        if r<n and nums[largest]<nums[r]:\n",
    "            largest = r\n",
    "        if largest != i:\n",
    "            nums[largest],nums[i] = nums[i],nums[largest]\n",
    "            Solution().maxheapify(nums,n,largest)"
   ]
  },
  {
   "cell_type": "code",
   "execution_count": 20,
   "metadata": {},
   "outputs": [
    {
     "data": {
      "text/plain": [
       "[-1, 0, 1, 3, 4, 6, 8, 8, 9]"
      ]
     },
     "execution_count": 20,
     "metadata": {},
     "output_type": "execute_result"
    }
   ],
   "source": [
    "nums = [9,1,4,8,6,3,8,-1,0]\n",
    "Solution().heap_sort(nums)"
   ]
  },
  {
   "cell_type": "markdown",
   "metadata": {},
   "source": [
    "後來覺得siftdown的過程太繁複，因此想了第二種解法:\n",
    "\n",
    "文字太難明確表達我的思路，因此附上各函式之間的關係圖"
   ]
  },
  {
   "cell_type": "code",
   "execution_count": 21,
   "metadata": {},
   "outputs": [
    {
     "data": {
      "text/html": [
       "<img src=\"https://github.com/imucici/my-learning-note/blob/master/%E5%9C%96%E7%89%87/Heapsort%E9%97%9C%E4%BF%82%E5%9C%96(2).jpg?raw=true\" width=\"1000\" height=\"1000\"/>"
      ],
      "text/plain": [
       "<IPython.core.display.Image object>"
      ]
     },
     "execution_count": 21,
     "metadata": {},
     "output_type": "execute_result"
    }
   ],
   "source": [
    "Image(url= \"https://github.com/imucici/my-learning-note/blob/master/%E5%9C%96%E7%89%87/Heapsort%E9%97%9C%E4%BF%82%E5%9C%96(2).jpg?raw=true\" ,width = 1000,height = 1000)"
   ]
  },
  {
   "cell_type": "code",
   "execution_count": 22,
   "metadata": {},
   "outputs": [],
   "source": [
    "#文字說明用上方的關係圖呈現\n",
    "#(\"數字\")代表關係圖上面的第幾個步驟\n",
    "\n",
    "class Solution(object):\n",
    "    \n",
    "    #呼叫buildmaxheap，取得buildmaxheap回傳的值\n",
    "    #再由buildmaxheap的值，經過呼叫siftdown來排序，最後取得排序完成的結果\n",
    "    def heap_sort(self,nums):\n",
    "        self.nums = nums\n",
    "        maxheap = Solution().buildmaxheap(nums) #(1) / maxheap是第(4)步回傳回來的結果\n",
    "        siftdown = Solution().siftdown(maxheap) #(5)\n",
    "        return siftdown #(8)\n",
    "    \n",
    "    \n",
    "    #呼叫maxheapify，取得maxheapify回傳的值\n",
    "    def buildmaxheap(self,nums):\n",
    "        n = len(nums)\n",
    "        for i in reversed(range(0,n//2)):\n",
    "            Solution().maxheapify(nums,n,i) #(2)\n",
    "        return nums #(3)\n",
    "    \n",
    "    #呼叫maxheapify，取得maxheapify回傳的值\n",
    "    def siftdown(self,nums):\n",
    "        n = len(nums)\n",
    "        for j in reversed(range(1,n)):\n",
    "            nums[0],nums[j] = nums[j],nums[0]\n",
    "            Solution().maxheapify(nums,j,0) #(6)\n",
    "        return nums #(7)\n",
    "    \n",
    "    def maxheapify(self,nums,n,i):\n",
    "        l = 2*i+1\n",
    "        r = 2*i+2\n",
    "        largest = i\n",
    "        if l<n and nums[largest]<nums[l]:\n",
    "            largest = l\n",
    "        if r<n and nums[largest]<nums[r]:\n",
    "            largest = r\n",
    "        if largest != i:\n",
    "            nums[largest],nums[i] = nums[i],nums[largest]\n",
    "            Solution().maxheapify(nums,n,largest)"
   ]
  },
  {
   "cell_type": "code",
   "execution_count": 23,
   "metadata": {},
   "outputs": [
    {
     "data": {
      "text/plain": [
       "[-1, 0, 1, 3, 4, 6, 8, 8, 9]"
      ]
     },
     "execution_count": 23,
     "metadata": {},
     "output_type": "execute_result"
    }
   ],
   "source": [
    "a = [9,1,4,8,6,3,8,-1,0]\n",
    "Solution().heap_sort(a)"
   ]
  },
  {
   "cell_type": "markdown",
   "metadata": {},
   "source": [
    "確定output正確!，透過畫出來的關係圖來寫程式思路真的清楚許多，而且較不容易出錯~\n",
    "\n",
    "關係圖是個好幫手"
   ]
  }
 ],
 "metadata": {
  "kernelspec": {
   "display_name": "Python 3",
   "language": "python",
   "name": "python3"
  },
  "language_info": {
   "codemirror_mode": {
    "name": "ipython",
    "version": 3
   },
   "file_extension": ".py",
   "mimetype": "text/x-python",
   "name": "python",
   "nbconvert_exporter": "python",
   "pygments_lexer": "ipython3",
   "version": "3.7.1"
  }
 },
 "nbformat": 4,
 "nbformat_minor": 2
}
