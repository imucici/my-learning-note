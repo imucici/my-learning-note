{
 "cells": [
  {
   "cell_type": "markdown",
   "metadata": {},
   "source": [
    "參考資料:https://zh.wikipedia.org/wiki/%E5%BD%92%E5%B9%B6%E6%8E%92%E5%BA%8F\n",
    "\n",
    "\n",
    "上課聽完老師講解Merge Sort的概念後，覺得相較於Heap Sort的概念好懂，因此直接嘗試畫出流程圖，而我對Merge Sort的基本理解如下。\n",
    "\n",
    "Merge Sort分為兩大部分:\n",
    "\n",
    "> Split : 先將array對半拆分至每組數列都只剩一個元素為止\n",
    "\n",
    "> Merge : 將數列兩兩合併，並排序"
   ]
  },
  {
   "cell_type": "markdown",
   "metadata": {},
   "source": [
    "流程圖"
   ]
  },
  {
   "cell_type": "code",
   "execution_count": 1,
   "metadata": {},
   "outputs": [
    {
     "data": {
      "text/html": [
       "<img src=\"https://github.com/imucici/my-learning-note/raw/master/%E5%9C%96%E7%89%87/Merge%20Sort_%E6%B5%81%E7%A8%8B%E5%9C%96.png\" width=\"1000\" height=\"1000\"/>"
      ],
      "text/plain": [
       "<IPython.core.display.Image object>"
      ]
     },
     "execution_count": 1,
     "metadata": {},
     "output_type": "execute_result"
    }
   ],
   "source": [
    "from IPython.display import Image\n",
    "from IPython.core.display import HTML\n",
    "Image(url= \"https://github.com/imucici/my-learning-note/raw/master/%E5%9C%96%E7%89%87/Merge%20Sort_%E6%B5%81%E7%A8%8B%E5%9C%96.png\" ,width = 1000,height = 1000)"
   ]
  },
  {
   "cell_type": "markdown",
   "metadata": {},
   "source": [
    "心中有了流程圖後，首先先從Split部分著手:\n",
    "\n",
    "思路:\n",
    "\n",
    "> 將原始array拆分成左右兩區塊，在還沒成功將每組array都拆到剩下一個元素前，都要不斷遞迴，而此時就需要對左右兩邊分別同時進行recursive，因此我設left、right兩個區塊來分別進行Split"
   ]
  },
  {
   "cell_type": "code",
   "execution_count": 2,
   "metadata": {},
   "outputs": [],
   "source": [
    "def ms(nums):\n",
    "    \n",
    "    if len(nums) <= 1: #array為空或只有一個元素，默認已排序\n",
    "        return nums\n",
    "    else:\n",
    "        half = len(nums)//2 #將array對半拆分成左右兩區塊\n",
    "        left = nums[:half]\n",
    "        right = nums[half:]\n",
    "        \n",
    "        print(\"left: \",left,\",right:\",right) #檢查拆分結果對不對\n",
    "        \n",
    "        if len(left) !=1: #拆分到每組array都剩一個元素就停止\n",
    "            ms(left)\n",
    "            \n",
    "        if len(right) !=1: #拆分到每組array都剩一個元素就停止\n",
    "            ms(right)"
   ]
  },
  {
   "cell_type": "code",
   "execution_count": 3,
   "metadata": {},
   "outputs": [
    {
     "name": "stdout",
     "output_type": "stream",
     "text": [
      "left:  [8, 2, 1, 7] ,right: [4, 6, 5, 3]\n",
      "left:  [8, 2] ,right: [1, 7]\n",
      "left:  [8] ,right: [2]\n",
      "left:  [1] ,right: [7]\n",
      "left:  [4, 6] ,right: [5, 3]\n",
      "left:  [4] ,right: [6]\n",
      "left:  [5] ,right: [3]\n"
     ]
    }
   ],
   "source": [
    "nums = [8,2,1,7,4,6,5,3]\n",
    "ms(nums)"
   ]
  },
  {
   "cell_type": "markdown",
   "metadata": {},
   "source": [
    "很棒，目前拆分的步驟確定是正確的，開始嘗試寫Merge\n",
    "\n",
    "第一次先試試老師上課教的解法，如果p<q，則p+1.....依序對left、right的數進行比較排序"
   ]
  },
  {
   "cell_type": "code",
   "execution_count": 4,
   "metadata": {},
   "outputs": [],
   "source": [
    "def ms(nums):\n",
    "    \n",
    "    if len(nums) <= 1: #array為空或只有一個元素，默認已排序\n",
    "        return nums\n",
    "    else:\n",
    "        half = len(nums)//2 #將array對半拆分成左右兩區塊\n",
    "        left = nums[:half]\n",
    "        right = nums[half:]\n",
    "        \n",
    "        print(\"left: \",left,\",right:\",right) #檢查拆分結果對不對\n",
    "        \n",
    "        while len(left) !=1: #拆分到每組array都剩一個元素就停止\n",
    "            ms(left)\n",
    "            break\n",
    "        while len(right) !=1: #拆分到每組array都剩一個元素就停止\n",
    "            ms(right)\n",
    "            break\n",
    "    n = 0\n",
    "    p = 0\n",
    "    q = 0\n",
    "    while p < len(left) and q < len(right):\n",
    "        if left[p] < right[q]:\n",
    "            nums[n] = left[p]\n",
    "            p+=1\n",
    "            n+=1\n",
    "        if left[p] >= right[q]:\n",
    "            nums[n] = left[q]\n",
    "            q+=1\n",
    "            n+=1\n",
    "    return nums"
   ]
  },
  {
   "cell_type": "code",
   "execution_count": 5,
   "metadata": {},
   "outputs": [
    {
     "name": "stdout",
     "output_type": "stream",
     "text": [
      "left:  [8, 2, 1, 7] ,right: [4, 6, 5, 3]\n",
      "left:  [8, 2] ,right: [1, 7]\n",
      "left:  [8] ,right: [2]\n",
      "left:  [1] ,right: [7]\n"
     ]
    },
    {
     "ename": "IndexError",
     "evalue": "list index out of range",
     "output_type": "error",
     "traceback": [
      "\u001b[1;31m---------------------------------------------------------------------------\u001b[0m",
      "\u001b[1;31mIndexError\u001b[0m                                Traceback (most recent call last)",
      "\u001b[1;32m<ipython-input-5-7c8ff3bebf5a>\u001b[0m in \u001b[0;36m<module>\u001b[1;34m\u001b[0m\n\u001b[0;32m      1\u001b[0m \u001b[0mnums\u001b[0m \u001b[1;33m=\u001b[0m \u001b[1;33m[\u001b[0m\u001b[1;36m8\u001b[0m\u001b[1;33m,\u001b[0m\u001b[1;36m2\u001b[0m\u001b[1;33m,\u001b[0m\u001b[1;36m1\u001b[0m\u001b[1;33m,\u001b[0m\u001b[1;36m7\u001b[0m\u001b[1;33m,\u001b[0m\u001b[1;36m4\u001b[0m\u001b[1;33m,\u001b[0m\u001b[1;36m6\u001b[0m\u001b[1;33m,\u001b[0m\u001b[1;36m5\u001b[0m\u001b[1;33m,\u001b[0m\u001b[1;36m3\u001b[0m\u001b[1;33m]\u001b[0m\u001b[1;33m\u001b[0m\u001b[1;33m\u001b[0m\u001b[0m\n\u001b[1;32m----> 2\u001b[1;33m \u001b[0mms\u001b[0m\u001b[1;33m(\u001b[0m\u001b[0mnums\u001b[0m\u001b[1;33m)\u001b[0m\u001b[1;33m\u001b[0m\u001b[1;33m\u001b[0m\u001b[0m\n\u001b[0m",
      "\u001b[1;32m<ipython-input-4-b5e1c6bba027>\u001b[0m in \u001b[0;36mms\u001b[1;34m(nums)\u001b[0m\n\u001b[0;32m     11\u001b[0m \u001b[1;33m\u001b[0m\u001b[0m\n\u001b[0;32m     12\u001b[0m         \u001b[1;32mwhile\u001b[0m \u001b[0mlen\u001b[0m\u001b[1;33m(\u001b[0m\u001b[0mleft\u001b[0m\u001b[1;33m)\u001b[0m \u001b[1;33m!=\u001b[0m\u001b[1;36m1\u001b[0m\u001b[1;33m:\u001b[0m \u001b[1;31m#拆分到每組array都剩一個元素就停止\u001b[0m\u001b[1;33m\u001b[0m\u001b[1;33m\u001b[0m\u001b[0m\n\u001b[1;32m---> 13\u001b[1;33m             \u001b[0mms\u001b[0m\u001b[1;33m(\u001b[0m\u001b[0mleft\u001b[0m\u001b[1;33m)\u001b[0m\u001b[1;33m\u001b[0m\u001b[1;33m\u001b[0m\u001b[0m\n\u001b[0m\u001b[0;32m     14\u001b[0m             \u001b[1;32mbreak\u001b[0m\u001b[1;33m\u001b[0m\u001b[1;33m\u001b[0m\u001b[0m\n\u001b[0;32m     15\u001b[0m         \u001b[1;32mwhile\u001b[0m \u001b[0mlen\u001b[0m\u001b[1;33m(\u001b[0m\u001b[0mright\u001b[0m\u001b[1;33m)\u001b[0m \u001b[1;33m!=\u001b[0m\u001b[1;36m1\u001b[0m\u001b[1;33m:\u001b[0m \u001b[1;31m#拆分到每組array都剩一個元素就停止\u001b[0m\u001b[1;33m\u001b[0m\u001b[1;33m\u001b[0m\u001b[0m\n",
      "\u001b[1;32m<ipython-input-4-b5e1c6bba027>\u001b[0m in \u001b[0;36mms\u001b[1;34m(nums)\u001b[0m\n\u001b[0;32m     14\u001b[0m             \u001b[1;32mbreak\u001b[0m\u001b[1;33m\u001b[0m\u001b[1;33m\u001b[0m\u001b[0m\n\u001b[0;32m     15\u001b[0m         \u001b[1;32mwhile\u001b[0m \u001b[0mlen\u001b[0m\u001b[1;33m(\u001b[0m\u001b[0mright\u001b[0m\u001b[1;33m)\u001b[0m \u001b[1;33m!=\u001b[0m\u001b[1;36m1\u001b[0m\u001b[1;33m:\u001b[0m \u001b[1;31m#拆分到每組array都剩一個元素就停止\u001b[0m\u001b[1;33m\u001b[0m\u001b[1;33m\u001b[0m\u001b[0m\n\u001b[1;32m---> 16\u001b[1;33m             \u001b[0mms\u001b[0m\u001b[1;33m(\u001b[0m\u001b[0mright\u001b[0m\u001b[1;33m)\u001b[0m\u001b[1;33m\u001b[0m\u001b[1;33m\u001b[0m\u001b[0m\n\u001b[0m\u001b[0;32m     17\u001b[0m             \u001b[1;32mbreak\u001b[0m\u001b[1;33m\u001b[0m\u001b[1;33m\u001b[0m\u001b[0m\n\u001b[0;32m     18\u001b[0m     \u001b[0mn\u001b[0m \u001b[1;33m=\u001b[0m \u001b[1;36m0\u001b[0m\u001b[1;33m\u001b[0m\u001b[1;33m\u001b[0m\u001b[0m\n",
      "\u001b[1;32m<ipython-input-4-b5e1c6bba027>\u001b[0m in \u001b[0;36mms\u001b[1;34m(nums)\u001b[0m\n\u001b[0;32m     24\u001b[0m             \u001b[0mp\u001b[0m\u001b[1;33m+=\u001b[0m\u001b[1;36m1\u001b[0m\u001b[1;33m\u001b[0m\u001b[1;33m\u001b[0m\u001b[0m\n\u001b[0;32m     25\u001b[0m             \u001b[0mn\u001b[0m\u001b[1;33m+=\u001b[0m\u001b[1;36m1\u001b[0m\u001b[1;33m\u001b[0m\u001b[1;33m\u001b[0m\u001b[0m\n\u001b[1;32m---> 26\u001b[1;33m         \u001b[1;32mif\u001b[0m \u001b[0mleft\u001b[0m\u001b[1;33m[\u001b[0m\u001b[0mp\u001b[0m\u001b[1;33m]\u001b[0m \u001b[1;33m>=\u001b[0m \u001b[0mright\u001b[0m\u001b[1;33m[\u001b[0m\u001b[0mq\u001b[0m\u001b[1;33m]\u001b[0m\u001b[1;33m:\u001b[0m\u001b[1;33m\u001b[0m\u001b[1;33m\u001b[0m\u001b[0m\n\u001b[0m\u001b[0;32m     27\u001b[0m             \u001b[0mnums\u001b[0m\u001b[1;33m[\u001b[0m\u001b[0mn\u001b[0m\u001b[1;33m]\u001b[0m \u001b[1;33m=\u001b[0m \u001b[0mleft\u001b[0m\u001b[1;33m[\u001b[0m\u001b[0mq\u001b[0m\u001b[1;33m]\u001b[0m\u001b[1;33m\u001b[0m\u001b[1;33m\u001b[0m\u001b[0m\n\u001b[0;32m     28\u001b[0m             \u001b[0mq\u001b[0m\u001b[1;33m+=\u001b[0m\u001b[1;36m1\u001b[0m\u001b[1;33m\u001b[0m\u001b[1;33m\u001b[0m\u001b[0m\n",
      "\u001b[1;31mIndexError\u001b[0m: list index out of range"
     ]
    }
   ],
   "source": [
    "nums = [8,2,1,7,4,6,5,3]\n",
    "ms(nums)"
   ]
  },
  {
   "cell_type": "markdown",
   "metadata": {},
   "source": [
    "後來舉了兩個例子來思考，當left=[1,2] ; right = [3,4]，當p進行到比完2時，p會跑出left的空間，這時要再進行下一輪pq比較時，就會出現list index out of range的error。\n",
    "\n",
    "因此我接著思考要如何把這個可能超出範圍的情況排除"
   ]
  },
  {
   "cell_type": "code",
   "execution_count": 6,
   "metadata": {},
   "outputs": [
    {
     "data": {
      "text/html": [
       "<img src=\"https://github.com/imucici/my-learning-note/blob/master/%E5%9C%96%E7%89%87/out%20of%20range.jpg?raw=true\" width=\"1000\" height=\"1000\"/>"
      ],
      "text/plain": [
       "<IPython.core.display.Image object>"
      ]
     },
     "execution_count": 6,
     "metadata": {},
     "output_type": "execute_result"
    }
   ],
   "source": [
    "Image(url= \"https://github.com/imucici/my-learning-note/blob/master/%E5%9C%96%E7%89%87/out%20of%20range.jpg?raw=true\" ,width = 1000,height = 1000)"
   ]
  },
  {
   "cell_type": "markdown",
   "metadata": {},
   "source": [
    "11/4和陳昱昇一起重新釐清程式碼流程及大方向，下面youtube的影片連結是我跟他的腦力激盪紀錄。\n",
    "\n",
    "https://www.youtube.com/watch?v=G7Rg-4JNIXI&feature=youtu.be\n",
    "\n",
    "https://www.youtube.com/watch?v=UhK5qevoe0Y&feature=youtu.be (Merge)\n",
    "\n",
    "\n",
    "討論完後，試著用自己的邏輯寫一次:\n",
    "\n",
    "兩個數組在比較大小時，數組長度可能會有3種情況(1.為正常情況，但當2、3發生時，也就是只要其中一邊比完時，另一側array的數組就可以直接一起塞進nums中):\n",
    "\n",
    "1.皆不等於0\n",
    "\n",
    "2.左邊長度 = 0\n",
    "\n",
    "3.右邊長度 = 0\n",
    "\n",
    ">因此我分別就這3種狀況討論\n",
    "\n",
    ">參考過上述提到的網站(https://zh.wikipedia.org/wiki/%E5%BD%92%E5%B9%B6%E6%8E%92%E5%BA%8F)\n",
    "後，得到了一些靈感，可以透過將排序完的元素自array中刪除，這樣就可以免去計數的步驟"
   ]
  },
  {
   "cell_type": "code",
   "execution_count": 7,
   "metadata": {},
   "outputs": [],
   "source": [
    "def ms(nums):\n",
    "    \n",
    "    if len(nums) <= 1: #array為空或只有一個元素，默認已排序\n",
    "        return nums\n",
    "    else:\n",
    "        half = len(nums)//2 #將array對半拆分成左右兩區塊\n",
    "        left = nums[:half]\n",
    "        right = nums[half:]\n",
    "        \n",
    "        print(\"left: \",left,\",right:\",right) #檢查拆分結果對不對\n",
    "        \n",
    "        while len(left) !=1: #拆分到每組array都剩一個元素就停止\n",
    "            ms(left)\n",
    "            break\n",
    "        while len(right) !=1: #拆分到每組array都剩一個元素就停止\n",
    "            ms(right)\n",
    "            break\n",
    "            \n",
    "        n = 0\n",
    "        \n",
    "        while len(left) != 0 and len(right) != 0:\n",
    "            if left[0] >= right[0]: #各拿左右兩邊array的第一個元素做比較\n",
    "                nums[n] = right[0] \n",
    "                right.pop(0)#將比較完的數字從所屬array刪除，如此一來就可以永遠都用數組的第一個數做比較，可免去對left、right的index計數\n",
    "                n+=1\n",
    "            if left[0] < right[0]: #各拿左右兩邊array的第一個元素做比較\n",
    "                nums[n] = left[0]\n",
    "                left.pop(0)#將比較完的數字從所屬array刪除，如此一來就可以永遠都用數組的第一個數做比較，可免去對left、right的index計數\n",
    "                n+=1\n",
    "          \n",
    "        if len(left) == 0 and len(right) !=0:\n",
    "            for i in range(len(right)): #看仍有元素的那個array長度多少，\n",
    "                nums.pop() #之後再依序將原始nums數組的元素，由後往前刪除\n",
    "            nums.extend(right) #最後再將剩下的數組一併塞入nums，這樣才不會增加到原本的nums長度\n",
    "            \n",
    "        if len(right) == 0 and len(left) !=0:\n",
    "            for i in range(len(left)):#看仍有元素的那個array長度多少，\n",
    "                nums.pop()#之後再依序將原始nums數組的元素，由後往前刪除\n",
    "            nums.extend(left) #最後再將剩下的數組一併塞入nums，這樣才不會增加到原本的nums長度\n",
    "            \n",
    "    return nums"
   ]
  },
  {
   "cell_type": "code",
   "execution_count": 8,
   "metadata": {},
   "outputs": [
    {
     "name": "stdout",
     "output_type": "stream",
     "text": [
      "left:  [8, 2, 1, 7] ,right: [4, 6, 5, 3]\n",
      "left:  [8, 2] ,right: [1, 7]\n",
      "left:  [8] ,right: [2]\n"
     ]
    },
    {
     "ename": "IndexError",
     "evalue": "list index out of range",
     "output_type": "error",
     "traceback": [
      "\u001b[1;31m---------------------------------------------------------------------------\u001b[0m",
      "\u001b[1;31mIndexError\u001b[0m                                Traceback (most recent call last)",
      "\u001b[1;32m<ipython-input-8-7c8ff3bebf5a>\u001b[0m in \u001b[0;36m<module>\u001b[1;34m\u001b[0m\n\u001b[0;32m      1\u001b[0m \u001b[0mnums\u001b[0m \u001b[1;33m=\u001b[0m \u001b[1;33m[\u001b[0m\u001b[1;36m8\u001b[0m\u001b[1;33m,\u001b[0m\u001b[1;36m2\u001b[0m\u001b[1;33m,\u001b[0m\u001b[1;36m1\u001b[0m\u001b[1;33m,\u001b[0m\u001b[1;36m7\u001b[0m\u001b[1;33m,\u001b[0m\u001b[1;36m4\u001b[0m\u001b[1;33m,\u001b[0m\u001b[1;36m6\u001b[0m\u001b[1;33m,\u001b[0m\u001b[1;36m5\u001b[0m\u001b[1;33m,\u001b[0m\u001b[1;36m3\u001b[0m\u001b[1;33m]\u001b[0m\u001b[1;33m\u001b[0m\u001b[1;33m\u001b[0m\u001b[0m\n\u001b[1;32m----> 2\u001b[1;33m \u001b[0mms\u001b[0m\u001b[1;33m(\u001b[0m\u001b[0mnums\u001b[0m\u001b[1;33m)\u001b[0m\u001b[1;33m\u001b[0m\u001b[1;33m\u001b[0m\u001b[0m\n\u001b[0m",
      "\u001b[1;32m<ipython-input-7-c0e1c2234bfe>\u001b[0m in \u001b[0;36mms\u001b[1;34m(nums)\u001b[0m\n\u001b[0;32m     11\u001b[0m \u001b[1;33m\u001b[0m\u001b[0m\n\u001b[0;32m     12\u001b[0m         \u001b[1;32mwhile\u001b[0m \u001b[0mlen\u001b[0m\u001b[1;33m(\u001b[0m\u001b[0mleft\u001b[0m\u001b[1;33m)\u001b[0m \u001b[1;33m!=\u001b[0m\u001b[1;36m1\u001b[0m\u001b[1;33m:\u001b[0m \u001b[1;31m#拆分到每組array都剩一個元素就停止\u001b[0m\u001b[1;33m\u001b[0m\u001b[1;33m\u001b[0m\u001b[0m\n\u001b[1;32m---> 13\u001b[1;33m             \u001b[0mms\u001b[0m\u001b[1;33m(\u001b[0m\u001b[0mleft\u001b[0m\u001b[1;33m)\u001b[0m\u001b[1;33m\u001b[0m\u001b[1;33m\u001b[0m\u001b[0m\n\u001b[0m\u001b[0;32m     14\u001b[0m             \u001b[1;32mbreak\u001b[0m\u001b[1;33m\u001b[0m\u001b[1;33m\u001b[0m\u001b[0m\n\u001b[0;32m     15\u001b[0m         \u001b[1;32mwhile\u001b[0m \u001b[0mlen\u001b[0m\u001b[1;33m(\u001b[0m\u001b[0mright\u001b[0m\u001b[1;33m)\u001b[0m \u001b[1;33m!=\u001b[0m\u001b[1;36m1\u001b[0m\u001b[1;33m:\u001b[0m \u001b[1;31m#拆分到每組array都剩一個元素就停止\u001b[0m\u001b[1;33m\u001b[0m\u001b[1;33m\u001b[0m\u001b[0m\n",
      "\u001b[1;32m<ipython-input-7-c0e1c2234bfe>\u001b[0m in \u001b[0;36mms\u001b[1;34m(nums)\u001b[0m\n\u001b[0;32m     11\u001b[0m \u001b[1;33m\u001b[0m\u001b[0m\n\u001b[0;32m     12\u001b[0m         \u001b[1;32mwhile\u001b[0m \u001b[0mlen\u001b[0m\u001b[1;33m(\u001b[0m\u001b[0mleft\u001b[0m\u001b[1;33m)\u001b[0m \u001b[1;33m!=\u001b[0m\u001b[1;36m1\u001b[0m\u001b[1;33m:\u001b[0m \u001b[1;31m#拆分到每組array都剩一個元素就停止\u001b[0m\u001b[1;33m\u001b[0m\u001b[1;33m\u001b[0m\u001b[0m\n\u001b[1;32m---> 13\u001b[1;33m             \u001b[0mms\u001b[0m\u001b[1;33m(\u001b[0m\u001b[0mleft\u001b[0m\u001b[1;33m)\u001b[0m\u001b[1;33m\u001b[0m\u001b[1;33m\u001b[0m\u001b[0m\n\u001b[0m\u001b[0;32m     14\u001b[0m             \u001b[1;32mbreak\u001b[0m\u001b[1;33m\u001b[0m\u001b[1;33m\u001b[0m\u001b[0m\n\u001b[0;32m     15\u001b[0m         \u001b[1;32mwhile\u001b[0m \u001b[0mlen\u001b[0m\u001b[1;33m(\u001b[0m\u001b[0mright\u001b[0m\u001b[1;33m)\u001b[0m \u001b[1;33m!=\u001b[0m\u001b[1;36m1\u001b[0m\u001b[1;33m:\u001b[0m \u001b[1;31m#拆分到每組array都剩一個元素就停止\u001b[0m\u001b[1;33m\u001b[0m\u001b[1;33m\u001b[0m\u001b[0m\n",
      "\u001b[1;32m<ipython-input-7-c0e1c2234bfe>\u001b[0m in \u001b[0;36mms\u001b[1;34m(nums)\u001b[0m\n\u001b[0;32m     24\u001b[0m                 \u001b[0mright\u001b[0m\u001b[1;33m.\u001b[0m\u001b[0mpop\u001b[0m\u001b[1;33m(\u001b[0m\u001b[1;36m0\u001b[0m\u001b[1;33m)\u001b[0m\u001b[1;31m#將比較完的數字從所屬array刪除，如此一來就可以永遠都用數組的第一個數做比較，可免去對left、right的index計數\u001b[0m\u001b[1;33m\u001b[0m\u001b[1;33m\u001b[0m\u001b[0m\n\u001b[0;32m     25\u001b[0m                 \u001b[0mn\u001b[0m\u001b[1;33m+=\u001b[0m\u001b[1;36m1\u001b[0m\u001b[1;33m\u001b[0m\u001b[1;33m\u001b[0m\u001b[0m\n\u001b[1;32m---> 26\u001b[1;33m             \u001b[1;32mif\u001b[0m \u001b[0mleft\u001b[0m\u001b[1;33m[\u001b[0m\u001b[1;36m0\u001b[0m\u001b[1;33m]\u001b[0m \u001b[1;33m<\u001b[0m \u001b[0mright\u001b[0m\u001b[1;33m[\u001b[0m\u001b[1;36m0\u001b[0m\u001b[1;33m]\u001b[0m\u001b[1;33m:\u001b[0m \u001b[1;31m#各拿左右兩邊array的第一個元素做比較\u001b[0m\u001b[1;33m\u001b[0m\u001b[1;33m\u001b[0m\u001b[0m\n\u001b[0m\u001b[0;32m     27\u001b[0m                 \u001b[0mnums\u001b[0m\u001b[1;33m[\u001b[0m\u001b[0mn\u001b[0m\u001b[1;33m]\u001b[0m \u001b[1;33m=\u001b[0m \u001b[0mleft\u001b[0m\u001b[1;33m[\u001b[0m\u001b[1;36m0\u001b[0m\u001b[1;33m]\u001b[0m\u001b[1;33m\u001b[0m\u001b[1;33m\u001b[0m\u001b[0m\n\u001b[0;32m     28\u001b[0m                 \u001b[0mleft\u001b[0m\u001b[1;33m.\u001b[0m\u001b[0mpop\u001b[0m\u001b[1;33m(\u001b[0m\u001b[1;36m0\u001b[0m\u001b[1;33m)\u001b[0m\u001b[1;31m#將比較完的數字從所屬array刪除，如此一來就可以永遠都用數組的第一個數做比較，可免去對left、right的index計數\u001b[0m\u001b[1;33m\u001b[0m\u001b[1;33m\u001b[0m\u001b[0m\n",
      "\u001b[1;31mIndexError\u001b[0m: list index out of range"
     ]
    }
   ],
   "source": [
    "nums = [8,2,1,7,4,6,5,3]\n",
    "ms(nums)"
   ]
  },
  {
   "cell_type": "markdown",
   "metadata": {},
   "source": [
    "還是out of range，開始檢查@@"
   ]
  },
  {
   "cell_type": "code",
   "execution_count": 9,
   "metadata": {},
   "outputs": [],
   "source": [
    "def ms(nums):\n",
    "    if len(nums) <= 1:\n",
    "        return nums\n",
    "    else:\n",
    "        half = len(nums)//2\n",
    "        left = nums[:half]\n",
    "        right = nums[half:]\n",
    "        \n",
    "        print(\"left: \",left,\",right:\",right)        \n",
    "        \n",
    "        while len(left) !=1:\n",
    "            ms(left)\n",
    "            break\n",
    "        while len(right) !=1:\n",
    "            ms(right)\n",
    "            break\n",
    "            \n",
    "        n = 0\n",
    "        \n",
    "        while len(left) != 0 and len(right) != 0:\n",
    "            if left[0] >= right[0]:\n",
    "                nums[n] = right[0]\n",
    "                right.pop(0)\n",
    "                n+=1\n",
    "            print(\"第一圈迴圈的第一個條件執行完:\",\"left: \",left,\",right:\",right) #debug\n",
    "            if left[0] < right[0]:\n",
    "                nums[n] = left[0]\n",
    "                left.pop(0)\n",
    "                n+=1\n",
    "            print(\"第一圈迴圈的第二個條件執行完:\",\"left: \",left,\",right:\",right) #debug\n",
    "            \n",
    "#         if len(left) == 0 and len(right) !=0:\n",
    "#             for i in range(len(right)):\n",
    "#                 nums.pop()\n",
    "#             nums.extend(right)\n",
    "            \n",
    "#         if len(right) == 0 and len(left) !=0:\n",
    "#             for i in range(len(left)):\n",
    "#                 nums.pop()\n",
    "#             nums.extend(left)\n",
    "            \n",
    "#     return nums"
   ]
  },
  {
   "cell_type": "code",
   "execution_count": 10,
   "metadata": {},
   "outputs": [
    {
     "name": "stdout",
     "output_type": "stream",
     "text": [
      "left:  [8, 5, 2, 7] ,right: [1, 3, 4, 2]\n",
      "left:  [8, 5] ,right: [2, 7]\n",
      "left:  [8] ,right: [5]\n",
      "第一圈迴圈的第一個條件執行完: left:  [8] ,right: []\n"
     ]
    },
    {
     "ename": "IndexError",
     "evalue": "list index out of range",
     "output_type": "error",
     "traceback": [
      "\u001b[1;31m---------------------------------------------------------------------------\u001b[0m",
      "\u001b[1;31mIndexError\u001b[0m                                Traceback (most recent call last)",
      "\u001b[1;32m<ipython-input-10-4186d1a86a04>\u001b[0m in \u001b[0;36m<module>\u001b[1;34m\u001b[0m\n\u001b[0;32m      1\u001b[0m \u001b[0mnums\u001b[0m \u001b[1;33m=\u001b[0m \u001b[1;33m[\u001b[0m\u001b[1;36m8\u001b[0m\u001b[1;33m,\u001b[0m\u001b[1;36m5\u001b[0m\u001b[1;33m,\u001b[0m\u001b[1;36m2\u001b[0m\u001b[1;33m,\u001b[0m\u001b[1;36m7\u001b[0m\u001b[1;33m,\u001b[0m\u001b[1;36m1\u001b[0m\u001b[1;33m,\u001b[0m\u001b[1;36m3\u001b[0m\u001b[1;33m,\u001b[0m\u001b[1;36m4\u001b[0m\u001b[1;33m,\u001b[0m\u001b[1;36m2\u001b[0m\u001b[1;33m]\u001b[0m\u001b[1;33m\u001b[0m\u001b[1;33m\u001b[0m\u001b[0m\n\u001b[1;32m----> 2\u001b[1;33m \u001b[0mms\u001b[0m\u001b[1;33m(\u001b[0m\u001b[0mnums\u001b[0m\u001b[1;33m)\u001b[0m\u001b[1;33m\u001b[0m\u001b[1;33m\u001b[0m\u001b[0m\n\u001b[0m",
      "\u001b[1;32m<ipython-input-9-770a9b89a910>\u001b[0m in \u001b[0;36mms\u001b[1;34m(nums)\u001b[0m\n\u001b[0;32m     10\u001b[0m \u001b[1;33m\u001b[0m\u001b[0m\n\u001b[0;32m     11\u001b[0m         \u001b[1;32mwhile\u001b[0m \u001b[0mlen\u001b[0m\u001b[1;33m(\u001b[0m\u001b[0mleft\u001b[0m\u001b[1;33m)\u001b[0m \u001b[1;33m!=\u001b[0m\u001b[1;36m1\u001b[0m\u001b[1;33m:\u001b[0m\u001b[1;33m\u001b[0m\u001b[1;33m\u001b[0m\u001b[0m\n\u001b[1;32m---> 12\u001b[1;33m             \u001b[0mms\u001b[0m\u001b[1;33m(\u001b[0m\u001b[0mleft\u001b[0m\u001b[1;33m)\u001b[0m\u001b[1;33m\u001b[0m\u001b[1;33m\u001b[0m\u001b[0m\n\u001b[0m\u001b[0;32m     13\u001b[0m             \u001b[1;32mbreak\u001b[0m\u001b[1;33m\u001b[0m\u001b[1;33m\u001b[0m\u001b[0m\n\u001b[0;32m     14\u001b[0m         \u001b[1;32mwhile\u001b[0m \u001b[0mlen\u001b[0m\u001b[1;33m(\u001b[0m\u001b[0mright\u001b[0m\u001b[1;33m)\u001b[0m \u001b[1;33m!=\u001b[0m\u001b[1;36m1\u001b[0m\u001b[1;33m:\u001b[0m\u001b[1;33m\u001b[0m\u001b[1;33m\u001b[0m\u001b[0m\n",
      "\u001b[1;32m<ipython-input-9-770a9b89a910>\u001b[0m in \u001b[0;36mms\u001b[1;34m(nums)\u001b[0m\n\u001b[0;32m     10\u001b[0m \u001b[1;33m\u001b[0m\u001b[0m\n\u001b[0;32m     11\u001b[0m         \u001b[1;32mwhile\u001b[0m \u001b[0mlen\u001b[0m\u001b[1;33m(\u001b[0m\u001b[0mleft\u001b[0m\u001b[1;33m)\u001b[0m \u001b[1;33m!=\u001b[0m\u001b[1;36m1\u001b[0m\u001b[1;33m:\u001b[0m\u001b[1;33m\u001b[0m\u001b[1;33m\u001b[0m\u001b[0m\n\u001b[1;32m---> 12\u001b[1;33m             \u001b[0mms\u001b[0m\u001b[1;33m(\u001b[0m\u001b[0mleft\u001b[0m\u001b[1;33m)\u001b[0m\u001b[1;33m\u001b[0m\u001b[1;33m\u001b[0m\u001b[0m\n\u001b[0m\u001b[0;32m     13\u001b[0m             \u001b[1;32mbreak\u001b[0m\u001b[1;33m\u001b[0m\u001b[1;33m\u001b[0m\u001b[0m\n\u001b[0;32m     14\u001b[0m         \u001b[1;32mwhile\u001b[0m \u001b[0mlen\u001b[0m\u001b[1;33m(\u001b[0m\u001b[0mright\u001b[0m\u001b[1;33m)\u001b[0m \u001b[1;33m!=\u001b[0m\u001b[1;36m1\u001b[0m\u001b[1;33m:\u001b[0m\u001b[1;33m\u001b[0m\u001b[1;33m\u001b[0m\u001b[0m\n",
      "\u001b[1;32m<ipython-input-9-770a9b89a910>\u001b[0m in \u001b[0;36mms\u001b[1;34m(nums)\u001b[0m\n\u001b[0;32m     24\u001b[0m                 \u001b[0mn\u001b[0m\u001b[1;33m+=\u001b[0m\u001b[1;36m1\u001b[0m\u001b[1;33m\u001b[0m\u001b[1;33m\u001b[0m\u001b[0m\n\u001b[0;32m     25\u001b[0m             \u001b[0mprint\u001b[0m\u001b[1;33m(\u001b[0m\u001b[1;34m\"第一圈迴圈的第一個條件執行完:\"\u001b[0m\u001b[1;33m,\u001b[0m\u001b[1;34m\"left: \"\u001b[0m\u001b[1;33m,\u001b[0m\u001b[0mleft\u001b[0m\u001b[1;33m,\u001b[0m\u001b[1;34m\",right:\"\u001b[0m\u001b[1;33m,\u001b[0m\u001b[0mright\u001b[0m\u001b[1;33m)\u001b[0m \u001b[1;31m#debug\u001b[0m\u001b[1;33m\u001b[0m\u001b[1;33m\u001b[0m\u001b[0m\n\u001b[1;32m---> 26\u001b[1;33m             \u001b[1;32mif\u001b[0m \u001b[0mleft\u001b[0m\u001b[1;33m[\u001b[0m\u001b[1;36m0\u001b[0m\u001b[1;33m]\u001b[0m \u001b[1;33m<\u001b[0m \u001b[0mright\u001b[0m\u001b[1;33m[\u001b[0m\u001b[1;36m0\u001b[0m\u001b[1;33m]\u001b[0m\u001b[1;33m:\u001b[0m\u001b[1;33m\u001b[0m\u001b[1;33m\u001b[0m\u001b[0m\n\u001b[0m\u001b[0;32m     27\u001b[0m                 \u001b[0mnums\u001b[0m\u001b[1;33m[\u001b[0m\u001b[0mn\u001b[0m\u001b[1;33m]\u001b[0m \u001b[1;33m=\u001b[0m \u001b[0mleft\u001b[0m\u001b[1;33m[\u001b[0m\u001b[1;36m0\u001b[0m\u001b[1;33m]\u001b[0m\u001b[1;33m\u001b[0m\u001b[1;33m\u001b[0m\u001b[0m\n\u001b[0;32m     28\u001b[0m                 \u001b[0mleft\u001b[0m\u001b[1;33m.\u001b[0m\u001b[0mpop\u001b[0m\u001b[1;33m(\u001b[0m\u001b[1;36m0\u001b[0m\u001b[1;33m)\u001b[0m\u001b[1;33m\u001b[0m\u001b[1;33m\u001b[0m\u001b[0m\n",
      "\u001b[1;31mIndexError\u001b[0m: list index out of range"
     ]
    }
   ],
   "source": [
    "nums = [8,5,2,7,1,3,4,2]\n",
    "ms(nums)"
   ]
  },
  {
   "cell_type": "markdown",
   "metadata": {},
   "source": [
    "程式碼運行到left:[8] ,right:[5]就報錯不能再繼續運行，從print出來的結果 我發現他第一個條件可以順利運行，但是到判斷第二個條件時就出錯\n",
    "\n",
    "思路:\n",
    "\n",
    "> 第一個條件執行完，結果是left:[8] ,right:[]，此時的right已經為空，所以當要再進入下一個條件判斷時，當然他會找不到index，因此報錯: index out of range\n",
    "\n",
    "> 我在寫這段時，是想呈現\"在left、right都不為空時，會發生兩種情況(左>右、右>左)\"，而這兩種情況分別會有不同的操作，重新確認邏輯後，就知道原來我應該把判斷符合哪個條件的寫法改成 if、else\n",
    "\n",
    "再改改看!"
   ]
  },
  {
   "cell_type": "code",
   "execution_count": 11,
   "metadata": {},
   "outputs": [],
   "source": [
    "def ms(nums):\n",
    "    if len(nums) <= 1:\n",
    "        return nums\n",
    "    else:\n",
    "        half = len(nums)//2\n",
    "        left = nums[:half]\n",
    "        right = nums[half:]\n",
    "        \n",
    "        print(\"left: \",left,\",right:\",right)        \n",
    "        \n",
    "        while len(left) !=1:\n",
    "            ms(left)\n",
    "            break\n",
    "        while len(right) !=1:\n",
    "            ms(right)\n",
    "            break\n",
    "            \n",
    "        n = 0\n",
    "        \n",
    "        while len(left) != 0 and len(right) != 0:\n",
    "            if left[0] >= right[0]:\n",
    "                nums[n] = right[0]\n",
    "                right.pop(0)\n",
    "                n+=1\n",
    "            \n",
    "            else:\n",
    "                nums[n] = left[0]\n",
    "                left.pop(0)\n",
    "                n+=1\n",
    "        print(\"第一圈迴圈執行完:\",\"nums:\",nums,\"left: \",left,\",right:\",right) #debug\n",
    "            \n",
    "#         if len(left) == 0 and len(right) !=0:\n",
    "#             for i in range(len(right)):\n",
    "#                 nums.pop()\n",
    "#             nums.extend(right)\n",
    "            \n",
    "#         if len(right) == 0 and len(left) !=0:\n",
    "#             for i in range(len(left)):\n",
    "#                 nums.pop()\n",
    "#             nums.extend(left)\n",
    "            \n",
    "#     return nums"
   ]
  },
  {
   "cell_type": "code",
   "execution_count": 12,
   "metadata": {},
   "outputs": [
    {
     "name": "stdout",
     "output_type": "stream",
     "text": [
      "left:  [8, 5, 2, 7] ,right: [1, 3, 4, 2]\n",
      "left:  [8, 5] ,right: [2, 7]\n",
      "left:  [8] ,right: [5]\n",
      "第一圈迴圈執行完: nums: [5, 5] left:  [8] ,right: []\n",
      "left:  [2] ,right: [7]\n",
      "第一圈迴圈執行完: nums: [2, 7] left:  [] ,right: [7]\n",
      "第一圈迴圈執行完: nums: [2, 5, 5, 7] left:  [] ,right: [7]\n",
      "left:  [1, 3] ,right: [4, 2]\n",
      "left:  [1] ,right: [3]\n",
      "第一圈迴圈執行完: nums: [1, 3] left:  [] ,right: [3]\n",
      "left:  [4] ,right: [2]\n",
      "第一圈迴圈執行完: nums: [2, 2] left:  [4] ,right: []\n",
      "第一圈迴圈執行完: nums: [1, 2, 2, 2] left:  [3] ,right: []\n",
      "第一圈迴圈執行完: nums: [1, 2, 2, 2, 1, 3, 4, 2] left:  [2, 5, 5, 7] ,right: []\n"
     ]
    }
   ],
   "source": [
    "nums = [8,5,2,7,1,3,4,2]\n",
    "ms(nums)"
   ]
  },
  {
   "cell_type": "markdown",
   "metadata": {},
   "source": [
    "沒錯!這樣是正確的"
   ]
  },
  {
   "cell_type": "markdown",
   "metadata": {},
   "source": [
    "成功解決上面的問題後，再重新執行一次。"
   ]
  },
  {
   "cell_type": "code",
   "execution_count": 13,
   "metadata": {},
   "outputs": [],
   "source": [
    "def ms(nums):\n",
    "    \n",
    "    if len(nums) <= 1: #array為空或只有一個元素，默認已排序\n",
    "        return nums\n",
    "    else:\n",
    "        half = len(nums)//2 #將array對半拆分成左右兩區塊\n",
    "        left = nums[:half]\n",
    "        right = nums[half:]\n",
    "        \n",
    "        print(\"left: \",left,\",right:\",right) #檢查拆分結果對不對\n",
    "        \n",
    "        while len(left) !=1: #拆分到每組array都剩一個元素就停止\n",
    "            ms(left)\n",
    "            break\n",
    "        while len(right) !=1: #拆分到每組array都剩一個元素就停止\n",
    "            ms(right)\n",
    "            break\n",
    "            \n",
    "        n = 0\n",
    "        \n",
    "        while len(left) != 0 and len(right) != 0:\n",
    "            if left[0] >= right[0]: #各拿左右兩邊array的第一個元素做比較\n",
    "                nums[n] = right[0] \n",
    "                right.pop(0)#將比較完的數字從所屬array刪除，如此一來就可以永遠都用數組的第一個數做比較，可免去對left、right的index計數\n",
    "                n+=1\n",
    "            else: #各拿左右兩邊array的第一個元素做比較\n",
    "                nums[n] = left[0]\n",
    "                left.pop(0)#將比較完的數字從所屬array刪除，如此一來就可以永遠都用數組的第一個數做比較，可免去對left、right的index計數\n",
    "                n+=1\n",
    "            \n",
    "        if len(left) == 0 and len(right) !=0:\n",
    "            for i in range(len(right)): #看仍有元素的那個array長度多少，\n",
    "                nums.pop() #之後再依序將原始nums數組的元素，由後往前刪除\n",
    "            nums.extend(right) #最後再將剩下的數組一併塞入nums，這樣才不會增加到原本的nums長度\n",
    "            \n",
    "        if len(right) == 0 and len(left) !=0:\n",
    "            for i in range(len(left)):#看仍有元素的那個array長度多少，\n",
    "                nums.pop()#之後再依序將原始nums數組的元素，由後往前刪除\n",
    "            nums.extend(left) #最後再將剩下的數組一併塞入nums，這樣才不會增加到原本的nums長度\n",
    "            \n",
    "    return nums"
   ]
  },
  {
   "cell_type": "code",
   "execution_count": 14,
   "metadata": {},
   "outputs": [
    {
     "name": "stdout",
     "output_type": "stream",
     "text": [
      "left:  [8, 5, 2, 7] ,right: [1, 3, 4, 2]\n",
      "left:  [8, 5] ,right: [2, 7]\n",
      "left:  [8] ,right: [5]\n",
      "left:  [2] ,right: [7]\n",
      "left:  [1, 3] ,right: [4, 2]\n",
      "left:  [1] ,right: [3]\n",
      "left:  [4] ,right: [2]\n"
     ]
    },
    {
     "data": {
      "text/plain": [
       "[1, 2, 2, 3, 4, 5, 7, 8]"
      ]
     },
     "execution_count": 14,
     "metadata": {},
     "output_type": "execute_result"
    }
   ],
   "source": [
    "nums = [8,5,2,7,1,3,4,2]\n",
    "ms(nums)"
   ]
  },
  {
   "cell_type": "markdown",
   "metadata": {},
   "source": [
    "嗯~看起來沒問題了!為了確保程式碼正確，再寫一個隨機亂數當測值"
   ]
  },
  {
   "cell_type": "code",
   "execution_count": 15,
   "metadata": {},
   "outputs": [
    {
     "data": {
      "text/plain": [
       "[0, 7, 8, -6, 3, 2, -2, 1]"
      ]
     },
     "execution_count": 15,
     "metadata": {},
     "output_type": "execute_result"
    }
   ],
   "source": [
    "import random \n",
    "nums = random.sample(range(-10,10),8)\n",
    "nums"
   ]
  },
  {
   "cell_type": "code",
   "execution_count": 16,
   "metadata": {},
   "outputs": [
    {
     "name": "stdout",
     "output_type": "stream",
     "text": [
      "left:  [0, 7, 8, -6] ,right: [3, 2, -2, 1]\n",
      "left:  [0, 7] ,right: [8, -6]\n",
      "left:  [0] ,right: [7]\n",
      "left:  [8] ,right: [-6]\n",
      "left:  [3, 2] ,right: [-2, 1]\n",
      "left:  [3] ,right: [2]\n",
      "left:  [-2] ,right: [1]\n"
     ]
    },
    {
     "data": {
      "text/plain": [
       "[-6, -2, 0, 1, 2, 3, 7, 8]"
      ]
     },
     "execution_count": 16,
     "metadata": {},
     "output_type": "execute_result"
    }
   ],
   "source": [
    "ms(nums)"
   ]
  },
  {
   "cell_type": "markdown",
   "metadata": {},
   "source": [
    "確定程式碼沒問題後，開始依照格式建class"
   ]
  },
  {
   "cell_type": "code",
   "execution_count": 17,
   "metadata": {},
   "outputs": [],
   "source": [
    "class Solution(object):\n",
    "    def merge_sort(self,nums):\n",
    "        self.nums = nums\n",
    "        if len(nums) <= 1: #array為空或只有一個元素，默認已排序\n",
    "            return nums\n",
    "        else:\n",
    "            half = len(nums)//2 #將array對半拆分成左右兩區塊\n",
    "            left = nums[:half]\n",
    "            right = nums[half:]\n",
    "        \n",
    "            print(\"left: \",left,\",right:\",right) #檢查拆分結果對不對\n",
    "        \n",
    "            while len(left) !=1: #拆分到每組array都剩一個元素就停止\n",
    "                Solution().merge_sort(left)\n",
    "                break\n",
    "            while len(right) !=1: #拆分到每組array都剩一個元素就停止\n",
    "                Solution().merge_sort(right)\n",
    "                break\n",
    "            \n",
    "            n = 0\n",
    "        \n",
    "            while len(left) != 0 and len(right) != 0:\n",
    "                if left[0] >= right[0]: #各拿左右兩邊array的第一個元素做比較\n",
    "                    nums[n] = right[0] \n",
    "                    right.pop(0)#將比較完的數字從所屬array刪除，如此一來就可以永遠都用數組的第一個數做比較，可免去對left、right的index計數\n",
    "                    n+=1\n",
    "                else: #各拿左右兩邊array的第一個元素做比較\n",
    "                    nums[n] = left[0]\n",
    "                    left.pop(0)#將比較完的數字從所屬array刪除，如此一來就可以永遠都用數組的第一個數做比較，可免去對left、right的index計數\n",
    "                    n+=1\n",
    "            \n",
    "            if len(left) == 0 and len(right) !=0:\n",
    "                for i in range(len(right)): #看仍有元素的那個array長度多少，\n",
    "                    nums.pop() #之後再依序將原始nums數組的元素，由後往前刪除\n",
    "                nums.extend(right) #最後再將剩下的數組一併塞入nums，這樣才不會增加到原本的nums長度\n",
    "            \n",
    "            if len(right) == 0 and len(left) !=0:\n",
    "                for i in range(len(left)):#看仍有元素的那個array長度多少，\n",
    "                    nums.pop()#之後再依序將原始nums數組的元素，由後往前刪除\n",
    "                nums.extend(left) #最後再將剩下的數組一併塞入nums，這樣才不會增加到原本的nums長度\n",
    "            \n",
    "        return nums"
   ]
  },
  {
   "cell_type": "code",
   "execution_count": 18,
   "metadata": {},
   "outputs": [],
   "source": [
    "nums = [8,5,2,7,1,3,4,2]"
   ]
  },
  {
   "cell_type": "code",
   "execution_count": 19,
   "metadata": {},
   "outputs": [
    {
     "name": "stdout",
     "output_type": "stream",
     "text": [
      "left:  [8, 5, 2, 7] ,right: [1, 3, 4, 2]\n",
      "left:  [8, 5] ,right: [2, 7]\n",
      "left:  [8] ,right: [5]\n",
      "left:  [2] ,right: [7]\n",
      "left:  [1, 3] ,right: [4, 2]\n",
      "left:  [1] ,right: [3]\n",
      "left:  [4] ,right: [2]\n"
     ]
    },
    {
     "data": {
      "text/plain": [
       "[1, 2, 2, 3, 4, 5, 7, 8]"
      ]
     },
     "execution_count": 19,
     "metadata": {},
     "output_type": "execute_result"
    }
   ],
   "source": [
    "Solution().merge_sort(nums)"
   ]
  },
  {
   "cell_type": "markdown",
   "metadata": {},
   "source": [
    "上次確實理解如何建class後，現在就能一次成功的建出class了!"
   ]
  },
  {
   "cell_type": "markdown",
   "metadata": {},
   "source": [
    "小結:這次的Merge Sort雖然觀念感覺比較簡單，但其實程式碼的部分需要考慮到的情況不少，我覺得最困難的地方是在比較大小的部分，當你寫好如何比較大小後，還需想到後面可能發生的各種狀況，就像我過程中很容易出現out of range的error，我要如何找到並排除真的需要一個清楚的思緒。"
   ]
  }
 ],
 "metadata": {
  "kernelspec": {
   "display_name": "Python 3",
   "language": "python",
   "name": "python3"
  },
  "language_info": {
   "codemirror_mode": {
    "name": "ipython",
    "version": 3
   },
   "file_extension": ".py",
   "mimetype": "text/x-python",
   "name": "python",
   "nbconvert_exporter": "python",
   "pygments_lexer": "ipython3",
   "version": "3.7.1"
  }
 },
 "nbformat": 4,
 "nbformat_minor": 2
}
