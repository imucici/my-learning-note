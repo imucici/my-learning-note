{
 "cells": [
  {
   "cell_type": "markdown",
   "metadata": {},
   "source": [
    "參考資料:\n",
    "    \n",
    "1. https://github.com/imucici/my-learning-note/blob/master/%E4%B8%8A%E8%AA%B2%E5%85%A7%E5%AE%B9%E7%AD%86%E8%A8%98/%E7%AC%AC%E4%BA%8C%E9%80%B1%E4%B8%8A%E8%AA%B2%E9%80%B2%E5%BA%A6.md (自己整理過的筆記)\n",
    "2. https://github.com/imucici/my-learning-note/blob/master/LeetCode/week4/155.%20Min%20Stack.ipynb (寫過的leetcode)\n",
    "3. https://github.com/imucici/my-learning-note/blob/master/LeetCode/week4/232.%20Implement%20Queue%20using%20Stacks.ipynb (寫過的leetcode)\n",
    "4. https://github.com/imucici/my-learning-note/blob/master/LeetCode/week13/225.%20Implement%20Stack%20using%20Queues.ipynb (寫過的leetcode)\n",
    "5. http://simonsays-tw.com/web/DFS-BFS/BreadthFirstSearch.html\n",
    "6. https://ithelp.ithome.com.tw/articles/10193094\n",
    "7. https://en.wikipedia.org/wiki/Breadth-first_search\n",
    "8. https://zh.wikipedia.org/wiki/%E6%B7%B1%E5%BA%A6%E4%BC%98%E5%85%88%E6%90%9C%E7%B4%A2"
   ]
  },
  {
   "cell_type": "markdown",
   "metadata": {},
   "source": [
    "12/7。因為BFS、DFS分別是利用queue、stack來處理，因此稍微複習之前整理過的queue、stack概念以及leetcode上有關queue、stack的題目"
   ]
  },
  {
   "cell_type": "markdown",
   "metadata": {},
   "source": [
    "BFS、DFS原理說明及比較:\n",
    "\n",
    "BFS(Breadth-first Search)，又稱廣度優先演算法，是一種是用於遍歷樹或圖(graph)的演算法。\n",
    "\n",
    "以圖(graph)來說，它是從某個任一的點開始進行遍歷搜索，\n",
    "\n",
    "接著走訪同一深度(level)中所有相鄰且沒有被走訪過的節點，\n",
    "\n",
    "當同一個深度(level)的節點都走訪完後，再接著往下一個深度(level)搜尋，\n",
    "\n",
    "直到所有的節點都被遍歷過即停止。由於BFS是把同一個level的節點先走遍，\n",
    "\n",
    "再移至下一個深度，因此被視為先廣(同深度)後深(下個深度)的搜尋法。\n",
    "\n",
    "BFS是用Queue來處理，而Queue的原理是先進先出，就如同排隊一樣，\n",
    "\n",
    "因此在程式碼的部分，概念會跟當初在寫Queue時很像，\n",
    "\n",
    "會先創一個空間(temp)暫放尚未排列過的節點，之後再依序將節點定位到一個名為q的list，\n",
    "\n",
    "這個list也就是最後呈現的結果。\n",
    "\n",
    "在將節點放入q時，都是從temp的index(0)開始進行取值(這樣才符合Queue先進先出的特性);\n",
    "\n",
    "push時則是將資料加到[]的最尾端(這樣才符合Queue後進後出的特性):\n",
    "\n",
    "\n",
    "DFS(Depth-first Search)，又稱深度優先演算法，是一種是用於遍歷樹或圖(graph)的演算法。\n",
    "\n",
    "以圖(graph)來說，它是從圖的某個任一節點開始進行遍歷搜索，與BFS不同的是，\n",
    "\n",
    "DFS不是將同一個深度(level)的都走訪過再到下一個深度，\n",
    "\n",
    "而是直接接著搜尋臨邊上尚未遍歷過的節點，盡可能的往下走訪，\n",
    "\n",
    "直到該節點的所有邊上節點都已被走訪過，此時就會回頭去找上個節點，\n",
    "\n",
    "重複搜尋尚未走訪過的節點，重複步驟直到全部的節點都被搜尋過。\n",
    "\n",
    "由於DFS是把同一條邊上的節點先走遍，盡可能往下搜索，\n",
    "\n",
    "再移至下一個邊，因此被視為先深後廣的搜尋法。\n",
    "\n",
    "\n",
    "DFS是用stack來處理，而stack的原理是先進後出，就如同疊盤子一樣，\n",
    "\n",
    "因此在程式碼的部分，概念會跟當初在寫stack時很像，\n",
    "\n",
    "會先創一個空間(temp)暫放尚未排列過的節點，\n",
    "\n",
    "之後再依序將節點定位到一個名為stack的list，這個list也就是最後呈現的結果。\n",
    "\n",
    "在將節點放入stack時，都是從temp的index(-1)開始進行取值(這樣才符合stack後進先出的特性);\n",
    "\n",
    "push時也是從[]最尾端慢慢加入\n",
    "\n",
    "-----------------------------------------------------------------------------------------------------\n",
    "\n",
    "#### BFS程式碼實現:\n",
    "\n",
    "def BFS(self,s):\n",
    "\n",
    "        temp = []\n",
    "        \n",
    "        q = []                         ##運用queue的概念(先進先出)\n",
    "        \n",
    "        q.append(s)\n",
    "        \n",
    "        for k in self.graph[s]:\n",
    "        \n",
    "            temp.append(k)\n",
    "            \n",
    "        while len(temp) != 0:\n",
    "        \n",
    "            q.append(temp[0])\n",
    "            \n",
    "            for i in self.graph[temp[0]]:\n",
    "            \n",
    "                if i not in temp and i not in q:\n",
    "                \n",
    "                    temp.append(i)     ##將資料添加至最尾端\n",
    "                    \n",
    "            temp.pop(0)                ##取節點時要從頭開始取，也就是index=0處\n",
    "            \n",
    "----------------------------------------------------------------------------------------------------- \n",
    "            \n",
    "\n",
    "#### DFS程式碼實現:\n",
    "\n",
    "def DFS(self,s):\n",
    "\n",
    "        temp = []\n",
    "        \n",
    "        stack = []                         ##運用stack的概念(先進後出)\n",
    "        \n",
    "        stack.append(s)\n",
    "        \n",
    "        for k in self.graph[s]:\n",
    "        \n",
    "            temp.append(k)\n",
    "            \n",
    "        while len(temp) != 0:\n",
    "        \n",
    "            stack.append(temp[-1])\n",
    "            \n",
    "            cur = temp[-1]\n",
    "            \n",
    "            for i in self.graph[temp[-1]]:\n",
    "            \n",
    "                if i not in temp and i not in stack:\n",
    "                \n",
    "                    temp.append(i)         ##將資料添加至最尾端\n",
    "                    \n",
    "            temp.remove(cur)               ##取節點時要從尾巴開始取(stack最頂端)，也就是index=-1處\n",
    "            \n",
    "        return stack\n",
    "    \n",
    "-----------------------------------------------------------------------------------------------------"
   ]
  },
  {
   "cell_type": "markdown",
   "metadata": {},
   "source": [
    "開始進入程式碼的部分:\n",
    "    \n",
    "12/6聽助教講解defaultdict時半懂半懂，因此想說先搞懂這行程式碼的功用是什麼，後面寫程式才會比較順。\n",
    "\n",
    "參考了網站上的說法，為什麼要有default呢?因為當我們在調用某個dict的key，例如呼叫某個key的value時，都要先確認那個key是否存在，如果key不存在就會報錯(KeyError) (說明一)\n",
    "\n",
    "但是如果我們每次在調用key時，都需要判斷key是否存在，確實是一件麻煩的事，此時defaultdict就能幫助我們解決這個問題，當key不存在時，會直接產生一個default值，而default的資料型態是透過下面這種方式指定(說明二):\n",
    "\n",
    "如下:"
   ]
  },
  {
   "cell_type": "code",
   "execution_count": 3,
   "metadata": {},
   "outputs": [
    {
     "ename": "KeyError",
     "evalue": "'c'",
     "output_type": "error",
     "traceback": [
      "\u001b[1;31m---------------------------------------------------------------------------\u001b[0m",
      "\u001b[1;31mKeyError\u001b[0m                                  Traceback (most recent call last)",
      "\u001b[1;32m<ipython-input-3-18cefc95895e>\u001b[0m in \u001b[0;36m<module>\u001b[1;34m\u001b[0m\n\u001b[0;32m      1\u001b[0m \u001b[1;31m# 說明一\u001b[0m\u001b[1;33m\u001b[0m\u001b[1;33m\u001b[0m\u001b[1;33m\u001b[0m\u001b[0m\n\u001b[0;32m      2\u001b[0m \u001b[0mdic\u001b[0m \u001b[1;33m=\u001b[0m \u001b[1;33m{\u001b[0m\u001b[1;34m\"a\"\u001b[0m\u001b[1;33m:\u001b[0m\u001b[1;36m1\u001b[0m\u001b[1;33m,\u001b[0m\u001b[1;34m\"b\"\u001b[0m\u001b[1;33m:\u001b[0m\u001b[1;36m2\u001b[0m\u001b[1;33m}\u001b[0m\u001b[1;33m\u001b[0m\u001b[1;33m\u001b[0m\u001b[0m\n\u001b[1;32m----> 3\u001b[1;33m \u001b[0mdic\u001b[0m\u001b[1;33m[\u001b[0m\u001b[1;34m\"c\"\u001b[0m\u001b[1;33m]\u001b[0m\u001b[1;33m\u001b[0m\u001b[1;33m\u001b[0m\u001b[0m\n\u001b[0m",
      "\u001b[1;31mKeyError\u001b[0m: 'c'"
     ]
    }
   ],
   "source": [
    "# 說明一\n",
    "dic = {\"a\":1,\"b\":2}\n",
    "dic[\"c\"]"
   ]
  },
  {
   "cell_type": "code",
   "execution_count": 4,
   "metadata": {},
   "outputs": [
    {
     "name": "stdout",
     "output_type": "stream",
     "text": [
      "[]\n",
      "[1, 2]\n"
     ]
    }
   ],
   "source": [
    "# 說明二\n",
    "from collections import defaultdict #先import collections模組\n",
    "\n",
    "df = defaultdict(list) # 指定defaultdict值為一個空list\n",
    "a = df[\"a\"] #當key不存在時，defaultdict會產生一個空list\n",
    "print(a)\n",
    "\n",
    "# 將value加入到一個不存在的 key\n",
    "df[\"b\"].append(1)\n",
    "df[\"b\"].append(2)\n",
    "print(df[\"b\"])"
   ]
  },
  {
   "cell_type": "markdown",
   "metadata": {},
   "source": [
    "原來如此，自己動手嘗試過，就知道defaultdict怎麼實現，甚至連同助教給的程式碼格式都一併弄懂了!"
   ]
  },
  {
   "cell_type": "code",
   "execution_count": 5,
   "metadata": {},
   "outputs": [],
   "source": [
    "from collections import defaultdict\n",
    "\n",
    "class Graph:\n",
    "    def __init__(self):\n",
    "        self.graph = defaultdict(list)\n",
    "        \n",
    "    def addEdge(self,u,v):\n",
    "        self.graph[u].append(v)\n",
    "        \n",
    "    def BFS(self,s):\n",
    "        temp = []\n",
    "        q = []\n",
    "        q.append(s)\n",
    "        print(\"q:\",q)\n",
    "        for k in self.graph[s]:\n",
    "            temp.append(k)\n",
    "        print(\"temp:\",temp)\n",
    "        \n",
    "        while len(temp) != 0:\n",
    "            q.append(temp[0])\n",
    "            print(\"q=\",q)\n",
    "            for i in self.graph[temp[0]]:\n",
    "                if i not in temp and i not in q:\n",
    "                    temp.append(i)\n",
    "            temp.pop(0)\n",
    "            print(\"temp=\",temp)\n",
    "            if len(temp) != 0:\n",
    "                q.append(temp[0])\n",
    "                for j in self.graph[temp[0]]:\n",
    "                    if j not in temp and j not in q:\n",
    "                        temp.append(i)\n",
    "                temp.pop(0)\n",
    "                        \n",
    "        return q"
   ]
  },
  {
   "cell_type": "code",
   "execution_count": 6,
   "metadata": {},
   "outputs": [
    {
     "name": "stdout",
     "output_type": "stream",
     "text": [
      "q: [2]\n",
      "temp: [0, 1, 3]\n",
      "q= [2, 0]\n",
      "temp= [1, 3, 4]\n",
      "q= [2, 0, 1, 3]\n",
      "temp= [4]\n"
     ]
    },
    {
     "data": {
      "text/plain": [
       "[2, 0, 1, 3, 4]"
      ]
     },
     "execution_count": 6,
     "metadata": {},
     "output_type": "execute_result"
    }
   ],
   "source": [
    "a = Graph()\n",
    "a.addEdge(0,1)\n",
    "a.addEdge(0,3)\n",
    "a.addEdge(0,4)\n",
    "a.addEdge(1,3)\n",
    "a.addEdge(1,4)\n",
    "a.addEdge(2,0)\n",
    "a.addEdge(2,1)\n",
    "a.addEdge(2,3)\n",
    "a.addEdge(3,0)\n",
    "a.addEdge(4,1)\n",
    "a.BFS(2)"
   ]
  },
  {
   "cell_type": "code",
   "execution_count": 7,
   "metadata": {},
   "outputs": [
    {
     "name": "stdout",
     "output_type": "stream",
     "text": [
      "q: [3]\n",
      "temp: [5, 7]\n",
      "q= [3, 5]\n",
      "temp= [7, 2, 6]\n",
      "q= [3, 5, 7, 2]\n",
      "temp= [6, 1]\n",
      "q= [3, 5, 7, 2, 6, 1]\n",
      "temp= [4]\n"
     ]
    },
    {
     "data": {
      "text/plain": [
       "[3, 5, 7, 2, 6, 1, 4]"
      ]
     },
     "execution_count": 7,
     "metadata": {},
     "output_type": "execute_result"
    }
   ],
   "source": [
    "a = Graph()\n",
    "a.addEdge(1,2)\n",
    "a.addEdge(1,4)\n",
    "a.addEdge(2,3)\n",
    "a.addEdge(2,6)\n",
    "a.addEdge(3,5)\n",
    "a.addEdge(3,7)\n",
    "a.addEdge(2,1)\n",
    "a.addEdge(4,6)\n",
    "a.addEdge(5,2)\n",
    "a.addEdge(5,6)\n",
    "a.addEdge(6,1)\n",
    "a.addEdge(7,5)\n",
    "a.BFS(3)"
   ]
  },
  {
   "cell_type": "markdown",
   "metadata": {},
   "source": [
    "寫完自己再照著程式碼畫一次流程圖，發現不知道為啥竟然多寫一部分一樣的判斷式 = =，刪掉之後再測試是不是正確~"
   ]
  },
  {
   "cell_type": "code",
   "execution_count": 8,
   "metadata": {},
   "outputs": [],
   "source": [
    "from collections import defaultdict\n",
    "\n",
    "class Graph:\n",
    "    def __init__(self):\n",
    "        self.graph = defaultdict(list)\n",
    "        \n",
    "    def addEdge(self,u,v):\n",
    "        self.graph[u].append(v)\n",
    "        \n",
    "    def BFS(self,s):\n",
    "        temp = []\n",
    "        q = []\n",
    "        q.append(s)\n",
    "        for k in self.graph[s]:\n",
    "            temp.append(k)\n",
    "        while len(temp) != 0:\n",
    "            q.append(temp[0])\n",
    "            for i in self.graph[temp[0]]:\n",
    "                if i not in temp and i not in q:\n",
    "                    temp.append(i)\n",
    "            temp.pop(0)\n",
    "        return q"
   ]
  },
  {
   "cell_type": "code",
   "execution_count": 9,
   "metadata": {},
   "outputs": [
    {
     "data": {
      "text/plain": [
       "[2, 0, 1, 3, 4]"
      ]
     },
     "execution_count": 9,
     "metadata": {},
     "output_type": "execute_result"
    }
   ],
   "source": [
    "a = Graph()\n",
    "a.addEdge(0,1)\n",
    "a.addEdge(0,3)\n",
    "a.addEdge(0,4)\n",
    "a.addEdge(1,3)\n",
    "a.addEdge(1,4)\n",
    "a.addEdge(2,0)\n",
    "a.addEdge(2,1)\n",
    "a.addEdge(2,3)\n",
    "a.addEdge(3,0)\n",
    "a.addEdge(4,1)\n",
    "a.BFS(2)"
   ]
  },
  {
   "cell_type": "code",
   "execution_count": 10,
   "metadata": {},
   "outputs": [
    {
     "data": {
      "text/plain": [
       "[3, 5, 7, 2, 6, 1, 4]"
      ]
     },
     "execution_count": 10,
     "metadata": {},
     "output_type": "execute_result"
    }
   ],
   "source": [
    "a = Graph()\n",
    "a.addEdge(1,2)\n",
    "a.addEdge(1,4)\n",
    "a.addEdge(2,3)\n",
    "a.addEdge(2,6)\n",
    "a.addEdge(3,5)\n",
    "a.addEdge(3,7)\n",
    "a.addEdge(2,1)\n",
    "a.addEdge(4,6)\n",
    "a.addEdge(5,2)\n",
    "a.addEdge(5,6)\n",
    "a.addEdge(6,1)\n",
    "a.addEdge(7,5)\n",
    "a.BFS(3)"
   ]
  },
  {
   "cell_type": "markdown",
   "metadata": {},
   "source": [
    "好嗨喲~短短幾行就寫出來了，事先複習queue、stack果然對寫BFS有幫助!"
   ]
  },
  {
   "cell_type": "markdown",
   "metadata": {},
   "source": [
    "接著寫DFS~"
   ]
  },
  {
   "cell_type": "code",
   "execution_count": 11,
   "metadata": {},
   "outputs": [],
   "source": [
    "from collections import defaultdict\n",
    "\n",
    "class Graph:\n",
    "    def __init__(self):\n",
    "        self.graph = defaultdict(list)\n",
    "        \n",
    "    def addEdge(self,u,v):\n",
    "        self.graph[u].append(v)\n",
    "        \n",
    "    def BFS(self,s):\n",
    "        temp = []\n",
    "        q = []\n",
    "        q.append(s)\n",
    "        for k in self.graph[s]:\n",
    "            temp.append(k)\n",
    "        while len(temp) != 0:\n",
    "            q.append(temp[0])\n",
    "            for i in self.graph[temp[0]]:\n",
    "                if i not in temp and i not in q:\n",
    "                    temp.append(i)\n",
    "            temp.pop(0)\n",
    "        return q\n",
    "    \n",
    "    def DFS(self,s):\n",
    "        temp = []\n",
    "        stack = []\n",
    "        stack.append(s)\n",
    "        for k in self.graph[s]:\n",
    "            temp.append(k)\n",
    "        while len(temp) != 0:\n",
    "            stack.append(temp[-1])\n",
    "            cur = temp[-1]\n",
    "            for i in self.graph[temp[-1]]:\n",
    "                if i not in temp and i not in stack:\n",
    "                    temp.append(i)\n",
    "            temp.remove(cur)\n",
    "        return stack\n",
    "    \n",
    "    \n",
    "# 參考資料:   \n",
    "# https://github.com/imucici/my-learning-note/blob/master/LeetCode/week4/155.%20Min%20Stack.ipynb\n",
    "# https://github.com/imucici/my-learning-note/blob/master/LeetCode/week4/232.%20Implement%20Queue%20using%20Stacks.ipynb \n",
    "# https://github.com/imucici/my-learning-note/blob/master/LeetCode/week13/225.%20Implement%20Stack%20using%20Queues.ipynb"
   ]
  },
  {
   "cell_type": "markdown",
   "metadata": {},
   "source": [
    "多丟幾組測值確保沒有錯誤~"
   ]
  },
  {
   "cell_type": "code",
   "execution_count": 15,
   "metadata": {},
   "outputs": [
    {
     "data": {
      "text/plain": [
       "[1, 2, 4, 3, 6, 5, 7]"
      ]
     },
     "execution_count": 15,
     "metadata": {},
     "output_type": "execute_result"
    }
   ],
   "source": [
    "a = Graph()\n",
    "a.addEdge(1,2)\n",
    "a.addEdge(1,4)\n",
    "a.addEdge(2,3)\n",
    "a.addEdge(2,6)\n",
    "a.addEdge(3,5)\n",
    "a.addEdge(3,7)\n",
    "a.addEdge(2,1)\n",
    "a.addEdge(4,6)\n",
    "a.addEdge(5,2)\n",
    "a.addEdge(5,6)\n",
    "a.addEdge(6,1)\n",
    "a.addEdge(7,5)\n",
    "a.BFS(1)"
   ]
  },
  {
   "cell_type": "code",
   "execution_count": 16,
   "metadata": {},
   "outputs": [
    {
     "data": {
      "text/plain": [
       "[1, 4, 6, 2, 3, 7, 5]"
      ]
     },
     "execution_count": 16,
     "metadata": {},
     "output_type": "execute_result"
    }
   ],
   "source": [
    "a = Graph()\n",
    "a.addEdge(1,2)\n",
    "a.addEdge(1,4)\n",
    "a.addEdge(2,3)\n",
    "a.addEdge(2,6)\n",
    "a.addEdge(3,5)\n",
    "a.addEdge(3,7)\n",
    "a.addEdge(2,1)\n",
    "a.addEdge(4,6)\n",
    "a.addEdge(5,2)\n",
    "a.addEdge(5,6)\n",
    "a.addEdge(6,1)\n",
    "a.addEdge(7,5)\n",
    "a.DFS(1)"
   ]
  },
  {
   "cell_type": "code",
   "execution_count": 17,
   "metadata": {},
   "outputs": [
    {
     "data": {
      "text/plain": [
       "[2, 3, 6, 1, 5, 7, 4]"
      ]
     },
     "execution_count": 17,
     "metadata": {},
     "output_type": "execute_result"
    }
   ],
   "source": [
    "a = Graph()\n",
    "a.addEdge(1,2)\n",
    "a.addEdge(1,4)\n",
    "a.addEdge(2,3)\n",
    "a.addEdge(2,6)\n",
    "a.addEdge(3,5)\n",
    "a.addEdge(3,7)\n",
    "a.addEdge(2,1)\n",
    "a.addEdge(4,6)\n",
    "a.addEdge(5,2)\n",
    "a.addEdge(5,6)\n",
    "a.addEdge(6,1)\n",
    "a.addEdge(7,5)\n",
    "a.BFS(2)"
   ]
  },
  {
   "cell_type": "code",
   "execution_count": 19,
   "metadata": {},
   "outputs": [
    {
     "data": {
      "text/plain": [
       "[2, 1, 4, 6, 3, 7, 5]"
      ]
     },
     "execution_count": 19,
     "metadata": {},
     "output_type": "execute_result"
    }
   ],
   "source": [
    "a = Graph()\n",
    "a.addEdge(1,2)\n",
    "a.addEdge(1,4)\n",
    "a.addEdge(2,3)\n",
    "a.addEdge(2,6)\n",
    "a.addEdge(3,5)\n",
    "a.addEdge(3,7)\n",
    "a.addEdge(2,1)\n",
    "a.addEdge(4,6)\n",
    "a.addEdge(5,2)\n",
    "a.addEdge(5,6)\n",
    "a.addEdge(6,1)\n",
    "a.addEdge(7,5)\n",
    "a.DFS(2)"
   ]
  },
  {
   "cell_type": "code",
   "execution_count": 20,
   "metadata": {},
   "outputs": [
    {
     "data": {
      "text/plain": [
       "[3, 5, 7, 2, 6, 1, 4]"
      ]
     },
     "execution_count": 20,
     "metadata": {},
     "output_type": "execute_result"
    }
   ],
   "source": [
    "a = Graph()\n",
    "a.addEdge(1,2)\n",
    "a.addEdge(1,4)\n",
    "a.addEdge(2,3)\n",
    "a.addEdge(2,6)\n",
    "a.addEdge(3,5)\n",
    "a.addEdge(3,7)\n",
    "a.addEdge(2,1)\n",
    "a.addEdge(4,6)\n",
    "a.addEdge(5,2)\n",
    "a.addEdge(5,6)\n",
    "a.addEdge(6,1)\n",
    "a.addEdge(7,5)\n",
    "a.BFS(3)"
   ]
  },
  {
   "cell_type": "code",
   "execution_count": 22,
   "metadata": {},
   "outputs": [
    {
     "data": {
      "text/plain": [
       "[3, 7, 5, 6, 1, 4, 2]"
      ]
     },
     "execution_count": 22,
     "metadata": {},
     "output_type": "execute_result"
    }
   ],
   "source": [
    "a = Graph()\n",
    "a.addEdge(1,2)\n",
    "a.addEdge(1,4)\n",
    "a.addEdge(2,3)\n",
    "a.addEdge(2,6)\n",
    "a.addEdge(3,5)\n",
    "a.addEdge(3,7)\n",
    "a.addEdge(2,1)\n",
    "a.addEdge(4,6)\n",
    "a.addEdge(5,2)\n",
    "a.addEdge(5,6)\n",
    "a.addEdge(6,1)\n",
    "a.addEdge(7,5)\n",
    "a.DFS(3)"
   ]
  },
  {
   "cell_type": "code",
   "execution_count": 23,
   "metadata": {},
   "outputs": [
    {
     "data": {
      "text/plain": [
       "[4, 6, 1, 2, 3, 5, 7]"
      ]
     },
     "execution_count": 23,
     "metadata": {},
     "output_type": "execute_result"
    }
   ],
   "source": [
    "a = Graph()\n",
    "a.addEdge(1,2)\n",
    "a.addEdge(1,4)\n",
    "a.addEdge(2,3)\n",
    "a.addEdge(2,6)\n",
    "a.addEdge(3,5)\n",
    "a.addEdge(3,7)\n",
    "a.addEdge(2,1)\n",
    "a.addEdge(4,6)\n",
    "a.addEdge(5,2)\n",
    "a.addEdge(5,6)\n",
    "a.addEdge(6,1)\n",
    "a.addEdge(7,5)\n",
    "a.BFS(4)"
   ]
  },
  {
   "cell_type": "code",
   "execution_count": 24,
   "metadata": {},
   "outputs": [
    {
     "data": {
      "text/plain": [
       "[4, 6, 1, 2, 3, 7, 5]"
      ]
     },
     "execution_count": 24,
     "metadata": {},
     "output_type": "execute_result"
    }
   ],
   "source": [
    "a = Graph()\n",
    "a.addEdge(1,2)\n",
    "a.addEdge(1,4)\n",
    "a.addEdge(2,3)\n",
    "a.addEdge(2,6)\n",
    "a.addEdge(3,5)\n",
    "a.addEdge(3,7)\n",
    "a.addEdge(2,1)\n",
    "a.addEdge(4,6)\n",
    "a.addEdge(5,2)\n",
    "a.addEdge(5,6)\n",
    "a.addEdge(6,1)\n",
    "a.addEdge(7,5)\n",
    "a.DFS(4)"
   ]
  },
  {
   "cell_type": "code",
   "execution_count": 25,
   "metadata": {},
   "outputs": [
    {
     "data": {
      "text/plain": [
       "[5, 2, 6, 3, 1, 7, 4]"
      ]
     },
     "execution_count": 25,
     "metadata": {},
     "output_type": "execute_result"
    }
   ],
   "source": [
    "a = Graph()\n",
    "a.addEdge(1,2)\n",
    "a.addEdge(1,4)\n",
    "a.addEdge(2,3)\n",
    "a.addEdge(2,6)\n",
    "a.addEdge(3,5)\n",
    "a.addEdge(3,7)\n",
    "a.addEdge(2,1)\n",
    "a.addEdge(4,6)\n",
    "a.addEdge(5,2)\n",
    "a.addEdge(5,6)\n",
    "a.addEdge(6,1)\n",
    "a.addEdge(7,5)\n",
    "a.BFS(5)"
   ]
  },
  {
   "cell_type": "code",
   "execution_count": 26,
   "metadata": {},
   "outputs": [
    {
     "data": {
      "text/plain": [
       "[5, 6, 1, 4, 2, 3, 7]"
      ]
     },
     "execution_count": 26,
     "metadata": {},
     "output_type": "execute_result"
    }
   ],
   "source": [
    "a = Graph()\n",
    "a.addEdge(1,2)\n",
    "a.addEdge(1,4)\n",
    "a.addEdge(2,3)\n",
    "a.addEdge(2,6)\n",
    "a.addEdge(3,5)\n",
    "a.addEdge(3,7)\n",
    "a.addEdge(2,1)\n",
    "a.addEdge(4,6)\n",
    "a.addEdge(5,2)\n",
    "a.addEdge(5,6)\n",
    "a.addEdge(6,1)\n",
    "a.addEdge(7,5)\n",
    "a.DFS(5)"
   ]
  },
  {
   "cell_type": "code",
   "execution_count": 27,
   "metadata": {},
   "outputs": [
    {
     "data": {
      "text/plain": [
       "[6, 1, 2, 4, 3, 5, 7]"
      ]
     },
     "execution_count": 27,
     "metadata": {},
     "output_type": "execute_result"
    }
   ],
   "source": [
    "a = Graph()\n",
    "a.addEdge(1,2)\n",
    "a.addEdge(1,4)\n",
    "a.addEdge(2,3)\n",
    "a.addEdge(2,6)\n",
    "a.addEdge(3,5)\n",
    "a.addEdge(3,7)\n",
    "a.addEdge(2,1)\n",
    "a.addEdge(4,6)\n",
    "a.addEdge(5,2)\n",
    "a.addEdge(5,6)\n",
    "a.addEdge(6,1)\n",
    "a.addEdge(7,5)\n",
    "a.BFS(6)"
   ]
  },
  {
   "cell_type": "code",
   "execution_count": 28,
   "metadata": {},
   "outputs": [
    {
     "data": {
      "text/plain": [
       "[6, 1, 4, 2, 3, 7, 5]"
      ]
     },
     "execution_count": 28,
     "metadata": {},
     "output_type": "execute_result"
    }
   ],
   "source": [
    "a = Graph()\n",
    "a.addEdge(1,2)\n",
    "a.addEdge(1,4)\n",
    "a.addEdge(2,3)\n",
    "a.addEdge(2,6)\n",
    "a.addEdge(3,5)\n",
    "a.addEdge(3,7)\n",
    "a.addEdge(2,1)\n",
    "a.addEdge(4,6)\n",
    "a.addEdge(5,2)\n",
    "a.addEdge(5,6)\n",
    "a.addEdge(6,1)\n",
    "a.addEdge(7,5)\n",
    "a.DFS(6)"
   ]
  },
  {
   "cell_type": "markdown",
   "metadata": {},
   "source": [
    "好嗨喲~BFS、DFS都沒有錯"
   ]
  },
  {
   "cell_type": "markdown",
   "metadata": {},
   "source": [
    "BFS、DFS流程圖"
   ]
  },
  {
   "cell_type": "code",
   "execution_count": 1,
   "metadata": {},
   "outputs": [
    {
     "data": {
      "text/html": [
       "<img src=\"https://github.com/imucici/my-learning-note/blob/master/%E5%9C%96%E7%89%87/BFS.jpg?raw=true\" width=\"1000\" height=\"1000\"/>"
      ],
      "text/plain": [
       "<IPython.core.display.Image object>"
      ]
     },
     "execution_count": 1,
     "metadata": {},
     "output_type": "execute_result"
    }
   ],
   "source": [
    "from IPython.display import Image\n",
    "from IPython.core.display import HTML\n",
    "Image(url= \"https://github.com/imucici/my-learning-note/blob/master/%E5%9C%96%E7%89%87/BFS.jpg?raw=true\" ,width = 1000,height = 1000)"
   ]
  },
  {
   "cell_type": "code",
   "execution_count": 2,
   "metadata": {},
   "outputs": [
    {
     "data": {
      "text/html": [
       "<img src=\"https://github.com/imucici/my-learning-note/blob/master/%E5%9C%96%E7%89%87/DFS.jpg?raw=true\" width=\"1000\" height=\"1000\"/>"
      ],
      "text/plain": [
       "<IPython.core.display.Image object>"
      ]
     },
     "execution_count": 2,
     "metadata": {},
     "output_type": "execute_result"
    }
   ],
   "source": [
    "from IPython.display import Image\n",
    "from IPython.core.display import HTML\n",
    "Image(url= \"https://github.com/imucici/my-learning-note/blob/master/%E5%9C%96%E7%89%87/DFS.jpg?raw=true\" ,width = 1000,height = 1000)"
   ]
  },
  {
   "cell_type": "markdown",
   "metadata": {},
   "source": [
    "測值:"
   ]
  },
  {
   "cell_type": "code",
   "execution_count": 1,
   "metadata": {},
   "outputs": [
    {
     "data": {
      "text/html": [
       "<img src=\"https://github.com/imucici/my-learning-note/blob/master/%E5%9C%96%E7%89%87/BFS%E3%80%81DFS%E6%B8%AC%E5%80%BC.jpg?raw=true\" width=\"1000\" height=\"1000\"/>"
      ],
      "text/plain": [
       "<IPython.core.display.Image object>"
      ]
     },
     "execution_count": 1,
     "metadata": {},
     "output_type": "execute_result"
    }
   ],
   "source": [
    "from IPython.display import Image\n",
    "from IPython.core.display import HTML\n",
    "Image(url= \"https://github.com/imucici/my-learning-note/blob/master/%E5%9C%96%E7%89%87/BFS%E3%80%81DFS%E6%B8%AC%E5%80%BC.jpg?raw=true\" ,width = 1000,height = 1000)"
   ]
  }
 ],
 "metadata": {
  "kernelspec": {
   "display_name": "Python 3",
   "language": "python",
   "name": "python3"
  },
  "language_info": {
   "codemirror_mode": {
    "name": "ipython",
    "version": 3
   },
   "file_extension": ".py",
   "mimetype": "text/x-python",
   "name": "python",
   "nbconvert_exporter": "python",
   "pygments_lexer": "ipython3",
   "version": "3.7.4"
  }
 },
 "nbformat": 4,
 "nbformat_minor": 2
}
