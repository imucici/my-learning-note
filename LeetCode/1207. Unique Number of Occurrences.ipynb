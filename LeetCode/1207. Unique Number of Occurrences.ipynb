{
 "cells": [
  {
   "cell_type": "code",
   "execution_count": null,
   "metadata": {},
   "outputs": [],
   "source": [
    "# 題目:\n",
    "# 計算每個元素出現個數是否唯一\n",
    "\n",
    "class Solution:\n",
    "    def uniqueOccurrences(self, arr: List[int]):\n",
    "        s = set(arr)\n",
    "        list1 = []\n",
    "        for i in s :\n",
    "            list1.append(arr.count(i)) #藉由轉成set來得知arr有哪些元素，並透過s裡的元素計算arr裡各元素分別出現的次數\n",
    "        new = set(list1)\n",
    "        if len(new) == len(list1): #將計數後的list1轉成set，因為轉set後會刪除重複，若兩者長度不同就代表有刪除重複>>false\n",
    "            return True\n",
    "        else:\n",
    "            return False"
   ]
  }
 ],
 "metadata": {
  "kernelspec": {
   "display_name": "Python 3",
   "language": "python",
   "name": "python3"
  },
  "language_info": {
   "codemirror_mode": {
    "name": "ipython",
    "version": 3
   },
   "file_extension": ".py",
   "mimetype": "text/x-python",
   "name": "python",
   "nbconvert_exporter": "python",
   "pygments_lexer": "ipython3",
   "version": "3.7.1"
  }
 },
 "nbformat": 4,
 "nbformat_minor": 2
}
