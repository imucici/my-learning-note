{
 "cells": [
  {
   "cell_type": "code",
   "execution_count": null,
   "metadata": {},
   "outputs": [],
   "source": [
    "# 題目:\n",
    "# 給定字符串s由大寫/小寫字母和空格字符' '組成，返回字符串中最後一個單詞的長度。\n",
    "# 如果最後一個詞不存在，則返回0\n",
    "\n",
    "# 情況一:\n",
    "    \n",
    "# a = \" \" #空格\n",
    "# b = a.split()\n",
    "# print(b) #切割後為空list，list長度為0\n",
    "# print(b[-1]) >> error(因為是空list)\n",
    "# len(b[-1]) >> error(因為是空list)\n",
    "\n",
    "# 情況二:\n",
    "    \n",
    "# a = \"hello \" #單詞\n",
    "# b = a.split( )\n",
    "# print(b) >>['hello']\n",
    "# print(b[-1]) >> hello\n",
    "# len(b[-1])\n",
    "\n",
    "# 情況三:\n",
    "\n",
    "# a = \"hello world\" #雙詞\n",
    "# b = a.split( )\n",
    "# print(b) >> ['hello', 'world']\n",
    "# print(b[-1]) >>world\n",
    "# len(b[-1])\n",
    "\n",
    "class Solution:\n",
    "    def lengthOfLastWord(self, s: str) -> int:\n",
    "        a = s.split( )\n",
    "        if len(a) == 0: #當字串只由空格組成時，切割後為空list\n",
    "            return 0\n",
    "        else:\n",
    "            return len(a[-1])"
   ]
  }
 ],
 "metadata": {
  "kernelspec": {
   "display_name": "Python 3",
   "language": "python",
   "name": "python3"
  },
  "language_info": {
   "codemirror_mode": {
    "name": "ipython",
    "version": 3
   },
   "file_extension": ".py",
   "mimetype": "text/x-python",
   "name": "python",
   "nbconvert_exporter": "python",
   "pygments_lexer": "ipython3",
   "version": "3.7.1"
  }
 },
 "nbformat": 4,
 "nbformat_minor": 2
}
