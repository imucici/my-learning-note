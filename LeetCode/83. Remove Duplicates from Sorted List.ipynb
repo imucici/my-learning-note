{
 "cells": [
  {
   "cell_type": "code",
   "execution_count": 4,
   "metadata": {},
   "outputs": [],
   "source": [
    "# Definition for singly-linked list.\n",
    "class ListNode:\n",
    "    def __init__(self, x):\n",
    "        self.val = x\n",
    "        self.next = None\n",
    "\n",
    "class Solution:\n",
    "    def deleteDuplicates(self, head: ListNode) -> ListNode:\n",
    "        if head == None or head.next == None:\n",
    "            return head\n",
    "        else:\n",
    "            curp = head\n",
    "            cur = head.next\n",
    "            if curp.val == cur.val: #一開始就有重複值\n",
    "                while cur != None and cur.val == curp.val:\n",
    "                    cur = cur.next\n",
    "                curp.next = cur\n",
    "                return Solution().deleteDuplicates(head)\n",
    "            else:\n",
    "                while cur.next != None and cur.val != cur.next.val:\n",
    "                    curp = cur\n",
    "                    cur = cur.next\n",
    "                \n",
    "                if cur.next == None:\n",
    "                    return head\n",
    "                else:\n",
    "                    curp = cur\n",
    "                    cur = cur.next\n",
    "                    while cur != None and cur.val == curp.val:\n",
    "                        cur = cur.next\n",
    "                    curp.next = cur\n",
    "                    return Solution().deleteDuplicates(head)"
   ]
  },
  {
   "cell_type": "code",
   "execution_count": 5,
   "metadata": {},
   "outputs": [],
   "source": [
    "head = ListNode(1)\n",
    "head.next = ListNode(1)\n",
    "head.next.next = ListNode(1)\n",
    "head.next.next.next = ListNode(1)\n",
    "head.next.next.next.next = ListNode(3)\n",
    "head.next.next.next.next.next = ListNode(3)\n",
    "head.next.next.next.next.next.next = ListNode(2)"
   ]
  },
  {
   "cell_type": "code",
   "execution_count": 6,
   "metadata": {},
   "outputs": [
    {
     "data": {
      "text/plain": [
       "<__main__.ListNode at 0x180f911b248>"
      ]
     },
     "execution_count": 6,
     "metadata": {},
     "output_type": "execute_result"
    }
   ],
   "source": [
    "Solution().deleteDuplicates(head)"
   ]
  }
 ],
 "metadata": {
  "kernelspec": {
   "display_name": "Python 3",
   "language": "python",
   "name": "python3"
  },
  "language_info": {
   "codemirror_mode": {
    "name": "ipython",
    "version": 3
   },
   "file_extension": ".py",
   "mimetype": "text/x-python",
   "name": "python",
   "nbconvert_exporter": "python",
   "pygments_lexer": "ipython3",
   "version": "3.7.4"
  }
 },
 "nbformat": 4,
 "nbformat_minor": 2
}
