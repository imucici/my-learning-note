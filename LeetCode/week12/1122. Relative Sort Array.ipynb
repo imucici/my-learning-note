{
 "cells": [
  {
   "cell_type": "code",
   "execution_count": null,
   "metadata": {},
   "outputs": [],
   "source": [
    "#題目:\n",
    "#將arr1的元素按照arr2的順序排列，再將沒出現在arr2的元素按照升冪排列\n",
    "\n",
    "\n",
    "class Solution:\n",
    "    def relativeSortArray(self, arr1: List[int], arr2: List[int]) -> List[int]:\n",
    "        a = []\n",
    "        b = []\n",
    "        final = []\n",
    "        for j in range(len(arr2)):\n",
    "            for i in arr1:\n",
    "                if i == arr2[j]:\n",
    "                    a.append(i)\n",
    "                    \n",
    "        for i in arr1:\n",
    "            if i not in arr2:\n",
    "                b.append(i)\n",
    "        final = a + sorted(b)\n",
    "        return final\n",
    "        "
   ]
  }
 ],
 "metadata": {
  "kernelspec": {
   "display_name": "Python 3",
   "language": "python",
   "name": "python3"
  },
  "language_info": {
   "codemirror_mode": {
    "name": "ipython",
    "version": 3
   },
   "file_extension": ".py",
   "mimetype": "text/x-python",
   "name": "python",
   "nbconvert_exporter": "python",
   "pygments_lexer": "ipython3",
   "version": "3.7.4"
  }
 },
 "nbformat": 4,
 "nbformat_minor": 2
}
