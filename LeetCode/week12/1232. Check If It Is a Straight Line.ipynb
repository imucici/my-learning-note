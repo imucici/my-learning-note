{
 "cells": [
  {
   "cell_type": "code",
   "execution_count": 3,
   "metadata": {},
   "outputs": [],
   "source": [
    "# 題目:所有的點是否在同一條直線(看斜率)\n",
    "\n",
    "def checkStraightLine(coordinates):\n",
    "    lst = []\n",
    "    for i in range(len(coordinates)-1):\n",
    "        a = coordinates[i+1][1] - coordinates[i][1]\n",
    "        b = coordinates[i+1][0] - coordinates[i][0]\n",
    "        if b != 0:\n",
    "            m  = a / b\n",
    "        else :\n",
    "            return False\n",
    "        lst.append(m)\n",
    "    s = set(lst)\n",
    "    if len(s) == 1:\n",
    "        return True\n",
    "    else:\n",
    "        return False"
   ]
  },
  {
   "cell_type": "code",
   "execution_count": 4,
   "metadata": {},
   "outputs": [
    {
     "data": {
      "text/plain": [
       "False"
      ]
     },
     "execution_count": 4,
     "metadata": {},
     "output_type": "execute_result"
    }
   ],
   "source": [
    "checkStraightLine([[-1,1],[-6,-4],[-6,2],[2,0],[-1,-2],[0,-4]])"
   ]
  }
 ],
 "metadata": {
  "kernelspec": {
   "display_name": "Python 3",
   "language": "python",
   "name": "python3"
  },
  "language_info": {
   "codemirror_mode": {
    "name": "ipython",
    "version": 3
   },
   "file_extension": ".py",
   "mimetype": "text/x-python",
   "name": "python",
   "nbconvert_exporter": "python",
   "pygments_lexer": "ipython3",
   "version": "3.7.4"
  }
 },
 "nbformat": 4,
 "nbformat_minor": 2
}
