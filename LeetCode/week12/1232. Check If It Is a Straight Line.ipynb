{
 "cells": [
  {
   "cell_type": "code",
   "execution_count": 3,
   "metadata": {},
   "outputs": [],
   "source": [
    "# 題目:所有的點是否在同一條直線(看斜率)\n",
    "\n",
    "def checkStraightLine(coordinates):\n",
    "    lst = []\n",
    "    for i in range(len(coordinates)-1):\n",
    "        a = coordinates[i+1][1] - coordinates[i][1]\n",
    "        b = coordinates[i+1][0] - coordinates[i][0]\n",
    "        if b != 0:\n",
    "            m  = a / b\n",
    "        else :\n",
    "            return False\n",
    "        lst.append(m)\n",
    "    s = set(lst)\n",
    "    if len(s) == 1:\n",
    "        return True\n",
    "    else:\n",
    "        return False"
   ]
  },
  {
   "cell_type": "code",
   "execution_count": 8,
   "metadata": {},
   "outputs": [],
   "source": [
    "# 題目:所有的點是否在同一條直線(看斜率)\n",
    "\n",
    "def checkStraightLine(coordinates):\n",
    "    lst = []\n",
    "    for i in range(len(coordinates)-1):\n",
    "        a = coordinates[i+1][1] - coordinates[i][1]\n",
    "        b = coordinates[i+1][0] - coordinates[i][0]\n",
    "        if b != 0:\n",
    "            m  = a / b\n",
    "        else :\n",
    "            return False\n",
    "        lst.append(m)\n",
    "        \n",
    "    for j in range(len(lst)-1):\n",
    "        if lst[j] != lst[j+1]:\n",
    "            return False\n",
    "    return True"
   ]
  },
  {
   "cell_type": "code",
   "execution_count": 9,
   "metadata": {},
   "outputs": [
    {
     "data": {
      "text/plain": [
       "False"
      ]
     },
     "execution_count": 9,
     "metadata": {},
     "output_type": "execute_result"
    }
   ],
   "source": [
    "checkStraightLine([[1,2],[2,3],[3,4],[4,5],[5,6],[1,7]])"
   ]
  }
 ],
 "metadata": {
  "kernelspec": {
   "display_name": "Python 3",
   "language": "python",
   "name": "python3"
  }
 },
 "nbformat": 4,
 "nbformat_minor": 2
}
