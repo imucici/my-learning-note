{
 "cells": [
  {
   "cell_type": "code",
   "execution_count": null,
   "metadata": {},
   "outputs": [],
   "source": [
    "class Solution:\n",
    "    def rotate(self, nums: List[int], k: int) -> None:\n",
    "        \"\"\"\n",
    "        Do not return anything, modify nums in-place instead.\n",
    "        \"\"\"\n",
    "        a = []\n",
    "        b = []\n",
    "        if k > len(nums):\n",
    "            k = k % len(nums)\n",
    "            b.extend(nums[-k:])\n",
    "            a.extend(nums[:-k])\n",
    "            b.extend(a)\n",
    "            for i in range(len(nums)):\n",
    "                if b[i] != nums[i]:\n",
    "                    nums[i] = b[i]\n",
    "            \n",
    "        elif k <= len(nums):\n",
    "            b.extend(nums[-k:])\n",
    "            a.extend(nums[:-k])\n",
    "            b.extend(a)\n",
    "\n",
    "            for i in range(len(nums)):\n",
    "                if b[i] != nums[i]:\n",
    "                    nums[i] = b[i]"
   ]
  }
 ],
 "metadata": {
  "kernelspec": {
   "display_name": "Python 3",
   "language": "python",
   "name": "python3"
  },
  "language_info": {
   "codemirror_mode": {
    "name": "ipython",
    "version": 3
   },
   "file_extension": ".py",
   "mimetype": "text/x-python",
   "name": "python",
   "nbconvert_exporter": "python",
   "pygments_lexer": "ipython3",
   "version": "3.7.4"
  }
 },
 "nbformat": 4,
 "nbformat_minor": 2
}
