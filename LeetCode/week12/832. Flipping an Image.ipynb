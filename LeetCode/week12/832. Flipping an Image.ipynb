{
 "cells": [
  {
   "cell_type": "code",
   "execution_count": 63,
   "metadata": {},
   "outputs": [
    {
     "name": "stdout",
     "output_type": "stream",
     "text": [
      "[[0, 1, 1], [1, 0, 1], [0, 0, 0]]\n"
     ]
    },
    {
     "data": {
      "text/plain": [
       "[[1, 0, 0], [0, 1, 0], [1, 1, 1]]"
      ]
     },
     "execution_count": 63,
     "metadata": {},
     "output_type": "execute_result"
    }
   ],
   "source": [
    "lst = []\n",
    "# A = [[1,1,0],[1,0,1],[0,0,0]]\n",
    "for i in A:\n",
    "    a = i[::-1]    \n",
    "    lst.append(a)\n",
    "# print(lst)\n",
    "\n",
    "for j in range(len(lst)) :\n",
    "    for k in range(len(lst[0])) :\n",
    "        if lst[j][k] == 0:\n",
    "            lst[j][k] = 1\n",
    "        else:\n",
    "            lst[j][k] = 0\n",
    "lst"
   ]
  },
  {
   "cell_type": "code",
   "execution_count": 40,
   "metadata": {},
   "outputs": [
    {
     "name": "stdout",
     "output_type": "stream",
     "text": [
      "[1, 1, 0, 0]\n"
     ]
    }
   ],
   "source": [
    "a = [0, 0, 1, 1]\n",
    "for i in range(len(a)) :\n",
    "    if a[i] == 0:\n",
    "        a[i] = 1\n",
    "    else:\n",
    "        a[i] = 0\n",
    "print(a)"
   ]
  },
  {
   "cell_type": "code",
   "execution_count": null,
   "metadata": {},
   "outputs": [],
   "source": [
    "lst = []\n",
    "A = [[1,1,0,0],[1,0,0,1],[0,1,1,1],[1,0,1,0]]\n",
    "for i in A:\n",
    "    a = i[::-1]\n",
    "    print(a)\n",
    "    \n",
    "    for j in a:\n",
    "        \n",
    "    \n",
    "#     lst.append(a)\n",
    "#print(lst)\n",
    "    "
   ]
  }
 ],
 "metadata": {
  "kernelspec": {
   "display_name": "Python 3",
   "language": "python",
   "name": "python3"
  },
  "language_info": {
   "codemirror_mode": {
    "name": "ipython",
    "version": 3
   },
   "file_extension": ".py",
   "mimetype": "text/x-python",
   "name": "python",
   "nbconvert_exporter": "python",
   "pygments_lexer": "ipython3",
   "version": "3.7.4"
  }
 },
 "nbformat": 4,
 "nbformat_minor": 2
}
