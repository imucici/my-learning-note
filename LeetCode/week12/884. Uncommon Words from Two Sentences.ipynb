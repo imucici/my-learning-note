{
 "cells": [
  {
   "cell_type": "code",
   "execution_count": 141,
   "metadata": {},
   "outputs": [
    {
     "name": "stdout",
     "output_type": "stream",
     "text": [
      "lst: ['s', 'z', 'z', 'z', 's', 's', 'z', 'ejt']\n",
      "final ['ejt']\n"
     ]
    }
   ],
   "source": [
    "#題目:找出只出現一次的單詞\n",
    "\n",
    "A = \"s z z z s\"\n",
    "B = \"s z ejt\"\n",
    "\n",
    "lst = []\n",
    "final = []\n",
    "\n",
    "a = A.split(\" \")\n",
    "b = B.split(\" \")\n",
    "\n",
    "lst.extend(a)\n",
    "lst.extend(b)\n",
    "print(\"lst:\",lst)\n",
    "\n",
    "s = set(lst)\n",
    "\n",
    "for i in s:\n",
    "    if lst.count(i) == 1:\n",
    "        final.append(i)\n",
    "print(\"final\",final)"
   ]
  },
  {
   "cell_type": "code",
   "execution_count": null,
   "metadata": {},
   "outputs": [],
   "source": []
  },
  {
   "cell_type": "code",
   "execution_count": 110,
   "metadata": {},
   "outputs": [
    {
     "name": "stdout",
     "output_type": "stream",
     "text": [
      "['foo', 'bar', 'baz']\n"
     ]
    }
   ],
   "source": [
    "a = \"foo(bar)baz\"\n",
    "b = a.split(\")\")\n",
    "# print(b)\n",
    "x = str(b[0])\n",
    "x = x.split(\"(\")\n",
    "# print(x)\n",
    "b = b.pop(1)\n",
    "x.append(b)\n",
    "print(x)"
   ]
  }
 ],
 "metadata": {
  "kernelspec": {
   "display_name": "Python 3",
   "language": "python",
   "name": "python3"
  },
  "language_info": {
   "codemirror_mode": {
    "name": "ipython",
    "version": 3
   },
   "file_extension": ".py",
   "mimetype": "text/x-python",
   "name": "python",
   "nbconvert_exporter": "python",
   "pygments_lexer": "ipython3",
   "version": "3.7.4"
  }
 },
 "nbformat": 4,
 "nbformat_minor": 2
}
