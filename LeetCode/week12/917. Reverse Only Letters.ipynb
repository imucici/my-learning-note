{
 "cells": [
  {
   "cell_type": "code",
   "execution_count": null,
   "metadata": {},
   "outputs": [],
   "source": [
    "class Solution:\n",
    "    def reverseOnlyLetters(self, S: str) -> str:\n",
    "        S = list(S)\n",
    "        temp = []\n",
    "        for i in S:\n",
    "            if i.isalpha():\n",
    "                temp.append(i)\n",
    "                r = temp[::-1]\n",
    "        for i in range(len(S)):\n",
    "            if S[i].isalpha():\n",
    "                S[i] = r[0]\n",
    "                r.pop(0)\n",
    "        t = \"\".join(S)\n",
    "        return t"
   ]
  },
  {
   "cell_type": "markdown",
   "metadata": {},
   "source": [
    "類似題(list)"
   ]
  },
  {
   "cell_type": "code",
   "execution_count": null,
   "metadata": {},
   "outputs": [],
   "source": [
    "#題目:-1不要動，將其他非-1的由小到大排\n",
    "\n",
    "Input:\n",
    "a: [-1, 150, 190, 170, -1, -1, 160, 180]\n",
    "Expected Output:\n",
    "[-1, 150, 160, 170, -1, -1, 180, 190]\n",
    "\n",
    "Input:\n",
    "a: [-1, -1, -1, -1, -1]\n",
    "Expected Output:\n",
    "[-1, -1, -1, -1, -1]"
   ]
  },
  {
   "cell_type": "code",
   "execution_count": null,
   "metadata": {},
   "outputs": [],
   "source": [
    "# 解一:\n",
    "a = [-1, 150, 190, 170, -1, -1, 160, 180]\n",
    "    \n",
    "temp = []\n",
    "for i in a:\n",
    "    if i != -1:\n",
    "        temp.append(i) #把非-1的抓出來\n",
    "        s = sorted(temp)\n",
    "# print(s)\n",
    "for j in range(len(a)):\n",
    "    if a[j] != -1:\n",
    "        a[j] = s[0]\n",
    "        s.pop(0)\n",
    "print(a)"
   ]
  }
 ],
 "metadata": {
  "kernelspec": {
   "display_name": "Python 3",
   "language": "python",
   "name": "python3"
  },
  "language_info": {
   "codemirror_mode": {
    "name": "ipython",
    "version": 3
   },
   "file_extension": ".py",
   "mimetype": "text/x-python",
   "name": "python",
   "nbconvert_exporter": "python",
   "pygments_lexer": "ipython3",
   "version": "3.7.4"
  }
 },
 "nbformat": 4,
 "nbformat_minor": 2
}
