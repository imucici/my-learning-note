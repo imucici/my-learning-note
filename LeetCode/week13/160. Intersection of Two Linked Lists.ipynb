{
 "cells": [
  {
   "cell_type": "code",
   "execution_count": null,
   "metadata": {},
   "outputs": [],
   "source": [
    "# Definition for singly-linked list.\n",
    "# class ListNode:\n",
    "#     def __init__(self, x):\n",
    "#         self.val = x\n",
    "#         self.next = None\n",
    "\n",
    "class Solution:\n",
    "    def getIntersectionNode(self, a: ListNode, b: ListNode) -> ListNode:\n",
    "        if a == None or b == None:\n",
    "            return None\n",
    "        else:\n",
    "            \n",
    "            len_a , temp_a = 0 , a\n",
    "            while temp_a is not None:\n",
    "                temp_a = temp_a.next\n",
    "                len_a +=1\n",
    "                \n",
    "            len_b , temp_b = 0 , b\n",
    "            while temp_b is not None:\n",
    "                temp_b = temp_b.next\n",
    "                len_b +=1\n",
    "            \n",
    "            while len_a > len_b :\n",
    "                a = a.next\n",
    "                len_a -=1\n",
    "            \n",
    "            while len_b > len_a :\n",
    "                b = b.next\n",
    "                len_b -=1\n",
    "            \n",
    "            if len_a == len_b:\n",
    "                while a != b:\n",
    "                    a = a.next\n",
    "                    b = b.next\n",
    "            return a"
   ]
  }
 ],
 "metadata": {
  "kernelspec": {
   "display_name": "Python 3",
   "language": "python",
   "name": "python3"
  },
  "language_info": {
   "codemirror_mode": {
    "name": "ipython",
    "version": 3
   },
   "file_extension": ".py",
   "mimetype": "text/x-python",
   "name": "python",
   "nbconvert_exporter": "python",
   "pygments_lexer": "ipython3",
   "version": "3.7.4"
  }
 },
 "nbformat": 4,
 "nbformat_minor": 2
}
