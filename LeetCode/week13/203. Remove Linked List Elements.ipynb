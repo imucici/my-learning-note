{
 "cells": [
  {
   "cell_type": "code",
   "execution_count": null,
   "metadata": {},
   "outputs": [],
   "source": [
    "# Definition for singly-linked list.\n",
    "# class ListNode:\n",
    "#     def __init__(self, x):\n",
    "#         self.val = x\n",
    "#         self.next = None\n",
    "\n",
    "class Solution:\n",
    "    def removeElements(self, head: ListNode, val: int) -> ListNode:\n",
    "        if head == None:\n",
    "            return None\n",
    "        \n",
    "        elif head.val == val :\n",
    "            head = head.next\n",
    "            return Solution().removeElements(head,val)\n",
    "    \n",
    "        else:\n",
    "            curp  = head\n",
    "            cur = head.next\n",
    "            while cur != None and cur.val != val :\n",
    "                curp = cur\n",
    "                cur = cur.next\n",
    "\n",
    "            if cur == None:\n",
    "                return head\n",
    "            else:\n",
    "                curp.next = cur.next\n",
    "                return Solution().removeElements(head,val)"
   ]
  }
 ],
 "metadata": {
  "kernelspec": {
   "display_name": "Python 3",
   "language": "python",
   "name": "python3"
  },
  "language_info": {
   "codemirror_mode": {
    "name": "ipython",
    "version": 3
   },
   "file_extension": ".py",
   "mimetype": "text/x-python",
   "name": "python",
   "nbconvert_exporter": "python",
   "pygments_lexer": "ipython3",
   "version": "3.7.4"
  }
 },
 "nbformat": 4,
 "nbformat_minor": 2
}
