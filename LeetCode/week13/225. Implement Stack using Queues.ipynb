{
 "cells": [
  {
   "cell_type": "code",
   "execution_count": null,
   "metadata": {},
   "outputs": [],
   "source": [
    "class MyStack:\n",
    "\n",
    "    def __init__(self):\n",
    "        self.s = []\n",
    "        \n",
    "    def push(self, x: int) -> None:\n",
    "        self.s.append(x)\n",
    "        \n",
    "\n",
    "    def pop(self) -> int: #移除並回傳\n",
    "        a = self.s[-1]\n",
    "        self.s.pop()\n",
    "        return a\n",
    "        \n",
    "\n",
    "    def top(self) -> int:\n",
    "        return self.s[-1]\n",
    "        \n",
    "\n",
    "    def empty(self) -> bool:\n",
    "        if len(self.s) == 0:\n",
    "            return True\n",
    "        else:\n",
    "            return False"
   ]
  }
 ],
 "metadata": {
  "kernelspec": {
   "display_name": "Python 3",
   "language": "python",
   "name": "python3"
  },
  "language_info": {
   "codemirror_mode": {
    "name": "ipython",
    "version": 3
   },
   "file_extension": ".py",
   "mimetype": "text/x-python",
   "name": "python",
   "nbconvert_exporter": "python",
   "pygments_lexer": "ipython3",
   "version": "3.7.4"
  }
 },
 "nbformat": 4,
 "nbformat_minor": 2
}
