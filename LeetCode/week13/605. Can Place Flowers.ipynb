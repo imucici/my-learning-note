{
 "cells": [
  {
   "cell_type": "code",
   "execution_count": 9,
   "metadata": {},
   "outputs": [],
   "source": [
    "class Solution:\n",
    "    def canPlaceFlowers(self, a, n) -> bool:\n",
    "        c = 0\n",
    "        \n",
    "        if len(a)==1:\n",
    "            if a[0] == 0:\n",
    "                c+=1\n",
    "               \n",
    "        elif len(a) == 2:\n",
    "            if a[0] == 0 and a[1] == 0:\n",
    "                c+=1\n",
    "                \n",
    "        else:\n",
    "            if a[0] == 0 and a[1] == 0 :\n",
    "                a[0] = 1\n",
    "                c+=1\n",
    "                \n",
    "            if a[-1] == 0 and a[-2] == 0 :\n",
    "                a[-1] = 1\n",
    "                c+=1\n",
    "                \n",
    "            for i in range(1,len(a)-1):\n",
    "                if a[i] != 1 and a[i-1] == 0 and a[i+1] ==0 :\n",
    "                    a[i] = 1\n",
    "                    c += 1\n",
    "      \n",
    "        if n <= c:\n",
    "            return True\n",
    "        else:\n",
    "            return False"
   ]
  }
 ],
 "metadata": {
  "kernelspec": {
   "display_name": "Python 3",
   "language": "python",
   "name": "python3"
  },
  "language_info": {
   "codemirror_mode": {
    "name": "ipython",
    "version": 3
   },
   "file_extension": ".py",
   "mimetype": "text/x-python",
   "name": "python",
   "nbconvert_exporter": "python",
   "pygments_lexer": "ipython3",
   "version": "3.7.4"
  }
 },
 "nbformat": 4,
 "nbformat_minor": 2
}
