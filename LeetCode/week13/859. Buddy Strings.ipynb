{
 "cells": [
  {
   "cell_type": "code",
   "execution_count": null,
   "metadata": {},
   "outputs": [],
   "source": [
    "class Solution:\n",
    "    def buddyStrings(self, a: str, b: str) -> bool:\n",
    "        A = list(a)\n",
    "        B = list(b)\n",
    "        lst = []\n",
    "        if a == b and len(set(A)) == len(A):\n",
    "            return False\n",
    "        else:\n",
    "        \n",
    "            if len(A) == len(B):\n",
    "                for i in set(A):\n",
    "                    if A.count(i) != B.count(i):\n",
    "                        return False\n",
    "                    else:\n",
    "                        for i in range(len(A)):\n",
    "                            if A[i] != B[i]:\n",
    "                                lst.append(A[i])\n",
    "                        if len(lst) > 2:\n",
    "                            return False\n",
    "                        else:\n",
    "                            return True\n",
    "            else:\n",
    "                return False"
   ]
  }
 ],
 "metadata": {
  "kernelspec": {
   "display_name": "Python 3",
   "language": "python",
   "name": "python3"
  },
  "language_info": {
   "codemirror_mode": {
    "name": "ipython",
    "version": 3
   },
   "file_extension": ".py",
   "mimetype": "text/x-python",
   "name": "python",
   "nbconvert_exporter": "python",
   "pygments_lexer": "ipython3",
   "version": "3.7.4"
  }
 },
 "nbformat": 4,
 "nbformat_minor": 2
}
