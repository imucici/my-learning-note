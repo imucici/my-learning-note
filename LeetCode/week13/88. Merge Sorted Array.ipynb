{
 "cells": [
  {
   "cell_type": "code",
   "execution_count": 1,
   "metadata": {},
   "outputs": [],
   "source": [
    "# 由後往前排\n",
    "\n",
    "class Solution:\n",
    "    def merge(self, n1, m, n2, n) -> None:\n",
    "        \n",
    "        if n2 == None:\n",
    "            pass\n",
    "        if n1 == None:\n",
    "            n1 = n2\n",
    "        m -= 1\n",
    "        n -= 1\n",
    "        i = -1\n",
    "        while m >= 0 and n >= 0 :\n",
    "            if n1[m] >= n2[n]:\n",
    "                n1[i] = n1[m]\n",
    "                i -= 1\n",
    "                m -= 1\n",
    "            else:\n",
    "                n1[i] = n2[n]\n",
    "                i -= 1\n",
    "                n -= 1\n",
    "        while m < 0 and n >= 0:\n",
    "            n1[i] = n2[n]\n",
    "            i -= 1\n",
    "            n -= 1\n",
    "        return n1"
   ]
  },
  {
   "cell_type": "code",
   "execution_count": 2,
   "metadata": {},
   "outputs": [
    {
     "data": {
      "text/plain": [
       "[1, 2, 3, 4, 5, 6]"
      ]
     },
     "execution_count": 2,
     "metadata": {},
     "output_type": "execute_result"
    }
   ],
   "source": [
    "Solution().merge([4,5,6,0,0,0],3,[1,2,3],3)"
   ]
  },
  {
   "cell_type": "markdown",
   "metadata": {},
   "source": [
    "另解"
   ]
  },
  {
   "cell_type": "code",
   "execution_count": 17,
   "metadata": {},
   "outputs": [],
   "source": [
    "# 由後往前排\n",
    "\n",
    "class Solution:\n",
    "    def merge(self, n1, m, n2, n) -> None:\n",
    "        if n2 == None:\n",
    "            pass\n",
    "        if n1 == None:\n",
    "            n1 = n2\n",
    "        else:\n",
    "            i=-1\n",
    "\n",
    "            while n>0:\n",
    "                n1[i] = n2[i]\n",
    "                n-=1\n",
    "                i-=1\n",
    "                \n",
    "            a = sorted(n1)\n",
    "            for i in range(len(n1)):\n",
    "                n1[i] = a[i]\n",
    "            return n1"
   ]
  },
  {
   "cell_type": "code",
   "execution_count": 18,
   "metadata": {},
   "outputs": [
    {
     "data": {
      "text/plain": [
       "[1, 2, 3, 4, 5, 6]"
      ]
     },
     "execution_count": 18,
     "metadata": {},
     "output_type": "execute_result"
    }
   ],
   "source": [
    "Solution().merge([4,5,6,0,0,0],3,[1,2,3],3)"
   ]
  }
 ],
 "metadata": {
  "kernelspec": {
   "display_name": "Python 3",
   "language": "python",
   "name": "python3"
  },
  "language_info": {
   "codemirror_mode": {
    "name": "ipython",
    "version": 3
   },
   "file_extension": ".py",
   "mimetype": "text/x-python",
   "name": "python",
   "nbconvert_exporter": "python",
   "pygments_lexer": "ipython3",
   "version": "3.7.4"
  }
 },
 "nbformat": 4,
 "nbformat_minor": 2
}
