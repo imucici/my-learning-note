{
 "cells": [
  {
   "cell_type": "code",
   "execution_count": null,
   "metadata": {},
   "outputs": [],
   "source": [
    "class Solution:\n",
    "    def bitwiseComplement(self, x: int) -> int:\n",
    "        a = bin(x)\n",
    "        a = a[2:]\n",
    "        a = list(a)\n",
    "\n",
    "        for i in range(len(a)) :\n",
    "            if a[i] == '0':\n",
    "                a[i] = \"1\"\n",
    "            elif a[i] == '1':\n",
    "                a[i] = \"0\"\n",
    "\n",
    "        a = \"\".join(a)\n",
    "        a = int(a, 2)\n",
    "        return a"
   ]
  }
 ],
 "metadata": {
  "kernelspec": {
   "display_name": "Python 3",
   "language": "python",
   "name": "python3"
  },
  "language_info": {
   "codemirror_mode": {
    "name": "ipython",
    "version": 3
   },
   "file_extension": ".py",
   "mimetype": "text/x-python",
   "name": "python",
   "nbconvert_exporter": "python",
   "pygments_lexer": "ipython3",
   "version": "3.7.4"
  }
 },
 "nbformat": 4,
 "nbformat_minor": 2
}
