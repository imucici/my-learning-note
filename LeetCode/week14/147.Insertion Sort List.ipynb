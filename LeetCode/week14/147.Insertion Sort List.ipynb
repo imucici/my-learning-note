{
 "cells": [
  {
   "cell_type": "code",
   "execution_count": null,
   "metadata": {},
   "outputs": [],
   "source": [
    "# Definition for singly-linked list.\n",
    "# class ListNode:\n",
    "#     def __init__(self, x):\n",
    "#         self.val = x\n",
    "#         self.next = None\n",
    "\n",
    "class Solution:\n",
    "    def insertionSortList(self, head: ListNode) -> ListNode:\n",
    "        if head == None:\n",
    "            return None\n",
    "        else:\n",
    "            cur = head\n",
    "            arr = []\n",
    "            while cur != None:\n",
    "                arr.append(cur.val)\n",
    "                cur = cur.next\n",
    "        \n",
    "        for i in range(1,len(arr)):\n",
    "            while i > 0 and arr[i] < arr[i-1]:\n",
    "                arr[i],arr[i-1] = arr[i-1],arr[i]\n",
    "                i -= 1\n",
    "                \n",
    "        head = ListNode(arr[0])\n",
    "        cur = head\n",
    "        for i in range(1,len(arr)):\n",
    "            cur.next = ListNode(arr[i])\n",
    "            cur = cur.next\n",
    "        return head"
   ]
  }
 ],
 "metadata": {
  "kernelspec": {
   "display_name": "Python 3",
   "language": "python",
   "name": "python3"
  },
  "language_info": {
   "codemirror_mode": {
    "name": "ipython",
    "version": 3
   },
   "file_extension": ".py",
   "mimetype": "text/x-python",
   "name": "python",
   "nbconvert_exporter": "python",
   "pygments_lexer": "ipython3",
   "version": "3.7.4"
  }
 },
 "nbformat": 4,
 "nbformat_minor": 2
}
