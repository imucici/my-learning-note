{
 "cells": [
  {
   "cell_type": "code",
   "execution_count": null,
   "metadata": {},
   "outputs": [],
   "source": [
    "# Definition for singly-linked list.\n",
    "# class ListNode:\n",
    "#     def __init__(self, x):\n",
    "#         self.val = x\n",
    "#         self.next = None\n",
    "\n",
    "class Solution:\n",
    "    def reverseList(self, head: ListNode) -> ListNode:\n",
    "        if head == None:\n",
    "            return None\n",
    "        else:\n",
    "        \n",
    "            a = []\n",
    "            cur = head\n",
    "            while cur != None:\n",
    "                a.append(cur.val)\n",
    "                cur = cur.next\n",
    "            r = a[::-1]\n",
    "\n",
    "            head = ListNode(r[0])\n",
    "            temp = head\n",
    "            for i in range(1,len(r)):\n",
    "                temp.next = ListNode(r[i])\n",
    "                temp = temp.next\n",
    "            return head"
   ]
  }
 ],
 "metadata": {
  "kernelspec": {
   "display_name": "Python 3",
   "language": "python",
   "name": "python3"
  },
  "language_info": {
   "codemirror_mode": {
    "name": "ipython",
    "version": 3
   },
   "file_extension": ".py",
   "mimetype": "text/x-python",
   "name": "python",
   "nbconvert_exporter": "python",
   "pygments_lexer": "ipython3",
   "version": "3.7.4"
  }
 },
 "nbformat": 4,
 "nbformat_minor": 2
}
