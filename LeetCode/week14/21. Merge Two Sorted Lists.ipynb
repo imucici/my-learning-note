{
 "cells": [
  {
   "cell_type": "code",
   "execution_count": null,
   "metadata": {},
   "outputs": [],
   "source": [
    "# Definition for singly-linked list.\n",
    "# class ListNode:\n",
    "#     def __init__(self, x):\n",
    "#         self.val = x\n",
    "#         self.next = None\n",
    "\n",
    "class Solution:\n",
    "    def mergeTwoLists(self, l1: ListNode, l2: ListNode) -> ListNode:\n",
    "        \n",
    "        if l1 == None and l2 == None:\n",
    "            return None\n",
    "        else:\n",
    "            a1 = []\n",
    "            cur1 = l1\n",
    "            while cur1 !=None:\n",
    "                a1.append(cur1.val)\n",
    "                cur1 = cur1.next\n",
    "            a2 = []\n",
    "            cur2 = l2\n",
    "            while cur2 !=None:\n",
    "                a2.append(cur2.val)\n",
    "                cur2 = cur2.next            \n",
    "\n",
    "            s = sorted(a1+a2)\n",
    "\n",
    "            head = ListNode(s[0])\n",
    "            temp = head\n",
    "            for i in range(1,len(s)):\n",
    "                temp.next = ListNode(s[i])\n",
    "                temp = temp.next\n",
    "            return head\n"
   ]
  }
 ],
 "metadata": {
  "kernelspec": {
   "display_name": "Python 3",
   "language": "python",
   "name": "python3"
  },
  "language_info": {
   "codemirror_mode": {
    "name": "ipython",
    "version": 3
   },
   "file_extension": ".py",
   "mimetype": "text/x-python",
   "name": "python",
   "nbconvert_exporter": "python",
   "pygments_lexer": "ipython3",
   "version": "3.7.4"
  }
 },
 "nbformat": 4,
 "nbformat_minor": 2
}
