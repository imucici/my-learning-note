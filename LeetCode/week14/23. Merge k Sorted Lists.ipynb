{
 "cells": [
  {
   "cell_type": "code",
   "execution_count": null,
   "metadata": {},
   "outputs": [],
   "source": [
    "# Definition for singly-linked list.\n",
    "# class ListNode:\n",
    "#     def __init__(self, x):\n",
    "#         self.val = x\n",
    "#         self.next = None\n",
    "\n",
    "class Solution:\n",
    "    def mergeKLists(self, lst: List[ListNode]) -> ListNode:\n",
    "        if lst == []:\n",
    "            return None\n",
    "        else:\n",
    "            a = []\n",
    "            for i in range(len(lst)):\n",
    "                head = lst[i]\n",
    "                cur = head\n",
    "                while cur != None:\n",
    "                    a.append(cur.val)\n",
    "                    cur = cur.next\n",
    "            a = sorted(a)\n",
    "            \n",
    "            if len(a) == 0:\n",
    "                return None\n",
    "            else:\n",
    "                head = ListNode(a[0])\n",
    "                temp = head\n",
    "                for i in range(1,len(a)):\n",
    "                    temp.next = ListNode(a[i])\n",
    "                    temp = temp.next\n",
    "                return head"
   ]
  }
 ],
 "metadata": {
  "kernelspec": {
   "display_name": "Python 3",
   "language": "python",
   "name": "python3"
  },
  "language_info": {
   "codemirror_mode": {
    "name": "ipython",
    "version": 3
   },
   "file_extension": ".py",
   "mimetype": "text/x-python",
   "name": "python",
   "nbconvert_exporter": "python",
   "pygments_lexer": "ipython3",
   "version": "3.7.4"
  }
 },
 "nbformat": 4,
 "nbformat_minor": 2
}
