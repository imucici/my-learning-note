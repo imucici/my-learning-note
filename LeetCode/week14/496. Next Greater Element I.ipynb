{
 "cells": [
  {
   "cell_type": "code",
   "execution_count": 11,
   "metadata": {},
   "outputs": [
    {
     "name": "stdout",
     "output_type": "stream",
     "text": [
      "[3, -1]\n"
     ]
    }
   ],
   "source": [
    "class Solution:\n",
    "    def nextGreaterElement(self, a: List[int], b: List[int]) -> List[int]:\n",
    "        lst = []\n",
    "        for i in range(len(a)):\n",
    "            for j in range(len(b)):\n",
    "                if a[i] == b[j]:\n",
    "                    if b[j] == b[-1]:\n",
    "                        lst.append(-1)\n",
    "                    else:\n",
    "                        det = True\n",
    "                        for k in range(j+1,len(b)):\n",
    "                            if b[k] > a[i] :\n",
    "                                det = False\n",
    "                                lst.append(b[k])\n",
    "                                break\n",
    "                        if det:\n",
    "                            lst.append(-1)\n",
    "        return lst"
   ]
  }
 ],
 "metadata": {
  "kernelspec": {
   "display_name": "Python 3",
   "language": "python",
   "name": "python3"
  },
  "language_info": {
   "codemirror_mode": {
    "name": "ipython",
    "version": 3
   },
   "file_extension": ".py",
   "mimetype": "text/x-python",
   "name": "python",
   "nbconvert_exporter": "python",
   "pygments_lexer": "ipython3",
   "version": "3.7.4"
  }
 },
 "nbformat": 4,
 "nbformat_minor": 2
}
