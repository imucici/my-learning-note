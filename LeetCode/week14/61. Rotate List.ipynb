{
 "cells": [
  {
   "cell_type": "code",
   "execution_count": null,
   "metadata": {},
   "outputs": [],
   "source": [
    "# Definition for singly-linked list.\n",
    "# class ListNode:\n",
    "#     def __init__(self, x):\n",
    "#         self.val = x\n",
    "#         self.next = None\n",
    "\n",
    "class Solution:\n",
    "    def rotateRight(self, head: ListNode, k: int) -> ListNode:\n",
    "        if head == None:\n",
    "            return None\n",
    "        else:\n",
    "            \n",
    "            arr = []\n",
    "            size = 0\n",
    "            cur = head\n",
    "            while cur != None:\n",
    "                arr.append(cur.val)\n",
    "                cur = cur.next\n",
    "                size+=1\n",
    "\n",
    "            if size == k:\n",
    "                a = arr\n",
    "            elif size > k:\n",
    "                a = arr[-k:]+arr[0:-k]\n",
    "            else:\n",
    "                p = k%size\n",
    "                a = arr[-p:]+arr[0:-p]\n",
    "\n",
    "            head = ListNode(a[0])\n",
    "            temp = head\n",
    "            for i in range(1,len(a)):\n",
    "                temp.next = ListNode(a[i])\n",
    "                temp = temp.next\n",
    "            return head"
   ]
  }
 ],
 "metadata": {
  "kernelspec": {
   "display_name": "Python 3",
   "language": "python",
   "name": "python3"
  },
  "language_info": {
   "codemirror_mode": {
    "name": "ipython",
    "version": 3
   },
   "file_extension": ".py",
   "mimetype": "text/x-python",
   "name": "python",
   "nbconvert_exporter": "python",
   "pygments_lexer": "ipython3",
   "version": "3.7.4"
  }
 },
 "nbformat": 4,
 "nbformat_minor": 2
}
