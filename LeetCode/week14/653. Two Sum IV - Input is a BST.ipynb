{
 "cells": [
  {
   "cell_type": "code",
   "execution_count": null,
   "metadata": {},
   "outputs": [],
   "source": [
    "# Definition for a binary tree node.\n",
    "# class TreeNode:\n",
    "#     def __init__(self, x):\n",
    "#         self.val = x\n",
    "#         self.left = None\n",
    "#         self.right = None\n",
    "\n",
    "class Solution:\n",
    "    def findTarget(self, root: TreeNode, k: int) -> bool:\n",
    "        if root == None:\n",
    "            return None\n",
    "        else:\n",
    "            arr = []\n",
    "            a = Solution().pre(root,arr)\n",
    "            \n",
    "            for i in range(len(a)):\n",
    "                for j in range(1,len(a)):\n",
    "                    if i != j and a[i]+a[j]==k:\n",
    "                        return True\n",
    "            return False\n",
    "    def pre(self,root,arr): \n",
    "        arr.append(root.val)\n",
    "        if root.left != None:\n",
    "            Solution().pre(root.left,arr)\n",
    "        if root.right != None:\n",
    "            Solution().pre(root.right,arr)\n",
    "        return arr\n",
    "            "
   ]
  }
 ],
 "metadata": {
  "kernelspec": {
   "display_name": "Python 3",
   "language": "python",
   "name": "python3"
  },
  "language_info": {
   "codemirror_mode": {
    "name": "ipython",
    "version": 3
   },
   "file_extension": ".py",
   "mimetype": "text/x-python",
   "name": "python",
   "nbconvert_exporter": "python",
   "pygments_lexer": "ipython3",
   "version": "3.7.4"
  }
 },
 "nbformat": 4,
 "nbformat_minor": 2
}
