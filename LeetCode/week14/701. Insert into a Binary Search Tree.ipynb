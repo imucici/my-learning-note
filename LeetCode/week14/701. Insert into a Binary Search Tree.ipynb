{
 "cells": [
  {
   "cell_type": "code",
   "execution_count": null,
   "metadata": {},
   "outputs": [],
   "source": [
    "# Definition for a binary tree node.\n",
    "# class TreeNode:\n",
    "#     def __init__(self, x):\n",
    "#         self.val = x\n",
    "#         self.left = None\n",
    "#         self.right = None\n",
    "\n",
    "class Solution:\n",
    "    def insertIntoBST(self, root: TreeNode, val: int) -> TreeNode:\n",
    "        Solution().help(root,val)\n",
    "        return root\n",
    "    def help(self, root: TreeNode, val: int) -> TreeNode:\n",
    "        if val < root.val:\n",
    "            if root.left == None:\n",
    "                root.left = TreeNode(val)\n",
    "                return root\n",
    "            else:\n",
    "                return Solution().insertIntoBST(root.left,val)\n",
    "        elif val > root.val:\n",
    "            if root.right == None:\n",
    "                root.right = TreeNode(val)\n",
    "                return root\n",
    "            else:\n",
    "                return Solution().insertIntoBST(root.right,val)"
   ]
  }
 ],
 "metadata": {
  "kernelspec": {
   "display_name": "Python 3",
   "language": "python",
   "name": "python3"
  },
  "language_info": {
   "codemirror_mode": {
    "name": "ipython",
    "version": 3
   },
   "file_extension": ".py",
   "mimetype": "text/x-python",
   "name": "python",
   "nbconvert_exporter": "python",
   "pygments_lexer": "ipython3",
   "version": "3.7.4"
  }
 },
 "nbformat": 4,
 "nbformat_minor": 2
}
