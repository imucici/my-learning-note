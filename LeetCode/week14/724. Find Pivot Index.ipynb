{
 "cells": [
  {
   "cell_type": "code",
   "execution_count": null,
   "metadata": {},
   "outputs": [],
   "source": [
    "class Solution(object):\n",
    "    def pivotIndex(self, nums):\n",
    "        if not nums or len(nums)==1:\n",
    "            return -1\n",
    "        t = sum(nums)\n",
    "        sumtillnow = 0\n",
    "        for i in range(0, len(nums)):\n",
    "            if (t-nums[i])*0.5==sumtillnow:\n",
    "                return i\n",
    "            sumtillnow += nums[i]\n",
    "        return -1"
   ]
  }
 ],
 "metadata": {
  "kernelspec": {
   "display_name": "Python 3",
   "language": "python",
   "name": "python3"
  },
  "language_info": {
   "codemirror_mode": {
    "name": "ipython",
    "version": 3
   },
   "file_extension": ".py",
   "mimetype": "text/x-python",
   "name": "python",
   "nbconvert_exporter": "python",
   "pygments_lexer": "ipython3",
   "version": "3.7.4"
  }
 },
 "nbformat": 4,
 "nbformat_minor": 2
}
