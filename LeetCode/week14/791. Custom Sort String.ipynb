{
 "cells": [
  {
   "cell_type": "code",
   "execution_count": null,
   "metadata": {},
   "outputs": [],
   "source": [
    "class Solution:\n",
    "    def customSortString(self, s: str, t: str) -> str:\n",
    "        a = []\n",
    "\n",
    "        s = list(s)\n",
    "        t = list(t)\n",
    "        for i in s:\n",
    "            if i in t:\n",
    "                c = t.count(i)\n",
    "                a.extend([i]*c)\n",
    "                n = 0\n",
    "                while n < c:\n",
    "                    t.remove(i)\n",
    "                    n+=1\n",
    "        return \"\".join((a+t))"
   ]
  }
 ],
 "metadata": {
  "kernelspec": {
   "display_name": "Python 3",
   "language": "python",
   "name": "python3"
  },
  "language_info": {
   "codemirror_mode": {
    "name": "ipython",
    "version": 3
   },
   "file_extension": ".py",
   "mimetype": "text/x-python",
   "name": "python",
   "nbconvert_exporter": "python",
   "pygments_lexer": "ipython3",
   "version": "3.7.4"
  }
 },
 "nbformat": 4,
 "nbformat_minor": 2
}
