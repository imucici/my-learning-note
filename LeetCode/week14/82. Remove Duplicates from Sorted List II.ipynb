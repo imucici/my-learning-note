{
 "cells": [
  {
   "cell_type": "markdown",
   "metadata": {},
   "source": [
    "佔外部空間"
   ]
  },
  {
   "cell_type": "code",
   "execution_count": null,
   "metadata": {},
   "outputs": [],
   "source": [
    "# Definition for singly-linked list.\n",
    "# class ListNode:\n",
    "#     def __init__(self, x):\n",
    "#         self.val = x\n",
    "#         self.next = None\n",
    "\n",
    "class Solution:\n",
    "    def deleteDuplicates(self, head: ListNode) -> ListNode:\n",
    "        if head == None:\n",
    "            return None\n",
    "        else:\n",
    "            \n",
    "            a = [] #放所有節點\n",
    "            cur = head\n",
    "            while cur != None:\n",
    "                a.append(cur.val)\n",
    "                cur = cur.next\n",
    "            \n",
    "            lst = []\n",
    "            for i in a:\n",
    "                if a.count(i) == 1:\n",
    "                    lst.append(i)\n",
    "            if len(lst) == 0:\n",
    "                return None\n",
    "            else:\n",
    "                root = ListNode(lst[0])\n",
    "                temp = root\n",
    "                for i in range(1,len(lst)):\n",
    "                    temp.next = ListNode(lst[i])\n",
    "                    temp = temp.next\n",
    "                return root"
   ]
  },
  {
   "cell_type": "markdown",
   "metadata": {},
   "source": [
    "不佔外部空間"
   ]
  },
  {
   "cell_type": "code",
   "execution_count": null,
   "metadata": {},
   "outputs": [],
   "source": [
    "# Definition for singly-linked list.\n",
    "# class ListNode:\n",
    "#     def __init__(self, x):\n",
    "#         self.val = x\n",
    "#         self.next = None\n",
    "\n",
    "class Solution:\n",
    "    def deleteDuplicates(self, head: ListNode) -> ListNode:\n",
    "        if head == None or head.next == None:\n",
    "            return head\n",
    "        else:\n",
    "            curp = head\n",
    "            cur = head.next\n",
    "            if curp.val == cur.val:              \n",
    "                while cur.next != None and cur.next.val == cur.val:\n",
    "                    cur = cur.next\n",
    "                head = cur.next\n",
    "                return self.deleteDuplicates(head)\n",
    "            else:\n",
    "                while cur.next != None and cur.next.val != cur.val:\n",
    "                    curp = cur\n",
    "                    cur = cur.next\n",
    "                if cur.next == None:\n",
    "                    return head\n",
    "                else:\n",
    "                    while cur.next != None and cur.next.val == cur.val:\n",
    "                        cur = cur.next\n",
    "                    curp.next = cur.next\n",
    "                    return self.deleteDuplicates(head)"
   ]
  }
 ],
 "metadata": {
  "kernelspec": {
   "display_name": "Python 3",
   "language": "python",
   "name": "python3"
  },
  "language_info": {
   "codemirror_mode": {
    "name": "ipython",
    "version": 3
   },
   "file_extension": ".py",
   "mimetype": "text/x-python",
   "name": "python",
   "nbconvert_exporter": "python",
   "pygments_lexer": "ipython3",
   "version": "3.7.4"
  }
 },
 "nbformat": 4,
 "nbformat_minor": 2
}
