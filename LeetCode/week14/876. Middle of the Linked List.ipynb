{
 "cells": [
  {
   "cell_type": "code",
   "execution_count": null,
   "metadata": {},
   "outputs": [],
   "source": [
    "# Definition for singly-linked list.\n",
    "# class ListNode:\n",
    "#     def __init__(self, x):\n",
    "#         self.val = x\n",
    "#         self.next = None\n",
    "\n",
    "class Solution:\n",
    "    \n",
    "    def middleNode(self, head):\n",
    "        size = 0\n",
    "        cur = head\n",
    "        while cur != None:\n",
    "            cur = cur.next\n",
    "            size+=1\n",
    "            \n",
    "        mid = size//2\n",
    "        count = 0\n",
    "        target = head\n",
    "        while count != mid:\n",
    "            target = target.next\n",
    "            count+=1\n",
    "        return target"
   ]
  }
 ],
 "metadata": {
  "kernelspec": {
   "display_name": "Python 3",
   "language": "python",
   "name": "python3"
  },
  "language_info": {
   "codemirror_mode": {
    "name": "ipython",
    "version": 3
   },
   "file_extension": ".py",
   "mimetype": "text/x-python",
   "name": "python",
   "nbconvert_exporter": "python",
   "pygments_lexer": "ipython3",
   "version": "3.7.4"
  }
 },
 "nbformat": 4,
 "nbformat_minor": 2
}
