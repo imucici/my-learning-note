{
 "cells": [
  {
   "cell_type": "code",
   "execution_count": null,
   "metadata": {},
   "outputs": [],
   "source": [
    "class Solution:\n",
    "    def sortArray(self, nums: List[int]) -> List[int]:\n",
    "        \n",
    "        if len(nums) <= 1:\n",
    "             return nums\n",
    "        else:\n",
    "            pivot = nums[0]\n",
    "            smaller = []\n",
    "            equal = []\n",
    "            bigger = []\n",
    "            for i in nums:\n",
    "                if i < pivot:\n",
    "                    smaller.append(i)\n",
    "                elif i > pivot:\n",
    "                    bigger.append(i)\n",
    "                else:\n",
    "                    equal.append(i)\n",
    "        return Solution().sortArray(smaller)+equal+Solution().sortArray(bigger)"
   ]
  }
 ],
 "metadata": {
  "kernelspec": {
   "display_name": "Python 3",
   "language": "python",
   "name": "python3"
  },
  "language_info": {
   "codemirror_mode": {
    "name": "ipython",
    "version": 3
   },
   "file_extension": ".py",
   "mimetype": "text/x-python",
   "name": "python",
   "nbconvert_exporter": "python",
   "pygments_lexer": "ipython3",
   "version": "3.7.4"
  }
 },
 "nbformat": 4,
 "nbformat_minor": 2
}
