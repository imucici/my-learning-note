{
 "cells": [
  {
   "cell_type": "code",
   "execution_count": 11,
   "metadata": {},
   "outputs": [
    {
     "name": "stdout",
     "output_type": "stream",
     "text": [
      "[1, 3]\n"
     ]
    }
   ],
   "source": [
    "# Definition for a binary tree node.\n",
    "# class TreeNode:\n",
    "#     def __init__(self, x):\n",
    "#         self.val = x\n",
    "#         self.left = None\n",
    "#         self.right = None\n",
    "\n",
    "class CBTInserter:\n",
    "\n",
    "    def __init__(self, root: TreeNode):\n",
    "        self.root = root\n",
    "        self.size = helper().pre(root,[])\n",
    "        \n",
    "    def insert(self, v: int) -> int:\n",
    "        if self.root == None:\n",
    "            self.root = TreeNode(v)\n",
    "            self.size += 1\n",
    "            return None\n",
    "        elif self.root.left == None:\n",
    "            self.root.left = TreeNode(v)\n",
    "            self.size += 1\n",
    "            return self.root.val\n",
    "        elif self.root.right == None:\n",
    "            self.root.right = TreeNode(v)\n",
    "            self.size += 1\n",
    "            return self.root.val\n",
    "        arr = []\n",
    "        size = self.size // 2\n",
    "        while size != 1:\n",
    "            arr.append(size)\n",
    "            size = size // 2   \n",
    "        arr = arr[::-1]\n",
    "        \n",
    "        cur = self.root\n",
    "        for i in arr:\n",
    "            if i %2 == 1:\n",
    "                cur = cur.right\n",
    "            else:\n",
    "                cur = cur.left\n",
    "        if self.size % 2 == 0:\n",
    "            cur.left = TreeNode(v)\n",
    "        else:\n",
    "            cur.right = TreeNode(v)\n",
    "        self.size += 1\n",
    "        return cur.val\n",
    "        \n",
    "    def get_root(self) -> TreeNode:\n",
    "        return self.root\n",
    "\n",
    "class helper:  \n",
    "    def pre(self,root,lst):\n",
    "        if root == None:\n",
    "            return len(lst) + 1\n",
    "        else:   \n",
    "            lst.append(root.val)\n",
    "            if root.left != None:\n",
    "                helper().pre(root.left,lst)\n",
    "            if root.right != None:\n",
    "                helper().pre(root.right,lst)\n",
    "            return len(lst) + 1\n",
    "# Your CBTInserter object will be instantiated and called as such:\n",
    "# obj = CBTInserter(root)\n",
    "# param_1 = obj.insert(v)\n",
    "# param_2 = obj.get_root()"
   ]
  }
 ],
 "metadata": {
  "kernelspec": {
   "display_name": "Python 3",
   "language": "python",
   "name": "python3"
  },
  "language_info": {
   "codemirror_mode": {
    "name": "ipython",
    "version": 3
   },
   "file_extension": ".py",
   "mimetype": "text/x-python",
   "name": "python",
   "nbconvert_exporter": "python",
   "pygments_lexer": "ipython3",
   "version": "3.7.4"
  }
 },
 "nbformat": 4,
 "nbformat_minor": 2
}
