{
 "cells": [
  {
   "cell_type": "code",
   "execution_count": null,
   "metadata": {},
   "outputs": [],
   "source": [
    "# Definition for singly-linked list.\n",
    "# class ListNode:\n",
    "#     def __init__(self, x):\n",
    "#         self.val = x\n",
    "#         self.next = None\n",
    "\n",
    "class Solution:\n",
    "    def reverseBetween(self, head: ListNode, m: int, n: int) -> ListNode:\n",
    "        a = []\n",
    "        cur = head\n",
    "        while cur != None:\n",
    "            a.append(cur.val)\n",
    "            cur = cur.next\n",
    "        m-=1\n",
    "        n-=1\n",
    "        \n",
    "        h = a[:m]\n",
    "        m = a[m:n+1]\n",
    "        r = m[::-1]\n",
    "        t = a[n+1:]\n",
    "        final = h+r+t\n",
    "        \n",
    "        head = ListNode(final[0])\n",
    "        temp = head\n",
    "        for i in range(1,len(final)):\n",
    "            temp.next = ListNode(final[i])\n",
    "            temp = temp.next\n",
    "        return head"
   ]
  }
 ],
 "metadata": {
  "kernelspec": {
   "display_name": "Python 3",
   "language": "python",
   "name": "python3"
  },
  "language_info": {
   "codemirror_mode": {
    "name": "ipython",
    "version": 3
   },
   "file_extension": ".py",
   "mimetype": "text/x-python",
   "name": "python",
   "nbconvert_exporter": "python",
   "pygments_lexer": "ipython3",
   "version": "3.7.4"
  }
 },
 "nbformat": 4,
 "nbformat_minor": 2
}
