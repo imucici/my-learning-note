{
 "cells": [
  {
   "cell_type": "code",
   "execution_count": null,
   "metadata": {},
   "outputs": [],
   "source": [
    "#Definition for a binary tree node.\n",
    "# class TreeNode:\n",
    "#     def __init__(self, x):\n",
    "#         self.val = x\n",
    "#         self.left = None\n",
    "#         self.right = None\n",
    "\n",
    "class Solution:\n",
    "    def rangeSumBST(self, root: TreeNode, L: int, R: int) -> int:\n",
    "        arr = Solution().pre(root,[])\n",
    "        ans = 0\n",
    "        for i in range(len(arr)):\n",
    "            if arr[i] >= L and arr[i] <= R:\n",
    "                ans = ans + arr[i]\n",
    "        return ans    \n",
    "    \n",
    "    def pre(self,root,arr):\n",
    "        if root == None:\n",
    "            return arr\n",
    "        else:\n",
    "            arr.append(root.val)\n",
    "            if root.left is not None:\n",
    "                Solution().pre(root.left,arr)\n",
    "            if root.right is not None:\n",
    "                Solution().pre(root.right,arr)\n",
    "            return arr"
   ]
  }
 ],
 "metadata": {
  "kernelspec": {
   "display_name": "Python 3",
   "language": "python",
   "name": "python3"
  },
  "language_info": {
   "codemirror_mode": {
    "name": "ipython",
    "version": 3
   },
   "file_extension": ".py",
   "mimetype": "text/x-python",
   "name": "python",
   "nbconvert_exporter": "python",
   "pygments_lexer": "ipython3",
   "version": "3.7.4"
  }
 },
 "nbformat": 4,
 "nbformat_minor": 2
}
