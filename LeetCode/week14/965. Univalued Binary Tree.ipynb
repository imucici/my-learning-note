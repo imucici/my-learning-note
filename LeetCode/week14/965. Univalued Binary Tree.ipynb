{
 "cells": [
  {
   "cell_type": "code",
   "execution_count": null,
   "metadata": {},
   "outputs": [],
   "source": [
    "# Definition for a binary tree node.\n",
    "# class TreeNode:\n",
    "#     def __init__(self, x):\n",
    "#         self.val = x\n",
    "#         self.left = None\n",
    "#         self.right = None\n",
    "\n",
    "class Solution:\n",
    "    def isUnivalTree(self, root: TreeNode) -> bool:\n",
    "        s = []\n",
    "        a = Solution().pre(root,s)\n",
    "        if len(set(a)) == 1:\n",
    "            return True\n",
    "        else:\n",
    "            return False\n",
    "    def pre(self,root,s):\n",
    "        s.append(root.val)\n",
    "        if root.left != None:\n",
    "            Solution().pre(root.left,s)\n",
    "        if root.right != None:\n",
    "            Solution().pre(root.right,s)\n",
    "        return s"
   ]
  }
 ],
 "metadata": {
  "kernelspec": {
   "display_name": "Python 3",
   "language": "python",
   "name": "python3"
  },
  "language_info": {
   "codemirror_mode": {
    "name": "ipython",
    "version": 3
   },
   "file_extension": ".py",
   "mimetype": "text/x-python",
   "name": "python",
   "nbconvert_exporter": "python",
   "pygments_lexer": "ipython3",
   "version": "3.7.4"
  }
 },
 "nbformat": 4,
 "nbformat_minor": 2
}
