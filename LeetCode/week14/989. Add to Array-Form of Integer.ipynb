{
 "cells": [
  {
   "cell_type": "code",
   "execution_count": null,
   "metadata": {},
   "outputs": [],
   "source": [
    "class Solution:\n",
    "    def addToArrayForm(self, a: List[int], k: int) -> List[int]:\n",
    "        k = str(k)\n",
    "        c = len(a)\n",
    "        d = len(k)\n",
    "        ans = []\n",
    "        for i in range(1,min(c,d)+1):\n",
    "            ans.insert(0,a[-i]+int(k[-i]))\n",
    "        for i in range(min(c,d)+1,max(c,d)+1):\n",
    "            if c == max(c,d):\n",
    "                ans.insert(0,a[-i])\n",
    "            else:\n",
    "                ans.insert(0,int(k[-i]))\n",
    "        ans.insert(0,0)\n",
    "        for i in range(1,len(ans)):\n",
    "            if ans[-i] >= 10:\n",
    "                ans[-i] -= 10\n",
    "                ans[-i-1] += 1\n",
    "        if ans[0] == 0:\n",
    "            ans.remove(0)\n",
    "        return ans"
   ]
  }
 ],
 "metadata": {
  "kernelspec": {
   "display_name": "Python 3",
   "language": "python",
   "name": "python3"
  },
  "language_info": {
   "codemirror_mode": {
    "name": "ipython",
    "version": 3
   },
   "file_extension": ".py",
   "mimetype": "text/x-python",
   "name": "python",
   "nbconvert_exporter": "python",
   "pygments_lexer": "ipython3",
   "version": "3.7.4"
  }
 },
 "nbformat": 4,
 "nbformat_minor": 2
}
