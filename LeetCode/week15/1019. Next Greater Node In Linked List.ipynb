{
 "cells": [
  {
   "cell_type": "markdown",
   "metadata": {},
   "source": [
    "解一:佔外部空間"
   ]
  },
  {
   "cell_type": "code",
   "execution_count": 22,
   "metadata": {},
   "outputs": [
    {
     "name": "stdout",
     "output_type": "stream",
     "text": [
      "[0, 0, 0]\n"
     ]
    }
   ],
   "source": [
    "arr = [5,5,5]\n",
    "lst = []\n",
    "\n",
    "\n",
    "for i in range(len(arr)):\n",
    "    det = True\n",
    "    for j in range(i+1,len(arr)):\n",
    "        if i == len(arr)-1:\n",
    "            lst.append(0)\n",
    "            break\n",
    "        else:\n",
    "            if i != j and arr[i] < arr[j]:\n",
    "                det = False\n",
    "                lst.append(arr[j])\n",
    "                break\n",
    "    if det == True:\n",
    "        lst.append(0)\n",
    "print(lst)"
   ]
  },
  {
   "cell_type": "markdown",
   "metadata": {},
   "source": [
    "解二:in-place"
   ]
  },
  {
   "cell_type": "code",
   "execution_count": 27,
   "metadata": {},
   "outputs": [],
   "source": [
    "####超時##\n",
    "\n",
    "# Definition for singly-linked list.\n",
    "# class ListNode:\n",
    "#     def __init__(self, x):\n",
    "#         self.val = x\n",
    "#         self.next = None\n",
    "\n",
    "class Solution:\n",
    "    def nextLargerNodes(self, head: ListNode) -> List[int]:\n",
    "        lst = []\n",
    "        curp = head\n",
    "        cur = head.next\n",
    "        \n",
    "        while cur != None:\n",
    "            while cur != None and cur.val <= curp.val:\n",
    "                cur = cur.next\n",
    "            if cur == None:\n",
    "                lst.append(0)\n",
    "            else:\n",
    "                lst.append(cur.val)\n",
    "                \n",
    "            curp = curp.next\n",
    "            cur = curp.next\n",
    "        lst.append(0)\n",
    "        \n",
    "        return lst"
   ]
  },
  {
   "cell_type": "code",
   "execution_count": 53,
   "metadata": {},
   "outputs": [],
   "source": [
    "class Solution:\n",
    "    def nextLargerNodes(self, head: ListNode) -> List[int]:\n",
    "        temp = head\n",
    "        l = []\n",
    "        #transver linked list values to a list -> l\n",
    "        while temp :\n",
    "            l.append(temp.val)\n",
    "            temp = temp.next\n",
    "        # Take an empty stack\n",
    "        stack = []\n",
    "        #Take a res with all zeros\n",
    "        res = [0]*len(l)\n",
    "        \n",
    "        #Traverse from reverse of list\n",
    "        for i in range(len(l)-1, -1, -1):\n",
    "            if len(stack)!=0:\n",
    "                #Check until the top of stack is less than current item\n",
    "                while len(stack)!=0 and stack[-1]<=l[i]:\n",
    "                    stack.pop()\n",
    "            \n",
    "            #If the current item is not greater than top of stack, then its next greater is current Top of stack\n",
    "            if len(stack)!=0:\n",
    "                res[i] = stack[-1]\n",
    "                \n",
    "            #Finally append current item for future element checking\n",
    "            stack.append(l[i])\n",
    "            \n",
    "        del stack\n",
    "        return res"
   ]
  }
 ],
 "metadata": {
  "kernelspec": {
   "display_name": "Python 3",
   "language": "python",
   "name": "python3"
  },
  "language_info": {
   "codemirror_mode": {
    "name": "ipython",
    "version": 3
   },
   "file_extension": ".py",
   "mimetype": "text/x-python",
   "name": "python",
   "nbconvert_exporter": "python",
   "pygments_lexer": "ipython3",
   "version": "3.7.4"
  }
 },
 "nbformat": 4,
 "nbformat_minor": 2
}
