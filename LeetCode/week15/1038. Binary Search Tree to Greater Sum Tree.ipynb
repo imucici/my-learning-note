{
 "cells": [
  {
   "cell_type": "code",
   "execution_count": null,
   "metadata": {},
   "outputs": [],
   "source": [
    "# Definition for a binary tree node.\n",
    "# class TreeNode:\n",
    "#     def __init__(self, x):\n",
    "#         self.val = x\n",
    "#         self.left = None\n",
    "#         self.right = None\n",
    "\n",
    "class Solution:\n",
    "    def bstToGst(self, root: TreeNode) -> TreeNode:\n",
    "        if root == None or (root.left == None and root.right == None):\n",
    "            return root\n",
    "        else:\n",
    "            self.sum = 0 \n",
    "            return self.helper(root)\n",
    "            \n",
    "    def helper(self,root):\n",
    "        if root.right != None:\n",
    "            self.helper(root.right)\n",
    "        self.sum+=root.val\n",
    "        root.val = self.sum\n",
    "            \n",
    "        if root.left != None:\n",
    "            self.helper(root.left)\n",
    "        return root"
   ]
  }
 ],
 "metadata": {
  "kernelspec": {
   "display_name": "Python 3",
   "language": "python",
   "name": "python3"
  },
  "language_info": {
   "codemirror_mode": {
    "name": "ipython",
    "version": 3
   },
   "file_extension": ".py",
   "mimetype": "text/x-python",
   "name": "python",
   "nbconvert_exporter": "python",
   "pygments_lexer": "ipython3",
   "version": "3.7.4"
  }
 },
 "nbformat": 4,
 "nbformat_minor": 2
}
