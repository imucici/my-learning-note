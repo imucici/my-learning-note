{
 "cells": [
  {
   "cell_type": "code",
   "execution_count": null,
   "metadata": {},
   "outputs": [],
   "source": [
    "class Solution:\n",
    "    def removeDuplicates(self, S: str) -> str:\n",
    "        b = list(S)\n",
    "        l = len(S) - 1\n",
    "        det = True\n",
    "        for i in range(l):\n",
    "            if i < l:\n",
    "                if b[i] == b[i+1]:\n",
    "                    b.pop(i)\n",
    "                    b.pop(i)\n",
    "                    l = l - 2\n",
    "                    det = False\n",
    "        if det:\n",
    "            return S\n",
    "        else:\n",
    "            c = \"\".join(b)\n",
    "            if c == \"\" or len(c) == 1:\n",
    "                return c\n",
    "            else:\n",
    "                return Solution().removeDuplicates(c)"
   ]
  }
 ],
 "metadata": {
  "kernelspec": {
   "display_name": "Python 3",
   "language": "python",
   "name": "python3"
  },
  "language_info": {
   "codemirror_mode": {
    "name": "ipython",
    "version": 3
   },
   "file_extension": ".py",
   "mimetype": "text/x-python",
   "name": "python",
   "nbconvert_exporter": "python",
   "pygments_lexer": "ipython3",
   "version": "3.7.4"
  }
 },
 "nbformat": 4,
 "nbformat_minor": 2
}
