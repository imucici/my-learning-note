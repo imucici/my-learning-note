{
 "cells": [
  {
   "cell_type": "code",
   "execution_count": null,
   "metadata": {},
   "outputs": [],
   "source": [
    "# Definition for singly-linked list.\n",
    "# class ListNode:\n",
    "#     def __init__(self, x):\n",
    "#         self.val = x\n",
    "#         self.next = None\n",
    "\n",
    "# Definition for a binary tree node.\n",
    "# class TreeNode:\n",
    "#     def __init__(self, x):\n",
    "#         self.val = x\n",
    "#         self.left = None\n",
    "#         self.right = None\n",
    "\n",
    "class Solution: \n",
    "    \n",
    "    def sortedListToBST(self, head: ListNode) -> TreeNode:\n",
    "        if head == None:\n",
    "            return head\n",
    "        else:  \n",
    "            a = []\n",
    "            while head != None:\n",
    "                a.append(head.val)\n",
    "                head = head.next\n",
    "            return self.helper(a)\n",
    "    \n",
    "    def helper(self,a):\n",
    "        if a:\n",
    "            mid = len(a)//2\n",
    "            root = TreeNode(a[mid])\n",
    "            root.left = self.helper(a[:mid])\n",
    "            root.right = self.helper(a[mid+1:])\n",
    "            return root"
   ]
  }
 ],
 "metadata": {
  "kernelspec": {
   "display_name": "Python 3",
   "language": "python",
   "name": "python3"
  },
  "language_info": {
   "codemirror_mode": {
    "name": "ipython",
    "version": 3
   },
   "file_extension": ".py",
   "mimetype": "text/x-python",
   "name": "python",
   "nbconvert_exporter": "python",
   "pygments_lexer": "ipython3",
   "version": "3.7.4"
  }
 },
 "nbformat": 4,
 "nbformat_minor": 2
}
