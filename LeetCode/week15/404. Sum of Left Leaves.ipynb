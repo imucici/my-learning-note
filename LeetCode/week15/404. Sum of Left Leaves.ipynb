{
 "cells": [
  {
   "cell_type": "code",
   "execution_count": null,
   "metadata": {},
   "outputs": [],
   "source": [
    "# Definition for a binary tree node.\n",
    "# class TreeNode:\n",
    "#     def __init__(self, x):\n",
    "#         self.val = x\n",
    "#         self.left = None\n",
    "#         self.right = None\n",
    "\n",
    "class Solution:\n",
    "    \n",
    "    def sumOfLeftLeaves(self, root: TreeNode) -> int:\n",
    "        if root == None or (root.left == None and root.right == None):\n",
    "            return 0\n",
    "        else:\n",
    "            self.sum = 0\n",
    "            self.det = True\n",
    "            ans = self.helper(root)\n",
    "            return ans\n",
    "    def helper(self,root):\n",
    "        if root.left:\n",
    "            self.det = True\n",
    "            self.helper(root.left)\n",
    "        if root.right != None:\n",
    "            self.det = False\n",
    "            self.helper(root.right)\n",
    "        if root.left == None and root.right == None and self.det == True:\n",
    "            self.sum+=root.val\n",
    "        return self.sum"
   ]
  }
 ],
 "metadata": {
  "kernelspec": {
   "display_name": "Python 3",
   "language": "python",
   "name": "python3"
  },
  "language_info": {
   "codemirror_mode": {
    "name": "ipython",
    "version": 3
   },
   "file_extension": ".py",
   "mimetype": "text/x-python",
   "name": "python",
   "nbconvert_exporter": "python",
   "pygments_lexer": "ipython3",
   "version": "3.7.4"
  }
 },
 "nbformat": 4,
 "nbformat_minor": 2
}
