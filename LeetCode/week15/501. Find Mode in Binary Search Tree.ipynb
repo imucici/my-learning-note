{
 "cells": [
  {
   "cell_type": "code",
   "execution_count": null,
   "metadata": {},
   "outputs": [],
   "source": [
    "# Definition for a binary tree node.\n",
    "# class TreeNode:\n",
    "#     def __init__(self, x):\n",
    "#         self.val = x\n",
    "#         self.left = None\n",
    "#         self.right = None\n",
    "\n",
    "class Solution:\n",
    "    def findMode(self, root: TreeNode) -> List[int]:\n",
    "        if root == None:\n",
    "            return []\n",
    "        elif root.left == None and root.right == None:\n",
    "            return [root.val]\n",
    "        else:\n",
    "            a = self.inorder(root,[])\n",
    "\n",
    "            if len(set(a)) == len(a):\n",
    "                return a\n",
    "            ans = [] \n",
    "            m = [] #紀錄當前最大的count\n",
    "            count = 0\n",
    "            for i in range(len(a)-1):\n",
    "                if a[i] == a[i+1]:\n",
    "                    count += 2\n",
    "                    while i < len(a)-2 and a[i+1] == a[i+2]:\n",
    "                        i += 1\n",
    "                        count += 1\n",
    "                    if len(ans) == 0:\n",
    "                        ans.append(a[i])\n",
    "                        m.append(count)\n",
    "                    else:\n",
    "                        if count > m[0]:\n",
    "                            m[0] = count\n",
    "                            ans = []\n",
    "                            ans.append(a[i])\n",
    "                        elif count == m[0]:\n",
    "                            ans.append(a[i])\n",
    "                    count = 0\n",
    "            return ans\n",
    "        \n",
    "    def inorder(self,root,arr):\n",
    "        if root.left != None:\n",
    "            self.inorder(root.left,arr)\n",
    "        arr.append(root.val)\n",
    "        if root.right != None:\n",
    "            self.inorder(root.right,arr)\n",
    "        return arr"
   ]
  }
 ],
 "metadata": {
  "kernelspec": {
   "display_name": "Python 3",
   "language": "python",
   "name": "python3"
  },
  "language_info": {
   "codemirror_mode": {
    "name": "ipython",
    "version": 3
   },
   "file_extension": ".py",
   "mimetype": "text/x-python",
   "name": "python",
   "nbconvert_exporter": "python",
   "pygments_lexer": "ipython3",
   "version": "3.7.4"
  }
 },
 "nbformat": 4,
 "nbformat_minor": 2
}
