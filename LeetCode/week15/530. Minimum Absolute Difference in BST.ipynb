{
 "cells": [
  {
   "cell_type": "code",
   "execution_count": null,
   "metadata": {},
   "outputs": [],
   "source": [
    "# Definition for a binary tree node.\n",
    "# class TreeNode:\n",
    "#     def __init__(self, x):\n",
    "#         self.val = x\n",
    "#         self.left = None\n",
    "#         self.right = None\n",
    "\n",
    "class Solution:\n",
    "    def getMinimumDifference(self, root: TreeNode) -> int:\n",
    "        if root:\n",
    "            a = self.inorder(root,[])\n",
    "            \n",
    "            d = []\n",
    "            d.append(abs(a[0]-a[1]))\n",
    "            for i in range(1,len(a)-1):\n",
    "                if abs(a[i]-a[i+1]) < d[0]:\n",
    "                    d[0] = abs(a[i]-a[i+1])\n",
    "            return d[0]\n",
    "    def inorder(self,root,arr):\n",
    "        if root.left != None:\n",
    "            self.inorder(root.left,arr)\n",
    "        arr.append(root.val)\n",
    "        if root.right != None:\n",
    "            self.inorder(root.right,arr)\n",
    "        return arr"
   ]
  }
 ],
 "metadata": {
  "kernelspec": {
   "display_name": "Python 3",
   "language": "python",
   "name": "python3"
  },
  "language_info": {
   "codemirror_mode": {
    "name": "ipython",
    "version": 3
   },
   "file_extension": ".py",
   "mimetype": "text/x-python",
   "name": "python",
   "nbconvert_exporter": "python",
   "pygments_lexer": "ipython3",
   "version": "3.7.4"
  }
 },
 "nbformat": 4,
 "nbformat_minor": 2
}
