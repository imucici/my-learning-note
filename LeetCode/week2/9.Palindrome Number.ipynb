{
 "cells": [
  {
   "cell_type": "code",
   "execution_count": 1,
   "metadata": {},
   "outputs": [],
   "source": [
    "# 題目:\n",
    "#判斷是否為回文\n",
    "\n",
    "# 觀念:\n",
    "#[::-1] 適用於字串、[]\n",
    "#----------------------------------------------------------------------\n",
    "class Solution:\n",
    "    def isPalindrome(self, x: int) -> bool:\n",
    "        b = str(x) # 先將int轉成字串型態\n",
    "        c = b[::-1] # [::-1]將字串順序反轉 \n",
    "        if c == b :\n",
    "            return True\n",
    "        else:\n",
    "            return False"
   ]
  }
 ],
 "metadata": {
  "kernelspec": {
   "display_name": "Python 3",
   "language": "python",
   "name": "python3"
  },
  "language_info": {
   "codemirror_mode": {
    "name": "ipython",
    "version": 3
   },
   "file_extension": ".py",
   "mimetype": "text/x-python",
   "name": "python",
   "nbconvert_exporter": "python",
   "pygments_lexer": "ipython3",
   "version": "3.7.1"
  }
 },
 "nbformat": 4,
 "nbformat_minor": 2
}
