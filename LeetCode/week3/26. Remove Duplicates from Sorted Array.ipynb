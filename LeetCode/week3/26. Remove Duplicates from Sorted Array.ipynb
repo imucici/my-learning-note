{
 "cells": [
  {
   "cell_type": "code",
   "execution_count": 1,
   "metadata": {},
   "outputs": [],
   "source": [
    "# 題目:\n",
    "#刪除list中重複元素，並計算出新list長度\n",
    "# nums: List[int]\n",
    "\n",
    "#-------------------------------------------------------------\n",
    "#[解一]\n",
    "class Solution:\n",
    "    def removeDuplicates(self, nums) -> int:\n",
    "        newlist = []\n",
    "        for i in nums:\n",
    "            if i not in newlist:\n",
    "                newlist.append(i)\n",
    "        return len(newlist)         \n",
    "#[解二]\n",
    "class Solution:\n",
    "    def removeDuplicates(self, nums) -> int:\n",
    "        i = 0\n",
    "        while i < len(nums)-1:\n",
    "            if nums[i] ==nums[i+1]:\n",
    "                nums.remove(nums[i])\n",
    "            else:\n",
    "                i+=1\n",
    "        return len(nums)"
   ]
  }
 ],
 "metadata": {
  "kernelspec": {
   "display_name": "Python 3",
   "language": "python",
   "name": "python3"
  },
  "language_info": {
   "codemirror_mode": {
    "name": "ipython",
    "version": 3
   },
   "file_extension": ".py",
   "mimetype": "text/x-python",
   "name": "python",
   "nbconvert_exporter": "python",
   "pygments_lexer": "ipython3",
   "version": "3.7.1"
  }
 },
 "nbformat": 4,
 "nbformat_minor": 2
}
