{
 "cells": [
  {
   "cell_type": "code",
   "execution_count": 1,
   "metadata": {},
   "outputs": [],
   "source": [
    "# 題目:\n",
    "#在list中刪除等於val的元素，並計算出新的list長度\n",
    "# nums: List[int], val: int\n",
    "\n",
    "# 例子:\n",
    "#nums = [3,2,2,3], val = 3\n",
    "\n",
    "# 觀念:\n",
    "# a = [1,2,3,1,2,3]\n",
    "# a.remove(2) #remove() 僅移除第一個出現的特定值\n",
    "# 結果:[1, 3, 1, 2, 3]\n",
    "\n",
    "# b = [1,2,3,1,2,3]\n",
    "# print(b.pop(2)) #回傳位於第2個位置的值。結果:3\n",
    "# print(b) #移除位於第2個位置的元素，並列出完整列表。結果:[1, 2, 1, 2, 3]\n",
    "#------------------------------------------------------------------\n",
    "#code:\n",
    "#[解一]\n",
    "class Solution:\n",
    "    def removeElement(self, nums, val) -> int:\n",
    "        for i in range(len(nums)-1,-1,-1): # 也就是 for i in [3,2,1,0] >>此為序號\n",
    "            if nums[i] == val:             #跑出來的結果:nums[3],nums[2],nums[1],nums[0](=3,2,2,3)\n",
    "                nums.remove(val)\n",
    "        return(len(nums))\n",
    "#[解二]\n",
    "class Solution:\n",
    "    def removeElement(self, nums, val) -> int:\n",
    "        for i in nums:  # 也就是 for i in [3,2,2,3] >>此為原始list\n",
    "            if i == val:             #跑出來的結果:3,2,2,3\n",
    "                nums.remove(val)\n",
    "        return(len(nums))"
   ]
  }
 ],
 "metadata": {
  "kernelspec": {
   "display_name": "Python 3",
   "language": "python",
   "name": "python3"
  },
  "language_info": {
   "codemirror_mode": {
    "name": "ipython",
    "version": 3
   },
   "file_extension": ".py",
   "mimetype": "text/x-python",
   "name": "python",
   "nbconvert_exporter": "python",
   "pygments_lexer": "ipython3",
   "version": "3.7.1"
  }
 },
 "nbformat": 4,
 "nbformat_minor": 2
}
