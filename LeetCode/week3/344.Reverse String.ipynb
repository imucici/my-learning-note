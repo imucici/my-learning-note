{
 "cells": [
  {
   "cell_type": "code",
   "execution_count": 1,
   "metadata": {},
   "outputs": [],
   "source": [
    "# 題目:\n",
    "#將list內的元素反轉\n",
    "#s: List[str]\n",
    "\n",
    "# 觀念:\n",
    "# list反轉後為原始list的副本;str反轉後會覆蓋掉原始的str\n",
    "#-------------------------------------------------------------------------------------------------------------------------\n",
    "class Solution:\n",
    "    def reverseString(self, s) -> None:\n",
    "        \"\"\"\n",
    "        Do not return anything, modify s in-place instead.\n",
    "        \"\"\"\n",
    "        s[:] = s[::-1]  # [::-1]可用於字串、list。因為s為list，所以返回的為原始s的副本，因此要寫成s[:]。(若s為字串，則為同一對象)"
   ]
  }
 ],
 "metadata": {
  "kernelspec": {
   "display_name": "Python 3",
   "language": "python",
   "name": "python3"
  },
  "language_info": {
   "codemirror_mode": {
    "name": "ipython",
    "version": 3
   },
   "file_extension": ".py",
   "mimetype": "text/x-python",
   "name": "python",
   "nbconvert_exporter": "python",
   "pygments_lexer": "ipython3",
   "version": "3.7.1"
  }
 },
 "nbformat": 4,
 "nbformat_minor": 2
}
