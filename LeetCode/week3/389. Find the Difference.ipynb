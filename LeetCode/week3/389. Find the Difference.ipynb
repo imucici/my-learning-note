{
 "cells": [
  {
   "cell_type": "code",
   "execution_count": null,
   "metadata": {},
   "outputs": [],
   "source": [
    "class Solution:\n",
    "    def findTheDifference(self, s: str, t: str) -> str:\n",
    "        counts = [0 for _ in range(26)]\n",
    "\n",
    "        for c in s:\n",
    "            counts[ord(c) - ord(\"a\")] += 1\n",
    "\n",
    "        for c in t:\n",
    "            index = ord(c) - ord(\"a\")\n",
    "            counts[index] -= 1\n",
    "            if counts[index] < 0:\n",
    "                return c"
   ]
  }
 ],
 "metadata": {
  "kernelspec": {
   "display_name": "Python 3",
   "language": "python",
   "name": "python3"
  },
  "language_info": {
   "codemirror_mode": {
    "name": "ipython",
    "version": 3
   },
   "file_extension": ".py",
   "mimetype": "text/x-python",
   "name": "python",
   "nbconvert_exporter": "python",
   "pygments_lexer": "ipython3",
   "version": "3.7.1"
  }
 },
 "nbformat": 4,
 "nbformat_minor": 2
}
