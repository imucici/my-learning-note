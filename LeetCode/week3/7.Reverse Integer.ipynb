{
 "cells": [
  {
   "cell_type": "code",
   "execution_count": 1,
   "metadata": {},
   "outputs": [],
   "source": [
    "# 題目:\n",
    "#將整數反轉\n",
    "\n",
    "#觀念:\n",
    "#1.[::-1]不能用於int\n",
    "#2.strip()函數可刪除特定值\n",
    "#-------------------------------------------------------\n",
    "class Solution:\n",
    "    def reverse(self, x: int) -> int:\n",
    "        a = str(x)[::-1] ##反轉後\n",
    "        if x <0:\n",
    "            b = a.strip(\"-\") #移除負號\n",
    "            if int(b)>2**31-1:\n",
    "                return 0\n",
    "            else:\n",
    "                return -int(b)\n",
    "        \n",
    "        else:\n",
    "            if int(a) >2**31-1:\n",
    "                return 0\n",
    "            else:\n",
    "                return int(a)"
   ]
  }
 ],
 "metadata": {
  "kernelspec": {
   "display_name": "Python 3",
   "language": "python",
   "name": "python3"
  },
  "language_info": {
   "codemirror_mode": {
    "name": "ipython",
    "version": 3
   },
   "file_extension": ".py",
   "mimetype": "text/x-python",
   "name": "python",
   "nbconvert_exporter": "python",
   "pygments_lexer": "ipython3",
   "version": "3.7.1"
  }
 },
 "nbformat": 4,
 "nbformat_minor": 2
}
