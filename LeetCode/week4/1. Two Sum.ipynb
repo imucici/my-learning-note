{
 "cells": [
  {
   "cell_type": "code",
   "execution_count": 1,
   "metadata": {},
   "outputs": [],
   "source": [
    "# 題目:\n",
    "# 給定一個整數數組，返回兩個數字的索引，以便它們加起來成為一個特定的目標。\n",
    "# 您可以假定每個輸入都只有一個解決方案，並且您可能不會兩次使用同一元素。\n",
    "# nums: List[int], target: int\n",
    "\n",
    "# nums = [2, 7, 11, 15] \n",
    "# target = 9\n",
    "class Solution:\n",
    "    def twoSum(self, nums, target):\n",
    "        for i in range(len(nums)):\n",
    "            for j in range(len(nums)):\n",
    "                if nums[i]+nums[j] == target and i!= j:\n",
    "                    return [i,j]"
   ]
  }
 ],
 "metadata": {
  "kernelspec": {
   "display_name": "Python 3",
   "language": "python",
   "name": "python3"
  },
  "language_info": {
   "codemirror_mode": {
    "name": "ipython",
    "version": 3
   },
   "file_extension": ".py",
   "mimetype": "text/x-python",
   "name": "python",
   "nbconvert_exporter": "python",
   "pygments_lexer": "ipython3",
   "version": "3.7.1"
  }
 },
 "nbformat": 4,
 "nbformat_minor": 2
}
