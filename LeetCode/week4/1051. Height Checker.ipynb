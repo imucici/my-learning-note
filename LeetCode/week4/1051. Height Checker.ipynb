{
 "cells": [
  {
   "cell_type": "code",
   "execution_count": 1,
   "metadata": {},
   "outputs": [],
   "source": [
    "# 題目:\n",
    "# 要求學生以遞增的高度順序排序。\n",
    "# 返回不正確位置的最少學生人數。\n",
    "\n",
    "# heights: List[int]\n",
    "\n",
    "class Solution:\n",
    "    def heightChecker(self, heights):\n",
    "        sort= sorted(heights)\n",
    "        nums = []\n",
    "        for i in range(len(heights)):\n",
    "            if heights[i] != sort[i]:\n",
    "                nums.append(i)\n",
    "                i+=1\n",
    "        \n",
    "        return len(nums)"
   ]
  }
 ],
 "metadata": {
  "kernelspec": {
   "display_name": "Python 3",
   "language": "python",
   "name": "python3"
  },
  "language_info": {
   "codemirror_mode": {
    "name": "ipython",
    "version": 3
   },
   "file_extension": ".py",
   "mimetype": "text/x-python",
   "name": "python",
   "nbconvert_exporter": "python",
   "pygments_lexer": "ipython3",
   "version": "3.7.1"
  }
 },
 "nbformat": 4,
 "nbformat_minor": 2
}
