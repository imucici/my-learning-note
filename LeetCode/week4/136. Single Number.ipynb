{
 "cells": [
  {
   "cell_type": "code",
   "execution_count": 1,
   "metadata": {},
   "outputs": [],
   "source": [
    "# 題目:\n",
    "# 給定一個非空的整數數組，每個元素出現兩次，除了一個。找到那一個。\n",
    "\n",
    "# nums: List[int]\n",
    "\n",
    "class Solution:\n",
    "    def singleNumber(self, nums) -> int:\n",
    "        list1 = []\n",
    "        for i in nums:\n",
    "            if i not in list1:\n",
    "                list1.append(i)\n",
    "            else :\n",
    "                list1.remove(i)\n",
    "        for k in list1:\n",
    "            return k"
   ]
  }
 ],
 "metadata": {
  "kernelspec": {
   "display_name": "Python 3",
   "language": "python",
   "name": "python3"
  },
  "language_info": {
   "codemirror_mode": {
    "name": "ipython",
    "version": 3
   },
   "file_extension": ".py",
   "mimetype": "text/x-python",
   "name": "python",
   "nbconvert_exporter": "python",
   "pygments_lexer": "ipython3",
   "version": "3.7.1"
  }
 },
 "nbformat": 4,
 "nbformat_minor": 2
}
