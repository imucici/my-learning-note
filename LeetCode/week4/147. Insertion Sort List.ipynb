{
 "cells": [
  {
   "cell_type": "code",
   "execution_count": null,
   "metadata": {},
   "outputs": [],
   "source": [
    "# Definition for singly-linked list.\n",
    "# class ListNode:\n",
    "#     def __init__(self, x):\n",
    "#         self.val = x\n",
    "#         self.next = None\n",
    "\n",
    "class Solution:\n",
    "    def insertionSortList(self, head: ListNode) -> ListNode:\n",
    "        if not head or not head.next:\n",
    "            return head\n",
    "        \n",
    "        root = TreeNode(0) #先新增一個頭節點\n",
    "        root.next = head\n",
    "        while head.next:\n",
    "            if head.val <= head.next.val: #如果head值<=head.next值，則順序不變\n",
    "                head = head.next #繼續往下比較\n",
    "            else:\n",
    "                temp = head.next\n",
    "                q = root\n",
    "                head.next = head.next.next\n",
    "                while q.next and q.next.val < temp.val:\n",
    "                    q = q.next\n",
    "                temp.next = q.next\n",
    "                q.next = temp\n",
    "        return root.next"
   ]
  }
 ],
 "metadata": {
  "kernelspec": {
   "display_name": "Python 3",
   "language": "python",
   "name": "python3"
  },
  "language_info": {
   "codemirror_mode": {
    "name": "ipython",
    "version": 3
   },
   "file_extension": ".py",
   "mimetype": "text/x-python",
   "name": "python",
   "nbconvert_exporter": "python",
   "pygments_lexer": "ipython3",
   "version": "3.7.1"
  }
 },
 "nbformat": 4,
 "nbformat_minor": 2
}
