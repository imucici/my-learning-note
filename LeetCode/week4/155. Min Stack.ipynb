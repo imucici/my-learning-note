{
 "cells": [
  {
   "cell_type": "code",
   "execution_count": 1,
   "metadata": {},
   "outputs": [],
   "source": [
    "class MinStack:\n",
    "\n",
    "    def __init__(self):\n",
    "        \"\"\"\n",
    "        initialize your data structure here.\n",
    "        \"\"\"\n",
    "        self.item = [] #初始化給個空間\n",
    "\n",
    "    def push(self, x: int) -> None:\n",
    "        self.item.append(x) #新增一個元素在最List最末端(Stack的頂端)\n",
    "\n",
    "    def pop(self) -> None:\n",
    "        self.item.pop() #移除List最後一個值(Stack的頂端)\n",
    "        \n",
    "\n",
    "    def top(self) -> int:\n",
    "        return self.item[-1] #回傳List最後一個值(Stack的頂端)\n",
    "\n",
    "    def getMin(self) -> int:\n",
    "        return min(self.item) #回傳最小值\n",
    "        \n",
    "\n",
    "\n",
    "# Your MinStack object will be instantiated and called as such:\n",
    "# obj = MinStack()\n",
    "# obj.push(x)\n",
    "# obj.pop()\n",
    "# param_3 = obj.top()\n",
    "# param_4 = obj.getMin()"
   ]
  }
 ],
 "metadata": {
  "kernelspec": {
   "display_name": "Python 3",
   "language": "python",
   "name": "python3"
  },
  "language_info": {
   "codemirror_mode": {
    "name": "ipython",
    "version": 3
   },
   "file_extension": ".py",
   "mimetype": "text/x-python",
   "name": "python",
   "nbconvert_exporter": "python",
   "pygments_lexer": "ipython3",
   "version": "3.7.1"
  }
 },
 "nbformat": 4,
 "nbformat_minor": 2
}
