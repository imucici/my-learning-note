{
 "cells": [
  {
   "cell_type": "code",
   "execution_count": 1,
   "metadata": {},
   "outputs": [],
   "source": [
    "# 題目:\n",
    "# Push(x) : 將資料加入stack最後面。\n",
    "# Pop : 將所指向的資料移除。\n",
    "# Top() : 回傳最上面的資料\n",
    "# getMin（）-檢索stack中的最小元素。\n",
    "\n",
    "class MinStack:\n",
    "\n",
    "    def __init__(self):\n",
    "        \"\"\"\n",
    "        initialize your data structure here.\n",
    "        \"\"\"\n",
    "        self.item = []\n",
    "\n",
    "    def push(self, x: int) -> None:\n",
    "        self.item.append(x)\n",
    "\n",
    "    def pop(self) -> None:\n",
    "        self.item.pop()\n",
    "        \n",
    "\n",
    "    def top(self) -> int:\n",
    "        print (self.item[-1])\n",
    "\n",
    "    def getMin(self) -> int:\n",
    "        print (min(self.item))"
   ]
  }
 ],
 "metadata": {
  "kernelspec": {
   "display_name": "Python 3",
   "language": "python",
   "name": "python3"
  },
  "language_info": {
   "codemirror_mode": {
    "name": "ipython",
    "version": 3
   },
   "file_extension": ".py",
   "mimetype": "text/x-python",
   "name": "python",
   "nbconvert_exporter": "python",
   "pygments_lexer": "ipython3",
   "version": "3.7.1"
  }
 },
 "nbformat": 4,
 "nbformat_minor": 2
}
