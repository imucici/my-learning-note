{
 "cells": [
  {
   "cell_type": "code",
   "execution_count": 1,
   "metadata": {},
   "outputs": [],
   "source": [
    "# 題目:\n",
    "# 判斷list中的字符是否重複，重複>True; 不重複>False\n",
    "\n",
    "# nums: List[int]\n",
    "\n",
    "class Solution:\n",
    "    def containsDuplicate(self, nums):\n",
    "        a = set(nums) #刪除重複值\n",
    "        if len(a) == len(nums): #刪除重複值後，若與原先list長度相同，代表沒有重複值\n",
    "            return False\n",
    "        else:\n",
    "            return True"
   ]
  }
 ],
 "metadata": {
  "kernelspec": {
   "display_name": "Python 3",
   "language": "python",
   "name": "python3"
  },
  "language_info": {
   "codemirror_mode": {
    "name": "ipython",
    "version": 3
   },
   "file_extension": ".py",
   "mimetype": "text/x-python",
   "name": "python",
   "nbconvert_exporter": "python",
   "pygments_lexer": "ipython3",
   "version": "3.7.1"
  }
 },
 "nbformat": 4,
 "nbformat_minor": 2
}
