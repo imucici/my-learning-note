{
 "cells": [
  {
   "cell_type": "code",
   "execution_count": 1,
   "metadata": {},
   "outputs": [],
   "source": [
    "# 題目:\n",
    "# 判斷整數n是否為2的次方\n",
    "\n",
    "class Solution:\n",
    "    def isPowerOfTwo(self, n) -> bool:                \n",
    "        if n <=0 :\n",
    "            print (False)\n",
    "        \n",
    "        while n %2 == 0 :\n",
    "            n/=2 \n",
    "    \n",
    "        if n == 1:\n",
    "            print (True)\n",
    "        else:\n",
    "            print (False)"
   ]
  }
 ],
 "metadata": {
  "kernelspec": {
   "display_name": "Python 3",
   "language": "python",
   "name": "python3"
  },
  "language_info": {
   "codemirror_mode": {
    "name": "ipython",
    "version": 3
   },
   "file_extension": ".py",
   "mimetype": "text/x-python",
   "name": "python",
   "nbconvert_exporter": "python",
   "pygments_lexer": "ipython3",
   "version": "3.7.1"
  }
 },
 "nbformat": 4,
 "nbformat_minor": 2
}
