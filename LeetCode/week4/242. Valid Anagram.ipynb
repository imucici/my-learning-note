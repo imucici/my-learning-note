{
 "cells": [
  {
   "cell_type": "code",
   "execution_count": 1,
   "metadata": {},
   "outputs": [],
   "source": [
    "# 題目:\n",
    "# 給定兩個字符串s和t，編寫一個函數以確定t是否是s的字謎。(s、t組成的字符是否全相同)\n",
    "\n",
    "# s: str, t: str\n",
    "\n",
    "# 觀念:\n",
    "# sorted()函數會將元素排列(數字小到大，英文字母a到z)\n",
    "\n",
    "\n",
    "class Solution:\n",
    "    def isAnagram(self, s, t) -> bool:\n",
    "        S = sorted(s)\n",
    "        T = sorted(t)\n",
    "        if S == T:\n",
    "            return True\n",
    "        else:\n",
    "            return False"
   ]
  }
 ],
 "metadata": {
  "kernelspec": {
   "display_name": "Python 3",
   "language": "python",
   "name": "python3"
  },
  "language_info": {
   "codemirror_mode": {
    "name": "ipython",
    "version": 3
   },
   "file_extension": ".py",
   "mimetype": "text/x-python",
   "name": "python",
   "nbconvert_exporter": "python",
   "pygments_lexer": "ipython3",
   "version": "3.7.1"
  }
 },
 "nbformat": 4,
 "nbformat_minor": 2
}
