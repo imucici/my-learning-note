{
 "cells": [
  {
   "cell_type": "code",
   "execution_count": 1,
   "metadata": {},
   "outputs": [],
   "source": [
    "# 題目:\n",
    "# 判斷n是不是3的次方\n",
    "\n",
    "\n",
    "class Solution:\n",
    "    def isPowerOfThree(self, n: int):\n",
    "        if n == 1:\n",
    "            return True\n",
    "        elif n <= 0 or n%3 != 0:\n",
    "            return False\n",
    "        else:\n",
    "            return self.isPowerOfThree(n/3)"
   ]
  }
 ],
 "metadata": {
  "kernelspec": {
   "display_name": "Python 3",
   "language": "python",
   "name": "python3"
  },
  "language_info": {
   "codemirror_mode": {
    "name": "ipython",
    "version": 3
   },
   "file_extension": ".py",
   "mimetype": "text/x-python",
   "name": "python",
   "nbconvert_exporter": "python",
   "pygments_lexer": "ipython3",
   "version": "3.7.1"
  }
 },
 "nbformat": 4,
 "nbformat_minor": 2
}
