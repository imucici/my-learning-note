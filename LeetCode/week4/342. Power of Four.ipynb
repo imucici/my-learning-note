{
 "cells": [
  {
   "cell_type": "code",
   "execution_count": 1,
   "metadata": {},
   "outputs": [],
   "source": [
    "# 題目:\n",
    "# 判斷num是否為能開4次方的數。\n",
    "\n",
    "# num: int\n",
    "\n",
    "class Solution:\n",
    "    def isPowerOfFour(self, num):\n",
    "        if num <=0 : ##次方後的數不可能為0或負數\n",
    "            return False\n",
    "        while num%4 == 0: ##看能不能一直被4整除\n",
    "            num/=4\n",
    "        if num == 1 or num == 1/2 :\n",
    "            return True\n",
    "        else:\n",
    "            return False"
   ]
  }
 ],
 "metadata": {
  "kernelspec": {
   "display_name": "Python 3",
   "language": "python",
   "name": "python3"
  },
  "language_info": {
   "codemirror_mode": {
    "name": "ipython",
    "version": 3
   },
   "file_extension": ".py",
   "mimetype": "text/x-python",
   "name": "python",
   "nbconvert_exporter": "python",
   "pygments_lexer": "ipython3",
   "version": "3.7.1"
  }
 },
 "nbformat": 4,
 "nbformat_minor": 2
}
