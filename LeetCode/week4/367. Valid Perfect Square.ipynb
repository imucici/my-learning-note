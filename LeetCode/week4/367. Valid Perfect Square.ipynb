{
 "cells": [
  {
   "cell_type": "code",
   "execution_count": null,
   "metadata": {},
   "outputs": [],
   "source": [
    "# 題目:\n",
    "# 判斷是否為完全平方數\n",
    "\n",
    "class Solution:\n",
    "    def isPerfectSquare(self, num: int):\n",
    "        a = num**(1/2)\n",
    "        if (a).is_integer() : # ().is_integer() 判斷浮點數是否為整數。第一個()內放要判斷的數\n",
    "            return True\n",
    "        else:\n",
    "            return False"
   ]
  }
 ],
 "metadata": {
  "kernelspec": {
   "display_name": "Python 3",
   "language": "python",
   "name": "python3"
  },
  "language_info": {
   "codemirror_mode": {
    "name": "ipython",
    "version": 3
   },
   "file_extension": ".py",
   "mimetype": "text/x-python",
   "name": "python",
   "nbconvert_exporter": "python",
   "pygments_lexer": "ipython3",
   "version": "3.7.1"
  }
 },
 "nbformat": 4,
 "nbformat_minor": 2
}
