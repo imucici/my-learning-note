{
 "cells": [
  {
   "cell_type": "code",
   "execution_count": null,
   "metadata": {},
   "outputs": [],
   "source": [
    "# 題目:\n",
    "# 當下列情況之一成立時，我們將大寫的用法定義為正確：\n",
    "\n",
    "# 1.該單詞中的所有字母均為大寫字母，例如\"USA\"。\n",
    "# 2.該單詞中的所有字母都不大寫，例如\"leetcode\"。\n",
    "# 3.該單詞中只有第一個字母為大寫，例如\"Google\"。\n",
    "# 否則，return False。\n",
    "\n",
    "class Solution:\n",
    "    def detectCapitalUse(self, word):\n",
    "        if word.upper() == word or word.lower() == word: #轉換後跟原本相同，代表原本大小寫使用正確\n",
    "            return True\n",
    "        elif word.capitalize() == word :\n",
    "            return True\n",
    "        else:\n",
    "            return False"
   ]
  }
 ],
 "metadata": {
  "kernelspec": {
   "display_name": "Python 3",
   "language": "python",
   "name": "python3"
  },
  "language_info": {
   "codemirror_mode": {
    "name": "ipython",
    "version": 3
   },
   "file_extension": ".py",
   "mimetype": "text/x-python",
   "name": "python",
   "nbconvert_exporter": "python",
   "pygments_lexer": "ipython3",
   "version": "3.7.1"
  }
 },
 "nbformat": 4,
 "nbformat_minor": 2
}
