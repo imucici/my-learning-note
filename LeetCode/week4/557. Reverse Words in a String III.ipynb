{
 "cells": [
  {
   "cell_type": "code",
   "execution_count": null,
   "metadata": {},
   "outputs": [],
   "source": [
    "# 題目:\n",
    "# Input: \"Let's take LeetCode contest\"\n",
    "# Output: \"s'teL ekat edoCteeL tsetnoc\"\n",
    "\n",
    "class Solution:\n",
    "    def reverseWords(self, s): #遇到空格拆掉再反轉\n",
    "        a = s.split(\" \")\n",
    "        list1 = []\n",
    "        for i in range(len(a)):\n",
    "            t = a[i][::-1]\n",
    "            list1.append(t)\n",
    "        return \" \".join(list1) #list轉str"
   ]
  }
 ],
 "metadata": {
  "kernelspec": {
   "display_name": "Python 3",
   "language": "python",
   "name": "python3"
  },
  "language_info": {
   "codemirror_mode": {
    "name": "ipython",
    "version": 3
   },
   "file_extension": ".py",
   "mimetype": "text/x-python",
   "name": "python",
   "nbconvert_exporter": "python",
   "pygments_lexer": "ipython3",
   "version": "3.7.1"
  }
 },
 "nbformat": 4,
 "nbformat_minor": 2
}
