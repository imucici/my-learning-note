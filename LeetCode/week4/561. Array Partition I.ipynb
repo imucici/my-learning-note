{
 "cells": [
  {
   "cell_type": "code",
   "execution_count": 1,
   "metadata": {},
   "outputs": [],
   "source": [
    "# 題目:\n",
    "# 給定2n個整數數組，將這些整數分組為n對整數，\n",
    "# 例如（a 1，b 1），（a 2，b 2），...，（a n，b n）從1到n的所有i的min（a i，b i）的總和盡可能大。\n",
    "\n",
    "# nums: List[int]\n",
    "    \n",
    "class Solution:\n",
    "    def arrayPairSum(self, nums): #由小到大排序後，將每組較小的數加總(第0、2、4、....)\n",
    "        sort = sorted(nums) \n",
    "        list1 = []\n",
    "        for i in range(0,len(sort),2):\n",
    "            list1.append(sort[i])\n",
    "        print (sum(list1))"
   ]
  }
 ],
 "metadata": {
  "kernelspec": {
   "display_name": "Python 3",
   "language": "python",
   "name": "python3"
  },
  "language_info": {
   "codemirror_mode": {
    "name": "ipython",
    "version": 3
   },
   "file_extension": ".py",
   "mimetype": "text/x-python",
   "name": "python",
   "nbconvert_exporter": "python",
   "pygments_lexer": "ipython3",
   "version": "3.7.1"
  }
 },
 "nbformat": 4,
 "nbformat_minor": 2
}
