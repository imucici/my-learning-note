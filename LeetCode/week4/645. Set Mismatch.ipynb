{
 "cells": [
  {
   "cell_type": "code",
   "execution_count": 1,
   "metadata": {},
   "outputs": [],
   "source": [
    "# 題目:\n",
    "# 找出重複值、缺失值\n",
    "# nums: List[int]。 -> List[int]\n",
    "\n",
    "class Solution:\n",
    "    def findErrorNums(self, nums):\n",
    "        a = []\n",
    "        sort = []\n",
    "        double = sum(nums) - sum(set(nums)) #重複值 (運用set刪除重複值)\n",
    "        for i in range(1,len(nums)+1):\n",
    "            sort.append(i) #創建一個正確的list\n",
    "        non = list(set(sort)-set(nums)) #缺失值(用set找差集)\n",
    "        a.append(double)\n",
    "        a.extend(non)        \n",
    "        return a"
   ]
  }
 ],
 "metadata": {
  "kernelspec": {
   "display_name": "Python 3",
   "language": "python",
   "name": "python3"
  },
  "language_info": {
   "codemirror_mode": {
    "name": "ipython",
    "version": 3
   },
   "file_extension": ".py",
   "mimetype": "text/x-python",
   "name": "python",
   "nbconvert_exporter": "python",
   "pygments_lexer": "ipython3",
   "version": "3.7.1"
  }
 },
 "nbformat": 4,
 "nbformat_minor": 2
}
