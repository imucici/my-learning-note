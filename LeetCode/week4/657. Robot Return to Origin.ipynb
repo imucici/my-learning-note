{
 "cells": [
  {
   "cell_type": "code",
   "execution_count": 1,
   "metadata": {},
   "outputs": [],
   "source": [
    "# 題目:\n",
    "# 移動序列由字串表示，字符move[i]表示其第i個動作。\n",
    "# 有效的移動是R（向右），L（向左），U（向上）和D（向下）。\n",
    "# 如果機器人在完成所有移動後返回原點，則返回true。否則，返回false。\n",
    "\n",
    "class Solution:\n",
    "    def judgeCircle(self, moves: str):\n",
    "        base = list(moves)\n",
    "        U = []\n",
    "        D = []\n",
    "        L = []\n",
    "        R = []\n",
    "        for i in base :\n",
    "            if i == 'U':\n",
    "                U.append(i)\n",
    "            if i == 'D':\n",
    "                D.append(i)\n",
    "            if i == 'L':\n",
    "                L.append(i)\n",
    "            if i == 'R':\n",
    "                R.append(i)\n",
    "        if len(U) == len(D) and (len(L) == len(R)) !=0:\n",
    "            return True\n",
    "        elif len(L) == len(R) and (len(U) == len(D)) !=0:\n",
    "            return True\n",
    "        else:\n",
    "            return False"
   ]
  }
 ],
 "metadata": {
  "kernelspec": {
   "display_name": "Python 3",
   "language": "python",
   "name": "python3"
  },
  "language_info": {
   "codemirror_mode": {
    "name": "ipython",
    "version": 3
   },
   "file_extension": ".py",
   "mimetype": "text/x-python",
   "name": "python",
   "nbconvert_exporter": "python",
   "pygments_lexer": "ipython3",
   "version": "3.7.1"
  }
 },
 "nbformat": 4,
 "nbformat_minor": 2
}
