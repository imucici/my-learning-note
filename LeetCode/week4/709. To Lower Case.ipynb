{
 "cells": [
  {
   "cell_type": "code",
   "execution_count": 1,
   "metadata": {},
   "outputs": [],
   "source": [
    "# 題目:\n",
    "# 把字串全部轉為小寫\n",
    "# str: str\n",
    "\n",
    "# 概念:\n",
    "# str.upper() 全部轉為大寫 \n",
    "# str.lower() 全部轉為小寫\n",
    "# str.capitalize() 第一個字大寫\n",
    "# str.title() 每個單詞的第一個字母大寫\n",
    "\n",
    "class Solution:\n",
    "    def toLowerCase(self, str) -> str:\n",
    "        return str.lower()"
   ]
  }
 ],
 "metadata": {
  "kernelspec": {
   "display_name": "Python 3",
   "language": "python",
   "name": "python3"
  },
  "language_info": {
   "codemirror_mode": {
    "name": "ipython",
    "version": 3
   },
   "file_extension": ".py",
   "mimetype": "text/x-python",
   "name": "python",
   "nbconvert_exporter": "python",
   "pygments_lexer": "ipython3",
   "version": "3.7.1"
  }
 },
 "nbformat": 4,
 "nbformat_minor": 2
}
