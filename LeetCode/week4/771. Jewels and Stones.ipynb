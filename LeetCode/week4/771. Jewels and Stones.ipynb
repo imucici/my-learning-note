{
 "cells": [
  {
   "cell_type": "code",
   "execution_count": 1,
   "metadata": {},
   "outputs": [],
   "source": [
    "# 題目:\n",
    "# 計算J中的元素在S出現幾次\n",
    "\n",
    "# J: str、S: str\n",
    "\n",
    "class Solution:\n",
    "    def numJewelsInStones(self,J,S) -> int: #判斷S是否在J裡面，是>寫入空list\n",
    "        a = []\n",
    "        j = list(J)\n",
    "        s = list(S)\n",
    "        for i in s:\n",
    "            if i in j:\n",
    "                a.append(i)\n",
    "        return len(a)"
   ]
  }
 ],
 "metadata": {
  "kernelspec": {
   "display_name": "Python 3",
   "language": "python",
   "name": "python3"
  },
  "language_info": {
   "codemirror_mode": {
    "name": "ipython",
    "version": 3
   },
   "file_extension": ".py",
   "mimetype": "text/x-python",
   "name": "python",
   "nbconvert_exporter": "python",
   "pygments_lexer": "ipython3",
   "version": "3.7.1"
  }
 },
 "nbformat": 4,
 "nbformat_minor": 2
}
