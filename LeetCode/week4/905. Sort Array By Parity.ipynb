{
 "cells": [
  {
   "cell_type": "code",
   "execution_count": 1,
   "metadata": {},
   "outputs": [],
   "source": [
    "# 題目:\n",
    "# 給定一個A非負整數數組，返回一個數組，先列出偶數元素，再列出奇數元素。\n",
    "\n",
    "# A: List[int]\n",
    "\n",
    "class Solution:\n",
    "    def sortArrayByParity(self, A):\n",
    "        even = []\n",
    "        odd = []\n",
    "        for i in A:\n",
    "            if i %2 == 0 :\n",
    "                even.append(i)\n",
    "            else:\n",
    "                odd.append(i)\n",
    "        print (even + odd)"
   ]
  }
 ],
 "metadata": {
  "kernelspec": {
   "display_name": "Python 3",
   "language": "python",
   "name": "python3"
  },
  "language_info": {
   "codemirror_mode": {
    "name": "ipython",
    "version": 3
   },
   "file_extension": ".py",
   "mimetype": "text/x-python",
   "name": "python",
   "nbconvert_exporter": "python",
   "pygments_lexer": "ipython3",
   "version": "3.7.1"
  }
 },
 "nbformat": 4,
 "nbformat_minor": 2
}
