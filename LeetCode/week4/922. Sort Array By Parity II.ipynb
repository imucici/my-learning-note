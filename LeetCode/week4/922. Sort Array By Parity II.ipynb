{
 "cells": [
  {
   "cell_type": "code",
   "execution_count": 1,
   "metadata": {},
   "outputs": [],
   "source": [
    "# 題目:\n",
    "# 給定一個A: List[int]，偶數位放偶數，奇數位放奇數\n",
    "\n",
    "class Solution:\n",
    "    def sortArrayByParityII(self, A):\n",
    "        even = []\n",
    "        odd = []\n",
    "        final = []\n",
    "        for i in A:\n",
    "            if i%2 == 0:\n",
    "                even.append(i)\n",
    "            else:\n",
    "                odd.append(i)\n",
    "        for j in range(len(A)):\n",
    "            if j%2 == 0:\n",
    "                final.append(even.pop())  # .pop()回傳最後一個值\n",
    "            else:\n",
    "                final.append(odd.pop())\n",
    "        return final"
   ]
  }
 ],
 "metadata": {
  "kernelspec": {
   "display_name": "Python 3",
   "language": "python",
   "name": "python3"
  },
  "language_info": {
   "codemirror_mode": {
    "name": "ipython",
    "version": 3
   },
   "file_extension": ".py",
   "mimetype": "text/x-python",
   "name": "python",
   "nbconvert_exporter": "python",
   "pygments_lexer": "ipython3",
   "version": "3.7.1"
  }
 },
 "nbformat": 4,
 "nbformat_minor": 2
}
