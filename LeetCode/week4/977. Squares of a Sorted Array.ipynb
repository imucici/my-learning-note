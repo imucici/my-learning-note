{
 "cells": [
  {
   "cell_type": "code",
   "execution_count": 1,
   "metadata": {},
   "outputs": [],
   "source": [
    "# 題目:\n",
    "# 給定元素由小到大排序的list，返回元素平方的新list (由小到大)。\n",
    "\n",
    "# A: List[int]\n",
    "\n",
    "\n",
    "class Solution:\n",
    "    def sortedSquares(self, A):\n",
    "        list1 = []\n",
    "        for i in A:\n",
    "            list1.append(i**2)\n",
    "        return sorted(list1)"
   ]
  }
 ],
 "metadata": {
  "kernelspec": {
   "display_name": "Python 3",
   "language": "python",
   "name": "python3"
  },
  "language_info": {
   "codemirror_mode": {
    "name": "ipython",
    "version": 3
   },
   "file_extension": ".py",
   "mimetype": "text/x-python",
   "name": "python",
   "nbconvert_exporter": "python",
   "pygments_lexer": "ipython3",
   "version": "3.7.1"
  }
 },
 "nbformat": 4,
 "nbformat_minor": 2
}
