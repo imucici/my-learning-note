{
 "cells": [
  {
   "cell_type": "code",
   "execution_count": null,
   "metadata": {},
   "outputs": [],
   "source": [
    "class Solution:\n",
    "    def dayOfYear(self, date: str) -> int:\n",
    "        y = int(date[:4])\n",
    "        m = int(date[4:8].strip(\"-\"))\n",
    "        d = int(date[8:])\n",
    "        if y%4 == 0 and y%100 != 0: #閏年\n",
    "            if m == 1 or m ==2 :\n",
    "                return 31*(m-1)+d\n",
    "            if m == 3 or m == 4 :\n",
    "                return 31*(m-1)+d-2\n",
    "            if m == 5 or m == 6 :\n",
    "                return 31*(m-1)+d-3\n",
    "            if m == 7 or m == 8 or m == 9:\n",
    "                return 31*(m-1)+d-4\n",
    "            if m == 10 or m == 11 :\n",
    "                return 31*(m-1)+d-5\n",
    "            if m == 12 :\n",
    "                return 31*(m-1)+d-6\n",
    "        else:\n",
    "            if m == 1 or m ==2 :\n",
    "                return 31*(m-1)+d\n",
    "            if m == 3 or m == 4 :\n",
    "                return 31*(m-1)+d-3\n",
    "            if m == 5 or m == 6 :\n",
    "                return 31*(m-1)+d-4\n",
    "            if m == 7 or m == 8 or m == 9:\n",
    "                return 31*(m-1)+d-5\n",
    "            if m == 10 or m == 11 :\n",
    "                return 31*(m-1)+d-6\n",
    "            if m == 12 :\n",
    "                return 31*(m-1)+d-7"
   ]
  }
 ],
 "metadata": {
  "kernelspec": {
   "display_name": "Python 3",
   "language": "python",
   "name": "python3"
  },
  "language_info": {
   "codemirror_mode": {
    "name": "ipython",
    "version": 3
   },
   "file_extension": ".py",
   "mimetype": "text/x-python",
   "name": "python",
   "nbconvert_exporter": "python",
   "pygments_lexer": "ipython3",
   "version": "3.7.1"
  }
 },
 "nbformat": 4,
 "nbformat_minor": 2
}
