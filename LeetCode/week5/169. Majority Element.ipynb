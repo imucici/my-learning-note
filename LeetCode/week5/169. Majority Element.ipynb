{
 "cells": [
  {
   "cell_type": "code",
   "execution_count": 1,
   "metadata": {},
   "outputs": [],
   "source": [
    "# 題目:\n",
    "# 找出出現最多次的數\n",
    "# nums: List[int]\n",
    "\n",
    "class Solution:\n",
    "    def majorityElement(self, nums):\n",
    "        from collections import Counter\n",
    "        count = Counter(nums)\n",
    "        a = dict(count.most_common())\n",
    "        return max(a, key=a.get)"
   ]
  }
 ],
 "metadata": {
  "kernelspec": {
   "display_name": "Python 3",
   "language": "python",
   "name": "python3"
  },
  "language_info": {
   "codemirror_mode": {
    "name": "ipython",
    "version": 3
   },
   "file_extension": ".py",
   "mimetype": "text/x-python",
   "name": "python",
   "nbconvert_exporter": "python",
   "pygments_lexer": "ipython3",
   "version": "3.7.1"
  }
 },
 "nbformat": 4,
 "nbformat_minor": 2
}
