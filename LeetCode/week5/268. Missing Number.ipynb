{
 "cells": [
  {
   "cell_type": "code",
   "execution_count": 1,
   "metadata": {},
   "outputs": [],
   "source": [
    "# 題目:\n",
    "# 找缺失值(int)\n",
    "# nums: List[int]\n",
    "\n",
    "class Solution:\n",
    "    def missingNumber(self, nums):\n",
    "        n = len(nums)\n",
    "        return int((n+1)*n/2 - sum(nums)) #正確list值的總和 - nums總和 = 缺失值"
   ]
  }
 ],
 "metadata": {
  "kernelspec": {
   "display_name": "Python 3",
   "language": "python",
   "name": "python3"
  },
  "language_info": {
   "codemirror_mode": {
    "name": "ipython",
    "version": 3
   },
   "file_extension": ".py",
   "mimetype": "text/x-python",
   "name": "python",
   "nbconvert_exporter": "python",
   "pygments_lexer": "ipython3",
   "version": "3.7.1"
  }
 },
 "nbformat": 4,
 "nbformat_minor": 2
}
