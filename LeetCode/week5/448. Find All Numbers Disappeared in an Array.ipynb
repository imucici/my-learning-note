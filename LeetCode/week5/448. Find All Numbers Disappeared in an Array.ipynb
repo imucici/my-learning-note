{
 "cells": [
  {
   "cell_type": "code",
   "execution_count": 1,
   "metadata": {},
   "outputs": [],
   "source": [
    "# 題目:\n",
    "# 找出缺失值\n",
    "# 例子:nums:[4,3,2,7,8,2,3,1]\n",
    "\n",
    "class Solution:\n",
    "    def findDisappearedNumbers(self, nums):\n",
    "        sort = set(nums) #先刪除重複值\n",
    "        a = [] #建一個正確的list\n",
    "        for i in range(1,len(nums)+1):\n",
    "            a.append(i)\n",
    "        b = list(set(a)-sort) #找差集\n",
    "        return b"
   ]
  }
 ],
 "metadata": {
  "kernelspec": {
   "display_name": "Python 3",
   "language": "python",
   "name": "python3"
  },
  "language_info": {
   "codemirror_mode": {
    "name": "ipython",
    "version": 3
   },
   "file_extension": ".py",
   "mimetype": "text/x-python",
   "name": "python",
   "nbconvert_exporter": "python",
   "pygments_lexer": "ipython3",
   "version": "3.7.1"
  }
 },
 "nbformat": 4,
 "nbformat_minor": 2
}
