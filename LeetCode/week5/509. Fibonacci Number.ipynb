{
 "cells": [
  {
   "cell_type": "code",
   "execution_count": 1,
   "metadata": {},
   "outputs": [],
   "source": [
    "# 題目:\n",
    "# 費式數列\n",
    "\n",
    "class Solution:\n",
    "    def fib(self, N):\n",
    "        a1 = 0\n",
    "        a2 = 1\n",
    "        for i in range(N):\n",
    "            a3 = a1+a2\n",
    "            a1 = a2\n",
    "            a2 = a3\n",
    "        return a1"
   ]
  }
 ],
 "metadata": {
  "kernelspec": {
   "display_name": "Python 3",
   "language": "python",
   "name": "python3"
  },
  "language_info": {
   "codemirror_mode": {
    "name": "ipython",
    "version": 3
   },
   "file_extension": ".py",
   "mimetype": "text/x-python",
   "name": "python",
   "nbconvert_exporter": "python",
   "pygments_lexer": "ipython3",
   "version": "3.7.1"
  }
 },
 "nbformat": 4,
 "nbformat_minor": 2
}
