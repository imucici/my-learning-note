{
 "cells": [
  {
   "cell_type": "code",
   "execution_count": 1,
   "metadata": {},
   "outputs": [],
   "source": [
    "# 題目:\n",
    "# 找出重複的那個元素(int)\n",
    "# A: List[int]\n",
    "\n",
    "class Solution:\n",
    "    def repeatedNTimes(self, A): \n",
    "        sort = list(set(A)) #先刪除重複元素\n",
    "        return int((sum(A)-sum(sort))/(len(A)/2 -1 )) #透過元素總和算出所有重複值的和，再求單一一個元素為何"
   ]
  }
 ],
 "metadata": {
  "kernelspec": {
   "display_name": "Python 3",
   "language": "python",
   "name": "python3"
  },
  "language_info": {
   "codemirror_mode": {
    "name": "ipython",
    "version": 3
   },
   "file_extension": ".py",
   "mimetype": "text/x-python",
   "name": "python",
   "nbconvert_exporter": "python",
   "pygments_lexer": "ipython3",
   "version": "3.7.1"
  }
 },
 "nbformat": 4,
 "nbformat_minor": 2
}
