{
 "cells": [
  {
   "cell_type": "code",
   "execution_count": null,
   "metadata": {},
   "outputs": [],
   "source": [
    "#題目:-1不要動，將其他非-1的由小到大排\n",
    "\n",
    "Input:\n",
    "a: [-1, 150, 190, 170, -1, -1, 160, 180]\n",
    "Expected Output:\n",
    "[-1, 150, 160, 170, -1, -1, 180, 190]\n",
    "\n",
    "Input:\n",
    "a: [-1, -1, -1, -1, -1]\n",
    "Expected Output:\n",
    "[-1, -1, -1, -1, -1]"
   ]
  },
  {
   "cell_type": "code",
   "execution_count": 26,
   "metadata": {},
   "outputs": [
    {
     "name": "stdout",
     "output_type": "stream",
     "text": [
      "[-1, 150, 160, 170, -1, -1, 180, 190]\n"
     ]
    }
   ],
   "source": [
    "# 解一:\n",
    "a = [-1, 150, 190, 170, -1, -1, 160, 180]\n",
    "    \n",
    "temp = []\n",
    "for i in a:\n",
    "    if i != -1:\n",
    "        temp.append(i) #把非-1的抓出來\n",
    "        s = sorted(temp)\n",
    "# print(s)\n",
    "for j in range(len(a)):\n",
    "    if a[j] != -1:\n",
    "        a[j] = s[0]\n",
    "        s.pop(0)\n",
    "print(a)"
   ]
  },
  {
   "cell_type": "code",
   "execution_count": null,
   "metadata": {},
   "outputs": [],
   "source": [
    "#解二:\n",
    "\n",
    "def sortByHeight(a):\n",
    "    b = []\n",
    "    c = []\n",
    "    for i in a:\n",
    "        if i != -1:\n",
    "            b.append(i) #把非-1的抓出來\n",
    "    b = sorted(b)\n",
    "    for i in range(len(a)):\n",
    "        if a[i] != -1:\n",
    "            c.append(i) #把非-1的index抓出來\n",
    "    for i in range(len(b)):\n",
    "        a[c[i]] = b[i]\n",
    "    return a"
   ]
  }
 ],
 "metadata": {
  "kernelspec": {
   "display_name": "Python 3",
   "language": "python",
   "name": "python3"
  },
  "language_info": {
   "codemirror_mode": {
    "name": "ipython",
    "version": 3
   },
   "file_extension": ".py",
   "mimetype": "text/x-python",
   "name": "python",
   "nbconvert_exporter": "python",
   "pygments_lexer": "ipython3",
   "version": "3.7.4"
  }
 },
 "nbformat": 4,
 "nbformat_minor": 2
}
