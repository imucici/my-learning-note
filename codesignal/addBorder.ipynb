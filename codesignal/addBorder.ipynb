{
 "cells": [
  {
   "cell_type": "code",
   "execution_count": null,
   "metadata": {},
   "outputs": [],
   "source": [
    "Input:\n",
    "picture:\n",
    "[\"aa\", \n",
    " \"**\", \n",
    " \"zz\"]\n",
    "Expected Output:\n",
    "[\"****\", \n",
    " \"*aa*\", \n",
    " \"****\", \n",
    " \"*zz*\", \n",
    " \"****\"]"
   ]
  },
  {
   "cell_type": "code",
   "execution_count": null,
   "metadata": {},
   "outputs": [],
   "source": [
    "Input:\n",
    "picture:\n",
    "[\"abc\", \n",
    " \"ded\"]\n",
    "Expected Output:\n",
    "[\"*****\", \n",
    " \"*abc*\", \n",
    " \"*ded*\", \n",
    " \"*****\"]"
   ]
  },
  {
   "cell_type": "code",
   "execution_count": null,
   "metadata": {},
   "outputs": [],
   "source": [
    "def addBorder(picture):\n",
    "    top = []\n",
    "    down = []\n",
    "    final = []\n",
    "\n",
    "    n = 0\n",
    "    while n < len(picture[0])+2:\n",
    "        top.append(\"*\")\n",
    "        n+=1\n",
    "    top = \"\".join(top) #list轉str\n",
    "    final.append(top)\n",
    "\n",
    "    for i in picture:\n",
    "        i = list(i)\n",
    "        i.insert(0,\"*\")\n",
    "        i.append(\"*\")\n",
    "        i = \"\".join(i)\n",
    "        final.append(i)\n",
    "\n",
    "    m = 0\n",
    "    while m < len(picture[0])+2:\n",
    "        down.append(\"*\")\n",
    "        m+=1\n",
    "    down = \"\".join(down)\n",
    "    final.append(down)\n",
    "    return final"
   ]
  }
 ],
 "metadata": {
  "kernelspec": {
   "display_name": "Python 3",
   "language": "python",
   "name": "python3"
  }
 },
 "nbformat": 4,
 "nbformat_minor": 2
}
