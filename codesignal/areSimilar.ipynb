{
 "cells": [
  {
   "cell_type": "code",
   "execution_count": null,
   "metadata": {},
   "outputs": [],
   "source": [
    "def areSimilar(a, b):\n",
    "    x = []\n",
    "    y = []\n",
    "\n",
    "    for i in range(len(a)):\n",
    "        if a[i] != b[i]:\n",
    "            x.append(a[i])\n",
    "            y.append(b[i])\n",
    "    \n",
    "    if len(x) == 0:\n",
    "        return True\n",
    "    if len(x) == 2 and x[0] == y[1] and x[1] == y[0]:\n",
    "        return True\n",
    "    else:\n",
    "        return False"
   ]
  }
 ],
 "metadata": {
  "kernelspec": {
   "display_name": "Python 3",
   "language": "python",
   "name": "python3"
  },
  "language_info": {
   "codemirror_mode": {
    "name": "ipython",
    "version": 3
   },
   "file_extension": ".py",
   "mimetype": "text/x-python",
   "name": "python",
   "nbconvert_exporter": "python",
   "pygments_lexer": "ipython3",
   "version": "3.7.4"
  }
 },
 "nbformat": 4,
 "nbformat_minor": 2
}
