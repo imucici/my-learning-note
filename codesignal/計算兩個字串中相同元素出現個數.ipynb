{
 "cells": [
  {
   "cell_type": "code",
   "execution_count": 56,
   "metadata": {},
   "outputs": [
    {
     "name": "stdout",
     "output_type": "stream",
     "text": [
      "4\n"
     ]
    }
   ],
   "source": [
    "s1 = \"aabcc\"\n",
    "s2 = \"adcaacsc\"\n",
    "\n",
    "\n",
    "a = list(s1)\n",
    "b = list(s2)\n",
    "\n",
    "n = 0\n",
    "if len(a) <= len(b):\n",
    "    for i in b :\n",
    "        if i in a:\n",
    "            a.remove(i)\n",
    "            n+=1\n",
    "else:\n",
    "    for i in a :\n",
    "        if i in b:\n",
    "            b.remove(i)\n",
    "            n+=1\n",
    "        \n",
    "print(n)"
   ]
  }
 ],
 "metadata": {
  "kernelspec": {
   "display_name": "Python 3",
   "language": "python",
   "name": "python3"
  },
  "language_info": {
   "codemirror_mode": {
    "name": "ipython",
    "version": 3
   },
   "file_extension": ".py",
   "mimetype": "text/x-python",
   "name": "python",
   "nbconvert_exporter": "python",
   "pygments_lexer": "ipython3",
   "version": "3.7.4"
  }
 },
 "nbformat": 4,
 "nbformat_minor": 2
}
