{
 "cells": [
  {
   "cell_type": "markdown",
   "metadata": {},
   "source": [
    "參考資料:\n",
    "\n",
    "1. http://alrightchiu.github.io/SecondRound/hash-tableintrojian-jie.html\n",
    "2. https://www.youtube.com/watch?v=9HFbhPscPU0\n",
    "3. https://youtu.be/2BldESGZKB8\n",
    "4. https://blog.csdn.net/duan19920101/article/details/51579136\n",
    "5. https://github.com/imucici/my-learning-note/blob/master/LeetCode/week4/707.%20Design%20Linked%20List.ipynb (自己寫過的Linked List)\n",
    "6. https://blockbar.io/blockchain/hash%E6%98%AF%E4%BB%80%E9%BA%BC-what-is-hash/\n",
    "7. https://blog.techbridge.cc/2017/01/21/simple-hash-table-intro/\n",
    "8. http://www.csie.ntnu.edu.tw/~u91029/Set.html\n",
    "9. https://hackmd.io/@EW34LLeXTra2Oikg0WEQ5Q/HJln3jU_e?type=view"
   ]
  },
  {
   "cell_type": "markdown",
   "metadata": {},
   "source": [
    "Hash Table:\n",
    "\n",
    "是根據key而直接查找在內存儲存位置的資料結構，而\"索引\"是透過對key進行Hash Function所得到的。\n",
    "\n",
    "簡介:\n",
    "\n",
    "首先先把輸入的數據透過一個固定的加密算法轉為一組整數型數字，然後再用此數字對數組長度(capacity)取餘數，出來的結果就是代表此數據所屬的是哪一個數組，如此一來就能透過\"索引\"對任一數據進行定位，加快往後查找的速度。\n",
    "\n",
    "\n",
    "時間複雜度:\n",
    "\n",
    "插入:O(1)\n",
    "\n",
    "刪除、查詢:O(1) --> 最佳時間複雜度\n",
    "\n",
    "\n",
    "特色:\n",
    "\n",
    "1. 運算速度快\n",
    "2. 無法從加密過後的值轉回原始數據"
   ]
  },
  {
   "cell_type": "markdown",
   "metadata": {},
   "source": [
    "hash function:\n",
    "\n",
    "是一種單向函式，特色是能保護資料(如果加密過後的值不同，那原始數據必定不同;如果加密過後的值相同(雜湊碰撞)，那原始數據不一定是相同的)。\n",
    "\n",
    "而一個好的hash function為什麼是單向的原因是為了避免偽造或透過取得hash function後就能輕易反推出原始數據，破壞了最初保護資料的目的。\n",
    "\n",
    "目前有的hash function有MD2、MD5、Tiger、SHA-1...."
   ]
  },
  {
   "cell_type": "code",
   "execution_count": null,
   "metadata": {},
   "outputs": [],
   "source": [
    "from Cryptodome.Hash import MD5"
   ]
  },
  {
   "cell_type": "markdown",
   "metadata": {},
   "source": [
    "11/23 光安裝套件就弄了一個下午= =想當初大一時筱薇老師說光是設定環境變數就要弄好幾個小時，今天算是深刻體會到了...來來回回在cmd執行一堆東西，結果到最後卸載Anaconda再重新安裝就成功了..."
   ]
  },
  {
   "cell_type": "markdown",
   "metadata": {},
   "source": [
    "先在外面測試hash function運行結果"
   ]
  },
  {
   "cell_type": "code",
   "execution_count": 2,
   "metadata": {},
   "outputs": [
    {
     "name": "stdout",
     "output_type": "stream",
     "text": [
      "3ad5fc59c19f1f4e9145419057e00090\n",
      "78206301264842596847283861755225178256\n"
     ]
    }
   ],
   "source": [
    "h = MD5.new()\n",
    "h.update(\"imucici\".encode(\"utf-8\"))\n",
    "print(h.hexdigest())\n",
    "print(int(h.hexdigest(),16))"
   ]
  },
  {
   "cell_type": "markdown",
   "metadata": {},
   "source": [
    "正常執行~\n",
    "\n",
    "塞到作業格式裡面測試"
   ]
  },
  {
   "cell_type": "code",
   "execution_count": 3,
   "metadata": {},
   "outputs": [],
   "source": [
    "class ListNode:\n",
    "    def __init__(self,val):\n",
    "        self.val = val\n",
    "        self.next = None\n",
    "class MyHashSet:\n",
    "    def __init__(self,capacity):\n",
    "        self.capacity = capacity\n",
    "        self.data = [None] * capacity\n",
    "        \n",
    "    def add(self,key):\n",
    "        h = MD5.new()\n",
    "        h.update(key.encode(\"utf-8\"))\n",
    "        data = int(h.hexdigest(),16)\n",
    "        return data % self.capacity"
   ]
  },
  {
   "cell_type": "code",
   "execution_count": 4,
   "metadata": {},
   "outputs": [
    {
     "ename": "TypeError",
     "evalue": "__init__() missing 1 required positional argument: 'capacity'",
     "output_type": "error",
     "traceback": [
      "\u001b[1;31m---------------------------------------------------------------------------\u001b[0m",
      "\u001b[1;31mTypeError\u001b[0m                                 Traceback (most recent call last)",
      "\u001b[1;32m<ipython-input-4-9c9b34761e6c>\u001b[0m in \u001b[0;36m<module>\u001b[1;34m\u001b[0m\n\u001b[1;32m----> 1\u001b[1;33m \u001b[0mhashSet\u001b[0m \u001b[1;33m=\u001b[0m \u001b[0mMyHashSet\u001b[0m\u001b[1;33m(\u001b[0m\u001b[1;33m)\u001b[0m\u001b[1;33m\u001b[0m\u001b[1;33m\u001b[0m\u001b[0m\n\u001b[0m\u001b[0;32m      2\u001b[0m \u001b[0mhashSet\u001b[0m\u001b[1;33m.\u001b[0m\u001b[0madd\u001b[0m\u001b[1;33m(\u001b[0m\u001b[1;34m\"imucici\"\u001b[0m\u001b[1;33m)\u001b[0m\u001b[1;33m\u001b[0m\u001b[1;33m\u001b[0m\u001b[0m\n",
      "\u001b[1;31mTypeError\u001b[0m: __init__() missing 1 required positional argument: 'capacity'"
     ]
    }
   ],
   "source": [
    "hashSet = MyHashSet()\n",
    "hashSet.add(\"imucici\")"
   ]
  },
  {
   "cell_type": "markdown",
   "metadata": {},
   "source": [
    "ㄟ抖...雖然只呼叫add函式，但似乎一定會執行到初始化"
   ]
  },
  {
   "cell_type": "markdown",
   "metadata": {},
   "source": [
    "上次在建BST時 --> root = TreeNode(10)，就是在class的()裡面放input，就能引入外部參數做初始化，猜想這個應該也是同樣的道理。\n",
    "\n",
    "\n",
    "class TreeNode(object):\n",
    "\n",
    "    def __init__(self,x):\n",
    "    \n",
    "        self.val = x\n",
    "        \n",
    "        self.left = None\n",
    "        \n",
    "        self.right = None\n",
    "\n",
    "root = TreeNode(10)\n",
    "\n",
    "> 把capacity的值放入()中\n",
    "\n",
    "> hashSet = MyHashSet(3)"
   ]
  },
  {
   "cell_type": "code",
   "execution_count": 5,
   "metadata": {},
   "outputs": [],
   "source": [
    "class ListNode:\n",
    "    def __init__(self,val):\n",
    "        self.val = val\n",
    "        self.next = None\n",
    "class MyHashSet:\n",
    "    def __init__(self,capacity):\n",
    "        self.capacity = capacity\n",
    "        self.data = [None] * capacity\n",
    "        \n",
    "    def add(self,key):\n",
    "        h = MD5.new()\n",
    "        h.update(key.encode(\"utf-8\"))\n",
    "        data = int(h.hexdigest(),16)\n",
    "        return data % self.capacity"
   ]
  },
  {
   "cell_type": "code",
   "execution_count": 6,
   "metadata": {},
   "outputs": [
    {
     "data": {
      "text/plain": [
       "1"
      ]
     },
     "execution_count": 6,
     "metadata": {},
     "output_type": "execute_result"
    }
   ],
   "source": [
    "hashSet = MyHashSet(3)\n",
    "hashSet.add(\"imucici\")"
   ]
  },
  {
   "cell_type": "markdown",
   "metadata": {},
   "source": [
    "self.data = [None] * capacity \n",
    "\n",
    "看了很久確實不明白這行程式碼的意思及功用，決定print出來看看他長什麼樣子@@"
   ]
  },
  {
   "cell_type": "code",
   "execution_count": 7,
   "metadata": {},
   "outputs": [],
   "source": [
    "class ListNode:\n",
    "    def __init__(self,val):\n",
    "        self.val = val\n",
    "        self.next = None\n",
    "class MyHashSet:\n",
    "    def __init__(self,capacity):\n",
    "        self.capacity = capacity\n",
    "        self.data = [None] * capacity\n",
    "        print(self.data)\n",
    "        \n",
    "#     def add(self,key):\n",
    "#         h = MD5.new()\n",
    "#         h.update(key.encode(\"utf-8\"))\n",
    "#         data = int(h.hexdigest(),16)\n",
    "#         return data % self.capacity"
   ]
  },
  {
   "cell_type": "code",
   "execution_count": 8,
   "metadata": {},
   "outputs": [
    {
     "name": "stdout",
     "output_type": "stream",
     "text": [
      "[None, None, None]\n"
     ]
    }
   ],
   "source": [
    "hashSet = MyHashSet(3)\n",
    "# hashSet.add(\"imucici\")"
   ]
  },
  {
   "cell_type": "markdown",
   "metadata": {},
   "source": [
    "好像抓到感覺了，* capacity 目的就是為了創造出相應的buckets"
   ]
  },
  {
   "cell_type": "code",
   "execution_count": 10,
   "metadata": {},
   "outputs": [],
   "source": [
    "class ListNode:\n",
    "    \n",
    "    def __init__(self,val):\n",
    "        self.val = val\n",
    "        self.next = None\n",
    "\n",
    "class MyHashSet:\n",
    "    \n",
    "    def __init__(self,capacity):\n",
    "        self.capacity = capacity\n",
    "        self.data = [None] * capacity\n",
    "        \n",
    "        self.data[0] = ListNode(1)\n",
    "        self.data[1] = ListNode(4)\n",
    "        self.data[2] = ListNode(7)\n",
    "        \n",
    "        self.data[0].next = ListNode(2)\n",
    "        self.data[0].next.next = ListNode(3)\n",
    "        \n",
    "        self.data[1].next = ListNode(5)\n",
    "        self.data[1].next.next = ListNode(6)\n",
    "        \n",
    "        self.data[2].next = ListNode(8)\n",
    "        self.data[2].next.next = ListNode(9)\n",
    "        \n",
    "        print(self.data[2].next.next.val)#照理說要print出9   \n",
    "        \n",
    "#     def add(self,key):\n",
    "#         h = MD5.new()\n",
    "#         h.update(key.encode(\"utf-8\"))\n",
    "#         data = int(h.hexdigest(),16)\n",
    "#         return data % self.capacity"
   ]
  },
  {
   "cell_type": "code",
   "execution_count": 11,
   "metadata": {},
   "outputs": [
    {
     "name": "stdout",
     "output_type": "stream",
     "text": [
      "9\n"
     ]
    }
   ],
   "source": [
    "hashSet = MyHashSet(3)\n",
    "# hashSet.add(\"imucici\")"
   ]
  },
  {
   "cell_type": "raw",
   "metadata": {},
   "source": [
    "資料原來是這樣儲存的(可以想像成Linked List變成直著擺)只需針對每組第一個做紀錄即可\n",
    "\n",
    "\n",
    "[None,None,None]\n",
    "\n",
    "ex:\n",
    "\n",
    "  第   第   第\n",
    "  \n",
    "  一   二   三\n",
    "  \n",
    "  條   條   條\n",
    "     \n",
    "  1    4    7\n",
    "  \n",
    "  2    5    8\n",
    "  \n",
    "  3    6    9\n",
    "  \n",
    "  \n",
    "另外，原本還在糾結要如何讓array隨著餘數來連動產生相應的array個數，並把這些空間紀錄下來以便之後使用，但其實array本身就具有index的概念!所以這麻煩就就好解決了~~\n",
    "\n",
    "現在才明白11/23助教為啥說 self.data = [None] * capacity 很神奇，要我們回去研究一下~ 能想到這種儲存方式確實聰明!"
   ]
  },
  {
   "cell_type": "markdown",
   "metadata": {},
   "source": [
    "11/24"
   ]
  },
  {
   "cell_type": "code",
   "execution_count": 1,
   "metadata": {},
   "outputs": [],
   "source": [
    "from Cryptodome.Hash import MD5"
   ]
  },
  {
   "cell_type": "code",
   "execution_count": 2,
   "metadata": {},
   "outputs": [],
   "source": [
    "class ListNode:\n",
    "    def __init__(self,val):\n",
    "        self.val = val\n",
    "        self.next = None\n",
    "class MyHashSet:\n",
    "    def __init__(self,capacity):\n",
    "        self.capacity = capacity\n",
    "        self.data = [None] * capacity\n",
    "        \n",
    "    def add(self,key):\n",
    "        h = MD5.new()\n",
    "        h.update(key.encode(\"utf-8\"))\n",
    "        enc = int(h.hexdigest(),16) #加密過後的key\n",
    "        rem = enc % self.capacity #位於第幾條Linked List\n",
    "        print (\"加入第\",rem,\"條Linked List\")\n",
    "        \n",
    "        for i in range(self.capacity):\n",
    "            if rem == i:\n",
    "                if self.data[i] == None:\n",
    "                    self.data[i] = ListNode(enc)\n",
    "                else:\n",
    "                    cur = self.data[i]\n",
    "                    while cur.next != None:\n",
    "                        cur = cur.next\n",
    "                    cur.next = ListNode(enc)\n",
    "        print(self.data[1]) #先測試連結是否成功"
   ]
  },
  {
   "cell_type": "code",
   "execution_count": 3,
   "metadata": {},
   "outputs": [
    {
     "name": "stdout",
     "output_type": "stream",
     "text": [
      "加入第 1 條Linked List\n",
      "<__main__.ListNode object at 0x000001ED58AEAEC8>\n"
     ]
    }
   ],
   "source": [
    "hashSet = MyHashSet(3)\n",
    "hashSet.add(\"imucici\")"
   ]
  },
  {
   "cell_type": "code",
   "execution_count": 4,
   "metadata": {},
   "outputs": [
    {
     "name": "stdout",
     "output_type": "stream",
     "text": [
      "加入第 0 條Linked List\n",
      "None\n"
     ]
    }
   ],
   "source": [
    "hashSet.add(\"ucc\")"
   ]
  },
  {
   "cell_type": "code",
   "execution_count": 5,
   "metadata": {},
   "outputs": [
    {
     "name": "stdout",
     "output_type": "stream",
     "text": [
      "加入第 2 條Linked List\n",
      "None\n"
     ]
    }
   ],
   "source": [
    "hashSet.add(\"dog\")"
   ]
  },
  {
   "cell_type": "code",
   "execution_count": 6,
   "metadata": {},
   "outputs": [
    {
     "name": "stdout",
     "output_type": "stream",
     "text": [
      "加入第 1 條Linked List\n",
      "<__main__.ListNode object at 0x000001ED58B49B48>\n"
     ]
    }
   ],
   "source": [
    "hashSet.add(\"banana\")"
   ]
  },
  {
   "cell_type": "markdown",
   "metadata": {},
   "source": [
    "記憶體位置不同~再用之前寫Linked List的\".next\"方法確認一次"
   ]
  },
  {
   "cell_type": "code",
   "execution_count": 7,
   "metadata": {},
   "outputs": [],
   "source": [
    "class ListNode:\n",
    "    def __init__(self,val):\n",
    "        self.val = val\n",
    "        self.next = None\n",
    "class MyHashSet:\n",
    "    def __init__(self,capacity):\n",
    "        self.capacity = capacity\n",
    "        self.data = [None] * capacity\n",
    "        \n",
    "        \n",
    "    def add(self,key):\n",
    "        h = MD5.new()\n",
    "        h.update(key.encode(\"utf-8\"))\n",
    "        enc = int(h.hexdigest(),16)\n",
    "        rem = enc % self.capacity\n",
    "        print (\"加入第\",rem,\"條Linked List\")\n",
    "        \n",
    "        for i in range(self.capacity):\n",
    "            if rem == i:\n",
    "                if self.data[i] == None:\n",
    "                    self.data[i] = ListNode(enc)\n",
    "                    return self.data[i]\n",
    "                else:\n",
    "                    cur = self.data[i]\n",
    "                    print(\"first\",cur)\n",
    "                    while cur.next != None:\n",
    "                        cur = cur.next\n",
    "                    cur.next = ListNode(enc)\n",
    "                    return cur.next\n",
    "#         print(self.data[1])"
   ]
  },
  {
   "cell_type": "code",
   "execution_count": 8,
   "metadata": {},
   "outputs": [
    {
     "name": "stdout",
     "output_type": "stream",
     "text": [
      "加入第 1 條Linked List\n"
     ]
    }
   ],
   "source": [
    "hashSet = MyHashSet(3)\n",
    "a = hashSet.add(\"imucici\")"
   ]
  },
  {
   "cell_type": "code",
   "execution_count": 9,
   "metadata": {},
   "outputs": [
    {
     "name": "stdout",
     "output_type": "stream",
     "text": [
      "加入第 1 條Linked List\n",
      "first <__main__.ListNode object at 0x000001ED58B6C088>\n"
     ]
    }
   ],
   "source": [
    "b = hashSet.add(\"banana\")"
   ]
  },
  {
   "cell_type": "code",
   "execution_count": 10,
   "metadata": {},
   "outputs": [
    {
     "data": {
      "text/plain": [
       "True"
      ]
     },
     "execution_count": 10,
     "metadata": {},
     "output_type": "execute_result"
    }
   ],
   "source": [
    "a.next == b"
   ]
  },
  {
   "cell_type": "markdown",
   "metadata": {},
   "source": [
    "想要像之前BST的preorder一樣，一次把寫入的資料顯示出來方便檢視~\n",
    "\n",
    "另外寫一個函式，他的功能是當我想要查看第n條Linked List的全部內容時，將他們print出來~"
   ]
  },
  {
   "cell_type": "code",
   "execution_count": 11,
   "metadata": {},
   "outputs": [],
   "source": [
    "class ListNode:\n",
    "    def __init__(self,val):\n",
    "        self.val = val\n",
    "        self.next = None\n",
    "class MyHashSet:\n",
    "    def __init__(self,capacity):\n",
    "        self.capacity = capacity\n",
    "        self.data = [None] * capacity\n",
    "        \n",
    "        \n",
    "    def add(self,key):\n",
    "        h = MD5.new()\n",
    "        h.update(key.encode(\"utf-8\"))\n",
    "        enc = int(h.hexdigest(),16)\n",
    "        rem = enc % self.capacity\n",
    "        print (\"加入第\",rem,\"條Linked List\")\n",
    "        \n",
    "        for i in range(self.capacity):\n",
    "            if rem == i:\n",
    "                if self.data[i] == None:\n",
    "                    self.data[i] = ListNode(enc)\n",
    "                    return self.data[i]\n",
    "                else:\n",
    "                    cur = self.data[i]\n",
    "                    while cur.next != None:\n",
    "                        cur = cur.next\n",
    "                    cur.next = ListNode(enc)\n",
    "                    return cur.next\n",
    "                   \n",
    "    def show(self,n): #列出第n條Linked List內容\n",
    "        count = 0\n",
    "        while self.data[n] != None:\n",
    "            print(\"第\",n,\"條Linked List的第\",count,\"個是:\",self.data[n].val)\n",
    "            self.data[n] = self.data[n].next\n",
    "            count+=1"
   ]
  },
  {
   "cell_type": "code",
   "execution_count": 12,
   "metadata": {},
   "outputs": [
    {
     "name": "stdout",
     "output_type": "stream",
     "text": [
      "加入第 1 條Linked List\n",
      "加入第 1 條Linked List\n",
      "加入第 0 條Linked List\n",
      "加入第 0 條Linked List\n",
      "加入第 1 條Linked List\n",
      "加入第 1 條Linked List\n",
      "加入第 1 條Linked List\n",
      "加入第 0 條Linked List\n",
      "加入第 1 條Linked List\n",
      "加入第 2 條Linked List\n",
      "加入第 2 條Linked List\n",
      "加入第 1 條Linked List\n",
      "加入第 1 條Linked List\n",
      "加入第 2 條Linked List\n",
      "加入第 0 條Linked List\n"
     ]
    }
   ],
   "source": [
    "hashSet = MyHashSet(3)\n",
    "\n",
    "imucici = hashSet.add(\"imucici\")\n",
    "banana = hashSet.add(\"banana\")\n",
    "ucc = hashSet.add(\"ucc\")\n",
    "balabala = hashSet.add(\"balabala\")\n",
    "a = hashSet.add(\"a\")\n",
    "b = hashSet.add(\"b\")\n",
    "c = hashSet.add(\"c\")\n",
    "d = hashSet.add(\"d\")\n",
    "e = hashSet.add(\"e\")\n",
    "f = hashSet.add(\"f\")\n",
    "g = hashSet.add(\"g\")\n",
    "h = hashSet.add(\"h\")\n",
    "i = hashSet.add(\"i\")\n",
    "j = hashSet.add(\"j\")\n",
    "k = hashSet.add(\"k\")"
   ]
  },
  {
   "cell_type": "code",
   "execution_count": 13,
   "metadata": {},
   "outputs": [
    {
     "name": "stdout",
     "output_type": "stream",
     "text": [
      "第 0 條Linked List的第 0 個是: 297111935604980150323125169783286739720\n",
      "第 0 條Linked List的第 1 個是: 106137417791959510373284546825687487649\n",
      "第 0 條Linked List的第 2 個是: 173422077530204247440288476180261147053\n",
      "第 0 條Linked List的第 3 個是: 187279361568289349169310600456257773043\n"
     ]
    }
   ],
   "source": [
    "hashSet.show(0)"
   ]
  },
  {
   "cell_type": "code",
   "execution_count": 14,
   "metadata": {},
   "outputs": [
    {
     "name": "stdout",
     "output_type": "stream",
     "text": [
      "第 1 條Linked List的第 0 個是: 78206301264842596847283861755225178256\n",
      "第 1 條Linked List的第 1 個是: 152461468367392928651612633671792557121\n",
      "第 1 條Linked List的第 2 個是: 16955237001963240173058271559858726497\n",
      "第 1 條Linked List的第 3 個是: 195289424170611159128911017612795795343\n",
      "第 1 條Linked List的第 4 個是: 99079589977253916124855502156832923443\n",
      "第 1 條Linked List的第 5 個是: 299611584147932843547128611849858313266\n",
      "第 1 條Linked List的第 6 個是: 49268479078006861543109070154241760913\n",
      "第 1 條Linked List的第 7 個是: 178594487029704683911797514996985530177\n"
     ]
    }
   ],
   "source": [
    "hashSet.show(1)"
   ]
  },
  {
   "cell_type": "code",
   "execution_count": 15,
   "metadata": {},
   "outputs": [
    {
     "name": "stdout",
     "output_type": "stream",
     "text": [
      "第 2 條Linked List的第 0 個是: 190917122200326810055233066464581373159\n",
      "第 2 條Linked List的第 1 個是: 237879873640563870927460284185496028253\n",
      "第 2 條Linked List的第 2 個是: 72085025882002076319884508409206166805\n"
     ]
    }
   ],
   "source": [
    "hashSet.show(2)"
   ]
  },
  {
   "cell_type": "markdown",
   "metadata": {},
   "source": [
    "nice~可以把想法用程式碼實現了"
   ]
  },
  {
   "cell_type": "code",
   "execution_count": 1,
   "metadata": {},
   "outputs": [],
   "source": [
    "class ListNode:\n",
    "    def __init__(self,val):\n",
    "        self.val = val\n",
    "        self.next = None\n",
    "class MyHashSet:\n",
    "    def __init__(self,capacity):\n",
    "        self.capacity = capacity\n",
    "        self.data = [None] * capacity\n",
    "        \n",
    "        \n",
    "    def add(self,key):\n",
    "        h = MD5.new()\n",
    "        h.update(key.encode(\"utf-8\"))\n",
    "        enc = int(h.hexdigest(),16)\n",
    "        rem = enc % self.capacity\n",
    "        print (\"加入第\",rem,\"條Linked List\")\n",
    "        \n",
    "        for i in range(self.capacity):\n",
    "            if rem == i:\n",
    "                if self.data[i] == None:\n",
    "                    self.data[i] = ListNode(enc)\n",
    "                    return self.data[i]\n",
    "                else:\n",
    "#                     print(\"first\",self.data[i])\n",
    "                    cur = self.data[i]\n",
    "                    while cur.next != None:\n",
    "                        cur = cur.next\n",
    "                    cur.next = ListNode(enc)\n",
    "                    return cur.next\n",
    "                   \n",
    "    def show(self,n): #列出第n條Linked List內容\n",
    "        count = 0\n",
    "        while self.data[n] != None:\n",
    "            print(\"第\",n,\"條Linked List的第\",count,\"個是:\",self.data[n].val)\n",
    "            self.data[n] = self.data[n].next\n",
    "            count+=1\n",
    "            \n",
    "            \n",
    "    def contains(self,key):\n",
    "        h = MD5.new()\n",
    "        h.update(key.encode(\"utf-8\"))\n",
    "        enc = int(h.hexdigest(),16) \n",
    "        rem = enc % self.capacity #位於第幾條Linked List\n",
    "        print (\"要找的位於第\",rem,\"條Linked List\")\n",
    "        \n",
    "        for i in range(self.capacity):\n",
    "            if rem == i:\n",
    "                if self.data[i] == None:\n",
    "                    return False\n",
    "                else:\n",
    "                    if self.data[i].val == enc:\n",
    "                        return True\n",
    "                    \n",
    "                    else:\n",
    "                        while self.data[i].val != enc:\n",
    "                            self.data[i] = self.data[i].next\n",
    "                            if self.data[i].next == None:\n",
    "                                return False\n",
    "                        return True"
   ]
  },
  {
   "cell_type": "code",
   "execution_count": 2,
   "metadata": {},
   "outputs": [],
   "source": [
    "from Cryptodome.Hash import MD5"
   ]
  },
  {
   "cell_type": "code",
   "execution_count": 3,
   "metadata": {},
   "outputs": [
    {
     "name": "stdout",
     "output_type": "stream",
     "text": [
      "加入第 1 條Linked List\n",
      "加入第 1 條Linked List\n",
      "加入第 0 條Linked List\n",
      "加入第 0 條Linked List\n",
      "加入第 1 條Linked List\n",
      "加入第 1 條Linked List\n",
      "加入第 1 條Linked List\n",
      "加入第 0 條Linked List\n",
      "加入第 1 條Linked List\n",
      "加入第 2 條Linked List\n",
      "加入第 2 條Linked List\n",
      "加入第 1 條Linked List\n",
      "加入第 1 條Linked List\n",
      "加入第 2 條Linked List\n",
      "加入第 0 條Linked List\n"
     ]
    }
   ],
   "source": [
    "hashSet = MyHashSet(3)\n",
    "\n",
    "imucici = hashSet.add(\"imucici\")\n",
    "banana = hashSet.add(\"banana\")\n",
    "ucc = hashSet.add(\"ucc\")\n",
    "balabala = hashSet.add(\"balabala\")\n",
    "a = hashSet.add(\"a\")\n",
    "b = hashSet.add(\"b\")\n",
    "c = hashSet.add(\"c\")\n",
    "d = hashSet.add(\"d\")\n",
    "e = hashSet.add(\"e\")\n",
    "f = hashSet.add(\"f\")\n",
    "g = hashSet.add(\"g\")\n",
    "h = hashSet.add(\"h\")\n",
    "i = hashSet.add(\"i\")\n",
    "j = hashSet.add(\"j\")\n",
    "k = hashSet.add(\"k\")"
   ]
  },
  {
   "cell_type": "code",
   "execution_count": 4,
   "metadata": {},
   "outputs": [
    {
     "name": "stdout",
     "output_type": "stream",
     "text": [
      "要找的位於第 0 條Linked List\n"
     ]
    },
    {
     "data": {
      "text/plain": [
       "False"
      ]
     },
     "execution_count": 4,
     "metadata": {},
     "output_type": "execute_result"
    }
   ],
   "source": [
    "hashSet.contains(\"uwwcc\")"
   ]
  },
  {
   "cell_type": "code",
   "execution_count": 1,
   "metadata": {},
   "outputs": [],
   "source": [
    "class ListNode:\n",
    "    def __init__(self,val):\n",
    "        self.val = val\n",
    "        self.next = None\n",
    "class MyHashSet:\n",
    "    def __init__(self,capacity):\n",
    "        self.capacity = capacity\n",
    "        self.data = [None] * capacity\n",
    "        \n",
    "        \n",
    "    def add(self,key):\n",
    "        h = MD5.new()\n",
    "        h.update(key.encode(\"utf-8\"))\n",
    "        enc = int(h.hexdigest(),16)\n",
    "        rem = enc % self.capacity\n",
    "        print (\"加入第\",rem,\"條Linked List\")\n",
    "        \n",
    "        for i in range(self.capacity):\n",
    "            if rem == i:\n",
    "                if self.data[i] == None:\n",
    "                    self.data[i] = ListNode(enc)\n",
    "                    return self.data[i]\n",
    "                else:\n",
    "#                     print(\"first\",self.data[i])\n",
    "                    cur = self.data[i]\n",
    "                    while cur.next != None:\n",
    "                        cur = cur.next\n",
    "                    cur.next = ListNode(enc)\n",
    "                    return cur.next\n",
    "                   \n",
    "    def show(self,n): #列出第n條Linked List內容\n",
    "        count = 0\n",
    "        while self.data[n] != None:\n",
    "            print(\"第\",n,\"條Linked List的第\",count,\"個是:\",self.data[n].val)\n",
    "            self.data[n] = self.data[n].next\n",
    "            count+=1\n",
    "            \n",
    "            \n",
    "    def contains(self,key):\n",
    "        h = MD5.new()\n",
    "        h.update(key.encode(\"utf-8\"))\n",
    "        enc = int(h.hexdigest(),16) \n",
    "        rem = enc % self.capacity #位於第幾條Linked List\n",
    "        print (\"要找的位於第\",rem,\"條Linked List\")\n",
    "        \n",
    "        for i in range(self.capacity):\n",
    "            if rem == i:\n",
    "                if self.data[i] == None:\n",
    "                    return False\n",
    "                else:\n",
    "                    if self.data[i].val == enc:\n",
    "                        return True\n",
    "                    else:\n",
    "                        cur = self.data[i].next\n",
    "                        while cur != None and cur.val != enc:\n",
    "                            cur = cur.next\n",
    "        \n",
    "                        if cur == None:\n",
    "                            return False\n",
    "                        \n",
    "                        else:\n",
    "                            return True\n",
    "                    \n",
    "    def remove(self,key):\n",
    "        h = MD5.new()\n",
    "        h.update(key.encode(\"utf-8\"))\n",
    "        enc = int(h.hexdigest(),16) \n",
    "        rem = enc % self.capacity #位於第幾條Linked List\n",
    "        print (\"要刪除的位於第\",rem,\"條Linked List\")\n",
    "        \n",
    "        for i in range(self.capacity):\n",
    "            if rem == i:\n",
    "                \n",
    "                #整條Linked List為空，代表目標值不存在\n",
    "                if self.data[i] == None:\n",
    "                    return False\n",
    "                \n",
    "                else:\n",
    "                    \n",
    "                    #目標值在第0位\n",
    "                    if self.data[i].val == enc:\n",
    "                        self.data[i] = self.data[i].next\n",
    "                        \n",
    "                    else:\n",
    "                        curp = self.data[i]\n",
    "                        cur = self.data[i].next\n",
    "                        while curp.val != enc:\n",
    "                            curp = cur\n",
    "                            cur = cur.next\n",
    "                            if cur.next == None:\n",
    "                                return False\n",
    "                        return True"
   ]
  },
  {
   "cell_type": "code",
   "execution_count": 2,
   "metadata": {},
   "outputs": [],
   "source": [
    "from Cryptodome.Hash import MD5"
   ]
  },
  {
   "cell_type": "code",
   "execution_count": 3,
   "metadata": {},
   "outputs": [
    {
     "name": "stdout",
     "output_type": "stream",
     "text": [
      "加入第 1 條Linked List\n",
      "加入第 1 條Linked List\n",
      "加入第 0 條Linked List\n",
      "加入第 0 條Linked List\n",
      "加入第 1 條Linked List\n",
      "加入第 1 條Linked List\n",
      "加入第 1 條Linked List\n",
      "加入第 0 條Linked List\n",
      "加入第 1 條Linked List\n",
      "加入第 2 條Linked List\n",
      "加入第 2 條Linked List\n",
      "加入第 1 條Linked List\n",
      "加入第 1 條Linked List\n",
      "加入第 2 條Linked List\n",
      "加入第 0 條Linked List\n"
     ]
    }
   ],
   "source": [
    "hashSet = MyHashSet(3)\n",
    "\n",
    "imucici = hashSet.add(\"imucici\")\n",
    "banana = hashSet.add(\"banana\")\n",
    "ucc = hashSet.add(\"ucc\")\n",
    "balabala = hashSet.add(\"balabala\")\n",
    "a = hashSet.add(\"a\")\n",
    "b = hashSet.add(\"b\")\n",
    "c = hashSet.add(\"c\")\n",
    "d = hashSet.add(\"d\")\n",
    "e = hashSet.add(\"e\")\n",
    "f = hashSet.add(\"f\")\n",
    "g = hashSet.add(\"g\")\n",
    "h = hashSet.add(\"h\")\n",
    "i = hashSet.add(\"i\")\n",
    "j = hashSet.add(\"j\")\n",
    "k = hashSet.add(\"k\")"
   ]
  },
  {
   "cell_type": "code",
   "execution_count": 4,
   "metadata": {},
   "outputs": [
    {
     "name": "stdout",
     "output_type": "stream",
     "text": [
      "要刪除的位於第 0 條Linked List\n"
     ]
    },
    {
     "data": {
      "text/plain": [
       "False"
      ]
     },
     "execution_count": 4,
     "metadata": {},
     "output_type": "execute_result"
    }
   ],
   "source": [
    "hashSet.remove(\"k\")"
   ]
  },
  {
   "cell_type": "code",
   "execution_count": 5,
   "metadata": {},
   "outputs": [
    {
     "name": "stdout",
     "output_type": "stream",
     "text": [
      "要找的位於第 0 條Linked List\n"
     ]
    },
    {
     "data": {
      "text/plain": [
       "True"
      ]
     },
     "execution_count": 5,
     "metadata": {},
     "output_type": "execute_result"
    }
   ],
   "source": [
    "hashSet.contains(\"k\")"
   ]
  },
  {
   "cell_type": "code",
   "execution_count": 5,
   "metadata": {},
   "outputs": [
    {
     "name": "stdout",
     "output_type": "stream",
     "text": [
      "要找的位於第 1 條Linked List\n"
     ]
    },
    {
     "data": {
      "text/plain": [
       "True"
      ]
     },
     "execution_count": 5,
     "metadata": {},
     "output_type": "execute_result"
    }
   ],
   "source": [
    "hashSet.contains(\"b\")"
   ]
  },
  {
   "cell_type": "code",
   "execution_count": 6,
   "metadata": {},
   "outputs": [
    {
     "name": "stdout",
     "output_type": "stream",
     "text": [
      "要找的位於第 0 條Linked List\n"
     ]
    },
    {
     "data": {
      "text/plain": [
       "True"
      ]
     },
     "execution_count": 6,
     "metadata": {},
     "output_type": "execute_result"
    }
   ],
   "source": [
    "hashSet.contains(\"d\")"
   ]
  },
  {
   "cell_type": "code",
   "execution_count": 7,
   "metadata": {},
   "outputs": [
    {
     "name": "stdout",
     "output_type": "stream",
     "text": [
      "要找的位於第 2 條Linked List\n"
     ]
    },
    {
     "data": {
      "text/plain": [
       "True"
      ]
     },
     "execution_count": 7,
     "metadata": {},
     "output_type": "execute_result"
    }
   ],
   "source": [
    "hashSet.contains(\"f\")"
   ]
  },
  {
   "cell_type": "code",
   "execution_count": 8,
   "metadata": {},
   "outputs": [
    {
     "name": "stdout",
     "output_type": "stream",
     "text": [
      "要找的位於第 1 條Linked List\n"
     ]
    },
    {
     "data": {
      "text/plain": [
       "True"
      ]
     },
     "execution_count": 8,
     "metadata": {},
     "output_type": "execute_result"
    }
   ],
   "source": [
    "hashSet.contains(\"i\")"
   ]
  },
  {
   "cell_type": "code",
   "execution_count": 9,
   "metadata": {},
   "outputs": [
    {
     "name": "stdout",
     "output_type": "stream",
     "text": [
      "要找的位於第 1 條Linked List\n"
     ]
    },
    {
     "data": {
      "text/plain": [
       "True"
      ]
     },
     "execution_count": 9,
     "metadata": {},
     "output_type": "execute_result"
    }
   ],
   "source": [
    "hashSet.contains(\"imucici\")"
   ]
  },
  {
   "cell_type": "code",
   "execution_count": 10,
   "metadata": {},
   "outputs": [
    {
     "name": "stdout",
     "output_type": "stream",
     "text": [
      "要找的位於第 2 條Linked List\n"
     ]
    },
    {
     "data": {
      "text/plain": [
       "False"
      ]
     },
     "execution_count": 10,
     "metadata": {},
     "output_type": "execute_result"
    }
   ],
   "source": [
    "hashSet.contains(\"imucicici\")"
   ]
  },
  {
   "cell_type": "code",
   "execution_count": 6,
   "metadata": {},
   "outputs": [
    {
     "name": "stdout",
     "output_type": "stream",
     "text": [
      "第 0 條Linked List的第 0 個是: 297111935604980150323125169783286739720\n",
      "第 0 條Linked List的第 1 個是: 106137417791959510373284546825687487649\n",
      "第 0 條Linked List的第 2 個是: 173422077530204247440288476180261147053\n",
      "第 0 條Linked List的第 3 個是: 187279361568289349169310600456257773043\n"
     ]
    }
   ],
   "source": [
    "hashSet.show(0)"
   ]
  },
  {
   "cell_type": "code",
   "execution_count": 7,
   "metadata": {},
   "outputs": [
    {
     "name": "stdout",
     "output_type": "stream",
     "text": [
      "第 1 條Linked List的第 0 個是: 78206301264842596847283861755225178256\n",
      "第 1 條Linked List的第 1 個是: 152461468367392928651612633671792557121\n",
      "第 1 條Linked List的第 2 個是: 16955237001963240173058271559858726497\n",
      "第 1 條Linked List的第 3 個是: 195289424170611159128911017612795795343\n",
      "第 1 條Linked List的第 4 個是: 99079589977253916124855502156832923443\n",
      "第 1 條Linked List的第 5 個是: 299611584147932843547128611849858313266\n",
      "第 1 條Linked List的第 6 個是: 49268479078006861543109070154241760913\n",
      "第 1 條Linked List的第 7 個是: 178594487029704683911797514996985530177\n"
     ]
    }
   ],
   "source": [
    "hashSet.show(1)"
   ]
  },
  {
   "cell_type": "code",
   "execution_count": 8,
   "metadata": {},
   "outputs": [
    {
     "name": "stdout",
     "output_type": "stream",
     "text": [
      "第 2 條Linked List的第 0 個是: 190917122200326810055233066464581373159\n",
      "第 2 條Linked List的第 1 個是: 237879873640563870927460284185496028253\n",
      "第 2 條Linked List的第 2 個是: 72085025882002076319884508409206166805\n"
     ]
    }
   ],
   "source": [
    "hashSet.show(2)"
   ]
  },
  {
   "cell_type": "code",
   "execution_count": 1,
   "metadata": {},
   "outputs": [],
   "source": [
    "class ListNode:\n",
    "    def __init__(self,val):\n",
    "        self.val = val\n",
    "        self.next = None\n",
    "class MyHashSet:\n",
    "    def __init__(self,capacity):\n",
    "        self.capacity = capacity\n",
    "        self.data = [None] * capacity\n",
    "        \n",
    "        \n",
    "    def add(self,key):\n",
    "        h = MD5.new()\n",
    "        h.update(key.encode(\"utf-8\"))\n",
    "        enc = int(h.hexdigest(),16)\n",
    "        rem = enc % self.capacity\n",
    "        print (\"加入第\",rem,\"條Linked List\")\n",
    "        \n",
    "        for i in range(self.capacity):\n",
    "            if rem == i:\n",
    "                if self.data[i] == None:\n",
    "                    self.data[i] = ListNode(enc)\n",
    "                    return self.data[i]\n",
    "                else:\n",
    "#                     print(\"first\",self.data[i])\n",
    "                    cur = self.data[i]\n",
    "                    while cur.next != None:\n",
    "                        cur = cur.next\n",
    "                    cur.next = ListNode(enc)\n",
    "                    return cur.next\n",
    "                   \n",
    "    def show(self,n): #列出第n條Linked List內容\n",
    "        count = 0\n",
    "        while self.data[n] != None:\n",
    "            print(\"第\",n,\"條Linked List的第\",count,\"個是:\",self.data[n].val)\n",
    "            self.data[n] = self.data[n].next\n",
    "            count+=1\n",
    "            \n",
    "            \n",
    "    def contains(self,key):\n",
    "        h = MD5.new()\n",
    "        h.update(key.encode(\"utf-8\"))\n",
    "        enc = int(h.hexdigest(),16) \n",
    "        rem = enc % self.capacity #位於第幾條Linked List\n",
    "        print (\"要找的位於第\",rem,\"條Linked List\")\n",
    "        \n",
    "        for i in range(self.capacity):\n",
    "            if rem == i:\n",
    "                if self.data[i] == None:\n",
    "                    return False\n",
    "                else:\n",
    "                    if self.data[i].val == enc:\n",
    "                        return True\n",
    "                    else:\n",
    "                        cur = self.data[i].next\n",
    "                        while cur != None and cur.val != enc:\n",
    "                            cur = cur.next\n",
    "                        \n",
    "                        if cur == None:\n",
    "                            return False\n",
    "                        \n",
    "                        else:\n",
    "                            return True\n",
    "                    \n",
    "    def remove(self,key):\n",
    "        h = MD5.new()\n",
    "        h.update(key.encode(\"utf-8\"))\n",
    "        enc = int(h.hexdigest(),16) \n",
    "        rem = enc % self.capacity #位於第幾條Linked List\n",
    "        print (\"要刪除的位於第\",rem,\"條Linked List\")\n",
    "        \n",
    "        for i in range(self.capacity):\n",
    "            if rem == i:\n",
    "                \n",
    "                #整條Linked List為空，代表目標值不存在\n",
    "                if self.data[i] == None:\n",
    "                    return False\n",
    "                \n",
    "                else:\n",
    "                    \n",
    "                    #目標值在第0位\n",
    "                    if self.data[i].val == enc:\n",
    "                        self.data[i] = self.data[i].next\n",
    "                        return True\n",
    "                        \n",
    "                    else:\n",
    "                        curp = self.data[i]\n",
    "                        cur = self.data[i].next\n",
    "                        while cur != None and cur.val != enc:\n",
    "                            curp = cur\n",
    "                            cur = cur.next\n",
    "                        if cur == None:\n",
    "                            return False\n",
    "                        else:\n",
    "                            curp.next = cur.next\n",
    "                            cur = None\n",
    "                            return True"
   ]
  },
  {
   "cell_type": "code",
   "execution_count": 2,
   "metadata": {},
   "outputs": [],
   "source": [
    "from Cryptodome.Hash import MD5"
   ]
  },
  {
   "cell_type": "code",
   "execution_count": 3,
   "metadata": {},
   "outputs": [
    {
     "name": "stdout",
     "output_type": "stream",
     "text": [
      "加入第 1 條Linked List\n",
      "加入第 3 條Linked List\n",
      "加入第 0 條Linked List\n",
      "加入第 0 條Linked List\n",
      "加入第 1 條Linked List\n",
      "加入第 2 條Linked List\n",
      "加入第 3 條Linked List\n",
      "加入第 3 條Linked List\n",
      "加入第 3 條Linked List\n",
      "加入第 1 條Linked List\n",
      "加入第 4 條Linked List\n",
      "加入第 3 條Linked List\n",
      "加入第 3 條Linked List\n",
      "加入第 2 條Linked List\n",
      "加入第 0 條Linked List\n",
      "加入第 3 條Linked List\n"
     ]
    }
   ],
   "source": [
    "hashSet = MyHashSet(5)\n",
    "\n",
    "aa = hashSet.add(\"aa\")\n",
    "bb = hashSet.add(\"bb\")\n",
    "cc = hashSet.add(\"cc\")\n",
    "dd = hashSet.add(\"dd\")\n",
    "imucici = hashSet.add(\"imucici\")\n",
    "a = hashSet.add(\"a\")\n",
    "b = hashSet.add(\"b\")\n",
    "c = hashSet.add(\"c\")\n",
    "d = hashSet.add(\"d\")\n",
    "e = hashSet.add(\"e\")\n",
    "f = hashSet.add(\"f\")\n",
    "g = hashSet.add(\"g\")\n",
    "h = hashSet.add(\"h\")\n",
    "i = hashSet.add(\"i\")\n",
    "j = hashSet.add(\"j\")\n",
    "k = hashSet.add(\"k\")"
   ]
  },
  {
   "cell_type": "code",
   "execution_count": 4,
   "metadata": {},
   "outputs": [
    {
     "name": "stdout",
     "output_type": "stream",
     "text": [
      "要刪除的位於第 1 條Linked List\n",
      "True\n",
      "要刪除的位於第 1 條Linked List\n",
      "True\n",
      "要刪除的位於第 1 條Linked List\n",
      "True\n",
      "要刪除的位於第 0 條Linked List\n",
      "False\n"
     ]
    }
   ],
   "source": [
    "print(hashSet.remove(\"aa\"))#刪頭\n",
    "print(hashSet.remove(\"imucici\")) #刪中間\n",
    "print(hashSet.remove(\"e\")) #刪尾\n",
    "print(hashSet.remove(\"ucc\")) #不存在"
   ]
  },
  {
   "cell_type": "code",
   "execution_count": 5,
   "metadata": {},
   "outputs": [
    {
     "name": "stdout",
     "output_type": "stream",
     "text": [
      "要找的位於第 1 條Linked List\n",
      "False\n",
      "要找的位於第 1 條Linked List\n",
      "False\n",
      "要找的位於第 1 條Linked List\n",
      "False\n",
      "要找的位於第 0 條Linked List\n",
      "True\n"
     ]
    }
   ],
   "source": [
    "print(hashSet.contains(\"aa\"))\n",
    "print(hashSet.contains(\"imucici\"))\n",
    "print(hashSet.contains(\"e\"))\n",
    "print(hashSet.contains(\"cc\"))"
   ]
  },
  {
   "cell_type": "code",
   "execution_count": 6,
   "metadata": {},
   "outputs": [
    {
     "name": "stdout",
     "output_type": "stream",
     "text": [
      "第 0 條Linked List的第 0 個是: 298007873705211094981943431744292596860\n",
      "第 0 條Linked List的第 1 個是: 35451307865568518497272889942671908040\n",
      "第 0 條Linked List的第 2 個是: 72085025882002076319884508409206166805\n",
      " \n",
      " \n",
      "第 2 條Linked List的第 0 個是: 16955237001963240173058271559858726497\n",
      "第 2 條Linked List的第 1 個是: 178594487029704683911797514996985530177\n",
      " \n",
      "第 3 條Linked List的第 0 個是: 44763031454153395597992990748105608828\n",
      "第 3 條Linked List的第 1 個是: 195289424170611159128911017612795795343\n",
      "第 3 條Linked List的第 2 個是: 99079589977253916124855502156832923443\n",
      "第 3 條Linked List的第 3 個是: 173422077530204247440288476180261147053\n",
      "第 3 條Linked List的第 4 個是: 237879873640563870927460284185496028253\n",
      "第 3 條Linked List的第 5 個是: 49268479078006861543109070154241760913\n",
      "第 3 條Linked List的第 6 個是: 187279361568289349169310600456257773043\n",
      " \n",
      "第 4 條Linked List的第 0 個是: 190917122200326810055233066464581373159\n"
     ]
    }
   ],
   "source": [
    "hashSet.show(0)\n",
    "print(\" \")\n",
    "hashSet.show(1)\n",
    "print(\" \")\n",
    "hashSet.show(2)\n",
    "print(\" \")\n",
    "hashSet.show(3)\n",
    "print(\" \")\n",
    "hashSet.show(4)"
   ]
  },
  {
   "cell_type": "markdown",
   "metadata": {},
   "source": [
    "昨天晚上完成Hash table後，在跟同學討論的過程中才突然發現其實每一個功能都不需要寫到for迴圈，因為enc = int(h.hexdigest(),16)這行就已經是找到key該去的那條Linkeed List了 XD 當時會想說要用迴圈也是想一個一個遍歷，找到正確的位置，但後來就發現array本身就有index的概念。有時真的在打程式的過程中有盲點XDDD"
   ]
  },
  {
   "cell_type": "markdown",
   "metadata": {},
   "source": [
    "修改版~"
   ]
  },
  {
   "cell_type": "code",
   "execution_count": 1,
   "metadata": {},
   "outputs": [],
   "source": [
    "from Cryptodome.Hash import MD5"
   ]
  },
  {
   "cell_type": "code",
   "execution_count": 2,
   "metadata": {},
   "outputs": [],
   "source": [
    "class ListNode:\n",
    "    def __init__(self,val):\n",
    "        self.val = val\n",
    "        self.next = None\n",
    "        \n",
    "class MyHashSet:\n",
    "    def __init__(self,capacity):\n",
    "        self.capacity = capacity\n",
    "        self.data = [None] * capacity\n",
    "        \n",
    "    def add(self,key):\n",
    "        h = MD5.new()\n",
    "        h.update(key.encode(\"utf-8\"))\n",
    "        enc = int(h.hexdigest(),16) # 加密過的結果\n",
    "        rem = enc % self.capacity # 加入第幾條Linked List\n",
    "        \n",
    "        #整條Linked List為空，將新插入的節點當作新的頭節點\n",
    "        if self.data[rem] == None:\n",
    "            self.data[rem] = ListNode(enc)\n",
    "            return self.data[rem]\n",
    "        \n",
    "        else:\n",
    "            #Linked List不為空，將新節點插入Linked List尾端\n",
    "            cur = self.data[rem]\n",
    "            while cur.next != None:\n",
    "                cur = cur.next\n",
    "            cur.next = ListNode(enc)\n",
    "            return cur.next\n",
    "                   \n",
    "    def show(self,n): #列出第n條Linked List內容\n",
    "        count = 0\n",
    "        while self.data[n] != None:\n",
    "            print(\"第\",n,\"條Linked List的第\",count,\"個是:\",self.data[n].val)\n",
    "            self.data[n] = self.data[n].next\n",
    "            count+=1\n",
    "            \n",
    "            \n",
    "    def contains(self,key):\n",
    "        h = MD5.new()\n",
    "        h.update(key.encode(\"utf-8\"))\n",
    "        enc = int(h.hexdigest(),16) #加密過的結果\n",
    "        rem = enc % self.capacity #位於第幾條Linked List\n",
    "        \n",
    "        #整條Linked List為空，代表目標值不存在\n",
    "        if self.data[rem] == None:\n",
    "            return False\n",
    "        else:\n",
    "            #目標值在第0位\n",
    "            if self.data[rem].val == enc :\n",
    "                return True\n",
    "            else:\n",
    "                #目標值在中間\n",
    "                cur = self.data[rem].next\n",
    "                while cur != None and cur.val != enc :\n",
    "                    cur = cur.next\n",
    "                if cur == None:\n",
    "                    return False\n",
    "                else:\n",
    "                    return True\n",
    "                    \n",
    "    def remove(self,key):\n",
    "        h = MD5.new()\n",
    "        h.update(key.encode(\"utf-8\"))\n",
    "        enc = int(h.hexdigest(),16) #加密過的結果\n",
    "        rem = enc % self.capacity #位於第幾條Linked List\n",
    "        \n",
    "        #整條Linked List為空，代表目標值不存在\n",
    "        if self.data[rem] == None:\n",
    "            return False\n",
    "        else:\n",
    "            #目標值在第0位\n",
    "            if self.data[rem].val == enc:\n",
    "                self.data[rem] = self.data[rem].next\n",
    "                return True\n",
    "            else:\n",
    "                #目標值在中間\n",
    "                curp = self.data[rem]\n",
    "                cur = self.data[rem].next\n",
    "                while cur != None and cur.val != enc:\n",
    "                    curp = cur\n",
    "                    cur = cur.next\n",
    "                if cur == None:\n",
    "                    return False\n",
    "                else:\n",
    "                    curp.next = cur.next\n",
    "                    cur = None\n",
    "                    return True\n",
    "##參考資料:\n",
    "# 1. https://github.com/imucici/my-learning-note/blob/master/LeetCode/week4/707.%20Design%20Linked%20List.ipynb\n",
    "# 2. https://www.youtube.com/watch?v=9HFbhPscPU0\n",
    "# 3. https://www.youtube.com/watch?v=2BldESGZKB8&feature=youtu.be"
   ]
  },
  {
   "cell_type": "markdown",
   "metadata": {},
   "source": [
    "再重新測試"
   ]
  },
  {
   "cell_type": "code",
   "execution_count": 3,
   "metadata": {},
   "outputs": [],
   "source": [
    "hashSet = MyHashSet(3)\n",
    "\n",
    "# aa = hashSet.add(\"aa\")\n",
    "# bb = hashSet.add(\"bb\")\n",
    "# cc = hashSet.add(\"cc\")\n",
    "# dd = hashSet.add(\"dd\")\n",
    "# imucici = hashSet.add(\"imucici\")\n",
    "a = hashSet.add(\"a\")\n",
    "b = hashSet.add(\"b\")\n",
    "c = hashSet.add(\"c\")\n",
    "# d = hashSet.add(\"d\")\n",
    "e = hashSet.add(\"e\")\n",
    "# f = hashSet.add(\"f\")\n",
    "# g = hashSet.add(\"g\")\n",
    "# h = hashSet.add(\"h\")\n",
    "# i = hashSet.add(\"i\")\n",
    "# j = hashSet.add(\"j\")\n",
    "# k = hashSet.add(\"k\")"
   ]
  },
  {
   "cell_type": "code",
   "execution_count": 4,
   "metadata": {},
   "outputs": [
    {
     "name": "stdout",
     "output_type": "stream",
     "text": [
      "True\n",
      "True\n",
      "True\n",
      "False\n"
     ]
    }
   ],
   "source": [
    "print(hashSet.remove(\"a\"))#刪頭\n",
    "print(hashSet.remove(\"b\")) #刪中間\n",
    "print(hashSet.remove(\"e\")) #刪尾\n",
    "print(hashSet.remove(\"ucc\")) #不存在"
   ]
  },
  {
   "cell_type": "code",
   "execution_count": 5,
   "metadata": {},
   "outputs": [
    {
     "name": "stdout",
     "output_type": "stream",
     "text": [
      "False\n",
      "False\n",
      "False\n",
      "False\n"
     ]
    }
   ],
   "source": [
    "print(hashSet.contains(\"aa\")) #存在\n",
    "print(hashSet.contains(\"imucici\")) #存在\n",
    "print(hashSet.contains(\"e\")) #存在\n",
    "print(hashSet.contains(\"ucc\")) #不存在"
   ]
  },
  {
   "cell_type": "code",
   "execution_count": 6,
   "metadata": {},
   "outputs": [
    {
     "name": "stdout",
     "output_type": "stream",
     "text": [
      "第 0 條Linked List的第 0 個是: 298007873705211094981943431744292596860\n",
      "第 0 條Linked List的第 1 個是: 35451307865568518497272889942671908040\n",
      "第 0 條Linked List的第 2 個是: 72085025882002076319884508409206166805\n",
      " \n",
      " \n",
      "第 2 條Linked List的第 0 個是: 16955237001963240173058271559858726497\n",
      "第 2 條Linked List的第 1 個是: 178594487029704683911797514996985530177\n",
      " \n",
      "第 3 條Linked List的第 0 個是: 44763031454153395597992990748105608828\n",
      "第 3 條Linked List的第 1 個是: 195289424170611159128911017612795795343\n",
      "第 3 條Linked List的第 2 個是: 99079589977253916124855502156832923443\n",
      "第 3 條Linked List的第 3 個是: 173422077530204247440288476180261147053\n",
      "第 3 條Linked List的第 4 個是: 237879873640563870927460284185496028253\n",
      "第 3 條Linked List的第 5 個是: 49268479078006861543109070154241760913\n",
      "第 3 條Linked List的第 6 個是: 187279361568289349169310600456257773043\n",
      " \n",
      "第 4 條Linked List的第 0 個是: 190917122200326810055233066464581373159\n"
     ]
    }
   ],
   "source": [
    "hashSet.show(0)\n",
    "print(\" \")\n",
    "hashSet.show(1)\n",
    "print(\" \")\n",
    "hashSet.show(2)\n",
    "print(\" \")\n",
    "hashSet.show(3)\n",
    "print(\" \")\n",
    "hashSet.show(4)"
   ]
  },
  {
   "cell_type": "markdown",
   "metadata": {},
   "source": [
    "while cur != None and cur.val != enc:\n",
    "\n",
    "我們可以把cur != None想成是A條件，cur.val != enc想成是B條件\n",
    "\n",
    "在while迴圈的邏輯之下，如果A條件成立的情況下，才會去判斷B條件是不是也成立\n",
    "\n",
    "所以\"不可以\"寫成while cur.val != enc and cur != None:\n",
    "\n",
    "因為這邊的邏輯是A要先成立(cur節點要存在，才會具有val跟next的屬性)，之後才能判斷B\n",
    "\n",
    "不然就會產生 AttributeError：NoneType object has no arrtibute \"val\"的錯誤訊息"
   ]
  },
  {
   "cell_type": "markdown",
   "metadata": {},
   "source": [
    "11/29問助教重複值插入、刪除的問題(當時投影片上的說明是刪除時要將所有重複值一併刪除)。11/30修改程式碼\n",
    "> 插入時遇到重複值就不插入，此時hash table中還是找的到此key，但刪除時就只需進行一次刪除(remove部分的程式碼不用做更動)"
   ]
  },
  {
   "cell_type": "code",
   "execution_count": 1,
   "metadata": {},
   "outputs": [],
   "source": [
    "from Cryptodome.Hash import MD5\n",
    "\n",
    "class ListNode:\n",
    "    def __init__(self,val):\n",
    "        self.val = val\n",
    "        self.next = None\n",
    "        \n",
    "class MyHashSet:\n",
    "    def __init__(self,capacity=5):\n",
    "        self.capacity = capacity\n",
    "        self.data = [None] * capacity\n",
    "        \n",
    "    def add(self,key):\n",
    "        h = MD5.new()\n",
    "        h.update(key.encode(\"utf-8\"))\n",
    "        enc = int(h.hexdigest(),16) # 加密過的結果\n",
    "        rem = enc % self.capacity # 加入第幾條Linked List\n",
    "#         print(rem)\n",
    "        \n",
    "        #整條Linked List為空，將新插入的節點當作新的頭節點\n",
    "        if self.data[rem] == None:\n",
    "            self.data[rem] = ListNode(enc)\n",
    "#             return self.data[rem]\n",
    "        \n",
    "        elif self.data[rem].val == enc:\n",
    "            pass\n",
    "    \n",
    "        else:\n",
    "            #Linked List不為空，將新節點(不重複)插入Linked List尾端\n",
    "            new = ListNode(enc)\n",
    "            cur = self.data[rem]\n",
    "            while cur.next != None and cur.next.val != enc:\n",
    "                cur = cur.next\n",
    "            if cur.next == None:\n",
    "                cur.next = new\n",
    "#             return cur.next\n",
    "                   \n",
    "    def show(self,n): #列出第n條Linked List內容\n",
    "        count = 0\n",
    "        cur = self.data[n]\n",
    "        while cur != None:\n",
    "            print(\"第\",n,\"條Linked List的第\",count,\"個是:\",cur.val)\n",
    "            cur = cur.next\n",
    "            count+=1\n",
    "            \n",
    "            \n",
    "    def contains(self,key):\n",
    "        h = MD5.new()\n",
    "        h.update(key.encode(\"utf-8\"))\n",
    "        enc = int(h.hexdigest(),16) #加密過的結果\n",
    "        rem = enc % self.capacity #位於第幾條Linked List\n",
    "        \n",
    "        #整條Linked List為空，代表目標值不存在\n",
    "        if self.data[rem] == None:\n",
    "            return False\n",
    "        else:\n",
    "            #目標值在第0位\n",
    "            if self.data[rem].val == enc :\n",
    "                return True\n",
    "            else:\n",
    "                #目標值在中間\n",
    "                cur = self.data[rem].next\n",
    "                while cur != None and cur.val != enc :\n",
    "                    cur = cur.next\n",
    "                if cur == None:\n",
    "                    return False\n",
    "                else:\n",
    "                    return True\n",
    "                    \n",
    "    def remove(self,key):\n",
    "        h = MD5.new()\n",
    "        h.update(key.encode(\"utf-8\"))\n",
    "        enc = int(h.hexdigest(),16) #加密過的結果\n",
    "        rem = enc % self.capacity #位於第幾條Linked List\n",
    "        \n",
    "        #整條Linked List為空，代表目標值不存在\n",
    "        if self.data[rem] == None:\n",
    "            pass\n",
    "        else:\n",
    "            #目標值在第0位\n",
    "            if self.data[rem].val == enc:\n",
    "                self.data[rem] = self.data[rem].next\n",
    "\n",
    "            else:\n",
    "                #目標值在中間\n",
    "                curp = self.data[rem]\n",
    "                cur = self.data[rem].next\n",
    "                while cur != None and cur.val != enc:\n",
    "                    curp = cur\n",
    "                    cur = cur.next\n",
    "                if cur == None:\n",
    "                    pass\n",
    "                else:\n",
    "                    curp.next = cur.next\n",
    "                    cur = None\n",
    "\n",
    "\n",
    "##參考資料:\n",
    "# 1. https://github.com/imucici/my-learning-note/blob/master/LeetCode/week4/707.%20Design%20Linked%20List.ipynb\n",
    "# 2. https://www.youtube.com/watch?v=9HFbhPscPU0\n",
    "# 3. https://www.youtube.com/watch?v=2BldESGZKB8&feature=youtu.be"
   ]
  },
  {
   "cell_type": "code",
   "execution_count": 2,
   "metadata": {},
   "outputs": [],
   "source": [
    "hashSet = MyHashSet()\n",
    "\n",
    "# aa = hashSet.add(\"aa\")\n",
    "bb = hashSet.add(\"bb\")\n",
    "# cc = hashSet.add(\"cc\")\n",
    "# dd = hashSet.add(\"dd\")\n",
    "# imucici = hashSet.add(\"imucici\")\n",
    "# a = hashSet.add(\"a\")\n",
    "# b = hashSet.add(\"b\")\n",
    "c = hashSet.add(\"c\")\n",
    "# d = hashSet.add(\"d\")\n",
    "# e = hashSet.add(\"e\")\n",
    "# f = hashSet.add(\"f\")\n",
    "# g = hashSet.add(\"g\")\n",
    "# h = hashSet.add(\"h\")\n",
    "# i = hashSet.add(\"i\")\n",
    "# j = hashSet.add(\"j\")\n",
    "k = hashSet.add(\"k\")\n",
    "k = hashSet.add(\"k\")"
   ]
  },
  {
   "cell_type": "code",
   "execution_count": 3,
   "metadata": {},
   "outputs": [
    {
     "name": "stdout",
     "output_type": "stream",
     "text": [
      "第 3 條Linked List的第 0 個是: 44763031454153395597992990748105608828\n",
      "第 3 條Linked List的第 1 個是: 99079589977253916124855502156832923443\n",
      "第 3 條Linked List的第 2 個是: 187279361568289349169310600456257773043\n"
     ]
    }
   ],
   "source": [
    "hashSet.show(3)"
   ]
  },
  {
   "cell_type": "code",
   "execution_count": 4,
   "metadata": {},
   "outputs": [],
   "source": [
    "rel = hashSet.remove(\"bb\")#刪頭"
   ]
  },
  {
   "cell_type": "code",
   "execution_count": 5,
   "metadata": {},
   "outputs": [],
   "source": [
    "# rel = hashSet.remove(\"c\") #刪中間"
   ]
  },
  {
   "cell_type": "code",
   "execution_count": 6,
   "metadata": {},
   "outputs": [],
   "source": [
    "rel = hashSet.remove(\"k\") #刪尾"
   ]
  },
  {
   "cell_type": "code",
   "execution_count": 7,
   "metadata": {},
   "outputs": [],
   "source": [
    "rel = hashSet.remove(\"ucc\") #不存在"
   ]
  },
  {
   "cell_type": "code",
   "execution_count": null,
   "metadata": {},
   "outputs": [],
   "source": []
  },
  {
   "cell_type": "code",
   "execution_count": 8,
   "metadata": {},
   "outputs": [
    {
     "name": "stdout",
     "output_type": "stream",
     "text": [
      "False\n"
     ]
    }
   ],
   "source": [
    "rel = hashSet.contains(\"bb\") #存在\n",
    "print(rel)"
   ]
  },
  {
   "cell_type": "code",
   "execution_count": 9,
   "metadata": {},
   "outputs": [
    {
     "name": "stdout",
     "output_type": "stream",
     "text": [
      "True\n"
     ]
    }
   ],
   "source": [
    "rel = hashSet.contains(\"c\") #存在\n",
    "print(rel)"
   ]
  },
  {
   "cell_type": "code",
   "execution_count": 10,
   "metadata": {},
   "outputs": [
    {
     "name": "stdout",
     "output_type": "stream",
     "text": [
      "False\n"
     ]
    }
   ],
   "source": [
    "rel = hashSet.contains(\"k\") #存在\n",
    "print(rel)"
   ]
  },
  {
   "cell_type": "code",
   "execution_count": 11,
   "metadata": {},
   "outputs": [
    {
     "name": "stdout",
     "output_type": "stream",
     "text": [
      "False\n"
     ]
    }
   ],
   "source": [
    "rel = hashSet.contains(\"fss\") #不存在\n",
    "print(rel)"
   ]
  },
  {
   "cell_type": "markdown",
   "metadata": {},
   "source": [
    "流程圖"
   ]
  },
  {
   "cell_type": "code",
   "execution_count": 6,
   "metadata": {},
   "outputs": [
    {
     "data": {
      "text/html": [
       "<img src=\"https://github.com/imucici/my-learning-note/blob/master/%E5%9C%96%E7%89%87/hash%20table.jpg?raw=true\" width=\"1000\" height=\"1000\"/>"
      ],
      "text/plain": [
       "<IPython.core.display.Image object>"
      ]
     },
     "execution_count": 6,
     "metadata": {},
     "output_type": "execute_result"
    }
   ],
   "source": [
    "from IPython.display import Image\n",
    "from IPython.core.display import HTML\n",
    "Image(url= \"https://github.com/imucici/my-learning-note/blob/master/%E5%9C%96%E7%89%87/hash%20table.jpg?raw=true\" ,width = 1000,height = 1000)"
   ]
  },
  {
   "cell_type": "raw",
   "metadata": {},
   "source": [
    "11/24。一天就把hash table寫完了~好不真實，跟BST比起來，這次的作業難度大大降低\n",
    "\n",
    "這次寫作業的過程中，明顯感受到自己漸漸在進步，體會到什麼叫做把想法轉換成程式碼實現，看著自己一次比一次進步的感覺真的好感動!(雖然進步空間還很大XD)想當初第一次寫Linked List，到上一次的大魔王BST的訓練，不知累積了多少辛酸血淚，終於在這次感受到了腦袋的進化，發現很多核心概念都是從Linked List延續下來。在這一次又一次的練習後，今天在構思邏輯，甚至到實際打出程式碼，都會很自動的聯想到以往寫過的方式或概念，手感超好，就是一種很神奇的感覺XD 好嗨喲~\n",
    "\n",
    "\n",
    "這次雖然不像過去幾次作業主要在學習新知，但是寫hash table我再次的複習到Linked List、BST的相關概念及邏輯，也從error中補足了一些看起來不是那麼重要，卻會導致程式碼無法順利運行的小觀念，像是什麼時候要加self. 、在while迴圈裡的判斷式有先後順序、以及在逐步遍歷時，要考慮到兩種狀況(整條Linked List遍歷完仍沒找到目標值(cur為空)-->return False ; cur不為空就找到目標值)。對我來說這次的作業更像概念總複習，讓我能找出自己還有哪些小觀念需要補強，這大概是我本次作業學到最多的部分吧~\n",
    "\n",
    "\n",
    "----------------------------------------------概念補強------------------------------------------------\n",
    "\n",
    "(1.)什麼時候要加self.\n",
    "\n",
    "h = MD5.new()\n",
    "h.update(key.encode(\"utf-8\"))\n",
    "enc = int(h.hexdigest(),16) # 加密過的結果\n",
    "rem = enc % self.capacity\n",
    "\n",
    "(2.)在while迴圈裡的判斷式有先後順序\n",
    "\n",
    "while cur != None and cur.val != enc:\n",
    "\n",
    "(3.)在逐步遍歷時，要考慮到兩種狀況(整條Linked List遍歷完仍沒找到目標值(cur為空)-->return False ; cur不為空就找到目標值)\n",
    "\n",
    "while cur != None and cur.val != enc :\n",
    "    cur = cur.next\n",
    "if cur == None:\n",
    "    return False\n",
    "else:\n",
    "   return True"
   ]
  }
 ],
 "metadata": {
  "kernelspec": {
   "display_name": "Python 3",
   "language": "python",
   "name": "python3"
  },
  "language_info": {
   "codemirror_mode": {
    "name": "ipython",
    "version": 3
   },
   "file_extension": ".py",
   "mimetype": "text/x-python",
   "name": "python",
   "nbconvert_exporter": "python",
   "pygments_lexer": "ipython3",
   "version": "3.7.4"
  }
 },
 "nbformat": 4,
 "nbformat_minor": 2
}
