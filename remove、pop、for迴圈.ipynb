{
 "cells": [
  {
   "cell_type": "code",
   "execution_count": 1,
   "metadata": {},
   "outputs": [
    {
     "data": {
      "text/plain": [
       "[1, 3, 1, 2, 3]"
      ]
     },
     "execution_count": 1,
     "metadata": {},
     "output_type": "execute_result"
    }
   ],
   "source": [
    "a = [1,2,3,1,2,3]\n",
    "a.remove(2) #remove() 僅移除第一個出現的特定值\n",
    "a"
   ]
  },
  {
   "cell_type": "code",
   "execution_count": 2,
   "metadata": {},
   "outputs": [
    {
     "name": "stdout",
     "output_type": "stream",
     "text": [
      "3\n",
      "[1, 2, 1, 2, 3]\n"
     ]
    }
   ],
   "source": [
    "b = [1,2,3,1,2,3]\n",
    "print(b.pop(2)) #回傳位於第2個位置的值\n",
    "print(b) #移除位於第2個位置的元素，並列出完整列表"
   ]
  },
  {
   "cell_type": "code",
   "execution_count": 3,
   "metadata": {},
   "outputs": [
    {
     "name": "stdout",
     "output_type": "stream",
     "text": [
      "2\n"
     ]
    }
   ],
   "source": [
    "#[解一]\n",
    "nums = [3,2,2,3]\n",
    "val = 3\n",
    "\n",
    "for i in range(len(nums)-1,-1,-1): # 也就是 for i in [3,2,1,0] >>此為序號\n",
    "    if nums[i] == val:              # 跑出來的結果:nums[3],nums[2],nums[1],nums[0](=3,2,2,3)\n",
    "        nums.remove(val)\n",
    "print(len(nums))"
   ]
  },
  {
   "cell_type": "code",
   "execution_count": 4,
   "metadata": {},
   "outputs": [
    {
     "name": "stdout",
     "output_type": "stream",
     "text": [
      "2\n"
     ]
    }
   ],
   "source": [
    "#[解二]\n",
    "nums = [3,2,2,3]\n",
    "val = 3\n",
    "\n",
    "for i in nums: # 也就是 for i in [3,2,1,0] >>此為序號\n",
    "    if i == val:              # 跑出來的結果:nums[3],nums[2],nums[1],nums[0](=3,2,2,3)\n",
    "        nums.remove(val)\n",
    "print(len(nums))"
   ]
  }
 ],
 "metadata": {
  "kernelspec": {
   "display_name": "Python 3",
   "language": "python",
   "name": "python3"
  },
  "language_info": {
   "codemirror_mode": {
    "name": "ipython",
    "version": 3
   },
   "file_extension": ".py",
   "mimetype": "text/x-python",
   "name": "python",
   "nbconvert_exporter": "python",
   "pygments_lexer": "ipython3",
   "version": "3.7.1"
  }
 },
 "nbformat": 4,
 "nbformat_minor": 2
}
