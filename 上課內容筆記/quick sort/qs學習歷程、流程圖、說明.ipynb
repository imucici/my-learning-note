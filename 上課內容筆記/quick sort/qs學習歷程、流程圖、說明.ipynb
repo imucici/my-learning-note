{
 "cells": [
  {
   "cell_type": "markdown",
   "metadata": {},
   "source": [
    "參考網站:http://jialin128.pixnet.net/blog/post/142927691-%5B-%E8%B3%87%E6%96%99%E7%B5%90%E6%A7%8B-%5D-%E5%BF%AB%E9%80%9F%E6%8E%92%E5%BA%8F%E6%B3%95%EF%BC%88quick-sort%EF%BC%89in-python\n",
    "\n",
    "\n",
    "看過網路上很多的觀念講解及影片說明後對quick sort的初步了解是:\n",
    "\n",
    "1.先找1個基準點pivot\n",
    "\n",
    "2.為了存放和基準點比較分類過後的值，所以建3個空list存放(smaller、bigger、equal)\n",
    "\n",
    "3.之後按照大小放入指定list\n",
    "\n",
    "下面是第一版程式碼:"
   ]
  },
  {
   "cell_type": "code",
   "execution_count": 1,
   "metadata": {},
   "outputs": [],
   "source": [
    "def quicksort(list):\n",
    "    if len(list) <= 1: # 若為空list或只含單個元素的list，默認已排序，所以直接回傳\n",
    "        return list\n",
    "    else:\n",
    "        pivot = list[0] #把最左邊的數當基準點\n",
    "        smaller = [] #建空list給<pivot的值放\n",
    "        bigger = [] #建空list給>pivot的值放\n",
    "        equal = [] #建空list給=pivot的值放\n",
    "        for i in list:\n",
    "            if i < pivot:\n",
    "                smaller.append(i) #將<pivot的值放入\n",
    "            elif i > pivot:\n",
    "                bigger.append(i) #將>pivot的值放入\n",
    "            else:\n",
    "                equal.append(i) #將=pivot的值放入\n",
    "        return quicksort(smaller) + equal + quicksort(bigger)#3個list合併"
   ]
  },
  {
   "cell_type": "markdown",
   "metadata": {},
   "source": [
    "放入測值運行成功>>確定邏輯沒問題"
   ]
  },
  {
   "cell_type": "code",
   "execution_count": 2,
   "metadata": {},
   "outputs": [
    {
     "data": {
      "text/plain": [
       "[3, 6, 7, 45, 65, 79]"
      ]
     },
     "execution_count": 2,
     "metadata": {},
     "output_type": "execute_result"
    }
   ],
   "source": [
    "list1 = [7,79,45,6,3,65]\n",
    "quicksort(list1)"
   ]
  },
  {
   "cell_type": "markdown",
   "metadata": {},
   "source": [
    "由於上面的程式碼與網上多數程式碼非常類似，因此決定在幾處稍作修改\n",
    "\n",
    "改寫1:\n",
    "遍歷list1時，用意思等同於for i in list的index的方法來遍歷(for i in range(len(list)):)\n",
    "\n",
    "改寫2:\n",
    "一開始想說新增元素到list有3種寫法(append、extend、insert)那就不要寫append，全部改用extend呈現，\n",
    "\n",
    "以下是第二版程式碼:"
   ]
  },
  {
   "cell_type": "code",
   "execution_count": 3,
   "metadata": {},
   "outputs": [],
   "source": [
    "def quicksort(list):\n",
    "    if len(list) <= 1: # 若為空list或只含單個元素的list，默認已排序，所以直接回傳\n",
    "        return list\n",
    "    else:\n",
    "        pivot = list[0] #把最左邊的數當基準點\n",
    "        smaller = [] #建空list給<pivot的值放\n",
    "        bigger = [] #建空list給>pivot的值放\n",
    "        equal = [] #建空list給=pivot的值放\n",
    "        \n",
    "        for i in range(len(list)):\n",
    "            if list[i] < pivot:\n",
    "                smaller.extend(list[i]) #將<pivot的值放入\n",
    "            if list[i] > pivot:\n",
    "                bigger.extend(list[i]) #將>pivot的值放入\n",
    "            if list[i] == pivot:\n",
    "                equal.extend(list[i]) #將=pivot的值放入\n",
    "       \n",
    "        return quicksort(smaller) + equal + quicksort(bigger)#3個list合併"
   ]
  },
  {
   "cell_type": "markdown",
   "metadata": {},
   "source": [
    "丟測值時卻出錯\n",
    "\n",
    "如下:"
   ]
  },
  {
   "cell_type": "code",
   "execution_count": 4,
   "metadata": {},
   "outputs": [
    {
     "ename": "TypeError",
     "evalue": "'int' object is not iterable",
     "output_type": "error",
     "traceback": [
      "\u001b[1;31m---------------------------------------------------------------------------\u001b[0m",
      "\u001b[1;31mTypeError\u001b[0m                                 Traceback (most recent call last)",
      "\u001b[1;32m<ipython-input-4-4c43f5e5a690>\u001b[0m in \u001b[0;36m<module>\u001b[1;34m\u001b[0m\n\u001b[0;32m      1\u001b[0m \u001b[0mlist1\u001b[0m \u001b[1;33m=\u001b[0m \u001b[1;33m[\u001b[0m\u001b[1;36m7\u001b[0m\u001b[1;33m,\u001b[0m\u001b[1;36m7\u001b[0m\u001b[1;33m,\u001b[0m\u001b[1;36m4\u001b[0m\u001b[1;33m,\u001b[0m\u001b[1;36m96\u001b[0m\u001b[1;33m,\u001b[0m\u001b[1;36m3\u001b[0m\u001b[1;33m,\u001b[0m\u001b[1;36m5\u001b[0m\u001b[1;33m]\u001b[0m\u001b[1;33m\u001b[0m\u001b[1;33m\u001b[0m\u001b[0m\n\u001b[1;32m----> 2\u001b[1;33m \u001b[0mquicksort\u001b[0m\u001b[1;33m(\u001b[0m\u001b[0mlist1\u001b[0m\u001b[1;33m)\u001b[0m\u001b[1;33m\u001b[0m\u001b[1;33m\u001b[0m\u001b[0m\n\u001b[0m",
      "\u001b[1;32m<ipython-input-3-77bda21994af>\u001b[0m in \u001b[0;36mquicksort\u001b[1;34m(list)\u001b[0m\n\u001b[0;32m     14\u001b[0m                 \u001b[0mbigger\u001b[0m\u001b[1;33m.\u001b[0m\u001b[0mextend\u001b[0m\u001b[1;33m(\u001b[0m\u001b[0mlist\u001b[0m\u001b[1;33m[\u001b[0m\u001b[0mi\u001b[0m\u001b[1;33m]\u001b[0m\u001b[1;33m)\u001b[0m \u001b[1;31m#將>pivot的值放入\u001b[0m\u001b[1;33m\u001b[0m\u001b[1;33m\u001b[0m\u001b[0m\n\u001b[0;32m     15\u001b[0m             \u001b[1;32mif\u001b[0m \u001b[0mlist\u001b[0m\u001b[1;33m[\u001b[0m\u001b[0mi\u001b[0m\u001b[1;33m]\u001b[0m \u001b[1;33m==\u001b[0m \u001b[0mpivot\u001b[0m\u001b[1;33m:\u001b[0m\u001b[1;33m\u001b[0m\u001b[1;33m\u001b[0m\u001b[0m\n\u001b[1;32m---> 16\u001b[1;33m                 \u001b[0mequal\u001b[0m\u001b[1;33m.\u001b[0m\u001b[0mextend\u001b[0m\u001b[1;33m(\u001b[0m\u001b[0mlist\u001b[0m\u001b[1;33m[\u001b[0m\u001b[0mi\u001b[0m\u001b[1;33m]\u001b[0m\u001b[1;33m)\u001b[0m \u001b[1;31m#將=pivot的值放入\u001b[0m\u001b[1;33m\u001b[0m\u001b[1;33m\u001b[0m\u001b[0m\n\u001b[0m\u001b[0;32m     17\u001b[0m \u001b[1;33m\u001b[0m\u001b[0m\n\u001b[0;32m     18\u001b[0m         \u001b[1;32mreturn\u001b[0m \u001b[0mquicksort\u001b[0m\u001b[1;33m(\u001b[0m\u001b[0msmaller\u001b[0m\u001b[1;33m)\u001b[0m \u001b[1;33m+\u001b[0m \u001b[0mequal\u001b[0m \u001b[1;33m+\u001b[0m \u001b[0mquicksort\u001b[0m\u001b[1;33m(\u001b[0m\u001b[0mbigger\u001b[0m\u001b[1;33m)\u001b[0m\u001b[1;31m#3個list合併\u001b[0m\u001b[1;33m\u001b[0m\u001b[1;33m\u001b[0m\u001b[0m\n",
      "\u001b[1;31mTypeError\u001b[0m: 'int' object is not iterable"
     ]
    }
   ],
   "source": [
    "list1 = [7,7,4,96,3,5]\n",
    "quicksort(list1)"
   ]
  },
  {
   "cell_type": "markdown",
   "metadata": {},
   "source": [
    "上網先查了一下error的意思，原来不能直接用int進行迭代，因此還是用append來將元素新增到最一開始的空list\n",
    "\n",
    "但是在最後一步回傳結果的地方我改用extend新增元素的概念來替代＋連結3個list\n",
    "\n",
    "\n",
    "** 過程中順便複習append、extend的用法:\n",
    "\n",
    "1. append() 將元素直接原封不動放入list中\n",
    "2. extend() 將元素擴展後放入list中(就是當要extend的東西是list時，會變成將元素抽出，塞到要加入的list中)"
   ]
  },
  {
   "cell_type": "markdown",
   "metadata": {},
   "source": [
    "以下是第三版程式碼:"
   ]
  },
  {
   "cell_type": "code",
   "execution_count": 5,
   "metadata": {},
   "outputs": [],
   "source": [
    "def quicksort(list):\n",
    "    if len(list) <= 1: # 若為空list或只含單個元素的list，默認已排序，所以直接回傳\n",
    "        return list\n",
    "    else:\n",
    "        pivot = list[0] #把最左邊的數當基準點\n",
    "        smaller = [] #建空list給<pivot的值放\n",
    "        bigger = [] #建空list給>pivot的值放\n",
    "        equal = [] #建空list給=pivot的值放\n",
    "        final = [] #建空list存放最終結果\n",
    "        for i in range(len(list)):\n",
    "            if list[i] < pivot:\n",
    "                smaller.append(list[i]) #將<pivot的值放入\n",
    "            if list[i] > pivot:\n",
    "                bigger.append(list[i]) #將>pivot的值放入\n",
    "            if list[i] == pivot:\n",
    "                equal.append(list[i]) #將=pivot的值放入\n",
    "        #最後用final這個空list存放最終的排序結果\n",
    "        final.extend(quicksort(smaller))\n",
    "        final.extend(equal)\n",
    "        final.extend(quicksort(bigger))\n",
    "        return final"
   ]
  },
  {
   "cell_type": "markdown",
   "metadata": {},
   "source": [
    "程式碼運行成功，代表這樣改寫沒問題。"
   ]
  },
  {
   "cell_type": "code",
   "execution_count": 6,
   "metadata": {},
   "outputs": [
    {
     "data": {
      "text/plain": [
       "[3, 4, 5, 7, 7, 96]"
      ]
     },
     "execution_count": 6,
     "metadata": {},
     "output_type": "execute_result"
    }
   ],
   "source": [
    "list1 = [7,7,4,96,3,5]\n",
    "quicksort(list1)"
   ]
  },
  {
   "cell_type": "markdown",
   "metadata": {},
   "source": [
    "之後由於助教認為創意度不夠，因此我又嘗試了更不同的做法\n",
    "\n",
    "1.不要多設一個pivot的空間，而是在每次需要基準點時直接用list的index找值>>index[0]\n",
    "\n",
    "2.把新建3個空list的部分分別定義函式，並在最後呼叫結果\n",
    "\n",
    "以下是第四版程式:"
   ]
  },
  {
   "cell_type": "markdown",
   "metadata": {},
   "source": [
    "我先畫個流程圖確認等等依照這個邏輯去想程式:"
   ]
  },
  {
   "cell_type": "code",
   "execution_count": 7,
   "metadata": {},
   "outputs": [
    {
     "data": {
      "text/html": [
       "<img src=\"https://github.com/imucici/my-learning-note/blob/master/%E4%B8%8A%E8%AA%B2%E5%85%A7%E5%AE%B9%E7%AD%86%E8%A8%98/quick%20sort/%E6%89%8B%E7%A8%BF.jpg?raw=true\" width=\"1000\" height=\"1000\"/>"
      ],
      "text/plain": [
       "<IPython.core.display.Image object>"
      ]
     },
     "execution_count": 7,
     "metadata": {},
     "output_type": "execute_result"
    }
   ],
   "source": [
    "from IPython.display import Image\n",
    "from IPython.core.display import HTML\n",
    "Image(url= \"https://github.com/imucici/my-learning-note/blob/master/%E4%B8%8A%E8%AA%B2%E5%85%A7%E5%AE%B9%E7%AD%86%E8%A8%98/quick%20sort/%E6%89%8B%E7%A8%BF.jpg?raw=true\" ,width = 1000,height = 1000)"
   ]
  },
  {
   "cell_type": "markdown",
   "metadata": {},
   "source": [
    "想說先討論特殊狀況，因此把len(list) <= 1抓出來寫:"
   ]
  },
  {
   "cell_type": "code",
   "execution_count": 10,
   "metadata": {},
   "outputs": [
    {
     "ename": "SyntaxError",
     "evalue": "'return' outside function (<ipython-input-10-32660ba111fd>, line 2)",
     "output_type": "error",
     "traceback": [
      "\u001b[1;36m  File \u001b[1;32m\"<ipython-input-10-32660ba111fd>\"\u001b[1;36m, line \u001b[1;32m2\u001b[0m\n\u001b[1;33m    return list\u001b[0m\n\u001b[1;37m    ^\u001b[0m\n\u001b[1;31mSyntaxError\u001b[0m\u001b[1;31m:\u001b[0m 'return' outside function\n"
     ]
    }
   ],
   "source": [
    "while len(list) <= 1: # 若為空list或只含單個元素的list，默認已排序，所以直接回傳\n",
    "    return list\n",
    "\n",
    "def smaller(list):\n",
    "    small = []\n",
    "    for i in range(len(list)):\n",
    "        if list[i] < list[0]:\n",
    "            small.append(list[i]) #將<list[0]的值放入\n",
    "    return small\n",
    "\n",
    "def equal(list):\n",
    "    same = []\n",
    "    for i in range(len(list)):\n",
    "        if list[i] == list[0]:\n",
    "            same.append(list[i]) #將<list[0]的值放入\n",
    "    return same\n",
    "\n",
    "def bigger(list):\n",
    "    big = []\n",
    "    for i in range(len(list)):\n",
    "        if list[i] > list[0]:\n",
    "            big.append(list[i]) #將>list[0]的值放入\n",
    "    return big\n",
    "\n",
    "def qs(list): \n",
    "    while len(list) > 1:       \n",
    "        \n",
    "        final = [] #最後用final這個空list存放最終的排序結果\n",
    "        final.extend(smaller(list))\n",
    "        final.extend(equal(list))\n",
    "        final.extend(bigger(list))\n",
    "        return final"
   ]
  },
  {
   "cell_type": "markdown",
   "metadata": {},
   "source": [
    "上面的code報錯:'return' outside function，思考一下認為是由於控制語句不是函數，所以它不知道要retrun什麼東西，因此稍作修改，將特殊狀況塞進qs函式中，並讓它再跑一次\n",
    "\n",
    "以下是第五版程式:"
   ]
  },
  {
   "cell_type": "code",
   "execution_count": 12,
   "metadata": {},
   "outputs": [],
   "source": [
    "def smaller(list):\n",
    "    small = []\n",
    "    for i in range(len(list)):\n",
    "        if list[i] < list[0]:\n",
    "            small.append(list[i]) #將<list[0]的值放入\n",
    "    return small\n",
    "\n",
    "def equal(list):\n",
    "    same = []\n",
    "    for i in range(len(list)):\n",
    "        if list[i] == list[0]:\n",
    "            same.append(list[i]) #將<list[0]的值放入\n",
    "    return same\n",
    "\n",
    "def bigger(list):\n",
    "    big = []\n",
    "    for i in range(len(list)):\n",
    "        if list[i] > list[0]:\n",
    "            big.append(list[i]) #將>list[0]的值放入\n",
    "    return big\n",
    "\n",
    "def qs(list):\n",
    "    while len(list) <= 1: # 若為空list或只含單個元素的list，默認已排序，所以直接回傳\n",
    "        return list\n",
    "\n",
    "    while len(list) > 1:       \n",
    "        \n",
    "        final = [] #最後用final這個空list存放最終的排序結果\n",
    "        final.extend(qs(smaller(list)))\n",
    "        final.extend(equal(list))\n",
    "        final.extend(qs(bigger(list)))\n",
    "        return final"
   ]
  },
  {
   "cell_type": "markdown",
   "metadata": {},
   "source": [
    "運行沒有出錯!"
   ]
  },
  {
   "cell_type": "code",
   "execution_count": 14,
   "metadata": {},
   "outputs": [
    {
     "data": {
      "text/plain": [
       "[1, 4, 6, 8, 13]"
      ]
     },
     "execution_count": 14,
     "metadata": {},
     "output_type": "execute_result"
    }
   ],
   "source": [
    "list1 = [4,6,13,1,8]\n",
    "qs(list1)"
   ]
  },
  {
   "cell_type": "markdown",
   "metadata": {},
   "source": [
    "後來純粹覺得3個函式放外面很亂，因此將他們全部塞到qs裡，並測試有沒有問題:\n",
    "    \n",
    "以下是第六版程式:    "
   ]
  },
  {
   "cell_type": "code",
   "execution_count": 37,
   "metadata": {},
   "outputs": [],
   "source": [
    "def qs(list):\n",
    "    \n",
    "    while len(list) <= 1: # 若為空list或只含單個元素的list，默認已排序，所以直接回傳\n",
    "        return list\n",
    "    \n",
    "    while len(list) > 1:\n",
    "        \n",
    "        \n",
    "        def smaller(list):\n",
    "            small = []\n",
    "            for i in range(len(list)):\n",
    "                if list[i] < list[0]:\n",
    "                    small.append(list[i]) #將<list[0]的值放入\n",
    "            return small\n",
    "        \n",
    "        def equal(list):\n",
    "            same = []\n",
    "            for i in range(len(list)):\n",
    "                if list[i] == list[0]:\n",
    "                    same.append(list[i]) #將<list[0]的值放入\n",
    "            return same\n",
    "            \n",
    "        def bigger(list):\n",
    "            big = []\n",
    "            for i in range(len(list)):\n",
    "                if list[i] > list[0]:\n",
    "                    big.append(list[i]) #將>list[0]的值放入\n",
    "            return big\n",
    "        \n",
    "        final = [] #最後用final這個空list存放最終的排序結果\n",
    "        final.extend(qs(smaller(list)))\n",
    "        final.extend(equal(list))\n",
    "        final.extend(qs(bigger(list)))\n",
    "        return final"
   ]
  },
  {
   "cell_type": "markdown",
   "metadata": {},
   "source": [
    "這次丟測值進去後也成功運行"
   ]
  },
  {
   "cell_type": "code",
   "execution_count": 16,
   "metadata": {},
   "outputs": [
    {
     "data": {
      "text/plain": [
       "[1, 4, 6, 8, 13]"
      ]
     },
     "execution_count": 16,
     "metadata": {},
     "output_type": "execute_result"
    }
   ],
   "source": [
    "list1 = [4,6,13,1,8]\n",
    "qs(list1)"
   ]
  },
  {
   "cell_type": "markdown",
   "metadata": {},
   "source": [
    "原本想說這樣應該可以成為最終版了，但後來在吃午餐的過程中突然想到還可以有更簡單的寫法，因此又做了一次的修正。\n",
    "\n",
    "在i等於基準點的值時，因為不論如何，equal裡面值的大小永遠一樣，不會有順序錯誤的問題，因此可以簡化成直接給他一個條件(不用設函數讓他一直迭代)判斷，當i等於基準值時，就放入equal的list中，最後再將這個list連同其他結果回傳。\n",
    "\n",
    "以下是第七版程式碼(最終版):"
   ]
  },
  {
   "cell_type": "code",
   "execution_count": 31,
   "metadata": {},
   "outputs": [],
   "source": [
    "def qs(list):\n",
    "    \n",
    "    while len(list) <= 1: # 若為空list或只含單個元素的list，默認已排序，所以直接回傳\n",
    "        return list\n",
    "    \n",
    "    while len(list) > 1:\n",
    "        \n",
    "        \n",
    "        def smaller(list):\n",
    "            small = []\n",
    "            for i in range(len(list)):\n",
    "                if list[i] < list[0]:\n",
    "                    small.append(list[i]) #將<list[0]的值放入\n",
    "            return small\n",
    "        \n",
    "        equal=[]\n",
    "        for i in range(len(list)):\n",
    "            if list[i] == list[0]:\n",
    "                equal.append(list[i]) #將=list[0]的值放入\n",
    "            \n",
    "        def bigger(list):\n",
    "            big = []\n",
    "            for i in range(len(list)):\n",
    "                if list[i] > list[0]:\n",
    "                    big.append(list[i]) #將>list[0]的值放入\n",
    "            return big\n",
    "        \n",
    "        final = [] #最後用final這個空list存放最終的排序結果\n",
    "        final.extend(qs(smaller(list))) #呼叫函式\n",
    "        final.extend(equal)\n",
    "        final.extend(qs(bigger(list))) #呼叫函式\n",
    "        return final"
   ]
  },
  {
   "cell_type": "markdown",
   "metadata": {},
   "source": [
    "測試運行也成功!\n",
    "\n",
    "收工搂!"
   ]
  },
  {
   "cell_type": "code",
   "execution_count": 17,
   "metadata": {},
   "outputs": [
    {
     "data": {
      "text/plain": [
       "[1, 4, 6, 8, 13]"
      ]
     },
     "execution_count": 17,
     "metadata": {},
     "output_type": "execute_result"
    }
   ],
   "source": [
    "list1 = [4,6,13,1,8]\n",
    "qs(list1)"
   ]
  }
 ],
 "metadata": {
  "kernelspec": {
   "display_name": "Python 3",
   "language": "python",
   "name": "python3"
  },
  "language_info": {
   "codemirror_mode": {
    "name": "ipython",
    "version": 3
   },
   "file_extension": ".py",
   "mimetype": "text/x-python",
   "name": "python",
   "nbconvert_exporter": "python",
   "pygments_lexer": "ipython3",
   "version": "3.7.1"
  }
 },
 "nbformat": 4,
 "nbformat_minor": 2
}
