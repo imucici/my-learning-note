{
 "cells": [
  {
   "cell_type": "code",
   "execution_count": 1,
   "metadata": {},
   "outputs": [],
   "source": [
    "def partition(array, begining, end):\n",
    "    # 若為空list或只含單個元素的list，默認已排序，所以直接回傳\n",
    "    if len(array) <= 1:\n",
    "        return array\n",
    "    \n",
    "    else:\n",
    "        #宣告一個開頭節點，及其數值\n",
    "        pivot_index = begining #為了保留begining (pivot_index:第0位)\n",
    "        pivot = array[begining] #把第0位的值叫piviot\n",
    "        \n",
    "        #給出左右兩個指針\n",
    "        left = pivot_index + 1\n",
    "        right = end - 1 #(range的end值不包含)\n",
    "        \n",
    "        #保證兩個迴圈的運行\n",
    "        while True:\n",
    "            \n",
    "            #左側指針不斷進行到下一個 直到第一個大於基準點的值\n",
    "            while left <= right and array[left] < pivot:\n",
    "                left += 1\n",
    "            \n",
    "            #右側指針不斷進行到上一個 直到第一個小於基準點的值\n",
    "            while right >= left and array[right] > pivot:\n",
    "                right -= 1\n",
    "            \n",
    "            #運行到左側指針超過右側指針也就是說指針所在數值已經是left<right的時候打破迴圈\n",
    "            if left > right:\n",
    "                break\n",
    "            \n",
    "            #把左側指針指向的數值和右側指針指向的數值位置互換\n",
    "            else:\n",
    "                array[left], array[right] = array[right], array[left]\n",
    "    \n",
    "    #完成一次排序之後把基準點放置到指定位置\n",
    "    array[pivot_index], array[right] = array[right], array[pivot_index]\n",
    "    \n",
    "    return right, pivot\n",
    "\n",
    "def qs(array, begining, end):\n",
    "    \n",
    "    #只要沒有切分到開頭就是結尾（也就是說只有最後一個元素）就循環進行上述過程\n",
    "    if begining < end:\n",
    "        right, pivot = partition(array, begining, end)\n",
    "        \n",
    "        #運行左側部分\n",
    "        qs(array, begining, right) #上面互換是互換指針的值 因此指針位置其實不變\n",
    "        \n",
    "        #運行右側部分\n",
    "        qs(array, right + 1,end)\n",
    "    return array"
   ]
  },
  {
   "cell_type": "code",
   "execution_count": 2,
   "metadata": {},
   "outputs": [
    {
     "data": {
      "text/plain": [
       "[0, 3, 7, 8, 15, 20, 23, 28, 32, 35]"
      ]
     },
     "execution_count": 2,
     "metadata": {},
     "output_type": "execute_result"
    }
   ],
   "source": [
    "example = [20, 3, 0, 35, 8, 23, 15, 28, 7, 32]\n",
    "qs(example, 0, len(example))"
   ]
  }
 ],
 "metadata": {
  "kernelspec": {
   "display_name": "Python 3",
   "language": "python",
   "name": "python3"
  },
  "language_info": {
   "codemirror_mode": {
    "name": "ipython",
    "version": 3
   },
   "file_extension": ".py",
   "mimetype": "text/x-python",
   "name": "python",
   "nbconvert_exporter": "python",
   "pygments_lexer": "ipython3",
   "version": "3.7.1"
  }
 },
 "nbformat": 4,
 "nbformat_minor": 2
}
