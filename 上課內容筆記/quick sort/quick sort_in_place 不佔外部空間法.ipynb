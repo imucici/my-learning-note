{
 "cells": [
  {
   "cell_type": "code",
   "execution_count": 1,
   "metadata": {},
   "outputs": [],
   "source": [
    "def partition(arr, beg, end):\n",
    "    # 若為空list或只含單個元素的list，默認已排序，所以直接回傳\n",
    "    if len(arr) <= 1:\n",
    "        return arr\n",
    "    \n",
    "    else:\n",
    "        \n",
    "        pivot_index = beg #為了保留beg (pivot_index:第0位)\n",
    "        pivot = arr[beg] #把第0位的值叫piviot\n",
    "        \n",
    "        \n",
    "        left = pivot_index + 1\n",
    "        right = end - 1 #(range的end值不包含)\n",
    "        \n",
    "        \n",
    "        while True: #while True為確保程式出錯時能繼續運行\n",
    "            \n",
    "            #只要左邊的值小於基準點，就繼續向下走\n",
    "            while left <= right and arr[left] < pivot:\n",
    "                left += 1\n",
    "            \n",
    "            #只要右邊的值大於基準點，就繼續往上一個走\n",
    "            while right >= left and arr[right] > pivot:\n",
    "                right -= 1\n",
    "            \n",
    "            #當left<right時為了避免一直交換下去，因此讓強迫結束迴圈\n",
    "            if left > right:\n",
    "                break\n",
    "            \n",
    "            #將lef和right的值互換\n",
    "            else:\n",
    "                arr[left], arr[right] = arr[right], arr[left]\n",
    "    \n",
    "    \n",
    "    arr[pivot_index], arr[right] = arr[right], arr[pivot_index] #第一次排序後將right的值和基準點互換，如此基準點就能在正確位置\n",
    "    \n",
    "    return right, pivot\n",
    "\n",
    "def quicksort(arr, beg, end):\n",
    "    \n",
    "    #將arr切分成左右兩半部各自操作\n",
    "    if beg < end:\n",
    "        right, pivot = partition(arr, beg, end)\n",
    "        \n",
    "        #運行左側arr\n",
    "        quicksort(arr, beg, right) #上面互換是互換指針的值 因此指針位置其實不變\n",
    "        \n",
    "        #運行右側arr\n",
    "        quicksort(arr, right + 1,end)\n",
    "    return arr"
   ]
  },
  {
   "cell_type": "code",
   "execution_count": 2,
   "metadata": {},
   "outputs": [
    {
     "data": {
      "text/plain": [
       "[1, 3, 7, 25, 34, 53, 90]"
      ]
     },
     "execution_count": 2,
     "metadata": {},
     "output_type": "execute_result"
    }
   ],
   "source": [
    "examplelist = [3,34,53,1,90,25,7]\n",
    "quicksort(examplelist, 0, len(examplelist))"
   ]
  }
 ],
 "metadata": {
  "kernelspec": {
   "display_name": "Python 3",
   "language": "python",
   "name": "python3"
  },
  "language_info": {
   "codemirror_mode": {
    "name": "ipython",
    "version": 3
   },
   "file_extension": ".py",
   "mimetype": "text/x-python",
   "name": "python",
   "nbconvert_exporter": "python",
   "pygments_lexer": "ipython3",
   "version": "3.7.1"
  }
 },
 "nbformat": 4,
 "nbformat_minor": 2
}
