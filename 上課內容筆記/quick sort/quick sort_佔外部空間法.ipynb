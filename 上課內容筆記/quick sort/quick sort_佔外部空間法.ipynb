{
 "cells": [
  {
   "cell_type": "code",
   "execution_count": 1,
   "metadata": {},
   "outputs": [],
   "source": [
    "# 佔外部空間法\n",
    "\n",
    "\n",
    "def quicksort(list):\n",
    "    if len(list) <= 1: # 若為空list或只含單個元素的list，默認已排序，所以直接回傳\n",
    "        return list\n",
    "    else:\n",
    "        pivot = list[0] #把最左邊的數當基準點\n",
    "        smaller = [] #建空list給<pivot的值放\n",
    "        bigger = [] #建空list給>pivot的值放\n",
    "        equal = [] #建空list給=pivot的值放\n",
    "        for i in list:\n",
    "            if i < pivot:\n",
    "                smaller.append(i) #將<pivot的值放入\n",
    "            elif i > pivot:\n",
    "                bigger.append(i) #將>pivot的值放入\n",
    "            else:\n",
    "                equal.append(i) #將=pivot的值放入\n",
    "        return quicksort(smaller) + equal + quicksort(bigger)#3個list合併"
   ]
  },
  {
   "cell_type": "code",
   "execution_count": 2,
   "metadata": {},
   "outputs": [
    {
     "data": {
      "text/plain": [
       "[3, 6, 7, 45, 65, 79]"
      ]
     },
     "execution_count": 2,
     "metadata": {},
     "output_type": "execute_result"
    }
   ],
   "source": [
    "list1 = [7,79,45,6,3,65]\n",
    "quicksort(list1)"
   ]
  }
 ],
 "metadata": {
  "kernelspec": {
   "display_name": "Python 3",
   "language": "python",
   "name": "python3"
  },
  "language_info": {
   "codemirror_mode": {
    "name": "ipython",
    "version": 3
   },
   "file_extension": ".py",
   "mimetype": "text/x-python",
   "name": "python",
   "nbconvert_exporter": "python",
   "pygments_lexer": "ipython3",
   "version": "3.7.1"
  }
 },
 "nbformat": 4,
 "nbformat_minor": 2
}
