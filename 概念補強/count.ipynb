{
 "cells": [
  {
   "cell_type": "code",
   "execution_count": 1,
   "metadata": {},
   "outputs": [
    {
     "name": "stdout",
     "output_type": "stream",
     "text": [
      "有幾個i: 3\n",
      "有幾個3: 2\n"
     ]
    }
   ],
   "source": [
    "# 計算各元素出現次數\n",
    "\n",
    "#srting\n",
    "str.count(sub, start= 0,end=len(string)) #sub搜索的目標\n",
    "\n",
    "s = \"this is string example....wow!!!\"\n",
    "ans = s.count(\"i\")\n",
    "print(\"有幾個i:\",ans) #>>3\n",
    "\n",
    "#list\n",
    "list.count(obj) #obj搜尋的目標\n",
    "l = [3,2,3,4,6,4]\n",
    "anss = l.count(3)\n",
    "print(\"有幾個3:\",anss)"
   ]
  }
 ],
 "metadata": {
  "kernelspec": {
   "display_name": "Python 3",
   "language": "python",
   "name": "python3"
  },
  "language_info": {
   "codemirror_mode": {
    "name": "ipython",
    "version": 3
   },
   "file_extension": ".py",
   "mimetype": "text/x-python",
   "name": "python",
   "nbconvert_exporter": "python",
   "pygments_lexer": "ipython3",
   "version": "3.7.1"
  }
 },
 "nbformat": 4,
 "nbformat_minor": 2
}
