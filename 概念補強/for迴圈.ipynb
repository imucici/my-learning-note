{
 "cells": [
  {
   "cell_type": "code",
   "execution_count": 1,
   "metadata": {},
   "outputs": [
    {
     "name": "stdout",
     "output_type": "stream",
     "text": [
      "2\n"
     ]
    }
   ],
   "source": [
    "#[解一]\n",
    "nums = [3,2,2,3]\n",
    "val = 3\n",
    "\n",
    "for i in range(len(nums)-1,-1,-1): # 也就是 for i in [3,2,1,0] >>此為序號\n",
    "    if nums[i] == val:              # 跑出來的結果:nums[3],nums[2],nums[1],nums[0](=3,2,2,3)\n",
    "        nums.remove(val)\n",
    "print(len(nums))"
   ]
  },
  {
   "cell_type": "code",
   "execution_count": 2,
   "metadata": {},
   "outputs": [
    {
     "name": "stdout",
     "output_type": "stream",
     "text": [
      "2\n"
     ]
    }
   ],
   "source": [
    "#[解二]\n",
    "nums = [3,2,2,3]\n",
    "val = 3\n",
    "\n",
    "for i in nums: # 也就是 for i in [3,2,1,0] >>此為序號\n",
    "    if i == val:              # 跑出來的結果:nums[3],nums[2],nums[1],nums[0](=3,2,2,3)\n",
    "        nums.remove(val)\n",
    "print(len(nums))"
   ]
  }
 ],
 "metadata": {
  "kernelspec": {
   "display_name": "Python 3",
   "language": "python",
   "name": "python3"
  },
  "language_info": {
   "codemirror_mode": {
    "name": "ipython",
    "version": 3
   },
   "file_extension": ".py",
   "mimetype": "text/x-python",
   "name": "python",
   "nbconvert_exporter": "python",
   "pygments_lexer": "ipython3",
   "version": "3.7.1"
  }
 },
 "nbformat": 4,
 "nbformat_minor": 2
}
